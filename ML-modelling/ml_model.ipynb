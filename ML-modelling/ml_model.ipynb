{
 "cells": [
  {
   "cell_type": "code",
   "execution_count": 1,
   "metadata": {},
   "outputs": [],
   "source": [
    "import pandas as pd\n",
    "import matplotlib.pyplot as plt\n",
    "import numpy as np\n",
    "import tensorflow as tf\n",
    "import joblib\n",
    "import statistics\n",
    "\n",
    "from sklearn.preprocessing import StandardScaler\n",
    "from sklearn.linear_model import LinearRegression, Lasso, LogisticRegression\n",
    "from sklearn.ensemble import RandomForestRegressor, RandomForestClassifier\n",
    "from sklearn.svm import SVR, SVC\n",
    "from sklearn.tree import DecisionTreeRegressor, DecisionTreeClassifier\n",
    "from sklearn.neighbors import KNeighborsRegressor, KNeighborsClassifier\n",
    "from sklearn.naive_bayes import GaussianNB"
   ]
  },
  {
   "cell_type": "code",
   "execution_count": 2,
   "metadata": {},
   "outputs": [
    {
     "data": {
      "text/html": [
       "<div>\n",
       "<style scoped>\n",
       "    .dataframe tbody tr th:only-of-type {\n",
       "        vertical-align: middle;\n",
       "    }\n",
       "\n",
       "    .dataframe tbody tr th {\n",
       "        vertical-align: top;\n",
       "    }\n",
       "\n",
       "    .dataframe thead th {\n",
       "        text-align: right;\n",
       "    }\n",
       "</style>\n",
       "<table border=\"1\" class=\"dataframe\">\n",
       "  <thead>\n",
       "    <tr style=\"text-align: right;\">\n",
       "      <th></th>\n",
       "      <th>grid</th>\n",
       "      <th>position</th>\n",
       "      <th>year</th>\n",
       "      <th>round</th>\n",
       "      <th>driver_age</th>\n",
       "      <th>driver_experience</th>\n",
       "      <th>driver_constructor_experience</th>\n",
       "      <th>driver_wins</th>\n",
       "      <th>constructor_wins</th>\n",
       "      <th>driver_points</th>\n",
       "      <th>...</th>\n",
       "      <th>constructor_manor</th>\n",
       "      <th>constructor_marussia</th>\n",
       "      <th>constructor_mclaren</th>\n",
       "      <th>constructor_mercedes</th>\n",
       "      <th>constructor_racing_point</th>\n",
       "      <th>constructor_red_bull</th>\n",
       "      <th>constructor_renault</th>\n",
       "      <th>constructor_sauber</th>\n",
       "      <th>constructor_toro_rosso</th>\n",
       "      <th>constructor_williams</th>\n",
       "    </tr>\n",
       "  </thead>\n",
       "  <tbody>\n",
       "    <tr>\n",
       "      <th>0</th>\n",
       "      <td>4</td>\n",
       "      <td>3.0</td>\n",
       "      <td>2010</td>\n",
       "      <td>1</td>\n",
       "      <td>25</td>\n",
       "      <td>52</td>\n",
       "      <td>52</td>\n",
       "      <td>11.0</td>\n",
       "      <td>1.0</td>\n",
       "      <td>0.0</td>\n",
       "      <td>...</td>\n",
       "      <td>False</td>\n",
       "      <td>False</td>\n",
       "      <td>True</td>\n",
       "      <td>False</td>\n",
       "      <td>False</td>\n",
       "      <td>False</td>\n",
       "      <td>False</td>\n",
       "      <td>False</td>\n",
       "      <td>False</td>\n",
       "      <td>False</td>\n",
       "    </tr>\n",
       "    <tr>\n",
       "      <th>1</th>\n",
       "      <td>5</td>\n",
       "      <td>5.0</td>\n",
       "      <td>2010</td>\n",
       "      <td>1</td>\n",
       "      <td>24</td>\n",
       "      <td>70</td>\n",
       "      <td>0</td>\n",
       "      <td>0.0</td>\n",
       "      <td>0.0</td>\n",
       "      <td>0.0</td>\n",
       "      <td>...</td>\n",
       "      <td>False</td>\n",
       "      <td>False</td>\n",
       "      <td>False</td>\n",
       "      <td>True</td>\n",
       "      <td>False</td>\n",
       "      <td>False</td>\n",
       "      <td>False</td>\n",
       "      <td>False</td>\n",
       "      <td>False</td>\n",
       "      <td>False</td>\n",
       "    </tr>\n",
       "    <tr>\n",
       "      <th>2</th>\n",
       "      <td>3</td>\n",
       "      <td>1.0</td>\n",
       "      <td>2010</td>\n",
       "      <td>1</td>\n",
       "      <td>28</td>\n",
       "      <td>140</td>\n",
       "      <td>0</td>\n",
       "      <td>21.0</td>\n",
       "      <td>0.0</td>\n",
       "      <td>0.0</td>\n",
       "      <td>...</td>\n",
       "      <td>False</td>\n",
       "      <td>False</td>\n",
       "      <td>False</td>\n",
       "      <td>False</td>\n",
       "      <td>False</td>\n",
       "      <td>False</td>\n",
       "      <td>False</td>\n",
       "      <td>False</td>\n",
       "      <td>False</td>\n",
       "      <td>False</td>\n",
       "    </tr>\n",
       "    <tr>\n",
       "      <th>3</th>\n",
       "      <td>21</td>\n",
       "      <td>15.0</td>\n",
       "      <td>2010</td>\n",
       "      <td>1</td>\n",
       "      <td>28</td>\n",
       "      <td>52</td>\n",
       "      <td>0</td>\n",
       "      <td>1.0</td>\n",
       "      <td>0.0</td>\n",
       "      <td>0.0</td>\n",
       "      <td>...</td>\n",
       "      <td>False</td>\n",
       "      <td>False</td>\n",
       "      <td>False</td>\n",
       "      <td>False</td>\n",
       "      <td>False</td>\n",
       "      <td>False</td>\n",
       "      <td>False</td>\n",
       "      <td>False</td>\n",
       "      <td>False</td>\n",
       "      <td>False</td>\n",
       "    </tr>\n",
       "    <tr>\n",
       "      <th>4</th>\n",
       "      <td>9</td>\n",
       "      <td>11.0</td>\n",
       "      <td>2010</td>\n",
       "      <td>1</td>\n",
       "      <td>25</td>\n",
       "      <td>57</td>\n",
       "      <td>0</td>\n",
       "      <td>1.0</td>\n",
       "      <td>0.0</td>\n",
       "      <td>0.0</td>\n",
       "      <td>...</td>\n",
       "      <td>False</td>\n",
       "      <td>False</td>\n",
       "      <td>False</td>\n",
       "      <td>False</td>\n",
       "      <td>False</td>\n",
       "      <td>False</td>\n",
       "      <td>True</td>\n",
       "      <td>False</td>\n",
       "      <td>False</td>\n",
       "      <td>False</td>\n",
       "    </tr>\n",
       "  </tbody>\n",
       "</table>\n",
       "<p>5 rows × 123 columns</p>\n",
       "</div>"
      ],
      "text/plain": [
       "   grid  position  year  round  driver_age  driver_experience  \\\n",
       "0     4       3.0  2010      1          25                 52   \n",
       "1     5       5.0  2010      1          24                 70   \n",
       "2     3       1.0  2010      1          28                140   \n",
       "3    21      15.0  2010      1          28                 52   \n",
       "4     9      11.0  2010      1          25                 57   \n",
       "\n",
       "   driver_constructor_experience  driver_wins  constructor_wins  \\\n",
       "0                             52         11.0               1.0   \n",
       "1                              0          0.0               0.0   \n",
       "2                              0         21.0               0.0   \n",
       "3                              0          1.0               0.0   \n",
       "4                              0          1.0               0.0   \n",
       "\n",
       "   driver_points  ...  constructor_manor  constructor_marussia  \\\n",
       "0            0.0  ...              False                 False   \n",
       "1            0.0  ...              False                 False   \n",
       "2            0.0  ...              False                 False   \n",
       "3            0.0  ...              False                 False   \n",
       "4            0.0  ...              False                 False   \n",
       "\n",
       "   constructor_mclaren  constructor_mercedes  constructor_racing_point  \\\n",
       "0                 True                 False                     False   \n",
       "1                False                  True                     False   \n",
       "2                False                 False                     False   \n",
       "3                False                 False                     False   \n",
       "4                False                 False                     False   \n",
       "\n",
       "   constructor_red_bull  constructor_renault  constructor_sauber  \\\n",
       "0                 False                False               False   \n",
       "1                 False                False               False   \n",
       "2                 False                False               False   \n",
       "3                 False                False               False   \n",
       "4                 False                 True               False   \n",
       "\n",
       "   constructor_toro_rosso  constructor_williams  \n",
       "0                   False                 False  \n",
       "1                   False                 False  \n",
       "2                   False                 False  \n",
       "3                   False                 False  \n",
       "4                   False                 False  \n",
       "\n",
       "[5 rows x 123 columns]"
      ]
     },
     "execution_count": 2,
     "metadata": {},
     "output_type": "execute_result"
    }
   ],
   "source": [
    "df = pd.read_csv('../Data-collection/final_df.csv')\n",
    "df.head()"
   ]
  },
  {
   "cell_type": "code",
   "execution_count": 3,
   "metadata": {},
   "outputs": [],
   "source": [
    "train_df = df.copy()\n",
    "test_df = pd.read_csv('../Data-collection/df_2024.csv')"
   ]
  },
  {
   "cell_type": "code",
   "execution_count": 4,
   "metadata": {},
   "outputs": [
    {
     "name": "stdout",
     "output_type": "stream",
     "text": [
      "Training Features: (4671, 122), Testing Features: (414, 122)\n",
      "Training Target: (4671,), Testing Target: (414,)\n"
     ]
    }
   ],
   "source": [
    "X_train = train_df.drop(columns=['position'])\n",
    "X_test = test_df.drop(columns=['position'])\n",
    "\n",
    "y_train = train_df['position']\n",
    "y_test = test_df['position']\n",
    "\n",
    "print(f\"Training Features: {X_train.shape}, Testing Features: {X_test.shape}\")\n",
    "print(f\"Training Target: {y_train.shape}, Testing Target: {y_test.shape}\")"
   ]
  },
  {
   "cell_type": "markdown",
   "metadata": {},
   "source": [
    "## Data Preprocess"
   ]
  },
  {
   "cell_type": "code",
   "execution_count": 5,
   "metadata": {},
   "outputs": [],
   "source": [
    "# Select only numerical columns for scaling\n",
    "numerical_columns = [\n",
    "    'grid', 'driver_age', 'driver_experience', 'driver_constructor_experience',\n",
    "    'driver_points', 'driver_standing', 'constructor_points', \n",
    "    'constructor_standing', 'driver_wins', 'constructor_wins', 'circuit_danger', \n",
    "    'year', 'round'\n",
    "]\n",
    "\n",
    "scaler = StandardScaler()\n",
    "\n",
    "X_train[numerical_columns] = scaler.fit_transform(X_train[numerical_columns])\n",
    "X_test[numerical_columns] = scaler.transform(X_test[numerical_columns])\n",
    "\n",
    "# convert one-hot-encoding columns from True/False to 1/0\n",
    "all_columns = X_train.columns.tolist()\n",
    "one_hot_columns = [col for col in all_columns if col not in numerical_columns]\n",
    "\n",
    "X_train[one_hot_columns] = X_train[one_hot_columns].astype(int)\n",
    "X_test[one_hot_columns] = X_test[one_hot_columns].astype(int)"
   ]
  },
  {
   "cell_type": "markdown",
   "metadata": {},
   "source": [
    "## Testing functions"
   ]
  },
  {
   "cell_type": "markdown",
   "metadata": {},
   "source": [
    "#### Regression"
   ]
  },
  {
   "cell_type": "code",
   "execution_count": 6,
   "metadata": {},
   "outputs": [],
   "source": [
    "def accuracy_regression(trained_model): \n",
    "    \n",
    "    df = test_df.copy()\n",
    "    round_numbers = df['round'].unique()\n",
    "    accuracy = []\n",
    "\n",
    "    for round_number in round_numbers:\n",
    "        df_current_round = df[df['round'] == round_number].copy()\n",
    "\n",
    "        df_current_round[numerical_columns] = scaler.transform(df_current_round[numerical_columns])\n",
    "\n",
    "        # Convert one-hot encoding columns from boolean to int\n",
    "        one_hot_columns = [col for col in df_current_round.columns if df_current_round[col].dtype == 'bool']\n",
    "        df_current_round[one_hot_columns] = df_current_round[one_hot_columns].astype(int)\n",
    "\n",
    "        X_test_current_round = df_current_round.drop(columns=['position'])\n",
    "\n",
    "        predictions_df = pd.DataFrame({'predicted_position': trained_model.predict(X_test_current_round)}) # Make predictions\n",
    "        predictions_df.index = df_current_round.index # Ensure the indices align for merging\n",
    "        df_current_round = pd.concat([df_current_round, predictions_df], axis=1) # Merge predictions back into the original DataFrame\n",
    "    \n",
    "        # Identify the predicted winner\n",
    "        predicted_winner_idx = df_current_round['predicted_position'].idxmin()\n",
    "        predicted_winner_row = df_current_round.loc[predicted_winner_idx]\n",
    "        predicted_winner_name = next(col for col in one_hot_columns if predicted_winner_row[col] == 1)\n",
    "        predicted_winner_name = predicted_winner_name.replace(\"driver_\", \"\").replace(\"_\", \" \").title()\n",
    "        predicted_winner_name = predicted_winner_name.split()[-1]\n",
    "    \n",
    "        # Identify the actual winner\n",
    "        actual_winner_row = df_current_round[df_current_round['position'] == 1.0]\n",
    "        if not actual_winner_row.empty:\n",
    "            actual_winner_name = next(col for col in one_hot_columns if actual_winner_row.iloc[0][col] == 1)\n",
    "            actual_winner_name = actual_winner_name.replace(\"driver_\", \"\").replace(\"_\", \" \").title()\n",
    "            actual_winner_name = actual_winner_name.split()[-1]\n",
    "        else:\n",
    "            actual_winner_name = \"NaN\"\n",
    "\n",
    "        accuracy.append(predicted_winner_name == actual_winner_name)\n",
    "\n",
    "    return statistics.mean(accuracy)"
   ]
  },
  {
   "cell_type": "markdown",
   "metadata": {},
   "source": [
    "#### Classification"
   ]
  },
  {
   "cell_type": "code",
   "execution_count": 7,
   "metadata": {},
   "outputs": [],
   "source": [
    "test_df_c = test_df.copy()\n",
    "test_df_c['position'] = test_df_c['position'].apply(lambda x: 1 if x == 1.0 else 0)"
   ]
  },
  {
   "cell_type": "code",
   "execution_count": 8,
   "metadata": {},
   "outputs": [],
   "source": [
    "def accuracy_classification(trained_model):\n",
    "\n",
    "    df = test_df_c.copy()\n",
    "    round_numbers = df['round'].unique()\n",
    "    accuracy = []\n",
    "        \n",
    "    for round_number in round_numbers:\n",
    "        df_current_round = df[df['round'] == round_number].copy()\n",
    "\n",
    "        df_current_round[numerical_columns] = scaler.transform(df_current_round[numerical_columns])\n",
    "\n",
    "        # Convert one-hot encoding columns from boolean to int\n",
    "        one_hot_columns = [col for col in df_current_round.columns if df_current_round[col].dtype == 'bool']\n",
    "        df_current_round[one_hot_columns] = df_current_round[one_hot_columns].astype(int)\n",
    "        \n",
    "        X_test_current_round = df_current_round.drop(columns=['position'])\n",
    "\n",
    "        # Get probabilities and predictions    \n",
    "        probabilities = trained_model.predict_proba(X_test_current_round)  # Probabilities for each class\n",
    "        predicted_class = trained_model.predict(X_test_current_round)  # Predicted class (1 or 0)\n",
    "\n",
    "        # Add probabilities and predictions to the DataFrame\n",
    "        df_current_round['probability_winner'] = probabilities[:, 1]  # Probability for class `1` (winner)\n",
    "        df_current_round['predicted_class'] = predicted_class\n",
    "\n",
    "        # Identify the predicted winner\n",
    "        if (df_current_round['predicted_class'] == 1).sum() > 1:\n",
    "            # If multiple winners, choose the one with the highest probability\n",
    "            predicted_winner_idx = df_current_round[df_current_round['predicted_class'] == 1]['probability_winner'].idxmax()\n",
    "        elif (df_current_round['predicted_class'] == 1).sum() == 1:\n",
    "            # If only one winner\n",
    "            predicted_winner_idx = df_current_round[df_current_round['predicted_class'] == 1].index[0]\n",
    "        else:\n",
    "            # If no winners, assign default values\n",
    "            predicted_winner_idx = None\n",
    "    \n",
    "        if predicted_winner_idx is not None:\n",
    "            predicted_winner_row = df_current_round.loc[predicted_winner_idx]\n",
    "            predicted_winner_name = next(col for col in one_hot_columns if predicted_winner_row[col] == 1)\n",
    "            predicted_winner_name = predicted_winner_name.replace(\"driver_\", \"\").replace(\"_\", \" \").title()\n",
    "            predicted_winner_name = predicted_winner_name.split()[-1]\n",
    "        else:\n",
    "            predicted_winner_name = \"--\"\n",
    "\n",
    "        # Identify the actual winner\n",
    "        actual_winner_row = df_current_round[df_current_round['position'] == 1.0]\n",
    "        if not actual_winner_row.empty:\n",
    "            actual_winner_name = next(col for col in one_hot_columns if actual_winner_row.iloc[0][col] == 1)\n",
    "            actual_winner_name = actual_winner_name.replace(\"driver_\", \"\").replace(\"_\", \" \").title()\n",
    "            actual_winner_name = actual_winner_name.split()[-1]\n",
    "        else:\n",
    "            actual_winner_name = \"NaN\"\n",
    "\n",
    "        accuracy.append(predicted_winner_name == actual_winner_name)\n",
    "    \n",
    "    return statistics.mean(accuracy)"
   ]
  },
  {
   "cell_type": "markdown",
   "metadata": {},
   "source": [
    "## Regression Approach"
   ]
  },
  {
   "cell_type": "markdown",
   "metadata": {},
   "source": [
    "#### Linear Regression"
   ]
  },
  {
   "cell_type": "code",
   "execution_count": 9,
   "metadata": {},
   "outputs": [],
   "source": [
    "reg_lr_model = LinearRegression()\n",
    "reg_lr_model.fit(X_train, y_train)\n",
    "reg_lr_y_test = reg_lr_model.predict(X_test)"
   ]
  },
  {
   "cell_type": "markdown",
   "metadata": {},
   "source": [
    "#### Random Forest"
   ]
  },
  {
   "cell_type": "code",
   "execution_count": 10,
   "metadata": {},
   "outputs": [],
   "source": [
    "reg_rf_model = RandomForestRegressor(n_estimators=100, random_state=42)\n",
    "reg_rf_model.fit(X_train, y_train)\n",
    "reg_rf_y_test = reg_rf_model.predict(X_test)"
   ]
  },
  {
   "cell_type": "markdown",
   "metadata": {},
   "source": [
    "#### Support Vector Machines (SVM)"
   ]
  },
  {
   "cell_type": "code",
   "execution_count": 11,
   "metadata": {},
   "outputs": [],
   "source": [
    "reg_svm_model = SVR(kernel='linear') \n",
    "reg_svm_model.fit(X_train, y_train)\n",
    "reg_svm_y_test = reg_svm_model.predict(X_test)"
   ]
  },
  {
   "cell_type": "markdown",
   "metadata": {},
   "source": [
    "#### Decision Tree"
   ]
  },
  {
   "cell_type": "code",
   "execution_count": 12,
   "metadata": {},
   "outputs": [],
   "source": [
    "reg_dt_model = DecisionTreeRegressor()\n",
    "reg_dt_model.fit(X_train, y_train)\n",
    "reg_dt_y_test = reg_dt_model.predict(X_test)"
   ]
  },
  {
   "cell_type": "markdown",
   "metadata": {},
   "source": [
    "#### K-Nearest Neighbor (KNN)"
   ]
  },
  {
   "cell_type": "code",
   "execution_count": 13,
   "metadata": {},
   "outputs": [],
   "source": [
    "reg_knn_model = KNeighborsRegressor(n_neighbors=5)\n",
    "reg_knn_model.fit(X_train, y_train)\n",
    "reg_knn_y_test = reg_knn_model.predict(X_test)"
   ]
  },
  {
   "cell_type": "markdown",
   "metadata": {},
   "source": [
    "#### Lasso"
   ]
  },
  {
   "cell_type": "code",
   "execution_count": 14,
   "metadata": {},
   "outputs": [],
   "source": [
    "reg_lasso_model = Lasso(alpha=0.1) \n",
    "reg_lasso_model.fit(X_train, y_train)\n",
    "reg_lasso_y_test = reg_lasso_model.predict(X_test)"
   ]
  },
  {
   "cell_type": "markdown",
   "metadata": {},
   "source": [
    "## Classification Approach"
   ]
  },
  {
   "cell_type": "code",
   "execution_count": 15,
   "metadata": {},
   "outputs": [],
   "source": [
    "y_train_c = y_train.copy()\n",
    "y_test_c = y_test.copy()\n",
    "y_train_c = y_train_c.apply(lambda x: 1 if x == 1 else 0)\n",
    "y_test_c = y_test_c.apply(lambda x: 1 if x == 1 else 0)"
   ]
  },
  {
   "cell_type": "markdown",
   "metadata": {},
   "source": [
    "#### Logistic Regression "
   ]
  },
  {
   "cell_type": "code",
   "execution_count": 16,
   "metadata": {},
   "outputs": [],
   "source": [
    "cla_lr_model = LogisticRegression()\n",
    "cla_lr_model.fit(X_train, y_train_c)\n",
    "cla_lr_y_test = cla_lr_model.predict(X_test)"
   ]
  },
  {
   "cell_type": "markdown",
   "metadata": {},
   "source": [
    "#### Decision Tree"
   ]
  },
  {
   "cell_type": "code",
   "execution_count": 17,
   "metadata": {},
   "outputs": [],
   "source": [
    "cla_dt_model = DecisionTreeClassifier()\n",
    "cla_dt_model.fit(X_train, y_train_c)\n",
    "cla_dt_y_test = cla_dt_model.predict(X_test)"
   ]
  },
  {
   "cell_type": "markdown",
   "metadata": {},
   "source": [
    "#### Support Vector Machines (SVM)"
   ]
  },
  {
   "cell_type": "code",
   "execution_count": 18,
   "metadata": {},
   "outputs": [],
   "source": [
    "cla_svm_model = SVC(probability=True, kernel='linear')\n",
    "cla_svm_model.fit(X_train, y_train_c)\n",
    "cla_svm_y_test = cla_svm_model.predict(X_test)"
   ]
  },
  {
   "cell_type": "markdown",
   "metadata": {},
   "source": [
    "#### Random Forest"
   ]
  },
  {
   "cell_type": "code",
   "execution_count": 19,
   "metadata": {},
   "outputs": [],
   "source": [
    "cla_rf_model = RandomForestClassifier(n_estimators=100)\n",
    "cla_rf_model.fit(X_train, y_train_c)\n",
    "cla_rf_y_test = cla_rf_model.predict(X_test)"
   ]
  },
  {
   "cell_type": "markdown",
   "metadata": {},
   "source": [
    "#### K-Nearest Neighbor (KNN)"
   ]
  },
  {
   "cell_type": "code",
   "execution_count": 20,
   "metadata": {},
   "outputs": [],
   "source": [
    "cla_knn_model = KNeighborsClassifier(n_neighbors=5)\n",
    "cla_knn_model.fit(X_train, y_train_c)\n",
    "cla_knn_y_test = cla_knn_model.predict(X_test)"
   ]
  },
  {
   "cell_type": "markdown",
   "metadata": {},
   "source": [
    "#### Naïve Bayes"
   ]
  },
  {
   "cell_type": "code",
   "execution_count": 21,
   "metadata": {},
   "outputs": [],
   "source": [
    "cla_nb_model = GaussianNB()\n",
    "cla_nb_model.fit(X_train, y_train_c)\n",
    "cla_nb_y_test = cla_nb_model.predict(X_test)"
   ]
  },
  {
   "cell_type": "markdown",
   "metadata": {},
   "source": [
    "## Deep Learning"
   ]
  },
  {
   "cell_type": "markdown",
   "metadata": {},
   "source": [
    "### Regression"
   ]
  },
  {
   "cell_type": "code",
   "execution_count": 22,
   "metadata": {},
   "outputs": [
    {
     "name": "stdout",
     "output_type": "stream",
     "text": [
      "Epoch 1/100\n",
      "\u001b[1m117/117\u001b[0m \u001b[32m━━━━━━━━━━━━━━━━━━━━\u001b[0m\u001b[37m\u001b[0m \u001b[1m0s\u001b[0m 1ms/step - loss: 109.7480 - mean_squared_error: 109.7480 - val_loss: 85.8790 - val_mean_squared_error: 85.8790\n",
      "Epoch 2/100\n",
      "\u001b[1m117/117\u001b[0m \u001b[32m━━━━━━━━━━━━━━━━━━━━\u001b[0m\u001b[37m\u001b[0m \u001b[1m0s\u001b[0m 896us/step - loss: 55.1310 - mean_squared_error: 55.1310 - val_loss: 53.3196 - val_mean_squared_error: 53.3196\n",
      "Epoch 3/100\n",
      "\u001b[1m117/117\u001b[0m \u001b[32m━━━━━━━━━━━━━━━━━━━━\u001b[0m\u001b[37m\u001b[0m \u001b[1m0s\u001b[0m 907us/step - loss: 23.7317 - mean_squared_error: 23.7317 - val_loss: 36.3341 - val_mean_squared_error: 36.3341\n",
      "Epoch 4/100\n",
      "\u001b[1m117/117\u001b[0m \u001b[32m━━━━━━━━━━━━━━━━━━━━\u001b[0m\u001b[37m\u001b[0m \u001b[1m0s\u001b[0m 875us/step - loss: 15.1155 - mean_squared_error: 15.1155 - val_loss: 25.9350 - val_mean_squared_error: 25.9350\n",
      "Epoch 5/100\n",
      "\u001b[1m117/117\u001b[0m \u001b[32m━━━━━━━━━━━━━━━━━━━━\u001b[0m\u001b[37m\u001b[0m \u001b[1m0s\u001b[0m 822us/step - loss: 11.3353 - mean_squared_error: 11.3353 - val_loss: 20.6373 - val_mean_squared_error: 20.6373\n",
      "Epoch 6/100\n",
      "\u001b[1m117/117\u001b[0m \u001b[32m━━━━━━━━━━━━━━━━━━━━\u001b[0m\u001b[37m\u001b[0m \u001b[1m0s\u001b[0m 792us/step - loss: 10.8003 - mean_squared_error: 10.8003 - val_loss: 17.7623 - val_mean_squared_error: 17.7623\n",
      "Epoch 7/100\n",
      "\u001b[1m117/117\u001b[0m \u001b[32m━━━━━━━━━━━━━━━━━━━━\u001b[0m\u001b[37m\u001b[0m \u001b[1m0s\u001b[0m 1ms/step - loss: 10.3852 - mean_squared_error: 10.3852 - val_loss: 16.4766 - val_mean_squared_error: 16.4766\n",
      "Epoch 8/100\n",
      "\u001b[1m117/117\u001b[0m \u001b[32m━━━━━━━━━━━━━━━━━━━━\u001b[0m\u001b[37m\u001b[0m \u001b[1m0s\u001b[0m 809us/step - loss: 10.0119 - mean_squared_error: 10.0119 - val_loss: 15.2045 - val_mean_squared_error: 15.2045\n",
      "Epoch 9/100\n",
      "\u001b[1m117/117\u001b[0m \u001b[32m━━━━━━━━━━━━━━━━━━━━\u001b[0m\u001b[37m\u001b[0m \u001b[1m0s\u001b[0m 2ms/step - loss: 9.7524 - mean_squared_error: 9.7524 - val_loss: 14.7566 - val_mean_squared_error: 14.7566\n",
      "Epoch 10/100\n",
      "\u001b[1m117/117\u001b[0m \u001b[32m━━━━━━━━━━━━━━━━━━━━\u001b[0m\u001b[37m\u001b[0m \u001b[1m0s\u001b[0m 679us/step - loss: 9.5782 - mean_squared_error: 9.5782 - val_loss: 14.2959 - val_mean_squared_error: 14.2959\n",
      "Epoch 11/100\n",
      "\u001b[1m117/117\u001b[0m \u001b[32m━━━━━━━━━━━━━━━━━━━━\u001b[0m\u001b[37m\u001b[0m \u001b[1m0s\u001b[0m 685us/step - loss: 9.8530 - mean_squared_error: 9.8530 - val_loss: 13.7889 - val_mean_squared_error: 13.7889\n",
      "Epoch 12/100\n",
      "\u001b[1m117/117\u001b[0m \u001b[32m━━━━━━━━━━━━━━━━━━━━\u001b[0m\u001b[37m\u001b[0m \u001b[1m0s\u001b[0m 693us/step - loss: 9.7958 - mean_squared_error: 9.7958 - val_loss: 13.6464 - val_mean_squared_error: 13.6464\n",
      "Epoch 13/100\n",
      "\u001b[1m117/117\u001b[0m \u001b[32m━━━━━━━━━━━━━━━━━━━━\u001b[0m\u001b[37m\u001b[0m \u001b[1m0s\u001b[0m 679us/step - loss: 9.2709 - mean_squared_error: 9.2709 - val_loss: 13.4318 - val_mean_squared_error: 13.4318\n",
      "Epoch 14/100\n",
      "\u001b[1m117/117\u001b[0m \u001b[32m━━━━━━━━━━━━━━━━━━━━\u001b[0m\u001b[37m\u001b[0m \u001b[1m0s\u001b[0m 703us/step - loss: 8.5230 - mean_squared_error: 8.5230 - val_loss: 13.2343 - val_mean_squared_error: 13.2343\n",
      "Epoch 15/100\n",
      "\u001b[1m117/117\u001b[0m \u001b[32m━━━━━━━━━━━━━━━━━━━━\u001b[0m\u001b[37m\u001b[0m \u001b[1m0s\u001b[0m 683us/step - loss: 9.0596 - mean_squared_error: 9.0596 - val_loss: 13.1189 - val_mean_squared_error: 13.1189\n",
      "Epoch 16/100\n",
      "\u001b[1m117/117\u001b[0m \u001b[32m━━━━━━━━━━━━━━━━━━━━\u001b[0m\u001b[37m\u001b[0m \u001b[1m0s\u001b[0m 679us/step - loss: 9.2240 - mean_squared_error: 9.2240 - val_loss: 13.0351 - val_mean_squared_error: 13.0351\n",
      "Epoch 17/100\n",
      "\u001b[1m117/117\u001b[0m \u001b[32m━━━━━━━━━━━━━━━━━━━━\u001b[0m\u001b[37m\u001b[0m \u001b[1m0s\u001b[0m 791us/step - loss: 9.0294 - mean_squared_error: 9.0294 - val_loss: 12.7448 - val_mean_squared_error: 12.7448\n",
      "Epoch 18/100\n",
      "\u001b[1m117/117\u001b[0m \u001b[32m━━━━━━━━━━━━━━━━━━━━\u001b[0m\u001b[37m\u001b[0m \u001b[1m0s\u001b[0m 781us/step - loss: 9.0145 - mean_squared_error: 9.0145 - val_loss: 12.7253 - val_mean_squared_error: 12.7253\n",
      "Epoch 19/100\n",
      "\u001b[1m117/117\u001b[0m \u001b[32m━━━━━━━━━━━━━━━━━━━━\u001b[0m\u001b[37m\u001b[0m \u001b[1m0s\u001b[0m 1ms/step - loss: 9.2540 - mean_squared_error: 9.2540 - val_loss: 12.6412 - val_mean_squared_error: 12.6412\n",
      "Epoch 20/100\n",
      "\u001b[1m117/117\u001b[0m \u001b[32m━━━━━━━━━━━━━━━━━━━━\u001b[0m\u001b[37m\u001b[0m \u001b[1m0s\u001b[0m 1ms/step - loss: 8.4768 - mean_squared_error: 8.4768 - val_loss: 12.6452 - val_mean_squared_error: 12.6452\n",
      "Epoch 21/100\n",
      "\u001b[1m117/117\u001b[0m \u001b[32m━━━━━━━━━━━━━━━━━━━━\u001b[0m\u001b[37m\u001b[0m \u001b[1m0s\u001b[0m 928us/step - loss: 8.6264 - mean_squared_error: 8.6264 - val_loss: 12.5446 - val_mean_squared_error: 12.5446\n",
      "Epoch 22/100\n",
      "\u001b[1m117/117\u001b[0m \u001b[32m━━━━━━━━━━━━━━━━━━━━\u001b[0m\u001b[37m\u001b[0m \u001b[1m0s\u001b[0m 838us/step - loss: 8.6402 - mean_squared_error: 8.6402 - val_loss: 12.4091 - val_mean_squared_error: 12.4091\n",
      "Epoch 23/100\n",
      "\u001b[1m117/117\u001b[0m \u001b[32m━━━━━━━━━━━━━━━━━━━━\u001b[0m\u001b[37m\u001b[0m \u001b[1m0s\u001b[0m 838us/step - loss: 8.1046 - mean_squared_error: 8.1046 - val_loss: 12.3684 - val_mean_squared_error: 12.3684\n",
      "Epoch 24/100\n",
      "\u001b[1m117/117\u001b[0m \u001b[32m━━━━━━━━━━━━━━━━━━━━\u001b[0m\u001b[37m\u001b[0m \u001b[1m0s\u001b[0m 818us/step - loss: 8.4980 - mean_squared_error: 8.4980 - val_loss: 12.3791 - val_mean_squared_error: 12.3791\n",
      "Epoch 25/100\n",
      "\u001b[1m117/117\u001b[0m \u001b[32m━━━━━━━━━━━━━━━━━━━━\u001b[0m\u001b[37m\u001b[0m \u001b[1m0s\u001b[0m 911us/step - loss: 9.0316 - mean_squared_error: 9.0316 - val_loss: 12.3133 - val_mean_squared_error: 12.3133\n",
      "Epoch 26/100\n",
      "\u001b[1m117/117\u001b[0m \u001b[32m━━━━━━━━━━━━━━━━━━━━\u001b[0m\u001b[37m\u001b[0m \u001b[1m0s\u001b[0m 824us/step - loss: 8.4524 - mean_squared_error: 8.4524 - val_loss: 12.2037 - val_mean_squared_error: 12.2037\n",
      "Epoch 27/100\n",
      "\u001b[1m117/117\u001b[0m \u001b[32m━━━━━━━━━━━━━━━━━━━━\u001b[0m\u001b[37m\u001b[0m \u001b[1m0s\u001b[0m 808us/step - loss: 8.8436 - mean_squared_error: 8.8436 - val_loss: 12.2835 - val_mean_squared_error: 12.2835\n",
      "Epoch 28/100\n",
      "\u001b[1m117/117\u001b[0m \u001b[32m━━━━━━━━━━━━━━━━━━━━\u001b[0m\u001b[37m\u001b[0m \u001b[1m0s\u001b[0m 904us/step - loss: 8.6396 - mean_squared_error: 8.6396 - val_loss: 12.2183 - val_mean_squared_error: 12.2183\n",
      "Epoch 29/100\n",
      "\u001b[1m117/117\u001b[0m \u001b[32m━━━━━━━━━━━━━━━━━━━━\u001b[0m\u001b[37m\u001b[0m \u001b[1m0s\u001b[0m 720us/step - loss: 8.3670 - mean_squared_error: 8.3670 - val_loss: 12.2904 - val_mean_squared_error: 12.2904\n",
      "Epoch 30/100\n",
      "\u001b[1m117/117\u001b[0m \u001b[32m━━━━━━━━━━━━━━━━━━━━\u001b[0m\u001b[37m\u001b[0m \u001b[1m0s\u001b[0m 769us/step - loss: 7.9996 - mean_squared_error: 7.9996 - val_loss: 12.1549 - val_mean_squared_error: 12.1549\n",
      "Epoch 31/100\n",
      "\u001b[1m117/117\u001b[0m \u001b[32m━━━━━━━━━━━━━━━━━━━━\u001b[0m\u001b[37m\u001b[0m \u001b[1m0s\u001b[0m 724us/step - loss: 8.2495 - mean_squared_error: 8.2495 - val_loss: 12.2960 - val_mean_squared_error: 12.2960\n",
      "Epoch 32/100\n",
      "\u001b[1m117/117\u001b[0m \u001b[32m━━━━━━━━━━━━━━━━━━━━\u001b[0m\u001b[37m\u001b[0m \u001b[1m0s\u001b[0m 710us/step - loss: 8.5980 - mean_squared_error: 8.5980 - val_loss: 12.3372 - val_mean_squared_error: 12.3372\n",
      "Epoch 33/100\n",
      "\u001b[1m117/117\u001b[0m \u001b[32m━━━━━━━━━━━━━━━━━━━━\u001b[0m\u001b[37m\u001b[0m \u001b[1m0s\u001b[0m 683us/step - loss: 8.7422 - mean_squared_error: 8.7422 - val_loss: 12.1497 - val_mean_squared_error: 12.1497\n",
      "Epoch 34/100\n",
      "\u001b[1m117/117\u001b[0m \u001b[32m━━━━━━━━━━━━━━━━━━━━\u001b[0m\u001b[37m\u001b[0m \u001b[1m0s\u001b[0m 687us/step - loss: 8.3567 - mean_squared_error: 8.3567 - val_loss: 12.2143 - val_mean_squared_error: 12.2143\n",
      "Epoch 35/100\n",
      "\u001b[1m117/117\u001b[0m \u001b[32m━━━━━━━━━━━━━━━━━━━━\u001b[0m\u001b[37m\u001b[0m \u001b[1m0s\u001b[0m 679us/step - loss: 8.4581 - mean_squared_error: 8.4581 - val_loss: 12.3284 - val_mean_squared_error: 12.3284\n",
      "Epoch 36/100\n",
      "\u001b[1m117/117\u001b[0m \u001b[32m━━━━━━━━━━━━━━━━━━━━\u001b[0m\u001b[37m\u001b[0m \u001b[1m0s\u001b[0m 690us/step - loss: 8.3191 - mean_squared_error: 8.3191 - val_loss: 12.4285 - val_mean_squared_error: 12.4285\n",
      "Epoch 37/100\n",
      "\u001b[1m117/117\u001b[0m \u001b[32m━━━━━━━━━━━━━━━━━━━━\u001b[0m\u001b[37m\u001b[0m \u001b[1m0s\u001b[0m 730us/step - loss: 8.1544 - mean_squared_error: 8.1544 - val_loss: 12.3320 - val_mean_squared_error: 12.3320\n",
      "Epoch 38/100\n",
      "\u001b[1m117/117\u001b[0m \u001b[32m━━━━━━━━━━━━━━━━━━━━\u001b[0m\u001b[37m\u001b[0m \u001b[1m0s\u001b[0m 2ms/step - loss: 8.0692 - mean_squared_error: 8.0692 - val_loss: 12.1637 - val_mean_squared_error: 12.1637\n",
      "Epoch 39/100\n",
      "\u001b[1m117/117\u001b[0m \u001b[32m━━━━━━━━━━━━━━━━━━━━\u001b[0m\u001b[37m\u001b[0m \u001b[1m0s\u001b[0m 743us/step - loss: 8.0067 - mean_squared_error: 8.0067 - val_loss: 12.2819 - val_mean_squared_error: 12.2819\n",
      "Epoch 40/100\n",
      "\u001b[1m117/117\u001b[0m \u001b[32m━━━━━━━━━━━━━━━━━━━━\u001b[0m\u001b[37m\u001b[0m \u001b[1m0s\u001b[0m 707us/step - loss: 8.3197 - mean_squared_error: 8.3197 - val_loss: 12.3817 - val_mean_squared_error: 12.3817\n",
      "Epoch 41/100\n",
      "\u001b[1m117/117\u001b[0m \u001b[32m━━━━━━━━━━━━━━━━━━━━\u001b[0m\u001b[37m\u001b[0m \u001b[1m0s\u001b[0m 771us/step - loss: 8.7518 - mean_squared_error: 8.7518 - val_loss: 12.5635 - val_mean_squared_error: 12.5635\n",
      "Epoch 42/100\n",
      "\u001b[1m117/117\u001b[0m \u001b[32m━━━━━━━━━━━━━━━━━━━━\u001b[0m\u001b[37m\u001b[0m \u001b[1m0s\u001b[0m 811us/step - loss: 8.1510 - mean_squared_error: 8.1510 - val_loss: 12.6980 - val_mean_squared_error: 12.6980\n",
      "Epoch 43/100\n",
      "\u001b[1m117/117\u001b[0m \u001b[32m━━━━━━━━━━━━━━━━━━━━\u001b[0m\u001b[37m\u001b[0m \u001b[1m0s\u001b[0m 809us/step - loss: 8.3470 - mean_squared_error: 8.3470 - val_loss: 12.4660 - val_mean_squared_error: 12.4660\n",
      "Epoch 44/100\n",
      "\u001b[1m117/117\u001b[0m \u001b[32m━━━━━━━━━━━━━━━━━━━━\u001b[0m\u001b[37m\u001b[0m \u001b[1m0s\u001b[0m 778us/step - loss: 7.7996 - mean_squared_error: 7.7996 - val_loss: 12.6297 - val_mean_squared_error: 12.6297\n",
      "Epoch 45/100\n",
      "\u001b[1m117/117\u001b[0m \u001b[32m━━━━━━━━━━━━━━━━━━━━\u001b[0m\u001b[37m\u001b[0m \u001b[1m0s\u001b[0m 749us/step - loss: 8.0681 - mean_squared_error: 8.0681 - val_loss: 12.5777 - val_mean_squared_error: 12.5777\n",
      "Epoch 46/100\n",
      "\u001b[1m117/117\u001b[0m \u001b[32m━━━━━━━━━━━━━━━━━━━━\u001b[0m\u001b[37m\u001b[0m \u001b[1m0s\u001b[0m 765us/step - loss: 8.1583 - mean_squared_error: 8.1583 - val_loss: 12.7705 - val_mean_squared_error: 12.7705\n",
      "Epoch 47/100\n",
      "\u001b[1m117/117\u001b[0m \u001b[32m━━━━━━━━━━━━━━━━━━━━\u001b[0m\u001b[37m\u001b[0m \u001b[1m0s\u001b[0m 884us/step - loss: 8.2561 - mean_squared_error: 8.2561 - val_loss: 12.8887 - val_mean_squared_error: 12.8887\n",
      "Epoch 48/100\n",
      "\u001b[1m117/117\u001b[0m \u001b[32m━━━━━━━━━━━━━━━━━━━━\u001b[0m\u001b[37m\u001b[0m \u001b[1m0s\u001b[0m 780us/step - loss: 8.1527 - mean_squared_error: 8.1527 - val_loss: 12.7417 - val_mean_squared_error: 12.7417\n",
      "Epoch 49/100\n",
      "\u001b[1m117/117\u001b[0m \u001b[32m━━━━━━━━━━━━━━━━━━━━\u001b[0m\u001b[37m\u001b[0m \u001b[1m0s\u001b[0m 771us/step - loss: 7.7494 - mean_squared_error: 7.7494 - val_loss: 12.4896 - val_mean_squared_error: 12.4896\n",
      "Epoch 50/100\n",
      "\u001b[1m117/117\u001b[0m \u001b[32m━━━━━━━━━━━━━━━━━━━━\u001b[0m\u001b[37m\u001b[0m \u001b[1m0s\u001b[0m 779us/step - loss: 7.9649 - mean_squared_error: 7.9649 - val_loss: 12.8194 - val_mean_squared_error: 12.8194\n",
      "Epoch 51/100\n",
      "\u001b[1m117/117\u001b[0m \u001b[32m━━━━━━━━━━━━━━━━━━━━\u001b[0m\u001b[37m\u001b[0m \u001b[1m0s\u001b[0m 792us/step - loss: 7.5664 - mean_squared_error: 7.5664 - val_loss: 12.8404 - val_mean_squared_error: 12.8404\n",
      "Epoch 52/100\n",
      "\u001b[1m117/117\u001b[0m \u001b[32m━━━━━━━━━━━━━━━━━━━━\u001b[0m\u001b[37m\u001b[0m \u001b[1m0s\u001b[0m 744us/step - loss: 7.7048 - mean_squared_error: 7.7048 - val_loss: 12.7283 - val_mean_squared_error: 12.7283\n",
      "Epoch 53/100\n",
      "\u001b[1m117/117\u001b[0m \u001b[32m━━━━━━━━━━━━━━━━━━━━\u001b[0m\u001b[37m\u001b[0m \u001b[1m0s\u001b[0m 686us/step - loss: 7.5094 - mean_squared_error: 7.5094 - val_loss: 12.9889 - val_mean_squared_error: 12.9889\n",
      "Epoch 54/100\n",
      "\u001b[1m117/117\u001b[0m \u001b[32m━━━━━━━━━━━━━━━━━━━━\u001b[0m\u001b[37m\u001b[0m \u001b[1m0s\u001b[0m 685us/step - loss: 7.8551 - mean_squared_error: 7.8551 - val_loss: 12.9468 - val_mean_squared_error: 12.9468\n",
      "Epoch 55/100\n",
      "\u001b[1m117/117\u001b[0m \u001b[32m━━━━━━━━━━━━━━━━━━━━\u001b[0m\u001b[37m\u001b[0m \u001b[1m0s\u001b[0m 688us/step - loss: 7.7537 - mean_squared_error: 7.7537 - val_loss: 13.0774 - val_mean_squared_error: 13.0774\n",
      "Epoch 56/100\n",
      "\u001b[1m117/117\u001b[0m \u001b[32m━━━━━━━━━━━━━━━━━━━━\u001b[0m\u001b[37m\u001b[0m \u001b[1m0s\u001b[0m 687us/step - loss: 7.9676 - mean_squared_error: 7.9676 - val_loss: 12.7673 - val_mean_squared_error: 12.7673\n",
      "Epoch 57/100\n",
      "\u001b[1m117/117\u001b[0m \u001b[32m━━━━━━━━━━━━━━━━━━━━\u001b[0m\u001b[37m\u001b[0m \u001b[1m0s\u001b[0m 677us/step - loss: 7.6771 - mean_squared_error: 7.6771 - val_loss: 13.0740 - val_mean_squared_error: 13.0740\n",
      "Epoch 58/100\n",
      "\u001b[1m117/117\u001b[0m \u001b[32m━━━━━━━━━━━━━━━━━━━━\u001b[0m\u001b[37m\u001b[0m \u001b[1m0s\u001b[0m 684us/step - loss: 7.9488 - mean_squared_error: 7.9488 - val_loss: 12.9429 - val_mean_squared_error: 12.9429\n",
      "Epoch 59/100\n",
      "\u001b[1m117/117\u001b[0m \u001b[32m━━━━━━━━━━━━━━━━━━━━\u001b[0m\u001b[37m\u001b[0m \u001b[1m0s\u001b[0m 683us/step - loss: 7.3252 - mean_squared_error: 7.3252 - val_loss: 12.9214 - val_mean_squared_error: 12.9214\n",
      "Epoch 60/100\n",
      "\u001b[1m117/117\u001b[0m \u001b[32m━━━━━━━━━━━━━━━━━━━━\u001b[0m\u001b[37m\u001b[0m \u001b[1m0s\u001b[0m 678us/step - loss: 7.6526 - mean_squared_error: 7.6526 - val_loss: 13.0124 - val_mean_squared_error: 13.0124\n",
      "Epoch 61/100\n",
      "\u001b[1m117/117\u001b[0m \u001b[32m━━━━━━━━━━━━━━━━━━━━\u001b[0m\u001b[37m\u001b[0m \u001b[1m0s\u001b[0m 683us/step - loss: 7.4570 - mean_squared_error: 7.4570 - val_loss: 13.1967 - val_mean_squared_error: 13.1967\n",
      "Epoch 62/100\n",
      "\u001b[1m117/117\u001b[0m \u001b[32m━━━━━━━━━━━━━━━━━━━━\u001b[0m\u001b[37m\u001b[0m \u001b[1m0s\u001b[0m 676us/step - loss: 7.9296 - mean_squared_error: 7.9296 - val_loss: 12.9456 - val_mean_squared_error: 12.9456\n",
      "Epoch 63/100\n",
      "\u001b[1m117/117\u001b[0m \u001b[32m━━━━━━━━━━━━━━━━━━━━\u001b[0m\u001b[37m\u001b[0m \u001b[1m0s\u001b[0m 683us/step - loss: 7.6266 - mean_squared_error: 7.6266 - val_loss: 13.2258 - val_mean_squared_error: 13.2258\n",
      "Epoch 64/100\n",
      "\u001b[1m117/117\u001b[0m \u001b[32m━━━━━━━━━━━━━━━━━━━━\u001b[0m\u001b[37m\u001b[0m \u001b[1m0s\u001b[0m 685us/step - loss: 7.8207 - mean_squared_error: 7.8207 - val_loss: 13.4822 - val_mean_squared_error: 13.4822\n",
      "Epoch 65/100\n",
      "\u001b[1m117/117\u001b[0m \u001b[32m━━━━━━━━━━━━━━━━━━━━\u001b[0m\u001b[37m\u001b[0m \u001b[1m0s\u001b[0m 680us/step - loss: 7.9526 - mean_squared_error: 7.9526 - val_loss: 13.2818 - val_mean_squared_error: 13.2818\n",
      "Epoch 66/100\n",
      "\u001b[1m117/117\u001b[0m \u001b[32m━━━━━━━━━━━━━━━━━━━━\u001b[0m\u001b[37m\u001b[0m \u001b[1m0s\u001b[0m 684us/step - loss: 7.5790 - mean_squared_error: 7.5790 - val_loss: 13.2466 - val_mean_squared_error: 13.2466\n",
      "Epoch 67/100\n",
      "\u001b[1m117/117\u001b[0m \u001b[32m━━━━━━━━━━━━━━━━━━━━\u001b[0m\u001b[37m\u001b[0m \u001b[1m0s\u001b[0m 678us/step - loss: 7.8753 - mean_squared_error: 7.8753 - val_loss: 13.3378 - val_mean_squared_error: 13.3378\n",
      "Epoch 68/100\n",
      "\u001b[1m117/117\u001b[0m \u001b[32m━━━━━━━━━━━━━━━━━━━━\u001b[0m\u001b[37m\u001b[0m \u001b[1m0s\u001b[0m 683us/step - loss: 7.6282 - mean_squared_error: 7.6282 - val_loss: 13.5122 - val_mean_squared_error: 13.5122\n",
      "Epoch 69/100\n",
      "\u001b[1m117/117\u001b[0m \u001b[32m━━━━━━━━━━━━━━━━━━━━\u001b[0m\u001b[37m\u001b[0m \u001b[1m0s\u001b[0m 679us/step - loss: 7.4761 - mean_squared_error: 7.4761 - val_loss: 13.3024 - val_mean_squared_error: 13.3024\n",
      "Epoch 70/100\n",
      "\u001b[1m117/117\u001b[0m \u001b[32m━━━━━━━━━━━━━━━━━━━━\u001b[0m\u001b[37m\u001b[0m \u001b[1m0s\u001b[0m 669us/step - loss: 7.7998 - mean_squared_error: 7.7998 - val_loss: 13.6770 - val_mean_squared_error: 13.6770\n",
      "Epoch 71/100\n",
      "\u001b[1m117/117\u001b[0m \u001b[32m━━━━━━━━━━━━━━━━━━━━\u001b[0m\u001b[37m\u001b[0m \u001b[1m0s\u001b[0m 673us/step - loss: 7.6741 - mean_squared_error: 7.6741 - val_loss: 13.7838 - val_mean_squared_error: 13.7838\n",
      "Epoch 72/100\n",
      "\u001b[1m117/117\u001b[0m \u001b[32m━━━━━━━━━━━━━━━━━━━━\u001b[0m\u001b[37m\u001b[0m \u001b[1m0s\u001b[0m 683us/step - loss: 7.3211 - mean_squared_error: 7.3211 - val_loss: 13.2818 - val_mean_squared_error: 13.2818\n",
      "Epoch 73/100\n",
      "\u001b[1m117/117\u001b[0m \u001b[32m━━━━━━━━━━━━━━━━━━━━\u001b[0m\u001b[37m\u001b[0m \u001b[1m0s\u001b[0m 685us/step - loss: 7.4423 - mean_squared_error: 7.4423 - val_loss: 13.3601 - val_mean_squared_error: 13.3601\n",
      "Epoch 74/100\n",
      "\u001b[1m117/117\u001b[0m \u001b[32m━━━━━━━━━━━━━━━━━━━━\u001b[0m\u001b[37m\u001b[0m \u001b[1m0s\u001b[0m 677us/step - loss: 7.2448 - mean_squared_error: 7.2448 - val_loss: 13.5607 - val_mean_squared_error: 13.5607\n",
      "Epoch 75/100\n",
      "\u001b[1m117/117\u001b[0m \u001b[32m━━━━━━━━━━━━━━━━━━━━\u001b[0m\u001b[37m\u001b[0m \u001b[1m0s\u001b[0m 674us/step - loss: 7.3786 - mean_squared_error: 7.3786 - val_loss: 13.7727 - val_mean_squared_error: 13.7727\n",
      "Epoch 76/100\n",
      "\u001b[1m117/117\u001b[0m \u001b[32m━━━━━━━━━━━━━━━━━━━━\u001b[0m\u001b[37m\u001b[0m \u001b[1m0s\u001b[0m 705us/step - loss: 7.2401 - mean_squared_error: 7.2401 - val_loss: 13.4363 - val_mean_squared_error: 13.4363\n",
      "Epoch 77/100\n",
      "\u001b[1m117/117\u001b[0m \u001b[32m━━━━━━━━━━━━━━━━━━━━\u001b[0m\u001b[37m\u001b[0m \u001b[1m0s\u001b[0m 677us/step - loss: 7.6342 - mean_squared_error: 7.6342 - val_loss: 13.7414 - val_mean_squared_error: 13.7414\n",
      "Epoch 78/100\n",
      "\u001b[1m117/117\u001b[0m \u001b[32m━━━━━━━━━━━━━━━━━━━━\u001b[0m\u001b[37m\u001b[0m \u001b[1m0s\u001b[0m 674us/step - loss: 7.7492 - mean_squared_error: 7.7492 - val_loss: 13.4615 - val_mean_squared_error: 13.4615\n",
      "Epoch 79/100\n",
      "\u001b[1m117/117\u001b[0m \u001b[32m━━━━━━━━━━━━━━━━━━━━\u001b[0m\u001b[37m\u001b[0m \u001b[1m0s\u001b[0m 680us/step - loss: 7.2457 - mean_squared_error: 7.2457 - val_loss: 13.5042 - val_mean_squared_error: 13.5042\n",
      "Epoch 80/100\n",
      "\u001b[1m117/117\u001b[0m \u001b[32m━━━━━━━━━━━━━━━━━━━━\u001b[0m\u001b[37m\u001b[0m \u001b[1m0s\u001b[0m 680us/step - loss: 7.4310 - mean_squared_error: 7.4310 - val_loss: 13.6900 - val_mean_squared_error: 13.6900\n",
      "Epoch 81/100\n",
      "\u001b[1m117/117\u001b[0m \u001b[32m━━━━━━━━━━━━━━━━━━━━\u001b[0m\u001b[37m\u001b[0m \u001b[1m0s\u001b[0m 674us/step - loss: 7.2658 - mean_squared_error: 7.2658 - val_loss: 13.9670 - val_mean_squared_error: 13.9670\n",
      "Epoch 82/100\n",
      "\u001b[1m117/117\u001b[0m \u001b[32m━━━━━━━━━━━━━━━━━━━━\u001b[0m\u001b[37m\u001b[0m \u001b[1m0s\u001b[0m 673us/step - loss: 7.5030 - mean_squared_error: 7.5030 - val_loss: 13.6720 - val_mean_squared_error: 13.6720\n",
      "Epoch 83/100\n",
      "\u001b[1m117/117\u001b[0m \u001b[32m━━━━━━━━━━━━━━━━━━━━\u001b[0m\u001b[37m\u001b[0m \u001b[1m0s\u001b[0m 678us/step - loss: 7.3242 - mean_squared_error: 7.3242 - val_loss: 13.6917 - val_mean_squared_error: 13.6917\n",
      "Epoch 84/100\n",
      "\u001b[1m117/117\u001b[0m \u001b[32m━━━━━━━━━━━━━━━━━━━━\u001b[0m\u001b[37m\u001b[0m \u001b[1m0s\u001b[0m 677us/step - loss: 7.4653 - mean_squared_error: 7.4653 - val_loss: 13.8430 - val_mean_squared_error: 13.8430\n",
      "Epoch 85/100\n",
      "\u001b[1m117/117\u001b[0m \u001b[32m━━━━━━━━━━━━━━━━━━━━\u001b[0m\u001b[37m\u001b[0m \u001b[1m0s\u001b[0m 681us/step - loss: 7.3364 - mean_squared_error: 7.3364 - val_loss: 14.5797 - val_mean_squared_error: 14.5797\n",
      "Epoch 86/100\n",
      "\u001b[1m117/117\u001b[0m \u001b[32m━━━━━━━━━━━━━━━━━━━━\u001b[0m\u001b[37m\u001b[0m \u001b[1m0s\u001b[0m 691us/step - loss: 7.2326 - mean_squared_error: 7.2326 - val_loss: 13.9406 - val_mean_squared_error: 13.9406\n",
      "Epoch 87/100\n",
      "\u001b[1m117/117\u001b[0m \u001b[32m━━━━━━━━━━━━━━━━━━━━\u001b[0m\u001b[37m\u001b[0m \u001b[1m0s\u001b[0m 679us/step - loss: 7.3617 - mean_squared_error: 7.3617 - val_loss: 14.1430 - val_mean_squared_error: 14.1430\n",
      "Epoch 88/100\n",
      "\u001b[1m117/117\u001b[0m \u001b[32m━━━━━━━━━━━━━━━━━━━━\u001b[0m\u001b[37m\u001b[0m \u001b[1m0s\u001b[0m 678us/step - loss: 6.9462 - mean_squared_error: 6.9462 - val_loss: 14.2811 - val_mean_squared_error: 14.2811\n",
      "Epoch 89/100\n",
      "\u001b[1m117/117\u001b[0m \u001b[32m━━━━━━━━━━━━━━━━━━━━\u001b[0m\u001b[37m\u001b[0m \u001b[1m0s\u001b[0m 683us/step - loss: 7.3820 - mean_squared_error: 7.3820 - val_loss: 13.9689 - val_mean_squared_error: 13.9689\n",
      "Epoch 90/100\n",
      "\u001b[1m117/117\u001b[0m \u001b[32m━━━━━━━━━━━━━━━━━━━━\u001b[0m\u001b[37m\u001b[0m \u001b[1m0s\u001b[0m 673us/step - loss: 7.2485 - mean_squared_error: 7.2485 - val_loss: 14.0767 - val_mean_squared_error: 14.0767\n",
      "Epoch 91/100\n",
      "\u001b[1m117/117\u001b[0m \u001b[32m━━━━━━━━━━━━━━━━━━━━\u001b[0m\u001b[37m\u001b[0m \u001b[1m0s\u001b[0m 673us/step - loss: 7.2697 - mean_squared_error: 7.2697 - val_loss: 14.0173 - val_mean_squared_error: 14.0173\n",
      "Epoch 92/100\n",
      "\u001b[1m117/117\u001b[0m \u001b[32m━━━━━━━━━━━━━━━━━━━━\u001b[0m\u001b[37m\u001b[0m \u001b[1m0s\u001b[0m 676us/step - loss: 7.2009 - mean_squared_error: 7.2009 - val_loss: 14.2187 - val_mean_squared_error: 14.2187\n",
      "Epoch 93/100\n",
      "\u001b[1m117/117\u001b[0m \u001b[32m━━━━━━━━━━━━━━━━━━━━\u001b[0m\u001b[37m\u001b[0m \u001b[1m0s\u001b[0m 677us/step - loss: 7.1705 - mean_squared_error: 7.1705 - val_loss: 14.2093 - val_mean_squared_error: 14.2093\n",
      "Epoch 94/100\n",
      "\u001b[1m117/117\u001b[0m \u001b[32m━━━━━━━━━━━━━━━━━━━━\u001b[0m\u001b[37m\u001b[0m \u001b[1m0s\u001b[0m 675us/step - loss: 6.9734 - mean_squared_error: 6.9734 - val_loss: 14.0123 - val_mean_squared_error: 14.0123\n",
      "Epoch 95/100\n",
      "\u001b[1m117/117\u001b[0m \u001b[32m━━━━━━━━━━━━━━━━━━━━\u001b[0m\u001b[37m\u001b[0m \u001b[1m0s\u001b[0m 683us/step - loss: 6.9425 - mean_squared_error: 6.9425 - val_loss: 14.0345 - val_mean_squared_error: 14.0345\n",
      "Epoch 96/100\n",
      "\u001b[1m117/117\u001b[0m \u001b[32m━━━━━━━━━━━━━━━━━━━━\u001b[0m\u001b[37m\u001b[0m \u001b[1m0s\u001b[0m 714us/step - loss: 7.2248 - mean_squared_error: 7.2248 - val_loss: 14.1570 - val_mean_squared_error: 14.1570\n",
      "Epoch 97/100\n",
      "\u001b[1m117/117\u001b[0m \u001b[32m━━━━━━━━━━━━━━━━━━━━\u001b[0m\u001b[37m\u001b[0m \u001b[1m0s\u001b[0m 672us/step - loss: 7.5453 - mean_squared_error: 7.5453 - val_loss: 14.0806 - val_mean_squared_error: 14.0806\n",
      "Epoch 98/100\n",
      "\u001b[1m117/117\u001b[0m \u001b[32m━━━━━━━━━━━━━━━━━━━━\u001b[0m\u001b[37m\u001b[0m \u001b[1m0s\u001b[0m 673us/step - loss: 7.2440 - mean_squared_error: 7.2440 - val_loss: 14.2130 - val_mean_squared_error: 14.2130\n",
      "Epoch 99/100\n",
      "\u001b[1m117/117\u001b[0m \u001b[32m━━━━━━━━━━━━━━━━━━━━\u001b[0m\u001b[37m\u001b[0m \u001b[1m0s\u001b[0m 681us/step - loss: 7.7040 - mean_squared_error: 7.7040 - val_loss: 14.0856 - val_mean_squared_error: 14.0856\n",
      "Epoch 100/100\n",
      "\u001b[1m117/117\u001b[0m \u001b[32m━━━━━━━━━━━━━━━━━━━━\u001b[0m\u001b[37m\u001b[0m \u001b[1m0s\u001b[0m 676us/step - loss: 7.1183 - mean_squared_error: 7.1183 - val_loss: 13.9938 - val_mean_squared_error: 13.9938\n"
     ]
    },
    {
     "data": {
      "text/plain": [
       "<keras.src.callbacks.history.History at 0x167507860>"
      ]
     },
     "execution_count": 22,
     "metadata": {},
     "output_type": "execute_result"
    }
   ],
   "source": [
    "\n",
    "dl_reg_model = tf.keras.models.Sequential([\n",
    "    tf.keras.layers.Input(shape=(122,)),  # Input layer with 122 features\n",
    "    tf.keras.layers.Dense(16, activation='relu'),  # Hidden layer with 32 neurons\n",
    "    tf.keras.layers.Dense(1, activation='linear')\n",
    "])\n",
    "\n",
    "dl_reg_model.compile(optimizer='adam',\n",
    "              loss='mean_squared_error',\n",
    "              metrics=['mean_squared_error'])\n",
    "\n",
    "dl_reg_model.fit(X_train, y_train, epochs=100, batch_size=32, validation_split=0.2)"
   ]
  },
  {
   "cell_type": "markdown",
   "metadata": {},
   "source": [
    "### Classification"
   ]
  },
  {
   "cell_type": "code",
   "execution_count": 23,
   "metadata": {},
   "outputs": [
    {
     "name": "stdout",
     "output_type": "stream",
     "text": [
      "Epoch 1/100\n",
      "\u001b[1m117/117\u001b[0m \u001b[32m━━━━━━━━━━━━━━━━━━━━\u001b[0m\u001b[37m\u001b[0m \u001b[1m0s\u001b[0m 1ms/step - accuracy: 0.8841 - loss: 0.4513 - val_accuracy: 0.9422 - val_loss: 0.2510\n",
      "Epoch 2/100\n",
      "\u001b[1m117/117\u001b[0m \u001b[32m━━━━━━━━━━━━━━━━━━━━\u001b[0m\u001b[37m\u001b[0m \u001b[1m0s\u001b[0m 719us/step - accuracy: 0.9423 - loss: 0.1715 - val_accuracy: 0.9455 - val_loss: 0.1761\n",
      "Epoch 3/100\n",
      "\u001b[1m117/117\u001b[0m \u001b[32m━━━━━━━━━━━━━━━━━━━━\u001b[0m\u001b[37m\u001b[0m \u001b[1m0s\u001b[0m 713us/step - accuracy: 0.9462 - loss: 0.1391 - val_accuracy: 0.9594 - val_loss: 0.1517\n",
      "Epoch 4/100\n",
      "\u001b[1m117/117\u001b[0m \u001b[32m━━━━━━━━━━━━━━━━━━━━\u001b[0m\u001b[37m\u001b[0m \u001b[1m0s\u001b[0m 707us/step - accuracy: 0.9453 - loss: 0.1231 - val_accuracy: 0.9604 - val_loss: 0.1344\n",
      "Epoch 5/100\n",
      "\u001b[1m117/117\u001b[0m \u001b[32m━━━━━━━━━━━━━━━━━━━━\u001b[0m\u001b[37m\u001b[0m \u001b[1m0s\u001b[0m 701us/step - accuracy: 0.9472 - loss: 0.1242 - val_accuracy: 0.9615 - val_loss: 0.1245\n",
      "Epoch 6/100\n",
      "\u001b[1m117/117\u001b[0m \u001b[32m━━━━━━━━━━━━━━━━━━━━\u001b[0m\u001b[37m\u001b[0m \u001b[1m0s\u001b[0m 707us/step - accuracy: 0.9437 - loss: 0.1306 - val_accuracy: 0.9594 - val_loss: 0.1197\n",
      "Epoch 7/100\n",
      "\u001b[1m117/117\u001b[0m \u001b[32m━━━━━━━━━━━━━━━━━━━━\u001b[0m\u001b[37m\u001b[0m \u001b[1m0s\u001b[0m 702us/step - accuracy: 0.9531 - loss: 0.1156 - val_accuracy: 0.9658 - val_loss: 0.1179\n",
      "Epoch 8/100\n",
      "\u001b[1m117/117\u001b[0m \u001b[32m━━━━━━━━━━━━━━━━━━━━\u001b[0m\u001b[37m\u001b[0m \u001b[1m0s\u001b[0m 703us/step - accuracy: 0.9500 - loss: 0.1121 - val_accuracy: 0.9594 - val_loss: 0.1136\n",
      "Epoch 9/100\n",
      "\u001b[1m117/117\u001b[0m \u001b[32m━━━━━━━━━━━━━━━━━━━━\u001b[0m\u001b[37m\u001b[0m \u001b[1m0s\u001b[0m 703us/step - accuracy: 0.9497 - loss: 0.1167 - val_accuracy: 0.9679 - val_loss: 0.1131\n",
      "Epoch 10/100\n",
      "\u001b[1m117/117\u001b[0m \u001b[32m━━━━━━━━━━━━━━━━━━━━\u001b[0m\u001b[37m\u001b[0m \u001b[1m0s\u001b[0m 703us/step - accuracy: 0.9529 - loss: 0.1133 - val_accuracy: 0.9668 - val_loss: 0.1105\n",
      "Epoch 11/100\n",
      "\u001b[1m117/117\u001b[0m \u001b[32m━━━━━━━━━━━━━━━━━━━━\u001b[0m\u001b[37m\u001b[0m \u001b[1m0s\u001b[0m 701us/step - accuracy: 0.9547 - loss: 0.1070 - val_accuracy: 0.9658 - val_loss: 0.1078\n",
      "Epoch 12/100\n",
      "\u001b[1m117/117\u001b[0m \u001b[32m━━━━━━━━━━━━━━━━━━━━\u001b[0m\u001b[37m\u001b[0m \u001b[1m0s\u001b[0m 697us/step - accuracy: 0.9563 - loss: 0.1020 - val_accuracy: 0.9658 - val_loss: 0.1080\n",
      "Epoch 13/100\n",
      "\u001b[1m117/117\u001b[0m \u001b[32m━━━━━━━━━━━━━━━━━━━━\u001b[0m\u001b[37m\u001b[0m \u001b[1m0s\u001b[0m 704us/step - accuracy: 0.9533 - loss: 0.1074 - val_accuracy: 0.9668 - val_loss: 0.1070\n",
      "Epoch 14/100\n",
      "\u001b[1m117/117\u001b[0m \u001b[32m━━━━━━━━━━━━━━━━━━━━\u001b[0m\u001b[37m\u001b[0m \u001b[1m0s\u001b[0m 699us/step - accuracy: 0.9560 - loss: 0.1028 - val_accuracy: 0.9658 - val_loss: 0.1052\n",
      "Epoch 15/100\n",
      "\u001b[1m117/117\u001b[0m \u001b[32m━━━━━━━━━━━━━━━━━━━━\u001b[0m\u001b[37m\u001b[0m \u001b[1m0s\u001b[0m 702us/step - accuracy: 0.9601 - loss: 0.0969 - val_accuracy: 0.9647 - val_loss: 0.1076\n",
      "Epoch 16/100\n",
      "\u001b[1m117/117\u001b[0m \u001b[32m━━━━━━━━━━━━━━━━━━━━\u001b[0m\u001b[37m\u001b[0m \u001b[1m0s\u001b[0m 694us/step - accuracy: 0.9596 - loss: 0.0971 - val_accuracy: 0.9668 - val_loss: 0.1056\n",
      "Epoch 17/100\n",
      "\u001b[1m117/117\u001b[0m \u001b[32m━━━━━━━━━━━━━━━━━━━━\u001b[0m\u001b[37m\u001b[0m \u001b[1m0s\u001b[0m 715us/step - accuracy: 0.9523 - loss: 0.1033 - val_accuracy: 0.9658 - val_loss: 0.1057\n",
      "Epoch 18/100\n",
      "\u001b[1m117/117\u001b[0m \u001b[32m━━━━━━━━━━━━━━━━━━━━\u001b[0m\u001b[37m\u001b[0m \u001b[1m0s\u001b[0m 699us/step - accuracy: 0.9515 - loss: 0.1021 - val_accuracy: 0.9658 - val_loss: 0.1039\n",
      "Epoch 19/100\n",
      "\u001b[1m117/117\u001b[0m \u001b[32m━━━━━━━━━━━━━━━━━━━━\u001b[0m\u001b[37m\u001b[0m \u001b[1m0s\u001b[0m 700us/step - accuracy: 0.9566 - loss: 0.0936 - val_accuracy: 0.9668 - val_loss: 0.1053\n",
      "Epoch 20/100\n",
      "\u001b[1m117/117\u001b[0m \u001b[32m━━━━━━━━━━━━━━━━━━━━\u001b[0m\u001b[37m\u001b[0m \u001b[1m0s\u001b[0m 701us/step - accuracy: 0.9593 - loss: 0.0957 - val_accuracy: 0.9679 - val_loss: 0.1045\n",
      "Epoch 21/100\n",
      "\u001b[1m117/117\u001b[0m \u001b[32m━━━━━━━━━━━━━━━━━━━━\u001b[0m\u001b[37m\u001b[0m \u001b[1m0s\u001b[0m 702us/step - accuracy: 0.9660 - loss: 0.0814 - val_accuracy: 0.9647 - val_loss: 0.1057\n",
      "Epoch 22/100\n",
      "\u001b[1m117/117\u001b[0m \u001b[32m━━━━━━━━━━━━━━━━━━━━\u001b[0m\u001b[37m\u001b[0m \u001b[1m0s\u001b[0m 704us/step - accuracy: 0.9574 - loss: 0.0989 - val_accuracy: 0.9647 - val_loss: 0.1062\n",
      "Epoch 23/100\n",
      "\u001b[1m117/117\u001b[0m \u001b[32m━━━━━━━━━━━━━━━━━━━━\u001b[0m\u001b[37m\u001b[0m \u001b[1m0s\u001b[0m 695us/step - accuracy: 0.9569 - loss: 0.0978 - val_accuracy: 0.9636 - val_loss: 0.1051\n",
      "Epoch 24/100\n",
      "\u001b[1m117/117\u001b[0m \u001b[32m━━━━━━━━━━━━━━━━━━━━\u001b[0m\u001b[37m\u001b[0m \u001b[1m0s\u001b[0m 698us/step - accuracy: 0.9576 - loss: 0.0903 - val_accuracy: 0.9604 - val_loss: 0.1100\n",
      "Epoch 25/100\n",
      "\u001b[1m117/117\u001b[0m \u001b[32m━━━━━━━━━━━━━━━━━━━━\u001b[0m\u001b[37m\u001b[0m \u001b[1m0s\u001b[0m 702us/step - accuracy: 0.9608 - loss: 0.0850 - val_accuracy: 0.9647 - val_loss: 0.1057\n",
      "Epoch 26/100\n",
      "\u001b[1m117/117\u001b[0m \u001b[32m━━━━━━━━━━━━━━━━━━━━\u001b[0m\u001b[37m\u001b[0m \u001b[1m0s\u001b[0m 700us/step - accuracy: 0.9576 - loss: 0.0940 - val_accuracy: 0.9626 - val_loss: 0.1084\n",
      "Epoch 27/100\n",
      "\u001b[1m117/117\u001b[0m \u001b[32m━━━━━━━━━━━━━━━━━━━━\u001b[0m\u001b[37m\u001b[0m \u001b[1m0s\u001b[0m 704us/step - accuracy: 0.9595 - loss: 0.0903 - val_accuracy: 0.9636 - val_loss: 0.1080\n",
      "Epoch 28/100\n",
      "\u001b[1m117/117\u001b[0m \u001b[32m━━━━━━━━━━━━━━━━━━━━\u001b[0m\u001b[37m\u001b[0m \u001b[1m0s\u001b[0m 704us/step - accuracy: 0.9619 - loss: 0.0889 - val_accuracy: 0.9636 - val_loss: 0.1082\n",
      "Epoch 29/100\n",
      "\u001b[1m117/117\u001b[0m \u001b[32m━━━━━━━━━━━━━━━━━━━━\u001b[0m\u001b[37m\u001b[0m \u001b[1m0s\u001b[0m 702us/step - accuracy: 0.9591 - loss: 0.0902 - val_accuracy: 0.9647 - val_loss: 0.1077\n",
      "Epoch 30/100\n",
      "\u001b[1m117/117\u001b[0m \u001b[32m━━━━━━━━━━━━━━━━━━━━\u001b[0m\u001b[37m\u001b[0m \u001b[1m0s\u001b[0m 1ms/step - accuracy: 0.9595 - loss: 0.0874 - val_accuracy: 0.9647 - val_loss: 0.1086\n",
      "Epoch 31/100\n",
      "\u001b[1m117/117\u001b[0m \u001b[32m━━━━━━━━━━━━━━━━━━━━\u001b[0m\u001b[37m\u001b[0m \u001b[1m0s\u001b[0m 698us/step - accuracy: 0.9645 - loss: 0.0853 - val_accuracy: 0.9658 - val_loss: 0.1106\n",
      "Epoch 32/100\n",
      "\u001b[1m117/117\u001b[0m \u001b[32m━━━━━━━━━━━━━━━━━━━━\u001b[0m\u001b[37m\u001b[0m \u001b[1m0s\u001b[0m 698us/step - accuracy: 0.9586 - loss: 0.0872 - val_accuracy: 0.9647 - val_loss: 0.1092\n",
      "Epoch 33/100\n",
      "\u001b[1m117/117\u001b[0m \u001b[32m━━━━━━━━━━━━━━━━━━━━\u001b[0m\u001b[37m\u001b[0m \u001b[1m0s\u001b[0m 703us/step - accuracy: 0.9575 - loss: 0.0896 - val_accuracy: 0.9658 - val_loss: 0.1114\n",
      "Epoch 34/100\n",
      "\u001b[1m117/117\u001b[0m \u001b[32m━━━━━━━━━━━━━━━━━━━━\u001b[0m\u001b[37m\u001b[0m \u001b[1m0s\u001b[0m 700us/step - accuracy: 0.9704 - loss: 0.0789 - val_accuracy: 0.9626 - val_loss: 0.1118\n",
      "Epoch 35/100\n",
      "\u001b[1m117/117\u001b[0m \u001b[32m━━━━━━━━━━━━━━━━━━━━\u001b[0m\u001b[37m\u001b[0m \u001b[1m0s\u001b[0m 694us/step - accuracy: 0.9683 - loss: 0.0801 - val_accuracy: 0.9647 - val_loss: 0.1128\n",
      "Epoch 36/100\n",
      "\u001b[1m117/117\u001b[0m \u001b[32m━━━━━━━━━━━━━━━━━━━━\u001b[0m\u001b[37m\u001b[0m \u001b[1m0s\u001b[0m 694us/step - accuracy: 0.9609 - loss: 0.0895 - val_accuracy: 0.9572 - val_loss: 0.1139\n",
      "Epoch 37/100\n",
      "\u001b[1m117/117\u001b[0m \u001b[32m━━━━━━━━━━━━━━━━━━━━\u001b[0m\u001b[37m\u001b[0m \u001b[1m0s\u001b[0m 696us/step - accuracy: 0.9718 - loss: 0.0741 - val_accuracy: 0.9604 - val_loss: 0.1157\n",
      "Epoch 38/100\n",
      "\u001b[1m117/117\u001b[0m \u001b[32m━━━━━━━━━━━━━━━━━━━━\u001b[0m\u001b[37m\u001b[0m \u001b[1m0s\u001b[0m 701us/step - accuracy: 0.9677 - loss: 0.0740 - val_accuracy: 0.9572 - val_loss: 0.1169\n",
      "Epoch 39/100\n",
      "\u001b[1m117/117\u001b[0m \u001b[32m━━━━━━━━━━━━━━━━━━━━\u001b[0m\u001b[37m\u001b[0m \u001b[1m0s\u001b[0m 698us/step - accuracy: 0.9669 - loss: 0.0784 - val_accuracy: 0.9561 - val_loss: 0.1180\n",
      "Epoch 40/100\n",
      "\u001b[1m117/117\u001b[0m \u001b[32m━━━━━━━━━━━━━━━━━━━━\u001b[0m\u001b[37m\u001b[0m \u001b[1m0s\u001b[0m 697us/step - accuracy: 0.9706 - loss: 0.0691 - val_accuracy: 0.9551 - val_loss: 0.1180\n",
      "Epoch 41/100\n",
      "\u001b[1m117/117\u001b[0m \u001b[32m━━━━━━━━━━━━━━━━━━━━\u001b[0m\u001b[37m\u001b[0m \u001b[1m0s\u001b[0m 696us/step - accuracy: 0.9726 - loss: 0.0704 - val_accuracy: 0.9594 - val_loss: 0.1173\n",
      "Epoch 42/100\n",
      "\u001b[1m117/117\u001b[0m \u001b[32m━━━━━━━━━━━━━━━━━━━━\u001b[0m\u001b[37m\u001b[0m \u001b[1m0s\u001b[0m 704us/step - accuracy: 0.9711 - loss: 0.0739 - val_accuracy: 0.9551 - val_loss: 0.1199\n",
      "Epoch 43/100\n",
      "\u001b[1m117/117\u001b[0m \u001b[32m━━━━━━━━━━━━━━━━━━━━\u001b[0m\u001b[37m\u001b[0m \u001b[1m0s\u001b[0m 698us/step - accuracy: 0.9671 - loss: 0.0716 - val_accuracy: 0.9540 - val_loss: 0.1213\n",
      "Epoch 44/100\n",
      "\u001b[1m117/117\u001b[0m \u001b[32m━━━━━━━━━━━━━━━━━━━━\u001b[0m\u001b[37m\u001b[0m \u001b[1m0s\u001b[0m 706us/step - accuracy: 0.9722 - loss: 0.0676 - val_accuracy: 0.9561 - val_loss: 0.1233\n",
      "Epoch 45/100\n",
      "\u001b[1m117/117\u001b[0m \u001b[32m━━━━━━━━━━━━━━━━━━━━\u001b[0m\u001b[37m\u001b[0m \u001b[1m0s\u001b[0m 700us/step - accuracy: 0.9731 - loss: 0.0644 - val_accuracy: 0.9519 - val_loss: 0.1251\n",
      "Epoch 46/100\n",
      "\u001b[1m117/117\u001b[0m \u001b[32m━━━━━━━━━━━━━━━━━━━━\u001b[0m\u001b[37m\u001b[0m \u001b[1m0s\u001b[0m 700us/step - accuracy: 0.9696 - loss: 0.0717 - val_accuracy: 0.9561 - val_loss: 0.1266\n",
      "Epoch 47/100\n",
      "\u001b[1m117/117\u001b[0m \u001b[32m━━━━━━━━━━━━━━━━━━━━\u001b[0m\u001b[37m\u001b[0m \u001b[1m0s\u001b[0m 698us/step - accuracy: 0.9719 - loss: 0.0674 - val_accuracy: 0.9561 - val_loss: 0.1257\n",
      "Epoch 48/100\n",
      "\u001b[1m117/117\u001b[0m \u001b[32m━━━━━━━━━━━━━━━━━━━━\u001b[0m\u001b[37m\u001b[0m \u001b[1m0s\u001b[0m 694us/step - accuracy: 0.9699 - loss: 0.0739 - val_accuracy: 0.9572 - val_loss: 0.1269\n",
      "Epoch 49/100\n",
      "\u001b[1m117/117\u001b[0m \u001b[32m━━━━━━━━━━━━━━━━━━━━\u001b[0m\u001b[37m\u001b[0m \u001b[1m0s\u001b[0m 704us/step - accuracy: 0.9715 - loss: 0.0707 - val_accuracy: 0.9561 - val_loss: 0.1276\n",
      "Epoch 50/100\n",
      "\u001b[1m117/117\u001b[0m \u001b[32m━━━━━━━━━━━━━━━━━━━━\u001b[0m\u001b[37m\u001b[0m \u001b[1m0s\u001b[0m 693us/step - accuracy: 0.9725 - loss: 0.0702 - val_accuracy: 0.9561 - val_loss: 0.1282\n",
      "Epoch 51/100\n",
      "\u001b[1m117/117\u001b[0m \u001b[32m━━━━━━━━━━━━━━━━━━━━\u001b[0m\u001b[37m\u001b[0m \u001b[1m0s\u001b[0m 697us/step - accuracy: 0.9718 - loss: 0.0716 - val_accuracy: 0.9561 - val_loss: 0.1314\n",
      "Epoch 52/100\n",
      "\u001b[1m117/117\u001b[0m \u001b[32m━━━━━━━━━━━━━━━━━━━━\u001b[0m\u001b[37m\u001b[0m \u001b[1m0s\u001b[0m 700us/step - accuracy: 0.9673 - loss: 0.0733 - val_accuracy: 0.9561 - val_loss: 0.1305\n",
      "Epoch 53/100\n",
      "\u001b[1m117/117\u001b[0m \u001b[32m━━━━━━━━━━━━━━━━━━━━\u001b[0m\u001b[37m\u001b[0m \u001b[1m0s\u001b[0m 696us/step - accuracy: 0.9769 - loss: 0.0629 - val_accuracy: 0.9540 - val_loss: 0.1365\n",
      "Epoch 54/100\n",
      "\u001b[1m117/117\u001b[0m \u001b[32m━━━━━━━━━━━━━━━━━━━━\u001b[0m\u001b[37m\u001b[0m \u001b[1m0s\u001b[0m 722us/step - accuracy: 0.9773 - loss: 0.0589 - val_accuracy: 0.9561 - val_loss: 0.1327\n",
      "Epoch 55/100\n",
      "\u001b[1m117/117\u001b[0m \u001b[32m━━━━━━━━━━━━━━━━━━━━\u001b[0m\u001b[37m\u001b[0m \u001b[1m0s\u001b[0m 702us/step - accuracy: 0.9778 - loss: 0.0640 - val_accuracy: 0.9561 - val_loss: 0.1344\n",
      "Epoch 56/100\n",
      "\u001b[1m117/117\u001b[0m \u001b[32m━━━━━━━━━━━━━━━━━━━━\u001b[0m\u001b[37m\u001b[0m \u001b[1m0s\u001b[0m 697us/step - accuracy: 0.9794 - loss: 0.0562 - val_accuracy: 0.9551 - val_loss: 0.1326\n",
      "Epoch 57/100\n",
      "\u001b[1m117/117\u001b[0m \u001b[32m━━━━━━━━━━━━━━━━━━━━\u001b[0m\u001b[37m\u001b[0m \u001b[1m0s\u001b[0m 696us/step - accuracy: 0.9784 - loss: 0.0564 - val_accuracy: 0.9551 - val_loss: 0.1362\n",
      "Epoch 58/100\n",
      "\u001b[1m117/117\u001b[0m \u001b[32m━━━━━━━━━━━━━━━━━━━━\u001b[0m\u001b[37m\u001b[0m \u001b[1m0s\u001b[0m 699us/step - accuracy: 0.9773 - loss: 0.0622 - val_accuracy: 0.9551 - val_loss: 0.1391\n",
      "Epoch 59/100\n",
      "\u001b[1m117/117\u001b[0m \u001b[32m━━━━━━━━━━━━━━━━━━━━\u001b[0m\u001b[37m\u001b[0m \u001b[1m0s\u001b[0m 703us/step - accuracy: 0.9736 - loss: 0.0604 - val_accuracy: 0.9551 - val_loss: 0.1378\n",
      "Epoch 60/100\n",
      "\u001b[1m117/117\u001b[0m \u001b[32m━━━━━━━━━━━━━━━━━━━━\u001b[0m\u001b[37m\u001b[0m \u001b[1m0s\u001b[0m 701us/step - accuracy: 0.9786 - loss: 0.0568 - val_accuracy: 0.9561 - val_loss: 0.1400\n",
      "Epoch 61/100\n",
      "\u001b[1m117/117\u001b[0m \u001b[32m━━━━━━━━━━━━━━━━━━━━\u001b[0m\u001b[37m\u001b[0m \u001b[1m0s\u001b[0m 701us/step - accuracy: 0.9792 - loss: 0.0576 - val_accuracy: 0.9540 - val_loss: 0.1407\n",
      "Epoch 62/100\n",
      "\u001b[1m117/117\u001b[0m \u001b[32m━━━━━━━━━━━━━━━━━━━━\u001b[0m\u001b[37m\u001b[0m \u001b[1m0s\u001b[0m 697us/step - accuracy: 0.9763 - loss: 0.0542 - val_accuracy: 0.9561 - val_loss: 0.1408\n",
      "Epoch 63/100\n",
      "\u001b[1m117/117\u001b[0m \u001b[32m━━━━━━━━━━━━━━━━━━━━\u001b[0m\u001b[37m\u001b[0m \u001b[1m0s\u001b[0m 696us/step - accuracy: 0.9809 - loss: 0.0551 - val_accuracy: 0.9540 - val_loss: 0.1422\n",
      "Epoch 64/100\n",
      "\u001b[1m117/117\u001b[0m \u001b[32m━━━━━━━━━━━━━━━━━━━━\u001b[0m\u001b[37m\u001b[0m \u001b[1m0s\u001b[0m 694us/step - accuracy: 0.9776 - loss: 0.0586 - val_accuracy: 0.9540 - val_loss: 0.1434\n",
      "Epoch 65/100\n",
      "\u001b[1m117/117\u001b[0m \u001b[32m━━━━━━━━━━━━━━━━━━━━\u001b[0m\u001b[37m\u001b[0m \u001b[1m0s\u001b[0m 702us/step - accuracy: 0.9774 - loss: 0.0576 - val_accuracy: 0.9561 - val_loss: 0.1443\n",
      "Epoch 66/100\n",
      "\u001b[1m117/117\u001b[0m \u001b[32m━━━━━━━━━━━━━━━━━━━━\u001b[0m\u001b[37m\u001b[0m \u001b[1m0s\u001b[0m 697us/step - accuracy: 0.9793 - loss: 0.0546 - val_accuracy: 0.9572 - val_loss: 0.1440\n",
      "Epoch 67/100\n",
      "\u001b[1m117/117\u001b[0m \u001b[32m━━━━━━━━━━━━━━━━━━━━\u001b[0m\u001b[37m\u001b[0m \u001b[1m0s\u001b[0m 694us/step - accuracy: 0.9780 - loss: 0.0574 - val_accuracy: 0.9540 - val_loss: 0.1476\n",
      "Epoch 68/100\n",
      "\u001b[1m117/117\u001b[0m \u001b[32m━━━━━━━━━━━━━━━━━━━━\u001b[0m\u001b[37m\u001b[0m \u001b[1m0s\u001b[0m 697us/step - accuracy: 0.9800 - loss: 0.0549 - val_accuracy: 0.9561 - val_loss: 0.1493\n",
      "Epoch 69/100\n",
      "\u001b[1m117/117\u001b[0m \u001b[32m━━━━━━━━━━━━━━━━━━━━\u001b[0m\u001b[37m\u001b[0m \u001b[1m0s\u001b[0m 699us/step - accuracy: 0.9785 - loss: 0.0578 - val_accuracy: 0.9540 - val_loss: 0.1493\n",
      "Epoch 70/100\n",
      "\u001b[1m117/117\u001b[0m \u001b[32m━━━━━━━━━━━━━━━━━━━━\u001b[0m\u001b[37m\u001b[0m \u001b[1m0s\u001b[0m 697us/step - accuracy: 0.9785 - loss: 0.0532 - val_accuracy: 0.9540 - val_loss: 0.1491\n",
      "Epoch 71/100\n",
      "\u001b[1m117/117\u001b[0m \u001b[32m━━━━━━━━━━━━━━━━━━━━\u001b[0m\u001b[37m\u001b[0m \u001b[1m0s\u001b[0m 705us/step - accuracy: 0.9796 - loss: 0.0541 - val_accuracy: 0.9561 - val_loss: 0.1490\n",
      "Epoch 72/100\n",
      "\u001b[1m117/117\u001b[0m \u001b[32m━━━━━━━━━━━━━━━━━━━━\u001b[0m\u001b[37m\u001b[0m \u001b[1m0s\u001b[0m 693us/step - accuracy: 0.9811 - loss: 0.0526 - val_accuracy: 0.9561 - val_loss: 0.1531\n",
      "Epoch 73/100\n",
      "\u001b[1m117/117\u001b[0m \u001b[32m━━━━━━━━━━━━━━━━━━━━\u001b[0m\u001b[37m\u001b[0m \u001b[1m0s\u001b[0m 692us/step - accuracy: 0.9787 - loss: 0.0512 - val_accuracy: 0.9561 - val_loss: 0.1532\n",
      "Epoch 74/100\n",
      "\u001b[1m117/117\u001b[0m \u001b[32m━━━━━━━━━━━━━━━━━━━━\u001b[0m\u001b[37m\u001b[0m \u001b[1m0s\u001b[0m 697us/step - accuracy: 0.9790 - loss: 0.0567 - val_accuracy: 0.9561 - val_loss: 0.1562\n",
      "Epoch 75/100\n",
      "\u001b[1m117/117\u001b[0m \u001b[32m━━━━━━━━━━━━━━━━━━━━\u001b[0m\u001b[37m\u001b[0m \u001b[1m0s\u001b[0m 703us/step - accuracy: 0.9807 - loss: 0.0497 - val_accuracy: 0.9572 - val_loss: 0.1517\n",
      "Epoch 76/100\n",
      "\u001b[1m117/117\u001b[0m \u001b[32m━━━━━━━━━━━━━━━━━━━━\u001b[0m\u001b[37m\u001b[0m \u001b[1m0s\u001b[0m 701us/step - accuracy: 0.9789 - loss: 0.0481 - val_accuracy: 0.9551 - val_loss: 0.1517\n",
      "Epoch 77/100\n",
      "\u001b[1m117/117\u001b[0m \u001b[32m━━━━━━━━━━━━━━━━━━━━\u001b[0m\u001b[37m\u001b[0m \u001b[1m0s\u001b[0m 704us/step - accuracy: 0.9812 - loss: 0.0467 - val_accuracy: 0.9540 - val_loss: 0.1546\n",
      "Epoch 78/100\n",
      "\u001b[1m117/117\u001b[0m \u001b[32m━━━━━━━━━━━━━━━━━━━━\u001b[0m\u001b[37m\u001b[0m \u001b[1m0s\u001b[0m 699us/step - accuracy: 0.9835 - loss: 0.0476 - val_accuracy: 0.9540 - val_loss: 0.1596\n",
      "Epoch 79/100\n",
      "\u001b[1m117/117\u001b[0m \u001b[32m━━━━━━━━━━━━━━━━━━━━\u001b[0m\u001b[37m\u001b[0m \u001b[1m0s\u001b[0m 694us/step - accuracy: 0.9738 - loss: 0.0563 - val_accuracy: 0.9551 - val_loss: 0.1610\n",
      "Epoch 80/100\n",
      "\u001b[1m117/117\u001b[0m \u001b[32m━━━━━━━━━━━━━━━━━━━━\u001b[0m\u001b[37m\u001b[0m \u001b[1m0s\u001b[0m 697us/step - accuracy: 0.9863 - loss: 0.0462 - val_accuracy: 0.9519 - val_loss: 0.1608\n",
      "Epoch 81/100\n",
      "\u001b[1m117/117\u001b[0m \u001b[32m━━━━━━━━━━━━━━━━━━━━\u001b[0m\u001b[37m\u001b[0m \u001b[1m0s\u001b[0m 698us/step - accuracy: 0.9805 - loss: 0.0522 - val_accuracy: 0.9519 - val_loss: 0.1618\n",
      "Epoch 82/100\n",
      "\u001b[1m117/117\u001b[0m \u001b[32m━━━━━━━━━━━━━━━━━━━━\u001b[0m\u001b[37m\u001b[0m \u001b[1m0s\u001b[0m 701us/step - accuracy: 0.9836 - loss: 0.0455 - val_accuracy: 0.9561 - val_loss: 0.1614\n",
      "Epoch 83/100\n",
      "\u001b[1m117/117\u001b[0m \u001b[32m━━━━━━━━━━━━━━━━━━━━\u001b[0m\u001b[37m\u001b[0m \u001b[1m0s\u001b[0m 695us/step - accuracy: 0.9778 - loss: 0.0558 - val_accuracy: 0.9551 - val_loss: 0.1593\n",
      "Epoch 84/100\n",
      "\u001b[1m117/117\u001b[0m \u001b[32m━━━━━━━━━━━━━━━━━━━━\u001b[0m\u001b[37m\u001b[0m \u001b[1m0s\u001b[0m 709us/step - accuracy: 0.9864 - loss: 0.0429 - val_accuracy: 0.9551 - val_loss: 0.1602\n",
      "Epoch 85/100\n",
      "\u001b[1m117/117\u001b[0m \u001b[32m━━━━━━━━━━━━━━━━━━━━\u001b[0m\u001b[37m\u001b[0m \u001b[1m0s\u001b[0m 699us/step - accuracy: 0.9763 - loss: 0.0523 - val_accuracy: 0.9583 - val_loss: 0.1595\n",
      "Epoch 86/100\n",
      "\u001b[1m117/117\u001b[0m \u001b[32m━━━━━━━━━━━━━━━━━━━━\u001b[0m\u001b[37m\u001b[0m \u001b[1m0s\u001b[0m 702us/step - accuracy: 0.9768 - loss: 0.0533 - val_accuracy: 0.9551 - val_loss: 0.1646\n",
      "Epoch 87/100\n",
      "\u001b[1m117/117\u001b[0m \u001b[32m━━━━━━━━━━━━━━━━━━━━\u001b[0m\u001b[37m\u001b[0m \u001b[1m0s\u001b[0m 704us/step - accuracy: 0.9794 - loss: 0.0522 - val_accuracy: 0.9551 - val_loss: 0.1649\n",
      "Epoch 88/100\n",
      "\u001b[1m117/117\u001b[0m \u001b[32m━━━━━━━━━━━━━━━━━━━━\u001b[0m\u001b[37m\u001b[0m \u001b[1m0s\u001b[0m 702us/step - accuracy: 0.9815 - loss: 0.0489 - val_accuracy: 0.9529 - val_loss: 0.1658\n",
      "Epoch 89/100\n",
      "\u001b[1m117/117\u001b[0m \u001b[32m━━━━━━━━━━━━━━━━━━━━\u001b[0m\u001b[37m\u001b[0m \u001b[1m0s\u001b[0m 697us/step - accuracy: 0.9822 - loss: 0.0454 - val_accuracy: 0.9519 - val_loss: 0.1670\n",
      "Epoch 90/100\n",
      "\u001b[1m117/117\u001b[0m \u001b[32m━━━━━━━━━━━━━━━━━━━━\u001b[0m\u001b[37m\u001b[0m \u001b[1m0s\u001b[0m 699us/step - accuracy: 0.9819 - loss: 0.0484 - val_accuracy: 0.9572 - val_loss: 0.1653\n",
      "Epoch 91/100\n",
      "\u001b[1m117/117\u001b[0m \u001b[32m━━━━━━━━━━━━━━━━━━━━\u001b[0m\u001b[37m\u001b[0m \u001b[1m0s\u001b[0m 692us/step - accuracy: 0.9788 - loss: 0.0480 - val_accuracy: 0.9551 - val_loss: 0.1662\n",
      "Epoch 92/100\n",
      "\u001b[1m117/117\u001b[0m \u001b[32m━━━━━━━━━━━━━━━━━━━━\u001b[0m\u001b[37m\u001b[0m \u001b[1m0s\u001b[0m 702us/step - accuracy: 0.9849 - loss: 0.0444 - val_accuracy: 0.9551 - val_loss: 0.1682\n",
      "Epoch 93/100\n",
      "\u001b[1m117/117\u001b[0m \u001b[32m━━━━━━━━━━━━━━━━━━━━\u001b[0m\u001b[37m\u001b[0m \u001b[1m0s\u001b[0m 704us/step - accuracy: 0.9850 - loss: 0.0401 - val_accuracy: 0.9540 - val_loss: 0.1710\n",
      "Epoch 94/100\n",
      "\u001b[1m117/117\u001b[0m \u001b[32m━━━━━━━━━━━━━━━━━━━━\u001b[0m\u001b[37m\u001b[0m \u001b[1m0s\u001b[0m 699us/step - accuracy: 0.9836 - loss: 0.0415 - val_accuracy: 0.9561 - val_loss: 0.1709\n",
      "Epoch 95/100\n",
      "\u001b[1m117/117\u001b[0m \u001b[32m━━━━━━━━━━━━━━━━━━━━\u001b[0m\u001b[37m\u001b[0m \u001b[1m0s\u001b[0m 697us/step - accuracy: 0.9839 - loss: 0.0420 - val_accuracy: 0.9551 - val_loss: 0.1745\n",
      "Epoch 96/100\n",
      "\u001b[1m117/117\u001b[0m \u001b[32m━━━━━━━━━━━━━━━━━━━━\u001b[0m\u001b[37m\u001b[0m \u001b[1m0s\u001b[0m 697us/step - accuracy: 0.9858 - loss: 0.0407 - val_accuracy: 0.9540 - val_loss: 0.1738\n",
      "Epoch 97/100\n",
      "\u001b[1m117/117\u001b[0m \u001b[32m━━━━━━━━━━━━━━━━━━━━\u001b[0m\u001b[37m\u001b[0m \u001b[1m0s\u001b[0m 700us/step - accuracy: 0.9824 - loss: 0.0447 - val_accuracy: 0.9529 - val_loss: 0.1775\n",
      "Epoch 98/100\n",
      "\u001b[1m117/117\u001b[0m \u001b[32m━━━━━━━━━━━━━━━━━━━━\u001b[0m\u001b[37m\u001b[0m \u001b[1m0s\u001b[0m 710us/step - accuracy: 0.9825 - loss: 0.0431 - val_accuracy: 0.9508 - val_loss: 0.1810\n",
      "Epoch 99/100\n",
      "\u001b[1m117/117\u001b[0m \u001b[32m━━━━━━━━━━━━━━━━━━━━\u001b[0m\u001b[37m\u001b[0m \u001b[1m0s\u001b[0m 697us/step - accuracy: 0.9832 - loss: 0.0391 - val_accuracy: 0.9540 - val_loss: 0.1799\n",
      "Epoch 100/100\n",
      "\u001b[1m117/117\u001b[0m \u001b[32m━━━━━━━━━━━━━━━━━━━━\u001b[0m\u001b[37m\u001b[0m \u001b[1m0s\u001b[0m 1ms/step - accuracy: 0.9851 - loss: 0.0410 - val_accuracy: 0.9561 - val_loss: 0.1768\n",
      "\u001b[1m13/13\u001b[0m \u001b[32m━━━━━━━━━━━━━━━━━━━━\u001b[0m\u001b[37m\u001b[0m \u001b[1m0s\u001b[0m 1ms/step - accuracy: 0.9557 - loss: 0.1851\n",
      "Test accuracy: 0.9468598961830139\n"
     ]
    }
   ],
   "source": [
    "\n",
    "# Define the model\n",
    "dl_cl_model = tf.keras.models.Sequential([\n",
    "    tf.keras.layers.Input(shape=(122,)),  # Input layer with 122 features\n",
    "    tf.keras.layers.Dense(32, activation='relu'),  # Additional hidden layer with 64 neurons\n",
    "    tf.keras.layers.Dense(1, activation='sigmoid')  # Output layer for classification\n",
    "])\n",
    "\n",
    "dl_cl_model.compile(optimizer='adam',\n",
    "              loss='binary_crossentropy',\n",
    "              metrics=['accuracy'])\n",
    "\n",
    "# Train the model\n",
    "dl_cl_model.fit(X_train, y_train_c, epochs=100, batch_size=32, validation_split=0.2)\n",
    "\n",
    "# Evaluate the model on the test set\n",
    "test_loss, test_acc = dl_cl_model.evaluate(X_test, y_test_c)\n",
    "\n",
    "print(f'Test accuracy: {test_acc}')\n"
   ]
  },
  {
   "cell_type": "markdown",
   "metadata": {},
   "source": [
    "## Metrics"
   ]
  },
  {
   "cell_type": "markdown",
   "metadata": {},
   "source": [
    "### Regression models"
   ]
  },
  {
   "cell_type": "code",
   "execution_count": 24,
   "metadata": {},
   "outputs": [
    {
     "name": "stderr",
     "output_type": "stream",
     "text": [
      "/var/folders/4z/6wzfzsy94r16_shjk6y6ndmc0000gn/T/ipykernel_67053/936286923.py:18: FutureWarning: The behavior of DataFrame concatenation with empty or all-NA entries is deprecated. In a future version, this will no longer exclude empty or all-NA columns when determining the result dtypes. To retain the old behavior, exclude the relevant entries before the concat operation.\n",
      "  reg_models_accuracy = pd.concat([reg_models_accuracy, new_row], ignore_index=True)\n"
     ]
    },
    {
     "name": "stdout",
     "output_type": "stream",
     "text": [
      "          model_name  accuracy\n",
      "0  Linear Regression  0.347826\n",
      "1      Random Forest  0.391304\n",
      "2                SVM  0.347826\n",
      "3      Decision Tree  0.391304\n",
      "4                KNN  0.347826\n",
      "5              Lasso  0.434783\n"
     ]
    }
   ],
   "source": [
    "reg_models = [\n",
    "    (\"Linear Regression\", \"reg_lr_model\"),\n",
    "    (\"Random Forest\", \"reg_rf_model\"),\n",
    "    (\"SVM\", \"reg_svm_model\"),\n",
    "    (\"Decision Tree\", \"reg_dt_model\"),\n",
    "    (\"KNN\", \"reg_knn_model\"),\n",
    "    (\"Lasso\", \"reg_lasso_model\") # TODO: Adapt Deep Learning: dl_reg_model\n",
    "]\n",
    "\n",
    "reg_models_accuracy = pd.DataFrame(columns=['model_name', 'accuracy'])\n",
    "\n",
    "for model_name, model_var_name in reg_models:\n",
    "\n",
    "    model_var = globals()[model_var_name]\n",
    "    model_acc = accuracy_regression(model_var)\n",
    "\n",
    "    new_row = pd.DataFrame({'model_name': [model_name], 'accuracy': [model_acc]})\n",
    "    reg_models_accuracy = pd.concat([reg_models_accuracy, new_row], ignore_index=True)\n",
    "\n",
    "print(reg_models_accuracy)"
   ]
  },
  {
   "cell_type": "markdown",
   "metadata": {},
   "source": [
    "### Classification models"
   ]
  },
  {
   "cell_type": "code",
   "execution_count": 25,
   "metadata": {},
   "outputs": [
    {
     "name": "stderr",
     "output_type": "stream",
     "text": [
      "/var/folders/4z/6wzfzsy94r16_shjk6y6ndmc0000gn/T/ipykernel_67053/3146935422.py:18: FutureWarning: The behavior of DataFrame concatenation with empty or all-NA entries is deprecated. In a future version, this will no longer exclude empty or all-NA columns when determining the result dtypes. To retain the old behavior, exclude the relevant entries before the concat operation.\n",
      "  cla_models_accuracy = pd.concat([cla_models_accuracy, new_row], ignore_index=True)\n"
     ]
    },
    {
     "name": "stdout",
     "output_type": "stream",
     "text": [
      "            model_name  accuracy\n",
      "0  Logistic Regression  0.086957\n",
      "1        Decision Tree  0.000000\n",
      "2                  SVM  0.086957\n",
      "3        Random Forest  0.086957\n",
      "4                  KNN  0.086957\n",
      "5           GaussianNB  0.000000\n"
     ]
    }
   ],
   "source": [
    "cla_models = [\n",
    "    (\"Logistic Regression\", \"cla_lr_model\"),\n",
    "    (\"Decision Tree\", \"cla_dt_model\"),\n",
    "    (\"SVM\", \"cla_svm_model\"),\n",
    "    (\"Random Forest\", \"cla_rf_model\"),\n",
    "    (\"KNN\", \"cla_knn_model\"),\n",
    "    (\"GaussianNB\", \"cla_nb_model\") # (\"Deep Learning\", \"dl_cl_model\") TODO\n",
    "]\n",
    "\n",
    "cla_models_accuracy = pd.DataFrame(columns=['model_name', 'accuracy'])\n",
    "\n",
    "for model_name, model_var_name in cla_models:\n",
    "\n",
    "    model_var = globals()[model_var_name]\n",
    "    model_acc = accuracy_regression(model_var)\n",
    "\n",
    "    new_row = pd.DataFrame({'model_name': [model_name], 'accuracy': [model_acc]})\n",
    "    cla_models_accuracy = pd.concat([cla_models_accuracy, new_row], ignore_index=True)\n",
    "\n",
    "print(cla_models_accuracy)"
   ]
  },
  {
   "cell_type": "markdown",
   "metadata": {},
   "source": [
    "### Plot comparison"
   ]
  },
  {
   "cell_type": "code",
   "execution_count": 26,
   "metadata": {},
   "outputs": [
    {
     "data": {
      "image/png": "[encoded data removed]",
      "text/plain": [
       "<Figure size 1000x600 with 1 Axes>"
      ]
     },
     "metadata": {},
     "output_type": "display_data"
    }
   ],
   "source": [
    "# Combine both DataFrames into one for easier plotting\n",
    "reg_models_accuracy['type'] = 'Regressor'\n",
    "cla_models_accuracy['type'] = 'Classifier'\n",
    "combined_df = pd.concat([reg_models_accuracy, cla_models_accuracy])\n",
    "\n",
    "x_labels = combined_df['model_name'].values\n",
    "x_indices = np.arange(len(x_labels))\n",
    "bar_colors = combined_df['type'].map({'Regressor': 'blue', 'Classifier': 'green'})\n",
    "\n",
    "plt.figure(figsize=(10, 6))\n",
    "plt.bar(x_indices, combined_df['accuracy'], color=bar_colors, alpha=0.8, edgecolor='black')\n",
    "\n",
    "plt.xticks(x_indices, x_labels, rotation=45, ha='right', fontsize=10)\n",
    "plt.ylabel('Accuracy')\n",
    "plt.title('Model Accuracy Comparison')\n",
    "\n",
    "handles = [\n",
    "    plt.Rectangle((0, 0), 1, 1, facecolor='blue', alpha=0.8, edgecolor='black', label='Regressor'),\n",
    "    plt.Rectangle((0, 0), 1, 1, facecolor='green', alpha=0.8, edgecolor='black', label='Classifier')\n",
    "]\n",
    "plt.legend(handles=handles, loc='upper left')\n",
    "\n",
    "plt.grid(axis='y', linestyle='-', alpha=0.5)\n",
    "\n",
    "plt.tight_layout()\n",
    "plt.show()"
   ]
  },
  {
   "cell_type": "markdown",
   "metadata": {},
   "source": [
    "## Save The model"
   ]
  },
  {
   "cell_type": "code",
   "execution_count": 27,
   "metadata": {},
   "outputs": [
    {
     "data": {
      "text/plain": [
       "['trained_model.pkl']"
      ]
     },
     "execution_count": 27,
     "metadata": {},
     "output_type": "execute_result"
    }
   ],
   "source": [
    "joblib.dump(cla_nb_model, 'trained_model.pkl') # TODO: use the best model dinamically"
   ]
  }
 ],
 "metadata": {
  "kernelspec": {
   "display_name": "Python 3",
   "language": "python",
   "name": "python3"
  },
  "language_info": {
   "codemirror_mode": {
    "name": "ipython",
    "version": 3
   },
   "file_extension": ".py",
   "mimetype": "text/x-python",
   "name": "python",
   "nbconvert_exporter": "python",
   "pygments_lexer": "ipython3",
   "version": "3.12.0"
  }
 },
 "nbformat": 4,
 "nbformat_minor": 2
}
