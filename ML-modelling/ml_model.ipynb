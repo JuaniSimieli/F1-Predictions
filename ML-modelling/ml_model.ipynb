{
 "cells": [
  {
   "cell_type": "code",
   "execution_count": 1,
   "metadata": {},
   "outputs": [],
   "source": [
    "import pandas as pd\n",
    "import matplotlib.pyplot as plt\n",
    "import numpy as np\n",
    "import joblib\n",
    "import statistics\n",
    "\n",
    "from sklearn.preprocessing import StandardScaler\n",
    "from sklearn.linear_model import LinearRegression, Lasso, LogisticRegression\n",
    "from sklearn.ensemble import RandomForestRegressor, RandomForestClassifier\n",
    "from sklearn.svm import SVR, SVC\n",
    "from sklearn.tree import DecisionTreeRegressor, DecisionTreeClassifier\n",
    "from sklearn.neighbors import KNeighborsRegressor, KNeighborsClassifier\n",
    "from sklearn.naive_bayes import GaussianNB"
   ]
  },
  {
   "cell_type": "markdown",
   "metadata": {},
   "source": [
    "## Data Preprocess"
   ]
  },
  {
   "cell_type": "code",
   "execution_count": 2,
   "metadata": {},
   "outputs": [
    {
     "data": {
      "application/vnd.microsoft.datawrangler.viewer.v0+json": {
       "columns": [
        {
         "name": "index",
         "rawType": "int64",
         "type": "integer"
        },
        {
         "name": "grid",
         "rawType": "int64",
         "type": "integer"
        },
        {
         "name": "position",
         "rawType": "float64",
         "type": "float"
        },
        {
         "name": "year",
         "rawType": "int64",
         "type": "integer"
        },
        {
         "name": "round",
         "rawType": "int64",
         "type": "integer"
        },
        {
         "name": "driver_age",
         "rawType": "int64",
         "type": "integer"
        },
        {
         "name": "driver_experience",
         "rawType": "int64",
         "type": "integer"
        },
        {
         "name": "driver_constructor_experience",
         "rawType": "int64",
         "type": "integer"
        },
        {
         "name": "driver_wins",
         "rawType": "float64",
         "type": "float"
        },
        {
         "name": "constructor_wins",
         "rawType": "float64",
         "type": "float"
        },
        {
         "name": "driver_points",
         "rawType": "float64",
         "type": "float"
        },
        {
         "name": "driver_standing",
         "rawType": "float64",
         "type": "float"
        },
        {
         "name": "constructor_points",
         "rawType": "float64",
         "type": "float"
        },
        {
         "name": "constructor_standing",
         "rawType": "float64",
         "type": "float"
        },
        {
         "name": "circuit_danger",
         "rawType": "float64",
         "type": "float"
        },
        {
         "name": "driver_albon",
         "rawType": "bool",
         "type": "boolean"
        },
        {
         "name": "driver_alguersuari",
         "rawType": "bool",
         "type": "boolean"
        },
        {
         "name": "driver_alonso",
         "rawType": "bool",
         "type": "boolean"
        },
        {
         "name": "driver_barrichello",
         "rawType": "bool",
         "type": "boolean"
        },
        {
         "name": "driver_bottas",
         "rawType": "bool",
         "type": "boolean"
        },
        {
         "name": "driver_bruno_senna",
         "rawType": "bool",
         "type": "boolean"
        },
        {
         "name": "driver_buemi",
         "rawType": "bool",
         "type": "boolean"
        },
        {
         "name": "driver_button",
         "rawType": "bool",
         "type": "boolean"
        },
        {
         "name": "driver_chilton",
         "rawType": "bool",
         "type": "boolean"
        },
        {
         "name": "driver_ericsson",
         "rawType": "bool",
         "type": "boolean"
        },
        {
         "name": "driver_gasly",
         "rawType": "bool",
         "type": "boolean"
        },
        {
         "name": "driver_giovinazzi",
         "rawType": "bool",
         "type": "boolean"
        },
        {
         "name": "driver_glock",
         "rawType": "bool",
         "type": "boolean"
        },
        {
         "name": "driver_grosjean",
         "rawType": "bool",
         "type": "boolean"
        },
        {
         "name": "driver_gutierrez",
         "rawType": "bool",
         "type": "boolean"
        },
        {
         "name": "driver_hamilton",
         "rawType": "bool",
         "type": "boolean"
        },
        {
         "name": "driver_hulkenberg",
         "rawType": "bool",
         "type": "boolean"
        },
        {
         "name": "driver_jolyon_palmer",
         "rawType": "bool",
         "type": "boolean"
        },
        {
         "name": "driver_jules_bianchi",
         "rawType": "bool",
         "type": "boolean"
        },
        {
         "name": "driver_kevin_magnussen",
         "rawType": "bool",
         "type": "boolean"
        },
        {
         "name": "driver_kobayashi",
         "rawType": "bool",
         "type": "boolean"
        },
        {
         "name": "driver_kovalainen",
         "rawType": "bool",
         "type": "boolean"
        },
        {
         "name": "driver_kubica",
         "rawType": "bool",
         "type": "boolean"
        },
        {
         "name": "driver_kvyat",
         "rawType": "bool",
         "type": "boolean"
        },
        {
         "name": "driver_latifi",
         "rawType": "bool",
         "type": "boolean"
        },
        {
         "name": "driver_leclerc",
         "rawType": "bool",
         "type": "boolean"
        },
        {
         "name": "driver_liuzzi",
         "rawType": "bool",
         "type": "boolean"
        },
        {
         "name": "driver_maldonado",
         "rawType": "bool",
         "type": "boolean"
        },
        {
         "name": "driver_massa",
         "rawType": "bool",
         "type": "boolean"
        },
        {
         "name": "driver_max_verstappen",
         "rawType": "bool",
         "type": "boolean"
        },
        {
         "name": "driver_michael_schumacher",
         "rawType": "bool",
         "type": "boolean"
        },
        {
         "name": "driver_mick_schumacher",
         "rawType": "bool",
         "type": "boolean"
        },
        {
         "name": "driver_nasr",
         "rawType": "bool",
         "type": "boolean"
        },
        {
         "name": "driver_norris",
         "rawType": "bool",
         "type": "boolean"
        },
        {
         "name": "driver_ocon",
         "rawType": "bool",
         "type": "boolean"
        },
        {
         "name": "driver_perez",
         "rawType": "bool",
         "type": "boolean"
        },
        {
         "name": "driver_petrov",
         "rawType": "bool",
         "type": "boolean"
        },
        {
         "name": "driver_piastri",
         "rawType": "bool",
         "type": "boolean"
        },
        {
         "name": "driver_pic",
         "rawType": "bool",
         "type": "boolean"
        },
        {
         "name": "driver_raikkonen",
         "rawType": "bool",
         "type": "boolean"
        },
        {
         "name": "driver_resta",
         "rawType": "bool",
         "type": "boolean"
        },
        {
         "name": "driver_ricciardo",
         "rawType": "bool",
         "type": "boolean"
        },
        {
         "name": "driver_rosberg",
         "rawType": "bool",
         "type": "boolean"
        },
        {
         "name": "driver_russell",
         "rawType": "bool",
         "type": "boolean"
        },
        {
         "name": "driver_sainz",
         "rawType": "bool",
         "type": "boolean"
        },
        {
         "name": "driver_sargeant",
         "rawType": "bool",
         "type": "boolean"
        },
        {
         "name": "driver_stroll",
         "rawType": "bool",
         "type": "boolean"
        },
        {
         "name": "driver_sutil",
         "rawType": "bool",
         "type": "boolean"
        },
        {
         "name": "driver_trulli",
         "rawType": "bool",
         "type": "boolean"
        },
        {
         "name": "driver_tsunoda",
         "rawType": "bool",
         "type": "boolean"
        },
        {
         "name": "driver_vandoorne",
         "rawType": "bool",
         "type": "boolean"
        },
        {
         "name": "driver_vergne",
         "rawType": "bool",
         "type": "boolean"
        },
        {
         "name": "driver_vettel",
         "rawType": "bool",
         "type": "boolean"
        },
        {
         "name": "driver_webber",
         "rawType": "bool",
         "type": "boolean"
        },
        {
         "name": "driver_wehrlein",
         "rawType": "bool",
         "type": "boolean"
        },
        {
         "name": "driver_zhou",
         "rawType": "bool",
         "type": "boolean"
        },
        {
         "name": "circuit_albert_park",
         "rawType": "bool",
         "type": "boolean"
        },
        {
         "name": "circuit_americas",
         "rawType": "bool",
         "type": "boolean"
        },
        {
         "name": "circuit_bahrain",
         "rawType": "bool",
         "type": "boolean"
        },
        {
         "name": "circuit_baku",
         "rawType": "bool",
         "type": "boolean"
        },
        {
         "name": "circuit_buddh",
         "rawType": "bool",
         "type": "boolean"
        },
        {
         "name": "circuit_catalunya",
         "rawType": "bool",
         "type": "boolean"
        },
        {
         "name": "circuit_hockenheimring",
         "rawType": "bool",
         "type": "boolean"
        },
        {
         "name": "circuit_hungaroring",
         "rawType": "bool",
         "type": "boolean"
        },
        {
         "name": "circuit_imola",
         "rawType": "bool",
         "type": "boolean"
        },
        {
         "name": "circuit_interlagos",
         "rawType": "bool",
         "type": "boolean"
        },
        {
         "name": "circuit_istanbul",
         "rawType": "bool",
         "type": "boolean"
        },
        {
         "name": "circuit_jeddah",
         "rawType": "bool",
         "type": "boolean"
        },
        {
         "name": "circuit_losail",
         "rawType": "bool",
         "type": "boolean"
        },
        {
         "name": "circuit_marina_bay",
         "rawType": "bool",
         "type": "boolean"
        },
        {
         "name": "circuit_miami",
         "rawType": "bool",
         "type": "boolean"
        },
        {
         "name": "circuit_monaco",
         "rawType": "bool",
         "type": "boolean"
        },
        {
         "name": "circuit_monza",
         "rawType": "bool",
         "type": "boolean"
        },
        {
         "name": "circuit_mugello",
         "rawType": "bool",
         "type": "boolean"
        },
        {
         "name": "circuit_nurburgring",
         "rawType": "bool",
         "type": "boolean"
        },
        {
         "name": "circuit_red_bull_ring",
         "rawType": "bool",
         "type": "boolean"
        },
        {
         "name": "circuit_ricard",
         "rawType": "bool",
         "type": "boolean"
        },
        {
         "name": "circuit_rodriguez",
         "rawType": "bool",
         "type": "boolean"
        },
        {
         "name": "circuit_sepang",
         "rawType": "bool",
         "type": "boolean"
        },
        {
         "name": "circuit_shanghai",
         "rawType": "bool",
         "type": "boolean"
        },
        {
         "name": "circuit_silverstone",
         "rawType": "bool",
         "type": "boolean"
        },
        {
         "name": "circuit_sochi",
         "rawType": "bool",
         "type": "boolean"
        },
        {
         "name": "circuit_spa",
         "rawType": "bool",
         "type": "boolean"
        },
        {
         "name": "circuit_suzuka",
         "rawType": "bool",
         "type": "boolean"
        },
        {
         "name": "circuit_valencia",
         "rawType": "bool",
         "type": "boolean"
        },
        {
         "name": "circuit_vegas",
         "rawType": "bool",
         "type": "boolean"
        },
        {
         "name": "circuit_villeneuve",
         "rawType": "bool",
         "type": "boolean"
        },
        {
         "name": "circuit_yas_marina",
         "rawType": "bool",
         "type": "boolean"
        },
        {
         "name": "circuit_yeongam",
         "rawType": "bool",
         "type": "boolean"
        },
        {
         "name": "circuit_zandvoort",
         "rawType": "bool",
         "type": "boolean"
        },
        {
         "name": "constructor_alfa",
         "rawType": "bool",
         "type": "boolean"
        },
        {
         "name": "constructor_alphatauri",
         "rawType": "bool",
         "type": "boolean"
        },
        {
         "name": "constructor_alpine",
         "rawType": "bool",
         "type": "boolean"
        },
        {
         "name": "constructor_aston_martin",
         "rawType": "bool",
         "type": "boolean"
        },
        {
         "name": "constructor_caterham",
         "rawType": "bool",
         "type": "boolean"
        },
        {
         "name": "constructor_ferrari",
         "rawType": "bool",
         "type": "boolean"
        },
        {
         "name": "constructor_force_india",
         "rawType": "bool",
         "type": "boolean"
        },
        {
         "name": "constructor_haas",
         "rawType": "bool",
         "type": "boolean"
        },
        {
         "name": "constructor_hrt",
         "rawType": "bool",
         "type": "boolean"
        },
        {
         "name": "constructor_lotus_f1",
         "rawType": "bool",
         "type": "boolean"
        },
        {
         "name": "constructor_lotus_racing",
         "rawType": "bool",
         "type": "boolean"
        },
        {
         "name": "constructor_manor",
         "rawType": "bool",
         "type": "boolean"
        },
        {
         "name": "constructor_marussia",
         "rawType": "bool",
         "type": "boolean"
        },
        {
         "name": "constructor_mclaren",
         "rawType": "bool",
         "type": "boolean"
        },
        {
         "name": "constructor_mercedes",
         "rawType": "bool",
         "type": "boolean"
        },
        {
         "name": "constructor_racing_point",
         "rawType": "bool",
         "type": "boolean"
        },
        {
         "name": "constructor_red_bull",
         "rawType": "bool",
         "type": "boolean"
        },
        {
         "name": "constructor_renault",
         "rawType": "bool",
         "type": "boolean"
        },
        {
         "name": "constructor_sauber",
         "rawType": "bool",
         "type": "boolean"
        },
        {
         "name": "constructor_toro_rosso",
         "rawType": "bool",
         "type": "boolean"
        },
        {
         "name": "constructor_williams",
         "rawType": "bool",
         "type": "boolean"
        }
       ],
       "conversionMethod": "pd.DataFrame",
       "ref": "ad5d8b14-18a8-49d5-aca0-b65e19abc5f0",
       "rows": [
        [
         "0",
         "4",
         "3.0",
         "2010",
         "1",
         "25",
         "52",
         "52",
         "11.0",
         "1.0",
         "0.0",
         "0.0",
         "0.0",
         "0.0",
         "0.66667",
         "False",
         "False",
         "False",
         "False",
         "False",
         "False",
         "False",
         "False",
         "False",
         "False",
         "False",
         "False",
         "False",
         "False",
         "False",
         "True",
         "False",
         "False",
         "False",
         "False",
         "False",
         "False",
         "False",
         "False",
         "False",
         "False",
         "False",
         "False",
         "False",
         "False",
         "False",
         "False",
         "False",
         "False",
         "False",
         "False",
         "False",
         "False",
         "False",
         "False",
         "False",
         "False",
         "False",
         "False",
         "False",
         "False",
         "False",
         "False",
         "False",
         "False",
         "False",
         "False",
         "False",
         "False",
         "False",
         "False",
         "False",
         "False",
         "True",
         "False",
         "False",
         "False",
         "False",
         "False",
         "False",
         "False",
         "False",
         "False",
         "False",
         "False",
         "False",
         "False",
         "False",
         "False",
         "False",
         "False",
         "False",
         "False",
         "False",
         "False",
         "False",
         "False",
         "False",
         "False",
         "False",
         "False",
         "False",
         "False",
         "False",
         "False",
         "False",
         "False",
         "False",
         "False",
         "False",
         "False",
         "False",
         "False",
         "False",
         "False",
         "False",
         "False",
         "False",
         "True",
         "False",
         "False",
         "False",
         "False",
         "False",
         "False",
         "False"
        ],
        [
         "1",
         "5",
         "5.0",
         "2010",
         "1",
         "24",
         "70",
         "0",
         "0.0",
         "0.0",
         "0.0",
         "0.0",
         "0.0",
         "0.0",
         "0.66667",
         "False",
         "False",
         "False",
         "False",
         "False",
         "False",
         "False",
         "False",
         "False",
         "False",
         "False",
         "False",
         "False",
         "False",
         "False",
         "False",
         "False",
         "False",
         "False",
         "False",
         "False",
         "False",
         "False",
         "False",
         "False",
         "False",
         "False",
         "False",
         "False",
         "False",
         "False",
         "False",
         "False",
         "False",
         "False",
         "False",
         "False",
         "False",
         "False",
         "False",
         "False",
         "False",
         "True",
         "False",
         "False",
         "False",
         "False",
         "False",
         "False",
         "False",
         "False",
         "False",
         "False",
         "False",
         "False",
         "False",
         "False",
         "False",
         "True",
         "False",
         "False",
         "False",
         "False",
         "False",
         "False",
         "False",
         "False",
         "False",
         "False",
         "False",
         "False",
         "False",
         "False",
         "False",
         "False",
         "False",
         "False",
         "False",
         "False",
         "False",
         "False",
         "False",
         "False",
         "False",
         "False",
         "False",
         "False",
         "False",
         "False",
         "False",
         "False",
         "False",
         "False",
         "False",
         "False",
         "False",
         "False",
         "False",
         "False",
         "False",
         "False",
         "False",
         "False",
         "False",
         "True",
         "False",
         "False",
         "False",
         "False",
         "False",
         "False"
        ],
        [
         "2",
         "3",
         "1.0",
         "2010",
         "1",
         "28",
         "140",
         "0",
         "21.0",
         "0.0",
         "0.0",
         "0.0",
         "0.0",
         "0.0",
         "0.66667",
         "False",
         "False",
         "True",
         "False",
         "False",
         "False",
         "False",
         "False",
         "False",
         "False",
         "False",
         "False",
         "False",
         "False",
         "False",
         "False",
         "False",
         "False",
         "False",
         "False",
         "False",
         "False",
         "False",
         "False",
         "False",
         "False",
         "False",
         "False",
         "False",
         "False",
         "False",
         "False",
         "False",
         "False",
         "False",
         "False",
         "False",
         "False",
         "False",
         "False",
         "False",
         "False",
         "False",
         "False",
         "False",
         "False",
         "False",
         "False",
         "False",
         "False",
         "False",
         "False",
         "False",
         "False",
         "False",
         "False",
         "False",
         "False",
         "True",
         "False",
         "False",
         "False",
         "False",
         "False",
         "False",
         "False",
         "False",
         "False",
         "False",
         "False",
         "False",
         "False",
         "False",
         "False",
         "False",
         "False",
         "False",
         "False",
         "False",
         "False",
         "False",
         "False",
         "False",
         "False",
         "False",
         "False",
         "False",
         "False",
         "False",
         "False",
         "False",
         "False",
         "False",
         "False",
         "False",
         "True",
         "False",
         "False",
         "False",
         "False",
         "False",
         "False",
         "False",
         "False",
         "False",
         "False",
         "False",
         "False",
         "False",
         "False",
         "False"
        ],
        [
         "3",
         "21",
         "15.0",
         "2010",
         "1",
         "28",
         "52",
         "0",
         "1.0",
         "0.0",
         "0.0",
         "0.0",
         "0.0",
         "0.0",
         "0.66667",
         "False",
         "False",
         "False",
         "False",
         "False",
         "False",
         "False",
         "False",
         "False",
         "False",
         "False",
         "False",
         "False",
         "False",
         "False",
         "False",
         "False",
         "False",
         "False",
         "False",
         "False",
         "True",
         "False",
         "False",
         "False",
         "False",
         "False",
         "False",
         "False",
         "False",
         "False",
         "False",
         "False",
         "False",
         "False",
         "False",
         "False",
         "False",
         "False",
         "False",
         "False",
         "False",
         "False",
         "False",
         "False",
         "False",
         "False",
         "False",
         "False",
         "False",
         "False",
         "False",
         "False",
         "False",
         "False",
         "False",
         "False",
         "False",
         "True",
         "False",
         "False",
         "False",
         "False",
         "False",
         "False",
         "False",
         "False",
         "False",
         "False",
         "False",
         "False",
         "False",
         "False",
         "False",
         "False",
         "False",
         "False",
         "False",
         "False",
         "False",
         "False",
         "False",
         "False",
         "False",
         "False",
         "False",
         "False",
         "False",
         "False",
         "False",
         "False",
         "False",
         "False",
         "False",
         "False",
         "False",
         "False",
         "False",
         "False",
         "False",
         "True",
         "False",
         "False",
         "False",
         "False",
         "False",
         "False",
         "False",
         "False",
         "False",
         "False"
        ],
        [
         "4",
         "9",
         "11.0",
         "2010",
         "1",
         "25",
         "57",
         "0",
         "1.0",
         "0.0",
         "0.0",
         "0.0",
         "0.0",
         "0.0",
         "0.66667",
         "False",
         "False",
         "False",
         "False",
         "False",
         "False",
         "False",
         "False",
         "False",
         "False",
         "False",
         "False",
         "False",
         "False",
         "False",
         "False",
         "False",
         "False",
         "False",
         "False",
         "False",
         "False",
         "True",
         "False",
         "False",
         "False",
         "False",
         "False",
         "False",
         "False",
         "False",
         "False",
         "False",
         "False",
         "False",
         "False",
         "False",
         "False",
         "False",
         "False",
         "False",
         "False",
         "False",
         "False",
         "False",
         "False",
         "False",
         "False",
         "False",
         "False",
         "False",
         "False",
         "False",
         "False",
         "False",
         "False",
         "False",
         "False",
         "True",
         "False",
         "False",
         "False",
         "False",
         "False",
         "False",
         "False",
         "False",
         "False",
         "False",
         "False",
         "False",
         "False",
         "False",
         "False",
         "False",
         "False",
         "False",
         "False",
         "False",
         "False",
         "False",
         "False",
         "False",
         "False",
         "False",
         "False",
         "False",
         "False",
         "False",
         "False",
         "False",
         "False",
         "False",
         "False",
         "False",
         "False",
         "False",
         "False",
         "False",
         "False",
         "False",
         "False",
         "False",
         "False",
         "False",
         "False",
         "False",
         "True",
         "False",
         "False",
         "False"
        ]
       ],
       "shape": {
        "columns": 125,
        "rows": 5
       }
      },
      "text/html": [
       "<div>\n",
       "<style scoped>\n",
       "    .dataframe tbody tr th:only-of-type {\n",
       "        vertical-align: middle;\n",
       "    }\n",
       "\n",
       "    .dataframe tbody tr th {\n",
       "        vertical-align: top;\n",
       "    }\n",
       "\n",
       "    .dataframe thead th {\n",
       "        text-align: right;\n",
       "    }\n",
       "</style>\n",
       "<table border=\"1\" class=\"dataframe\">\n",
       "  <thead>\n",
       "    <tr style=\"text-align: right;\">\n",
       "      <th></th>\n",
       "      <th>grid</th>\n",
       "      <th>position</th>\n",
       "      <th>year</th>\n",
       "      <th>round</th>\n",
       "      <th>driver_age</th>\n",
       "      <th>driver_experience</th>\n",
       "      <th>driver_constructor_experience</th>\n",
       "      <th>driver_wins</th>\n",
       "      <th>constructor_wins</th>\n",
       "      <th>driver_points</th>\n",
       "      <th>...</th>\n",
       "      <th>constructor_manor</th>\n",
       "      <th>constructor_marussia</th>\n",
       "      <th>constructor_mclaren</th>\n",
       "      <th>constructor_mercedes</th>\n",
       "      <th>constructor_racing_point</th>\n",
       "      <th>constructor_red_bull</th>\n",
       "      <th>constructor_renault</th>\n",
       "      <th>constructor_sauber</th>\n",
       "      <th>constructor_toro_rosso</th>\n",
       "      <th>constructor_williams</th>\n",
       "    </tr>\n",
       "  </thead>\n",
       "  <tbody>\n",
       "    <tr>\n",
       "      <th>0</th>\n",
       "      <td>4</td>\n",
       "      <td>3.0</td>\n",
       "      <td>2010</td>\n",
       "      <td>1</td>\n",
       "      <td>25</td>\n",
       "      <td>52</td>\n",
       "      <td>52</td>\n",
       "      <td>11.0</td>\n",
       "      <td>1.0</td>\n",
       "      <td>0.0</td>\n",
       "      <td>...</td>\n",
       "      <td>False</td>\n",
       "      <td>False</td>\n",
       "      <td>True</td>\n",
       "      <td>False</td>\n",
       "      <td>False</td>\n",
       "      <td>False</td>\n",
       "      <td>False</td>\n",
       "      <td>False</td>\n",
       "      <td>False</td>\n",
       "      <td>False</td>\n",
       "    </tr>\n",
       "    <tr>\n",
       "      <th>1</th>\n",
       "      <td>5</td>\n",
       "      <td>5.0</td>\n",
       "      <td>2010</td>\n",
       "      <td>1</td>\n",
       "      <td>24</td>\n",
       "      <td>70</td>\n",
       "      <td>0</td>\n",
       "      <td>0.0</td>\n",
       "      <td>0.0</td>\n",
       "      <td>0.0</td>\n",
       "      <td>...</td>\n",
       "      <td>False</td>\n",
       "      <td>False</td>\n",
       "      <td>False</td>\n",
       "      <td>True</td>\n",
       "      <td>False</td>\n",
       "      <td>False</td>\n",
       "      <td>False</td>\n",
       "      <td>False</td>\n",
       "      <td>False</td>\n",
       "      <td>False</td>\n",
       "    </tr>\n",
       "    <tr>\n",
       "      <th>2</th>\n",
       "      <td>3</td>\n",
       "      <td>1.0</td>\n",
       "      <td>2010</td>\n",
       "      <td>1</td>\n",
       "      <td>28</td>\n",
       "      <td>140</td>\n",
       "      <td>0</td>\n",
       "      <td>21.0</td>\n",
       "      <td>0.0</td>\n",
       "      <td>0.0</td>\n",
       "      <td>...</td>\n",
       "      <td>False</td>\n",
       "      <td>False</td>\n",
       "      <td>False</td>\n",
       "      <td>False</td>\n",
       "      <td>False</td>\n",
       "      <td>False</td>\n",
       "      <td>False</td>\n",
       "      <td>False</td>\n",
       "      <td>False</td>\n",
       "      <td>False</td>\n",
       "    </tr>\n",
       "    <tr>\n",
       "      <th>3</th>\n",
       "      <td>21</td>\n",
       "      <td>15.0</td>\n",
       "      <td>2010</td>\n",
       "      <td>1</td>\n",
       "      <td>28</td>\n",
       "      <td>52</td>\n",
       "      <td>0</td>\n",
       "      <td>1.0</td>\n",
       "      <td>0.0</td>\n",
       "      <td>0.0</td>\n",
       "      <td>...</td>\n",
       "      <td>False</td>\n",
       "      <td>False</td>\n",
       "      <td>False</td>\n",
       "      <td>False</td>\n",
       "      <td>False</td>\n",
       "      <td>False</td>\n",
       "      <td>False</td>\n",
       "      <td>False</td>\n",
       "      <td>False</td>\n",
       "      <td>False</td>\n",
       "    </tr>\n",
       "    <tr>\n",
       "      <th>4</th>\n",
       "      <td>9</td>\n",
       "      <td>11.0</td>\n",
       "      <td>2010</td>\n",
       "      <td>1</td>\n",
       "      <td>25</td>\n",
       "      <td>57</td>\n",
       "      <td>0</td>\n",
       "      <td>1.0</td>\n",
       "      <td>0.0</td>\n",
       "      <td>0.0</td>\n",
       "      <td>...</td>\n",
       "      <td>False</td>\n",
       "      <td>False</td>\n",
       "      <td>False</td>\n",
       "      <td>False</td>\n",
       "      <td>False</td>\n",
       "      <td>False</td>\n",
       "      <td>True</td>\n",
       "      <td>False</td>\n",
       "      <td>False</td>\n",
       "      <td>False</td>\n",
       "    </tr>\n",
       "  </tbody>\n",
       "</table>\n",
       "<p>5 rows × 125 columns</p>\n",
       "</div>"
      ],
      "text/plain": [
       "   grid  position  year  round  driver_age  driver_experience  \\\n",
       "0     4       3.0  2010      1          25                 52   \n",
       "1     5       5.0  2010      1          24                 70   \n",
       "2     3       1.0  2010      1          28                140   \n",
       "3    21      15.0  2010      1          28                 52   \n",
       "4     9      11.0  2010      1          25                 57   \n",
       "\n",
       "   driver_constructor_experience  driver_wins  constructor_wins  \\\n",
       "0                             52         11.0               1.0   \n",
       "1                              0          0.0               0.0   \n",
       "2                              0         21.0               0.0   \n",
       "3                              0          1.0               0.0   \n",
       "4                              0          1.0               0.0   \n",
       "\n",
       "   driver_points  ...  constructor_manor  constructor_marussia  \\\n",
       "0            0.0  ...              False                 False   \n",
       "1            0.0  ...              False                 False   \n",
       "2            0.0  ...              False                 False   \n",
       "3            0.0  ...              False                 False   \n",
       "4            0.0  ...              False                 False   \n",
       "\n",
       "   constructor_mclaren  constructor_mercedes  constructor_racing_point  \\\n",
       "0                 True                 False                     False   \n",
       "1                False                  True                     False   \n",
       "2                False                 False                     False   \n",
       "3                False                 False                     False   \n",
       "4                False                 False                     False   \n",
       "\n",
       "   constructor_red_bull  constructor_renault  constructor_sauber  \\\n",
       "0                 False                False               False   \n",
       "1                 False                False               False   \n",
       "2                 False                False               False   \n",
       "3                 False                False               False   \n",
       "4                 False                 True               False   \n",
       "\n",
       "   constructor_toro_rosso  constructor_williams  \n",
       "0                   False                 False  \n",
       "1                   False                 False  \n",
       "2                   False                 False  \n",
       "3                   False                 False  \n",
       "4                   False                 False  \n",
       "\n",
       "[5 rows x 125 columns]"
      ]
     },
     "execution_count": 2,
     "metadata": {},
     "output_type": "execute_result"
    }
   ],
   "source": [
    "df = pd.read_csv('../Data-collection/final_df.csv')\n",
    "df.head()"
   ]
  },
  {
   "cell_type": "code",
   "execution_count": 3,
   "metadata": {},
   "outputs": [],
   "source": [
    "test_df = df[(df['year'] == 2023) | (df['year'] == 2024)].copy()\n",
    "df = df[(df['year'] != 2023) & (df['year'] != 2024)].copy()"
   ]
  },
  {
   "cell_type": "code",
   "execution_count": 4,
   "metadata": {},
   "outputs": [],
   "source": [
    "train_df = df.copy()"
   ]
  },
  {
   "cell_type": "code",
   "execution_count": 5,
   "metadata": {},
   "outputs": [
    {
     "name": "stdout",
     "output_type": "stream",
     "text": [
      "Training Features: (4542, 124), Testing Features: (817, 124)\n",
      "Training Target: (4542,), Testing Target: (817,)\n"
     ]
    }
   ],
   "source": [
    "X_train = train_df.drop(columns=['position'])\n",
    "X_test = test_df.drop(columns=['position'])\n",
    "\n",
    "y_train = train_df['position']\n",
    "y_test = test_df['position']\n",
    "\n",
    "print(f\"Training Features: {X_train.shape}, Testing Features: {X_test.shape}\")\n",
    "print(f\"Training Target: {y_train.shape}, Testing Target: {y_test.shape}\")"
   ]
  },
  {
   "cell_type": "code",
   "execution_count": 6,
   "metadata": {},
   "outputs": [],
   "source": [
    "# Select only numerical columns for scaling\n",
    "numerical_columns = [\n",
    "    'grid', 'driver_age', 'driver_experience', 'driver_constructor_experience',\n",
    "    'driver_points', 'driver_standing', 'constructor_points', \n",
    "    'constructor_standing', 'driver_wins', 'constructor_wins', 'circuit_danger', \n",
    "    'year', 'round'\n",
    "]\n",
    "\n",
    "scaler = StandardScaler()\n",
    "\n",
    "X_train[numerical_columns] = scaler.fit_transform(X_train[numerical_columns])\n",
    "X_test[numerical_columns] = scaler.transform(X_test[numerical_columns])\n",
    "\n",
    "# convert one-hot-encoding columns from True/False to 1/0\n",
    "all_columns = X_train.columns.tolist()\n",
    "one_hot_columns = [col for col in all_columns if col not in numerical_columns]\n",
    "\n",
    "X_train[one_hot_columns] = X_train[one_hot_columns].astype(int)\n",
    "X_test[one_hot_columns] = X_test[one_hot_columns].astype(int)"
   ]
  },
  {
   "cell_type": "markdown",
   "metadata": {},
   "source": [
    "## Testing functions"
   ]
  },
  {
   "cell_type": "markdown",
   "metadata": {},
   "source": [
    "#### Regression"
   ]
  },
  {
   "cell_type": "code",
   "execution_count": 7,
   "metadata": {},
   "outputs": [],
   "source": [
    "def accuracy_regression(trained_model): \n",
    "    \n",
    "    df = test_df.copy()\n",
    "    round_years = df['year'].unique()\n",
    "    accuracy = []\n",
    "\n",
    "    for round_year in round_years:\n",
    "        df_current_year = df[df['year'] == round_year].copy()\n",
    "        round_numbers = df_current_year['round'].unique()\n",
    "        for round_number in round_numbers:\n",
    "            df_current_round = df_current_year[df_current_year['round'] == round_number].copy()\n",
    "\n",
    "            df_current_round[numerical_columns] = scaler.transform(df_current_round[numerical_columns])\n",
    "\n",
    "            # Convert one-hot encoding columns from boolean to int\n",
    "            one_hot_columns = [col for col in df_current_round.columns if df_current_round[col].dtype == 'bool']\n",
    "            df_current_round[one_hot_columns] = df_current_round[one_hot_columns].astype(int)\n",
    "\n",
    "            X_test_current_round = df_current_round.drop(columns=['position'])\n",
    "\n",
    "            predictions_df = pd.DataFrame({'predicted_position': trained_model.predict(X_test_current_round)}) # Make predictions\n",
    "            predictions_df.index = df_current_round.index # Ensure the indices align for merging\n",
    "            df_current_round = pd.concat([df_current_round, predictions_df], axis=1) # Merge predictions back into the original DataFrame\n",
    "        \n",
    "            # Identify the predicted winner\n",
    "            predicted_winner_idx = df_current_round['predicted_position'].idxmin()\n",
    "            predicted_winner_row = df_current_round.loc[predicted_winner_idx]\n",
    "            predicted_winner_name = next(col for col in one_hot_columns if predicted_winner_row[col] == 1)\n",
    "            predicted_winner_name = predicted_winner_name.replace(\"driver_\", \"\").replace(\"_\", \" \").title()\n",
    "            predicted_winner_name = predicted_winner_name.split()[-1]\n",
    "        \n",
    "            # Identify the actual winner\n",
    "            actual_winner_row = df_current_round[df_current_round['position'] == 1.0]\n",
    "            if not actual_winner_row.empty:\n",
    "                actual_winner_name = next(col for col in one_hot_columns if actual_winner_row.iloc[0][col] == 1)\n",
    "                actual_winner_name = actual_winner_name.replace(\"driver_\", \"\").replace(\"_\", \" \").title()\n",
    "                actual_winner_name = actual_winner_name.split()[-1]\n",
    "            else:\n",
    "                actual_winner_name = \"NaN\"\n",
    "\n",
    "            accuracy.append(predicted_winner_name == actual_winner_name)\n",
    "\n",
    "    return statistics.mean(accuracy)"
   ]
  },
  {
   "cell_type": "markdown",
   "metadata": {},
   "source": [
    "#### Classification"
   ]
  },
  {
   "cell_type": "code",
   "execution_count": 8,
   "metadata": {},
   "outputs": [],
   "source": [
    "test_df_c = test_df.copy()\n",
    "test_df_c['position'] = test_df_c['position'].apply(lambda x: 1 if x == 1.0 else 0)"
   ]
  },
  {
   "cell_type": "code",
   "execution_count": 9,
   "metadata": {},
   "outputs": [],
   "source": [
    "def accuracy_classification(trained_model):\n",
    "\n",
    "    df = test_df_c.copy()\n",
    "    round_years = df['year'].unique()\n",
    "    accuracy = []\n",
    "\n",
    "    for round_year in round_years:\n",
    "        df_current_year = df[df['year'] == round_year].copy()\n",
    "        round_numbers = df_current_year['round'].unique()\n",
    "        for round_number in round_numbers:\n",
    "            df_current_round = df_current_year[df_current_year['round'] == round_number].copy()\n",
    "\n",
    "            df_current_round[numerical_columns] = scaler.transform(df_current_round[numerical_columns])\n",
    "\n",
    "            # Convert one-hot encoding columns from boolean to int\n",
    "            one_hot_columns = [col for col in df_current_round.columns if df_current_round[col].dtype == 'bool']\n",
    "            df_current_round[one_hot_columns] = df_current_round[one_hot_columns].astype(int)\n",
    "            \n",
    "            X_test_current_round = df_current_round.drop(columns=['position'])\n",
    "\n",
    "            # Get probabilities and predictions    \n",
    "            probabilities = trained_model.predict_proba(X_test_current_round)  # Probabilities for each class\n",
    "            predicted_class = trained_model.predict(X_test_current_round)  # Predicted class (1 or 0)\n",
    "\n",
    "            df_current_round = df_current_round.copy()\n",
    "\n",
    "            # Add probabilities and predictions to the DataFrame\n",
    "            df_current_round['probability_winner'] = probabilities[:, 1]  # Probability for class `1` (winner)\n",
    "            df_current_round['predicted_class'] = predicted_class\n",
    "\n",
    "            # Identify the predicted winner\n",
    "            if (df_current_round['predicted_class'] == 1).sum() > 1:\n",
    "                # If multiple winners, choose the one with the highest probability\n",
    "                predicted_winner_idx = df_current_round[df_current_round['predicted_class'] == 1]['probability_winner'].idxmax()\n",
    "            elif (df_current_round['predicted_class'] == 1).sum() == 1:\n",
    "                # If only one winner\n",
    "                predicted_winner_idx = df_current_round[df_current_round['predicted_class'] == 1].index[0]\n",
    "            else:\n",
    "                # If no winners, assign default values\n",
    "                predicted_winner_idx = None\n",
    "        \n",
    "            if predicted_winner_idx is not None:\n",
    "                predicted_winner_row = df_current_round.loc[predicted_winner_idx]\n",
    "                predicted_winner_name = next(col for col in one_hot_columns if predicted_winner_row[col] == 1)\n",
    "                predicted_winner_name = predicted_winner_name.replace(\"driver_\", \"\").replace(\"_\", \" \").title()\n",
    "                predicted_winner_name = predicted_winner_name.split()[-1]\n",
    "            else:\n",
    "                predicted_winner_name = \"--\"\n",
    "\n",
    "            # Identify the actual winner\n",
    "            actual_winner_row = df_current_round[df_current_round['position'] == 1.0]\n",
    "            if not actual_winner_row.empty:\n",
    "                actual_winner_name = next(col for col in one_hot_columns if actual_winner_row.iloc[0][col] == 1)\n",
    "                actual_winner_name = actual_winner_name.replace(\"driver_\", \"\").replace(\"_\", \" \").title()\n",
    "                actual_winner_name = actual_winner_name.split()[-1]\n",
    "            else:\n",
    "                actual_winner_name = \"NaN\"\n",
    "\n",
    "            accuracy.append(predicted_winner_name == actual_winner_name)\n",
    "    \n",
    "    return statistics.mean(accuracy)"
   ]
  },
  {
   "cell_type": "markdown",
   "metadata": {},
   "source": [
    "## Regression Approach"
   ]
  },
  {
   "cell_type": "markdown",
   "metadata": {},
   "source": [
    "#### Linear Regression"
   ]
  },
  {
   "cell_type": "code",
   "execution_count": 10,
   "metadata": {},
   "outputs": [
    {
     "name": "stdout",
     "output_type": "stream",
     "text": [
      "Best Model Parameters:\n",
      "{'fit_intercept': False}\n",
      "Model Winner Accuracy: 17.39%\n"
     ]
    }
   ],
   "source": [
    "params = {'fit_intercept': [True, False]} \n",
    "\n",
    "best_params = {} \n",
    "\n",
    "best_score = -1.0\n",
    "best_model = None\n",
    "\n",
    "for fit_intercept in params['fit_intercept']:\n",
    "\n",
    "    current_model = LinearRegression(fit_intercept=fit_intercept)\n",
    "    current_model.fit(X_train, y_train)\n",
    "    \n",
    "    current_score = accuracy_regression(current_model)\n",
    "    \n",
    "    if current_score > best_score:\n",
    "        best_score = current_score\n",
    "        best_model = current_model\n",
    "        best_params['fit_intercept'] = fit_intercept\n",
    "\n",
    "reg_lr_model = best_model\n",
    "\n",
    "print(\"Best Model Parameters:\")\n",
    "print(best_params)\n",
    "print(f\"Model Winner Accuracy: {best_score:.2%}\")"
   ]
  },
  {
   "cell_type": "markdown",
   "metadata": {},
   "source": [
    "#### Random Forest"
   ]
  },
  {
   "cell_type": "code",
   "execution_count": 11,
   "metadata": {},
   "outputs": [
    {
     "name": "stdout",
     "output_type": "stream",
     "text": [
      "Best Model Parameters:\n",
      "{'n_estimators': 100, 'criterion': 'absolute_error', 'max_features': 'sqrt'}\n",
      "Model Winner Accuracy: 69.57%\n"
     ]
    }
   ],
   "source": [
    "params={'n_estimators': [10, 50, 100],\n",
    "        'criterion': ['squared_error', 'absolute_error', 'friedman_mse', 'poisson'],\n",
    "        'max_features': [0.8, 'sqrt', 'log2', None]}\n",
    "\n",
    "best_params = {} \n",
    "\n",
    "best_score = -1.0\n",
    "best_model = None\n",
    "\n",
    "for n_estimators in params['n_estimators']:\n",
    "    for criterion in params['criterion']:\n",
    "        for max_features in params['max_features']:\n",
    "\n",
    "            current_model = RandomForestRegressor(n_estimators=n_estimators,\n",
    "                                                criterion = criterion,\n",
    "                                                max_features = max_features, \n",
    "                                                random_state = 1)\n",
    "            current_model.fit(X_train, y_train)\n",
    "\n",
    "            current_score = accuracy_regression(current_model)\n",
    "    \n",
    "            if current_score > best_score:\n",
    "                best_score = current_score\n",
    "                best_model = current_model\n",
    "                best_params['n_estimators'] = n_estimators\n",
    "                best_params['criterion'] = criterion\n",
    "                best_params['max_features'] = max_features\n",
    "\n",
    "\n",
    "reg_rf_model = best_model\n",
    "\n",
    "print(\"Best Model Parameters:\")\n",
    "print(best_params)\n",
    "print(f\"Model Winner Accuracy: {best_score:.2%}\")"
   ]
  },
  {
   "cell_type": "markdown",
   "metadata": {},
   "source": [
    "#### Support Vector Machines (SVM)"
   ]
  },
  {
   "cell_type": "code",
   "execution_count": 12,
   "metadata": {},
   "outputs": [
    {
     "name": "stdout",
     "output_type": "stream",
     "text": [
      "Best Model Parameters:\n",
      "{'kernel': 'rbf', 'gamma': 'auto'}\n",
      "Model Winner Accuracy: 58.70%\n"
     ]
    }
   ],
   "source": [
    "params = {'kernel': ['linear', 'poly', 'rbf', 'sigmoid'],\n",
    "          'gamma': ['scale', 'auto']}\n",
    "\n",
    "best_params = {} \n",
    "\n",
    "best_score = -1.0\n",
    "best_model = None\n",
    "\n",
    "for kernel in params['kernel']:\n",
    "    for gamma in params['gamma']:\n",
    "\n",
    "        current_model = SVR(kernel=kernel, gamma=gamma)\n",
    "        current_model.fit(X_train, y_train)\n",
    "\n",
    "        current_score = accuracy_regression(current_model)\n",
    "    \n",
    "        if current_score > best_score:\n",
    "            best_score = current_score\n",
    "            best_model = current_model\n",
    "            best_params['kernel'] = kernel\n",
    "            best_params['gamma'] = gamma\n",
    "\n",
    "reg_svm_model = best_model\n",
    "\n",
    "print(\"Best Model Parameters:\")\n",
    "print(best_params)\n",
    "print(f\"Model Winner Accuracy: {best_score:.2%}\")"
   ]
  },
  {
   "cell_type": "markdown",
   "metadata": {},
   "source": [
    "#### Decision Tree"
   ]
  },
  {
   "cell_type": "code",
   "execution_count": 13,
   "metadata": {},
   "outputs": [
    {
     "name": "stdout",
     "output_type": "stream",
     "text": [
      "Best Model Parameters:\n",
      "{'criterion': 'friedman_mse', 'splitter': 'random', 'max_features': None}\n",
      "Model Winner Accuracy: 52.17%\n"
     ]
    }
   ],
   "source": [
    "params = {\n",
    "    'criterion': ['squared_error', 'friedman_mse', 'absolute_error', 'poisson'],\n",
    "    'splitter': ['best', 'random'],\n",
    "    'max_features': ['sqrt', 'log2', None]\n",
    "    }\n",
    "\n",
    "best_params = {} \n",
    "\n",
    "best_score = -1.0\n",
    "best_model = None\n",
    "\n",
    "for criterion in params['criterion']:\n",
    "    for splitter in params['splitter']:\n",
    "        for max_features in params['max_features']:\n",
    "\n",
    "            current_model = DecisionTreeRegressor(criterion=criterion, splitter=splitter, max_features=max_features)\n",
    "            current_model.fit(X_train, y_train)\n",
    "\n",
    "            current_score = accuracy_regression(current_model)\n",
    "    \n",
    "            if current_score > best_score:\n",
    "                best_score = current_score\n",
    "                best_model = current_model\n",
    "                best_params['criterion'] = criterion\n",
    "                best_params['splitter'] = splitter\n",
    "                best_params['max_features'] = max_features\n",
    "\n",
    "\n",
    "\n",
    "reg_dt_model = best_model\n",
    "\n",
    "print(\"Best Model Parameters:\")\n",
    "print(best_params)\n",
    "print(f\"Model Winner Accuracy: {best_score:.2%}\")"
   ]
  },
  {
   "cell_type": "markdown",
   "metadata": {},
   "source": [
    "#### K-Nearest Neighbor (KNN)"
   ]
  },
  {
   "cell_type": "code",
   "execution_count": 14,
   "metadata": {},
   "outputs": [
    {
     "name": "stdout",
     "output_type": "stream",
     "text": [
      "Best Model Parameters:\n",
      "{'n_neighbors': 7, 'weights': 'distance', 'algorithm': 'auto'}\n",
      "Model Winner Accuracy: 65.22%\n"
     ]
    }
   ],
   "source": [
    "params = {\n",
    "    'n_neighbors': [1, 2, 3, 5, 7, 10],\n",
    "    'weights': ['uniform', 'distance', None],\n",
    "    'algorithm': ['auto', 'ball_tree', 'kd_tree', 'brute']\n",
    "}\n",
    "\n",
    "best_params = {} \n",
    "\n",
    "best_score = -1.0\n",
    "best_model = None\n",
    "\n",
    "for n_neighbors in params['n_neighbors']:\n",
    "    for weights in params['weights']:\n",
    "        for algorithm in params['algorithm']:\n",
    "\n",
    "            current_model = KNeighborsRegressor(n_neighbors=n_neighbors, weights=weights, algorithm=algorithm)\n",
    "            current_model.fit(X_train, y_train)\n",
    "\n",
    "            current_score = accuracy_regression(current_model)\n",
    "    \n",
    "            if current_score > best_score:\n",
    "                best_score = current_score\n",
    "                best_model = current_model\n",
    "                best_params['n_neighbors'] = n_neighbors\n",
    "                best_params['weights'] = weights\n",
    "                best_params['algorithm'] = algorithm\n",
    "\n",
    "reg_knn_model = best_model\n",
    "\n",
    "print(\"Best Model Parameters:\")\n",
    "print(best_params)\n",
    "print(f\"Model Winner Accuracy: {best_score:.2%}\")"
   ]
  },
  {
   "cell_type": "markdown",
   "metadata": {},
   "source": [
    "#### Lasso"
   ]
  },
  {
   "cell_type": "code",
   "execution_count": 15,
   "metadata": {},
   "outputs": [
    {
     "name": "stdout",
     "output_type": "stream",
     "text": [
      "Best Model Parameters:\n",
      "{'alpha': 0.1, 'fit_intercept': True, 'max_iter': 500, 'selection': 'cyclic'}\n",
      "Model Winner Accuracy: 67.39%\n"
     ]
    }
   ],
   "source": [
    "params = {'alpha': [0.1, 0.2, 0.3, 0.5, 1.0, 2.0, 3.0],\n",
    "          'fit_intercept': [True, False],\n",
    "          'max_iter': [500, 1000, 2000],\n",
    "          'selection': ['cyclic', 'random']}\n",
    "\n",
    "best_params = {} \n",
    "\n",
    "best_score = -1.0\n",
    "best_model = None\n",
    "\n",
    "for alpha in params['alpha']:\n",
    "    for fit_intercept in params['fit_intercept']:\n",
    "        for max_iter in params['max_iter']:\n",
    "            for selection in params['selection']:\n",
    "\n",
    "                current_model = Lasso(alpha=alpha, fit_intercept=fit_intercept, max_iter=max_iter, selection=selection)\n",
    "                current_model.fit(X_train, y_train)\n",
    "\n",
    "                current_score = accuracy_regression(current_model)\n",
    "\n",
    "                if current_score > best_score:\n",
    "                    best_score = current_score\n",
    "                    best_model = current_model\n",
    "                    best_params['alpha'] = alpha\n",
    "                    best_params['fit_intercept'] = fit_intercept\n",
    "                    best_params['max_iter'] = max_iter\n",
    "                    best_params['selection'] = selection\n",
    "\n",
    "\n",
    "reg_lasso_model = best_model\n",
    "\n",
    "print(\"Best Model Parameters:\")\n",
    "print(best_params)\n",
    "print(f\"Model Winner Accuracy: {best_score:.2%}\")"
   ]
  },
  {
   "cell_type": "markdown",
   "metadata": {},
   "source": [
    "## Classification Approach"
   ]
  },
  {
   "cell_type": "code",
   "execution_count": 16,
   "metadata": {},
   "outputs": [],
   "source": [
    "y_train_c = y_train.copy()\n",
    "y_test_c = y_test.copy()\n",
    "y_train_c = y_train_c.apply(lambda x: 1 if x == 1 else 0)\n",
    "y_test_c = y_test_c.apply(lambda x: 1 if x == 1 else 0)"
   ]
  },
  {
   "cell_type": "markdown",
   "metadata": {},
   "source": [
    "#### Logistic Regression "
   ]
  },
  {
   "cell_type": "code",
   "execution_count": 17,
   "metadata": {},
   "outputs": [
    {
     "name": "stderr",
     "output_type": "stream",
     "text": [
      "/Library/Frameworks/Python.framework/Versions/3.12/lib/python3.12/site-packages/sklearn/linear_model/_glm/_newton_solver.py:497: LinAlgWarning: The inner solver of NewtonCholeskySolver stumbled upon a singular or very ill-conditioned Hessian matrix at iteration #1. It will now resort to lbfgs instead.\n",
      "Further options are to use another solver or to avoid such situation in the first place. Possible remedies are removing collinear features of X or increasing the penalization strengths.\n",
      "The original Linear Algebra message was:\n",
      "Matrix is singular.\n",
      "  warnings.warn(\n",
      "/Library/Frameworks/Python.framework/Versions/3.12/lib/python3.12/site-packages/sklearn/linear_model/_glm/_newton_solver.py:497: LinAlgWarning: The inner solver of NewtonCholeskySolver stumbled upon a singular or very ill-conditioned Hessian matrix at iteration #1. It will now resort to lbfgs instead.\n",
      "Further options are to use another solver or to avoid such situation in the first place. Possible remedies are removing collinear features of X or increasing the penalization strengths.\n",
      "The original Linear Algebra message was:\n",
      "Matrix is singular.\n",
      "  warnings.warn(\n",
      "/Library/Frameworks/Python.framework/Versions/3.12/lib/python3.12/site-packages/sklearn/linear_model/_glm/_newton_solver.py:497: LinAlgWarning: The inner solver of NewtonCholeskySolver stumbled upon a singular or very ill-conditioned Hessian matrix at iteration #1. It will now resort to lbfgs instead.\n",
      "Further options are to use another solver or to avoid such situation in the first place. Possible remedies are removing collinear features of X or increasing the penalization strengths.\n",
      "The original Linear Algebra message was:\n",
      "Matrix is singular.\n",
      "  warnings.warn(\n",
      "/Library/Frameworks/Python.framework/Versions/3.12/lib/python3.12/site-packages/sklearn/linear_model/_glm/_newton_solver.py:497: LinAlgWarning: The inner solver of NewtonCholeskySolver stumbled upon a singular or very ill-conditioned Hessian matrix at iteration #1. It will now resort to lbfgs instead.\n",
      "Further options are to use another solver or to avoid such situation in the first place. Possible remedies are removing collinear features of X or increasing the penalization strengths.\n",
      "The original Linear Algebra message was:\n",
      "Matrix is singular.\n",
      "  warnings.warn(\n",
      "/Library/Frameworks/Python.framework/Versions/3.12/lib/python3.12/site-packages/sklearn/linear_model/_glm/_newton_solver.py:497: LinAlgWarning: The inner solver of NewtonCholeskySolver stumbled upon a singular or very ill-conditioned Hessian matrix at iteration #1. It will now resort to lbfgs instead.\n",
      "Further options are to use another solver or to avoid such situation in the first place. Possible remedies are removing collinear features of X or increasing the penalization strengths.\n",
      "The original Linear Algebra message was:\n",
      "Matrix is singular.\n",
      "  warnings.warn(\n",
      "/Library/Frameworks/Python.framework/Versions/3.12/lib/python3.12/site-packages/sklearn/linear_model/_glm/_newton_solver.py:497: LinAlgWarning: The inner solver of NewtonCholeskySolver stumbled upon a singular or very ill-conditioned Hessian matrix at iteration #1. It will now resort to lbfgs instead.\n",
      "Further options are to use another solver or to avoid such situation in the first place. Possible remedies are removing collinear features of X or increasing the penalization strengths.\n",
      "The original Linear Algebra message was:\n",
      "Matrix is singular.\n",
      "  warnings.warn(\n",
      "/Library/Frameworks/Python.framework/Versions/3.12/lib/python3.12/site-packages/sklearn/linear_model/_sag.py:349: ConvergenceWarning: The max_iter was reached which means the coef_ did not converge\n",
      "  warnings.warn(\n",
      "/Library/Frameworks/Python.framework/Versions/3.12/lib/python3.12/site-packages/sklearn/linear_model/_sag.py:349: ConvergenceWarning: The max_iter was reached which means the coef_ did not converge\n",
      "  warnings.warn(\n",
      "/Library/Frameworks/Python.framework/Versions/3.12/lib/python3.12/site-packages/sklearn/linear_model/_sag.py:349: ConvergenceWarning: The max_iter was reached which means the coef_ did not converge\n",
      "  warnings.warn(\n",
      "/Library/Frameworks/Python.framework/Versions/3.12/lib/python3.12/site-packages/sklearn/linear_model/_sag.py:349: ConvergenceWarning: The max_iter was reached which means the coef_ did not converge\n",
      "  warnings.warn(\n",
      "/Library/Frameworks/Python.framework/Versions/3.12/lib/python3.12/site-packages/sklearn/linear_model/_sag.py:349: ConvergenceWarning: The max_iter was reached which means the coef_ did not converge\n",
      "  warnings.warn(\n",
      "/Library/Frameworks/Python.framework/Versions/3.12/lib/python3.12/site-packages/sklearn/linear_model/_sag.py:349: ConvergenceWarning: The max_iter was reached which means the coef_ did not converge\n",
      "  warnings.warn(\n",
      "/Library/Frameworks/Python.framework/Versions/3.12/lib/python3.12/site-packages/sklearn/linear_model/_sag.py:349: ConvergenceWarning: The max_iter was reached which means the coef_ did not converge\n",
      "  warnings.warn(\n",
      "/Library/Frameworks/Python.framework/Versions/3.12/lib/python3.12/site-packages/sklearn/linear_model/_sag.py:349: ConvergenceWarning: The max_iter was reached which means the coef_ did not converge\n",
      "  warnings.warn(\n",
      "/Library/Frameworks/Python.framework/Versions/3.12/lib/python3.12/site-packages/sklearn/linear_model/_sag.py:349: ConvergenceWarning: The max_iter was reached which means the coef_ did not converge\n",
      "  warnings.warn(\n",
      "/Library/Frameworks/Python.framework/Versions/3.12/lib/python3.12/site-packages/sklearn/linear_model/_sag.py:349: ConvergenceWarning: The max_iter was reached which means the coef_ did not converge\n",
      "  warnings.warn(\n",
      "/Library/Frameworks/Python.framework/Versions/3.12/lib/python3.12/site-packages/sklearn/linear_model/_sag.py:349: ConvergenceWarning: The max_iter was reached which means the coef_ did not converge\n",
      "  warnings.warn(\n",
      "/Library/Frameworks/Python.framework/Versions/3.12/lib/python3.12/site-packages/sklearn/linear_model/_sag.py:349: ConvergenceWarning: The max_iter was reached which means the coef_ did not converge\n",
      "  warnings.warn(\n",
      "/Library/Frameworks/Python.framework/Versions/3.12/lib/python3.12/site-packages/sklearn/linear_model/_logistic.py:469: ConvergenceWarning: lbfgs failed to converge (status=1):\n",
      "STOP: TOTAL NO. of ITERATIONS REACHED LIMIT.\n",
      "\n",
      "Increase the number of iterations (max_iter) or scale the data as shown in:\n",
      "    https://scikit-learn.org/stable/modules/preprocessing.html\n",
      "Please also refer to the documentation for alternative solver options:\n",
      "    https://scikit-learn.org/stable/modules/linear_model.html#logistic-regression\n",
      "  n_iter_i = _check_optimize_result(\n",
      "/Library/Frameworks/Python.framework/Versions/3.12/lib/python3.12/site-packages/sklearn/linear_model/_glm/_newton_solver.py:497: LinAlgWarning: The inner solver of NewtonCholeskySolver stumbled upon a singular or very ill-conditioned Hessian matrix at iteration #1. It will now resort to lbfgs instead.\n",
      "Further options are to use another solver or to avoid such situation in the first place. Possible remedies are removing collinear features of X or increasing the penalization strengths.\n",
      "The original Linear Algebra message was:\n",
      "Matrix is singular.\n",
      "  warnings.warn(\n",
      "/Library/Frameworks/Python.framework/Versions/3.12/lib/python3.12/site-packages/sklearn/linear_model/_glm/_newton_solver.py:497: LinAlgWarning: The inner solver of NewtonCholeskySolver stumbled upon a singular or very ill-conditioned Hessian matrix at iteration #1. It will now resort to lbfgs instead.\n",
      "Further options are to use another solver or to avoid such situation in the first place. Possible remedies are removing collinear features of X or increasing the penalization strengths.\n",
      "The original Linear Algebra message was:\n",
      "Matrix is singular.\n",
      "  warnings.warn(\n",
      "/Library/Frameworks/Python.framework/Versions/3.12/lib/python3.12/site-packages/sklearn/linear_model/_glm/_newton_solver.py:194: ConvergenceWarning: lbfgs failed to converge (status=1):\n",
      "STOP: TOTAL NO. of ITERATIONS REACHED LIMIT.\n",
      "\n",
      "Increase the number of iterations (max_iter) or scale the data as shown in:\n",
      "    https://scikit-learn.org/stable/modules/preprocessing.html\n",
      "  self.n_iter_ = _check_optimize_result(\"lbfgs\", opt_res)\n",
      "/Library/Frameworks/Python.framework/Versions/3.12/lib/python3.12/site-packages/sklearn/linear_model/_glm/_newton_solver.py:497: LinAlgWarning: The inner solver of NewtonCholeskySolver stumbled upon a singular or very ill-conditioned Hessian matrix at iteration #1. It will now resort to lbfgs instead.\n",
      "Further options are to use another solver or to avoid such situation in the first place. Possible remedies are removing collinear features of X or increasing the penalization strengths.\n",
      "The original Linear Algebra message was:\n",
      "Matrix is singular.\n",
      "  warnings.warn(\n",
      "/Library/Frameworks/Python.framework/Versions/3.12/lib/python3.12/site-packages/sklearn/linear_model/_glm/_newton_solver.py:497: LinAlgWarning: The inner solver of NewtonCholeskySolver stumbled upon a singular or very ill-conditioned Hessian matrix at iteration #1. It will now resort to lbfgs instead.\n",
      "Further options are to use another solver or to avoid such situation in the first place. Possible remedies are removing collinear features of X or increasing the penalization strengths.\n",
      "The original Linear Algebra message was:\n",
      "Matrix is singular.\n",
      "  warnings.warn(\n",
      "/Library/Frameworks/Python.framework/Versions/3.12/lib/python3.12/site-packages/sklearn/linear_model/_glm/_newton_solver.py:497: LinAlgWarning: The inner solver of NewtonCholeskySolver stumbled upon a singular or very ill-conditioned Hessian matrix at iteration #1. It will now resort to lbfgs instead.\n",
      "Further options are to use another solver or to avoid such situation in the first place. Possible remedies are removing collinear features of X or increasing the penalization strengths.\n",
      "The original Linear Algebra message was:\n",
      "Matrix is singular.\n",
      "  warnings.warn(\n",
      "/Library/Frameworks/Python.framework/Versions/3.12/lib/python3.12/site-packages/sklearn/linear_model/_glm/_newton_solver.py:497: LinAlgWarning: The inner solver of NewtonCholeskySolver stumbled upon a singular or very ill-conditioned Hessian matrix at iteration #1. It will now resort to lbfgs instead.\n",
      "Further options are to use another solver or to avoid such situation in the first place. Possible remedies are removing collinear features of X or increasing the penalization strengths.\n",
      "The original Linear Algebra message was:\n",
      "Matrix is singular.\n",
      "  warnings.warn(\n",
      "/Library/Frameworks/Python.framework/Versions/3.12/lib/python3.12/site-packages/sklearn/linear_model/_sag.py:349: ConvergenceWarning: The max_iter was reached which means the coef_ did not converge\n",
      "  warnings.warn(\n",
      "/Library/Frameworks/Python.framework/Versions/3.12/lib/python3.12/site-packages/sklearn/linear_model/_sag.py:349: ConvergenceWarning: The max_iter was reached which means the coef_ did not converge\n",
      "  warnings.warn(\n",
      "/Library/Frameworks/Python.framework/Versions/3.12/lib/python3.12/site-packages/sklearn/linear_model/_sag.py:349: ConvergenceWarning: The max_iter was reached which means the coef_ did not converge\n",
      "  warnings.warn(\n",
      "/Library/Frameworks/Python.framework/Versions/3.12/lib/python3.12/site-packages/sklearn/linear_model/_sag.py:349: ConvergenceWarning: The max_iter was reached which means the coef_ did not converge\n",
      "  warnings.warn(\n",
      "/Library/Frameworks/Python.framework/Versions/3.12/lib/python3.12/site-packages/sklearn/linear_model/_sag.py:349: ConvergenceWarning: The max_iter was reached which means the coef_ did not converge\n",
      "  warnings.warn(\n",
      "/Library/Frameworks/Python.framework/Versions/3.12/lib/python3.12/site-packages/sklearn/linear_model/_sag.py:349: ConvergenceWarning: The max_iter was reached which means the coef_ did not converge\n",
      "  warnings.warn(\n",
      "/Library/Frameworks/Python.framework/Versions/3.12/lib/python3.12/site-packages/sklearn/linear_model/_sag.py:349: ConvergenceWarning: The max_iter was reached which means the coef_ did not converge\n",
      "  warnings.warn(\n",
      "/Library/Frameworks/Python.framework/Versions/3.12/lib/python3.12/site-packages/sklearn/linear_model/_sag.py:349: ConvergenceWarning: The max_iter was reached which means the coef_ did not converge\n",
      "  warnings.warn(\n",
      "/Library/Frameworks/Python.framework/Versions/3.12/lib/python3.12/site-packages/sklearn/linear_model/_sag.py:349: ConvergenceWarning: The max_iter was reached which means the coef_ did not converge\n",
      "  warnings.warn(\n",
      "/Library/Frameworks/Python.framework/Versions/3.12/lib/python3.12/site-packages/sklearn/linear_model/_sag.py:349: ConvergenceWarning: The max_iter was reached which means the coef_ did not converge\n",
      "  warnings.warn(\n",
      "/Library/Frameworks/Python.framework/Versions/3.12/lib/python3.12/site-packages/sklearn/linear_model/_sag.py:349: ConvergenceWarning: The max_iter was reached which means the coef_ did not converge\n",
      "  warnings.warn(\n",
      "/Library/Frameworks/Python.framework/Versions/3.12/lib/python3.12/site-packages/sklearn/linear_model/_sag.py:349: ConvergenceWarning: The max_iter was reached which means the coef_ did not converge\n",
      "  warnings.warn(\n"
     ]
    },
    {
     "name": "stdout",
     "output_type": "stream",
     "text": [
      "Best Model Parameters:\n",
      "{'penalty': None, 'fit_intercept': False, 'solver': 'sag', 'max_iter': 200, 'class_weight': {0: 1, 1: 20}}\n",
      "Model Winner Accuracy: 60.87%\n"
     ]
    }
   ],
   "source": [
    "params = {'penalty': [None], \n",
    "          'fit_intercept': [True, False],\n",
    "          'solver': ['lbfgs', 'newton-cg', 'newton-cholesky', 'sag', 'saga'],\n",
    "          'max_iter': [200, 500, 1000],\n",
    "          'class_weight': [{0: 1, 1: 20}, 'balanced'] \n",
    "          } # penalty: 'l1', 'l2', 'elasticnet' ; solver: liblinear\n",
    "\n",
    "best_params = {} \n",
    "\n",
    "best_score = -1.0\n",
    "best_model = None\n",
    "\n",
    "for penalty in params['penalty']:\n",
    "    for fit_intercept in params['fit_intercept']:\n",
    "        for solver in params['solver']:\n",
    "            for max_iter in params['max_iter']:\n",
    "                for class_weight in params['class_weight']:\n",
    "\n",
    "                    current_model = LogisticRegression(penalty=penalty, \n",
    "                                                    fit_intercept=fit_intercept, \n",
    "                                                    solver=solver, \n",
    "                                                    class_weight=class_weight, \n",
    "                                                    max_iter=max_iter)\n",
    "                    current_model.fit(X_train, y_train_c)\n",
    "\n",
    "                    current_score = accuracy_classification(current_model)\n",
    "    \n",
    "                    if current_score > best_score:\n",
    "                        best_score = current_score\n",
    "                        best_model = current_model\n",
    "                        best_params['penalty'] = penalty\n",
    "                        best_params['fit_intercept'] = fit_intercept\n",
    "                        best_params['solver'] = solver\n",
    "                        best_params['max_iter'] = max_iter\n",
    "                        best_params['class_weight'] = class_weight\n",
    "\n",
    "cla_lr_model = best_model\n",
    "\n",
    "print(\"Best Model Parameters:\")\n",
    "print(best_params)\n",
    "print(f\"Model Winner Accuracy: {best_score:.2%}\")"
   ]
  },
  {
   "cell_type": "markdown",
   "metadata": {},
   "source": [
    "#### Decision Tree"
   ]
  },
  {
   "cell_type": "code",
   "execution_count": 18,
   "metadata": {},
   "outputs": [
    {
     "name": "stdout",
     "output_type": "stream",
     "text": [
      "Best Model Parameters:\n",
      "{'criterion': 'entropy', 'splitter': 'best', 'max_features': 'sqrt', 'random_state': None, 'class_weight': {0: 1, 1: 20}}\n",
      "Model Winner Accuracy: 56.52%\n"
     ]
    }
   ],
   "source": [
    "params = {\n",
    "    'criterion': ['gini', 'entropy', 'log_loss'],\n",
    "    'splitter': ['best', 'random'],\n",
    "    'max_features': ['sqrt', 'log2', None],\n",
    "    'random_state': [1, None],\n",
    "    'class_weight': [{0: 1, 1: 20}, 'balanced'] \n",
    "}\n",
    "\n",
    "best_params = {} \n",
    "\n",
    "best_score = -1.0\n",
    "best_model = None\n",
    "\n",
    "for criterion in params['criterion']:\n",
    "    for splitter in params['splitter']:\n",
    "        for max_features in params['max_features']:\n",
    "            for random_state in params['random_state']:\n",
    "                for class_weight in params['class_weight']:\n",
    "\n",
    "                    current_model = DecisionTreeClassifier(\n",
    "                        criterion=criterion,\n",
    "                        splitter=splitter,\n",
    "                        max_features=max_features,\n",
    "                        random_state=random_state,\n",
    "                        class_weight=class_weight\n",
    "                    )\n",
    "                    current_model.fit(X_train, y_train_c)\n",
    "\n",
    "                    current_score = accuracy_classification(current_model)\n",
    "    \n",
    "                    if current_score > best_score:\n",
    "                        best_score = current_score\n",
    "                        best_model = current_model\n",
    "                        best_params['criterion'] = criterion\n",
    "                        best_params['splitter'] = splitter\n",
    "                        best_params['max_features'] = max_features\n",
    "                        best_params['random_state'] = random_state\n",
    "                        best_params['class_weight'] = class_weight\n",
    "\n",
    "cla_dt_model = best_model\n",
    "\n",
    "print(\"Best Model Parameters:\")\n",
    "print(best_params)\n",
    "print(f\"Model Winner Accuracy: {best_score:.2%}\")"
   ]
  },
  {
   "cell_type": "markdown",
   "metadata": {},
   "source": [
    "#### Support Vector Machines (SVM)"
   ]
  },
  {
   "cell_type": "code",
   "execution_count": 19,
   "metadata": {},
   "outputs": [
    {
     "name": "stdout",
     "output_type": "stream",
     "text": [
      "Best Model Parameters:\n",
      "{'kernel': 'linear', 'gamma': 'scale', 'class_weight': 'balanced'}\n",
      "Model Winner Accuracy: 60.87%\n"
     ]
    }
   ],
   "source": [
    "params = {\n",
    "    'kernel': ['linear', 'poly', 'rbf', 'sigmoid'],\n",
    "    'gamma': ['scale', 'auto', 0.1, 1], \n",
    "    'class_weight': [{0: 1, 1: 20}, 'balanced'] \n",
    "}\n",
    "\n",
    "best_params = {} \n",
    "\n",
    "best_score = -1.0\n",
    "best_model = None\n",
    "\n",
    "for kernel in params['kernel']:\n",
    "    for gamma in params['gamma']:\n",
    "        for weight in params['class_weight']:\n",
    "            current_model = SVC(\n",
    "                kernel=kernel, \n",
    "                gamma=gamma, \n",
    "                probability=True,\n",
    "                class_weight=weight, \n",
    "                random_state=42\n",
    "            )\n",
    "            current_model.fit(X_train, y_train_c)\n",
    "                \n",
    "            current_score = accuracy_classification(current_model) \n",
    "                \n",
    "            if current_score > best_score:\n",
    "                best_score = current_score\n",
    "                best_model = current_model\n",
    "                best_params['kernel'] = kernel\n",
    "                best_params['gamma'] = gamma\n",
    "                best_params['class_weight'] = class_weight\n",
    "\n",
    "cla_svm_model = best_model\n",
    "\n",
    "print(\"Best Model Parameters:\")\n",
    "print(best_params)\n",
    "print(f\"Model Winner Accuracy: {best_score:.2%}\")"
   ]
  },
  {
   "cell_type": "markdown",
   "metadata": {},
   "source": [
    "#### Random Forest"
   ]
  },
  {
   "cell_type": "code",
   "execution_count": 20,
   "metadata": {},
   "outputs": [
    {
     "name": "stdout",
     "output_type": "stream",
     "text": [
      "Best Model Parameters:\n",
      "{'n_estimators': 50, 'criterion': 'entropy', 'max_features': 'sqrt', 'class_weight': 'balanced_subsample'}\n",
      "Model Winner Accuracy: 54.35%\n"
     ]
    }
   ],
   "source": [
    "params={'n_estimators': [10, 50, 100],\n",
    "        'criterion': ['gini', 'entropy', 'log_loss'],\n",
    "        'max_features': [0.8, 'sqrt', 'log2', None],\n",
    "        'class_weight': [{0: 1, 1: 20}, 'balanced', 'balanced_subsample'] \n",
    "        }\n",
    "\n",
    "best_params = {} \n",
    "\n",
    "best_score = -1.0\n",
    "best_model = None\n",
    "\n",
    "for n_estimators in params['n_estimators']:\n",
    "    for criterion in params['criterion']:\n",
    "        for max_features in params['max_features']:\n",
    "            for class_weight in params['class_weight']:\n",
    "\n",
    "                current_model = RandomForestClassifier(n_estimators=n_estimators,\n",
    "                                                    criterion = criterion,\n",
    "                                                    max_features = max_features, \n",
    "                                                    random_state = 1,\n",
    "                                                    class_weight=class_weight)\n",
    "                current_model.fit(X_train, y_train_c)\n",
    "\n",
    "                current_score = accuracy_classification(current_model)\n",
    "    \n",
    "                if current_score > best_score:\n",
    "                    best_score = current_score\n",
    "                    best_model = current_model\n",
    "                    best_params['n_estimators'] = n_estimators\n",
    "                    best_params['criterion'] = criterion\n",
    "                    best_params['max_features'] = max_features\n",
    "                    best_params['class_weight'] = class_weight\n",
    "\n",
    "cla_rf_model = best_model\n",
    "\n",
    "print(\"Best Model Parameters:\")\n",
    "print(best_params)\n",
    "print(f\"Model Winner Accuracy: {best_score:.2%}\")"
   ]
  },
  {
   "cell_type": "markdown",
   "metadata": {},
   "source": [
    "#### K-Nearest Neighbor (KNN)"
   ]
  },
  {
   "cell_type": "code",
   "execution_count": 21,
   "metadata": {},
   "outputs": [
    {
     "name": "stdout",
     "output_type": "stream",
     "text": [
      "Best Model Parameters:\n",
      "{'n_neighbors': 5, 'weights': 'uniform', 'algorithm': 'auto'}\n",
      "Model Winner Accuracy: 60.87%\n"
     ]
    }
   ],
   "source": [
    "params={\n",
    "    'n_neighbors': [1, 2, 3, 5, 7, 10],\n",
    "    'weights': ['uniform', 'distance', None],\n",
    "    'algorithm': ['auto', 'ball_tree', 'kd_tree', 'brute'] \n",
    "}\n",
    "\n",
    "best_params = {} \n",
    "\n",
    "best_score = -1.0\n",
    "best_model = None\n",
    "\n",
    "for n_neighbors in params['n_neighbors']:\n",
    "    for weights in params['weights']:\n",
    "        for algorithm in params['algorithm']:\n",
    "\n",
    "            current_model = KNeighborsClassifier(n_neighbors=n_neighbors, weights=weights, algorithm=algorithm)\n",
    "            current_model.fit(X_train, y_train_c)\n",
    "\n",
    "            current_score = accuracy_classification(current_model)\n",
    "    \n",
    "            if current_score > best_score:\n",
    "                best_score = current_score\n",
    "                best_model = current_model\n",
    "                best_params['n_neighbors'] = n_neighbors\n",
    "                best_params['weights'] = weights\n",
    "                best_params['algorithm'] = algorithm\n",
    "\n",
    "cla_knn_model = best_model\n",
    "\n",
    "print(\"Best Model Parameters:\")\n",
    "print(best_params)\n",
    "print(f\"Model Winner Accuracy: {best_score:.2%}\")"
   ]
  },
  {
   "cell_type": "markdown",
   "metadata": {},
   "source": [
    "#### Naïve Bayes"
   ]
  },
  {
   "cell_type": "code",
   "execution_count": 22,
   "metadata": {},
   "outputs": [
    {
     "name": "stdout",
     "output_type": "stream",
     "text": [
      "0.043478260869565216\n"
     ]
    }
   ],
   "source": [
    "cla_nb_model = GaussianNB()\n",
    "cla_nb_model.fit(X_train, y_train_c)\n",
    "\n",
    "print(accuracy_classification(cla_nb_model))"
   ]
  },
  {
   "cell_type": "markdown",
   "metadata": {},
   "source": [
    "## Metrics"
   ]
  },
  {
   "cell_type": "markdown",
   "metadata": {},
   "source": [
    "### Regression models"
   ]
  },
  {
   "cell_type": "code",
   "execution_count": 23,
   "metadata": {},
   "outputs": [
    {
     "name": "stderr",
     "output_type": "stream",
     "text": [
      "/var/folders/4z/6wzfzsy94r16_shjk6y6ndmc0000gn/T/ipykernel_20947/4204500874.py:18: FutureWarning: The behavior of DataFrame concatenation with empty or all-NA entries is deprecated. In a future version, this will no longer exclude empty or all-NA columns when determining the result dtypes. To retain the old behavior, exclude the relevant entries before the concat operation.\n",
      "  reg_models_accuracy = pd.concat([reg_models_accuracy, new_row], ignore_index=True)\n"
     ]
    },
    {
     "name": "stdout",
     "output_type": "stream",
     "text": [
      "          model_name  accuracy\n",
      "0  Linear Regression  0.173913\n",
      "1      Random Forest  0.695652\n",
      "2                SVM  0.586957\n",
      "3      Decision Tree  0.521739\n",
      "4                KNN  0.652174\n",
      "5              Lasso  0.673913\n"
     ]
    }
   ],
   "source": [
    "reg_models = [\n",
    "    (\"Linear Regression\", \"reg_lr_model\"),\n",
    "    (\"Random Forest\", \"reg_rf_model\"),\n",
    "    (\"SVM\", \"reg_svm_model\"),\n",
    "    (\"Decision Tree\", \"reg_dt_model\"),\n",
    "    (\"KNN\", \"reg_knn_model\"),\n",
    "    (\"Lasso\", \"reg_lasso_model\")\n",
    "]\n",
    "\n",
    "reg_models_accuracy = pd.DataFrame(columns=['model_name', 'accuracy'])\n",
    "\n",
    "for model_name, model_var_name in reg_models:\n",
    "\n",
    "    model_var = globals()[model_var_name]\n",
    "    model_acc = accuracy_regression(model_var)\n",
    "\n",
    "    new_row = pd.DataFrame({'model_name': [model_name], 'accuracy': [model_acc]})\n",
    "    reg_models_accuracy = pd.concat([reg_models_accuracy, new_row], ignore_index=True)\n",
    "\n",
    "print(reg_models_accuracy)"
   ]
  },
  {
   "cell_type": "markdown",
   "metadata": {},
   "source": [
    "### Classification models"
   ]
  },
  {
   "cell_type": "code",
   "execution_count": 24,
   "metadata": {},
   "outputs": [
    {
     "name": "stderr",
     "output_type": "stream",
     "text": [
      "/var/folders/4z/6wzfzsy94r16_shjk6y6ndmc0000gn/T/ipykernel_20947/66082985.py:17: FutureWarning: The behavior of DataFrame concatenation with empty or all-NA entries is deprecated. In a future version, this will no longer exclude empty or all-NA columns when determining the result dtypes. To retain the old behavior, exclude the relevant entries before the concat operation.\n",
      "  cla_models_accuracy = pd.concat([cla_models_accuracy, new_row], ignore_index=True)\n"
     ]
    },
    {
     "name": "stdout",
     "output_type": "stream",
     "text": [
      "            model_name  accuracy\n",
      "0  Logistic Regression  0.608696\n",
      "1        Decision Tree  0.565217\n",
      "2                  SVM  0.608696\n",
      "3        Random Forest  0.543478\n",
      "4                  KNN  0.608696\n",
      "5          Naïve Bayes  0.043478\n"
     ]
    }
   ],
   "source": [
    "cla_models = [\n",
    "    (\"Logistic Regression\", \"cla_lr_model\"),\n",
    "    (\"Decision Tree\", \"cla_dt_model\"),\n",
    "    (\"SVM\", \"cla_svm_model\"),\n",
    "    (\"Random Forest\", \"cla_rf_model\"),\n",
    "    (\"KNN\", \"cla_knn_model\"),\n",
    "    (\"Naïve Bayes\", \"cla_nb_model\")]\n",
    "\n",
    "cla_models_accuracy = pd.DataFrame(columns=['model_name', 'accuracy'])\n",
    "\n",
    "for model_name, model_var_name in cla_models:\n",
    "\n",
    "    model_var = globals()[model_var_name]\n",
    "    model_acc = accuracy_classification(model_var)\n",
    "\n",
    "    new_row = pd.DataFrame({'model_name': [model_name], 'accuracy': [model_acc]})\n",
    "    cla_models_accuracy = pd.concat([cla_models_accuracy, new_row], ignore_index=True)\n",
    "\n",
    "print(cla_models_accuracy)"
   ]
  },
  {
   "cell_type": "markdown",
   "metadata": {},
   "source": [
    "### Plot comparison"
   ]
  },
  {
   "cell_type": "code",
   "execution_count": 25,
   "metadata": {},
   "outputs": [
    {
     "data": {
      "image/png": "[encoded data removed]",
      "text/plain": [
       "<Figure size 1000x600 with 1 Axes>"
      ]
     },
     "metadata": {},
     "output_type": "display_data"
    }
   ],
   "source": [
    "plt.style.use('dark_background')\n",
    "\n",
    "# Combine both DataFrames into one for easier plotting\n",
    "reg_models_accuracy['type'] = 'Regressor'\n",
    "cla_models_accuracy['type'] = 'Classifier'\n",
    "combined_df = pd.concat([reg_models_accuracy, cla_models_accuracy])\n",
    "\n",
    "x_labels = combined_df['model_name'].values\n",
    "x_indices = np.arange(len(x_labels))\n",
    "bar_colors = combined_df['type'].map({'Regressor': 'blue', 'Classifier': 'green'})\n",
    "\n",
    "plt.figure(figsize=(10, 6))\n",
    "plt.bar(x_indices, combined_df['accuracy'], color=bar_colors, alpha=0.8, edgecolor='black') \n",
    "\n",
    "plt.xticks(x_indices, x_labels, rotation=45, ha='right', fontsize=10, color='white') \n",
    "plt.ylabel('Accuracy', color='white') \n",
    "plt.title('Model Accuracy Comparison', color='white')  \n",
    "\n",
    "handles = [\n",
    "    plt.Rectangle((0, 0), 1, 1, facecolor='blue', alpha=0.8, edgecolor='white', label='Regressor'),\n",
    "    plt.Rectangle((0, 0), 1, 1, facecolor='green', alpha=0.8, edgecolor='white', label='Classifier')\n",
    "]\n",
    "plt.legend(handles=handles, loc='upper right', facecolor='black', edgecolor='white')\n",
    "\n",
    "plt.grid(axis='y', linestyle='-', alpha=0.5, color='gray') \n",
    "\n",
    "plt.tight_layout()\n",
    "plt.savefig('Images/model_accuracy.png', dpi=300, bbox_inches='tight')\n",
    "plt.show()"
   ]
  },
  {
   "cell_type": "markdown",
   "metadata": {},
   "source": [
    "## Save The model & scaler"
   ]
  },
  {
   "cell_type": "code",
   "execution_count": 26,
   "metadata": {},
   "outputs": [
    {
     "data": {
      "text/plain": [
       "['../Streamlit/assets/scaler.pkl']"
      ]
     },
     "execution_count": 26,
     "metadata": {},
     "output_type": "execute_result"
    }
   ],
   "source": [
    "joblib.dump(reg_rf_model, '../Streamlit/assets/model.pkl') # TODO: use the best model dinamically\n",
    "joblib.dump(scaler, '../Streamlit/assets/scaler.pkl')"
   ]
  },
  {
   "cell_type": "code",
   "execution_count": 27,
   "metadata": {},
   "outputs": [],
   "source": [
    "combined_df.to_csv('../Streamlit/assets/ML/ML-models-scores.csv', index=False)"
   ]
  }
 ],
 "metadata": {
  "kernelspec": {
   "display_name": "Python 3",
   "language": "python",
   "name": "python3"
  },
  "language_info": {
   "codemirror_mode": {
    "name": "ipython",
    "version": 3
   },
   "file_extension": ".py",
   "mimetype": "text/x-python",
   "name": "python",
   "nbconvert_exporter": "python",
   "pygments_lexer": "ipython3",
   "version": "3.12.0"
  }
 },
 "nbformat": 4,
 "nbformat_minor": 2
}
