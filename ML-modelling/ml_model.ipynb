{
 "cells": [
  {
   "cell_type": "code",
   "execution_count": 30,
   "metadata": {},
   "outputs": [],
   "source": [
    "import pandas as pd\n",
    "from sklearn.preprocessing import StandardScaler"
   ]
  },
  {
   "cell_type": "code",
   "execution_count": 31,
   "metadata": {},
   "outputs": [
    {
     "data": {
      "text/html": [
       "<div>\n",
       "<style scoped>\n",
       "    .dataframe tbody tr th:only-of-type {\n",
       "        vertical-align: middle;\n",
       "    }\n",
       "\n",
       "    .dataframe tbody tr th {\n",
       "        vertical-align: top;\n",
       "    }\n",
       "\n",
       "    .dataframe thead th {\n",
       "        text-align: right;\n",
       "    }\n",
       "</style>\n",
       "<table border=\"1\" class=\"dataframe\">\n",
       "  <thead>\n",
       "    <tr style=\"text-align: right;\">\n",
       "      <th></th>\n",
       "      <th>grid</th>\n",
       "      <th>position</th>\n",
       "      <th>year</th>\n",
       "      <th>round</th>\n",
       "      <th>driver_age</th>\n",
       "      <th>driver_experience</th>\n",
       "      <th>driver_constructor_experience</th>\n",
       "      <th>driver_points</th>\n",
       "      <th>driver_standing</th>\n",
       "      <th>constructor_points</th>\n",
       "      <th>...</th>\n",
       "      <th>constructorId_205</th>\n",
       "      <th>constructorId_206</th>\n",
       "      <th>constructorId_207</th>\n",
       "      <th>constructorId_208</th>\n",
       "      <th>constructorId_209</th>\n",
       "      <th>constructorId_210</th>\n",
       "      <th>constructorId_211</th>\n",
       "      <th>constructorId_213</th>\n",
       "      <th>constructorId_214</th>\n",
       "      <th>constructorId_215</th>\n",
       "    </tr>\n",
       "  </thead>\n",
       "  <tbody>\n",
       "    <tr>\n",
       "      <th>0</th>\n",
       "      <td>3</td>\n",
       "      <td>1.0</td>\n",
       "      <td>2010</td>\n",
       "      <td>1</td>\n",
       "      <td>28</td>\n",
       "      <td>140</td>\n",
       "      <td>0</td>\n",
       "      <td>0.0</td>\n",
       "      <td>0.0</td>\n",
       "      <td>0.0</td>\n",
       "      <td>...</td>\n",
       "      <td>False</td>\n",
       "      <td>False</td>\n",
       "      <td>False</td>\n",
       "      <td>False</td>\n",
       "      <td>False</td>\n",
       "      <td>False</td>\n",
       "      <td>False</td>\n",
       "      <td>False</td>\n",
       "      <td>False</td>\n",
       "      <td>False</td>\n",
       "    </tr>\n",
       "    <tr>\n",
       "      <th>1</th>\n",
       "      <td>2</td>\n",
       "      <td>2.0</td>\n",
       "      <td>2010</td>\n",
       "      <td>1</td>\n",
       "      <td>28</td>\n",
       "      <td>116</td>\n",
       "      <td>63</td>\n",
       "      <td>0.0</td>\n",
       "      <td>0.0</td>\n",
       "      <td>0.0</td>\n",
       "      <td>...</td>\n",
       "      <td>False</td>\n",
       "      <td>False</td>\n",
       "      <td>False</td>\n",
       "      <td>False</td>\n",
       "      <td>False</td>\n",
       "      <td>False</td>\n",
       "      <td>False</td>\n",
       "      <td>False</td>\n",
       "      <td>False</td>\n",
       "      <td>False</td>\n",
       "    </tr>\n",
       "    <tr>\n",
       "      <th>2</th>\n",
       "      <td>4</td>\n",
       "      <td>3.0</td>\n",
       "      <td>2010</td>\n",
       "      <td>1</td>\n",
       "      <td>25</td>\n",
       "      <td>52</td>\n",
       "      <td>52</td>\n",
       "      <td>0.0</td>\n",
       "      <td>0.0</td>\n",
       "      <td>0.0</td>\n",
       "      <td>...</td>\n",
       "      <td>False</td>\n",
       "      <td>False</td>\n",
       "      <td>False</td>\n",
       "      <td>False</td>\n",
       "      <td>False</td>\n",
       "      <td>False</td>\n",
       "      <td>False</td>\n",
       "      <td>False</td>\n",
       "      <td>False</td>\n",
       "      <td>False</td>\n",
       "    </tr>\n",
       "    <tr>\n",
       "      <th>3</th>\n",
       "      <td>1</td>\n",
       "      <td>4.0</td>\n",
       "      <td>2010</td>\n",
       "      <td>1</td>\n",
       "      <td>22</td>\n",
       "      <td>43</td>\n",
       "      <td>17</td>\n",
       "      <td>0.0</td>\n",
       "      <td>0.0</td>\n",
       "      <td>0.0</td>\n",
       "      <td>...</td>\n",
       "      <td>False</td>\n",
       "      <td>False</td>\n",
       "      <td>False</td>\n",
       "      <td>False</td>\n",
       "      <td>False</td>\n",
       "      <td>False</td>\n",
       "      <td>False</td>\n",
       "      <td>False</td>\n",
       "      <td>False</td>\n",
       "      <td>False</td>\n",
       "    </tr>\n",
       "    <tr>\n",
       "      <th>4</th>\n",
       "      <td>5</td>\n",
       "      <td>5.0</td>\n",
       "      <td>2010</td>\n",
       "      <td>1</td>\n",
       "      <td>24</td>\n",
       "      <td>70</td>\n",
       "      <td>0</td>\n",
       "      <td>0.0</td>\n",
       "      <td>0.0</td>\n",
       "      <td>0.0</td>\n",
       "      <td>...</td>\n",
       "      <td>False</td>\n",
       "      <td>False</td>\n",
       "      <td>False</td>\n",
       "      <td>False</td>\n",
       "      <td>False</td>\n",
       "      <td>False</td>\n",
       "      <td>False</td>\n",
       "      <td>False</td>\n",
       "      <td>False</td>\n",
       "      <td>False</td>\n",
       "    </tr>\n",
       "  </tbody>\n",
       "</table>\n",
       "<p>5 rows × 147 columns</p>\n",
       "</div>"
      ],
      "text/plain": [
       "   grid  position  year  round  driver_age  driver_experience  \\\n",
       "0     3       1.0  2010      1          28                140   \n",
       "1     2       2.0  2010      1          28                116   \n",
       "2     4       3.0  2010      1          25                 52   \n",
       "3     1       4.0  2010      1          22                 43   \n",
       "4     5       5.0  2010      1          24                 70   \n",
       "\n",
       "   driver_constructor_experience  driver_points  driver_standing  \\\n",
       "0                              0            0.0              0.0   \n",
       "1                             63            0.0              0.0   \n",
       "2                             52            0.0              0.0   \n",
       "3                             17            0.0              0.0   \n",
       "4                              0            0.0              0.0   \n",
       "\n",
       "   constructor_points  ...  constructorId_205  constructorId_206  \\\n",
       "0                 0.0  ...              False              False   \n",
       "1                 0.0  ...              False              False   \n",
       "2                 0.0  ...              False              False   \n",
       "3                 0.0  ...              False              False   \n",
       "4                 0.0  ...              False              False   \n",
       "\n",
       "   constructorId_207  constructorId_208  constructorId_209  constructorId_210  \\\n",
       "0              False              False              False              False   \n",
       "1              False              False              False              False   \n",
       "2              False              False              False              False   \n",
       "3              False              False              False              False   \n",
       "4              False              False              False              False   \n",
       "\n",
       "   constructorId_211  constructorId_213  constructorId_214  constructorId_215  \n",
       "0              False              False              False              False  \n",
       "1              False              False              False              False  \n",
       "2              False              False              False              False  \n",
       "3              False              False              False              False  \n",
       "4              False              False              False              False  \n",
       "\n",
       "[5 rows x 147 columns]"
      ]
     },
     "execution_count": 31,
     "metadata": {},
     "output_type": "execute_result"
    }
   ],
   "source": [
    "df = pd.read_csv('../Data-collection/final_df.csv')\n",
    "df.head()"
   ]
  },
  {
   "cell_type": "code",
   "execution_count": 32,
   "metadata": {},
   "outputs": [
    {
     "name": "stdout",
     "output_type": "stream",
     "text": [
      "Training set size: 4473, Testing set size: 783\n"
     ]
    }
   ],
   "source": [
    "# Number of races to include in the test set per season\n",
    "test_races_per_year = 3\n",
    "\n",
    "# Create a train-test split based on races\n",
    "unique_races = df[['year', 'round']].drop_duplicates()\n",
    "test_races = unique_races.groupby('year').sample(n=test_races_per_year, random_state=42)\n",
    "\n",
    "# Mark test races in the dataset\n",
    "df['is_test'] = df[['year', 'round']].apply(\n",
    "    lambda x: tuple(x) in test_races.itertuples(index=False, name=None), axis=1\n",
    ")\n",
    "\n",
    "# Split the data\n",
    "train_df = df[df['is_test'] == False]\n",
    "test_df = df[df['is_test'] == True]\n",
    "\n",
    "train_df = train_df.drop(columns=['is_test'])\n",
    "test_df = test_df.drop(columns=['is_test'])\n",
    "\n",
    "print(f\"Training set size: {len(train_df)}, Testing set size: {len(test_df)}\")"
   ]
  },
  {
   "cell_type": "code",
   "execution_count": 33,
   "metadata": {},
   "outputs": [
    {
     "name": "stdout",
     "output_type": "stream",
     "text": [
      "Training Features: (4473, 146), Testing Features: (783, 146)\n",
      "Training Target: (4473,), Testing Target: (783,)\n"
     ]
    }
   ],
   "source": [
    "X_train = train_df.drop(columns=['position'])\n",
    "X_test = test_df.drop(columns=['position'])\n",
    "\n",
    "y_train = train_df['position']\n",
    "y_test = test_df['position']\n",
    "\n",
    "print(f\"Training Features: {X_train.shape}, Testing Features: {X_test.shape}\")\n",
    "print(f\"Training Target: {y_train.shape}, Testing Target: {y_test.shape}\")"
   ]
  },
  {
   "cell_type": "code",
   "execution_count": 34,
   "metadata": {},
   "outputs": [],
   "source": [
    "# Select only numerical columns for scaling\n",
    "numerical_columns = [\n",
    "    'grid', 'driver_age', 'driver_experience', 'driver_constructor_experience',\n",
    "    'driver_points', 'driver_standing', 'constructor_points', \n",
    "    'constructor_standing', 'driver_wins', 'constructor_wins', 'circuit_danger'\n",
    "]\n",
    "\n",
    "scaler = StandardScaler()\n",
    "\n",
    "X_train[numerical_columns] = scaler.fit_transform(X_train[numerical_columns])\n",
    "X_test[numerical_columns] = scaler.transform(X_test[numerical_columns])"
   ]
  },
  {
   "cell_type": "markdown",
   "metadata": {},
   "source": [
    "## Regression Approach"
   ]
  },
  {
   "cell_type": "code",
   "execution_count": 35,
   "metadata": {},
   "outputs": [],
   "source": [
    "from sklearn.linear_model import LinearRegression\n",
    "reg_lr_model = LinearRegression()\n",
    "reg_lr_model.fit(X_train, y_train)\n",
    "reg_lr_y_test = reg_lr_model.predict(X_test)"
   ]
  },
  {
   "cell_type": "code",
   "execution_count": 36,
   "metadata": {},
   "outputs": [],
   "source": [
    "from sklearn.ensemble import RandomForestRegressor\n",
    "reg_rf_model = RandomForestRegressor(n_estimators=100, random_state=42)\n",
    "reg_rf_model.fit(X_train, y_train)\n",
    "reg_rf_y_test = reg_rf_model.predict(X_test)"
   ]
  },
  {
   "cell_type": "code",
   "execution_count": 37,
   "metadata": {},
   "outputs": [],
   "source": [
    "from sklearn.svm import SVR\n",
    "reg_svm_model = SVR(kernel='linear')  # Adjust `kernel` as needed ('linear', 'rbf', etc.)\n",
    "reg_svm_model.fit(X_train, y_train)\n",
    "reg_svm_y_test = reg_svm_model.predict(X_test)"
   ]
  },
  {
   "cell_type": "code",
   "execution_count": 38,
   "metadata": {},
   "outputs": [],
   "source": [
    "from sklearn.tree import DecisionTreeRegressor\n",
    "reg_dt_model = DecisionTreeRegressor()\n",
    "reg_dt_model.fit(X_train, y_train)\n",
    "reg_dt_y_test = reg_dt_model.predict(X_test)"
   ]
  },
  {
   "cell_type": "code",
   "execution_count": 39,
   "metadata": {},
   "outputs": [],
   "source": [
    "from sklearn.neighbors import KNeighborsRegressor\n",
    "reg_knn_model = KNeighborsRegressor(n_neighbors=5)  # Adjust `n_neighbors` as needed\n",
    "reg_knn_model.fit(X_train, y_train)\n",
    "reg_knn_y_test = reg_knn_model.predict(X_test)"
   ]
  },
  {
   "cell_type": "code",
   "execution_count": 40,
   "metadata": {},
   "outputs": [],
   "source": [
    "from sklearn.linear_model import Lasso\n",
    "reg_lasso_model = Lasso(alpha=0.1)  # alpha controls the regularization strength\n",
    "reg_lasso_model.fit(X_train, y_train)\n",
    "reg_lasso_y_test = reg_lasso_model.predict(X_test)"
   ]
  },
  {
   "cell_type": "markdown",
   "metadata": {},
   "source": [
    "### Evaluations"
   ]
  },
  {
   "cell_type": "code",
   "execution_count": 61,
   "metadata": {},
   "outputs": [
    {
     "name": "stdout",
     "output_type": "stream",
     "text": [
      "---- Linear Regression ----\n",
      " MAE: 9.35\n",
      " RMSE: 107.05\n",
      " R2: -1975.23\n",
      "\n",
      "---- Random Forest ----\n",
      " MAE: 9.39\n",
      " RMSE: 108.59\n",
      " R2: -2003.68\n",
      "\n",
      "---- SVM ----\n",
      " MAE: 9.44\n",
      " RMSE: 114.35\n",
      " R2: -2109.97\n",
      "\n",
      "---- Decision Tree ----\n",
      " MAE: 9.38\n",
      " RMSE: 116.62\n",
      " R2: -2151.93\n",
      "\n",
      "---- KNN ----\n",
      " MAE: 9.26\n",
      " RMSE: 106.53\n",
      " R2: -1965.59\n",
      "\n",
      "---- Lasso ----\n",
      " MAE: 9.32\n",
      " RMSE: 104.24\n",
      " R2: -1923.38\n",
      "\n"
     ]
    }
   ],
   "source": [
    "from sklearn.metrics import mean_absolute_error, mean_squared_error, r2_score\n",
    "\n",
    "reg_models_info = [\n",
    "    (\"Linear Regression\", \"reg_lr_y_test\"),\n",
    "    (\"Random Forest\", \"reg_rf_y_test\"),\n",
    "    (\"SVM\", \"reg_svm_y_test\"),\n",
    "    (\"Decision Tree\", \"reg_dt_y_test\"),\n",
    "    (\"KNN\", \"reg_knn_y_test\"),\n",
    "    (\"Lasso\", \"reg_lasso_y_test\")\n",
    "]\n",
    "\n",
    "for model_name, y_test_var_name in reg_models_info:\n",
    "    y_test_var = globals()[y_test_var_name]\n",
    "\n",
    "    # Evaluate the model\n",
    "    model_test_mae = mean_absolute_error(y_test, y_test_var)\n",
    "    model_test_rmse = mean_squared_error(y_test, y_test_var)\n",
    "    model_test_r2 = r2_score(y_test, y_test_var)\n",
    "\n",
    "    # Print evaluation metrics\n",
    "    print(f\"---- {model_name} ----\")\n",
    "    print(f\" MAE: {model_test_mae:.2f}\")\n",
    "    print(f\" RMSE: {model_test_rmse:.2f}\")\n",
    "    print(f\" R2: {model_test_r2:.2f}\")\n",
    "    print(\"\")"
   ]
  },
  {
   "cell_type": "markdown",
   "metadata": {},
   "source": [
    "## Classification Approach"
   ]
  },
  {
   "cell_type": "code",
   "execution_count": 51,
   "metadata": {},
   "outputs": [],
   "source": [
    "y_train = y_train.apply(lambda x: 1 if x == 1 else 0)\n",
    "y_test = y_test.apply(lambda x: 1 if x == 1 else 0)"
   ]
  },
  {
   "cell_type": "code",
   "execution_count": 52,
   "metadata": {},
   "outputs": [
    {
     "name": "stderr",
     "output_type": "stream",
     "text": [
      "/Library/Frameworks/Python.framework/Versions/3.12/lib/python3.12/site-packages/sklearn/linear_model/_logistic.py:469: ConvergenceWarning: lbfgs failed to converge (status=1):\n",
      "STOP: TOTAL NO. of ITERATIONS REACHED LIMIT.\n",
      "\n",
      "Increase the number of iterations (max_iter) or scale the data as shown in:\n",
      "    https://scikit-learn.org/stable/modules/preprocessing.html\n",
      "Please also refer to the documentation for alternative solver options:\n",
      "    https://scikit-learn.org/stable/modules/linear_model.html#logistic-regression\n",
      "  n_iter_i = _check_optimize_result(\n"
     ]
    }
   ],
   "source": [
    "from sklearn.linear_model import LogisticRegression\n",
    "cla_lr_model = LogisticRegression()\n",
    "cla_lr_model.fit(X_train, y_train)\n",
    "cla_lr_y_test = cla_lr_model.predict(X_test)"
   ]
  },
  {
   "cell_type": "code",
   "execution_count": 53,
   "metadata": {},
   "outputs": [],
   "source": [
    "from sklearn.tree import DecisionTreeClassifier\n",
    "cla_dt_model = DecisionTreeClassifier()\n",
    "cla_dt_model.fit(X_train, y_train)\n",
    "cla_dt_y_test = cla_dt_model.predict(X_test)"
   ]
  },
  {
   "cell_type": "code",
   "execution_count": 54,
   "metadata": {},
   "outputs": [],
   "source": [
    "from sklearn.svm import SVC \n",
    "cla_svm_model = SVC(kernel='linear')  # Adjust `kernel` as needed ('linear', 'rbf', etc.)\n",
    "cla_svm_model.fit(X_train, y_train)\n",
    "cla_svm_y_test = cla_svm_model.predict(X_test)"
   ]
  },
  {
   "cell_type": "code",
   "execution_count": 55,
   "metadata": {},
   "outputs": [],
   "source": [
    "from sklearn.ensemble import RandomForestClassifier \n",
    "cla_rf_model = RandomForestClassifier(n_estimators=100)  # Adjust `n_estimators` as needed\n",
    "cla_rf_model.fit(X_train, y_train)\n",
    "cla_rf_y_test = cla_rf_model.predict(X_test)"
   ]
  },
  {
   "cell_type": "code",
   "execution_count": 56,
   "metadata": {},
   "outputs": [],
   "source": [
    "from sklearn.neighbors import KNeighborsClassifier\n",
    "cla_knn_model = KNeighborsClassifier(n_neighbors=5)  # Adjust `n_neighbors` as needed\n",
    "cla_knn_model.fit(X_train, y_train)\n",
    "cla_knn_y_test = cla_knn_model.predict(X_test)"
   ]
  },
  {
   "cell_type": "code",
   "execution_count": 57,
   "metadata": {},
   "outputs": [],
   "source": [
    "from sklearn.naive_bayes import GaussianNB\n",
    "cla_nb_model = GaussianNB()\n",
    "cla_nb_model.fit(X_train, y_train)\n",
    "cla_nb_y_test = cla_nb_model.predict(X_test)"
   ]
  },
  {
   "cell_type": "markdown",
   "metadata": {},
   "source": [
    "### Evaluations"
   ]
  },
  {
   "cell_type": "code",
   "execution_count": 60,
   "metadata": {},
   "outputs": [
    {
     "name": "stdout",
     "output_type": "stream",
     "text": [
      "---- Logistic Regression ----\n",
      "Accuracy: 0.9386973180076629\n",
      "Confusion Matrix:\n",
      "[[724  14]\n",
      " [ 34  11]]\n",
      "Classification Report:\n",
      "              precision    recall  f1-score   support\n",
      "\n",
      "           0       0.96      0.98      0.97       738\n",
      "           1       0.44      0.24      0.31        45\n",
      "\n",
      "    accuracy                           0.94       783\n",
      "   macro avg       0.70      0.61      0.64       783\n",
      "weighted avg       0.93      0.94      0.93       783\n",
      "\n",
      "\n",
      "---- Decision Tree ----\n",
      "Accuracy: 0.929757343550447\n",
      "Confusion Matrix:\n",
      "[[709  29]\n",
      " [ 26  19]]\n",
      "Classification Report:\n",
      "              precision    recall  f1-score   support\n",
      "\n",
      "           0       0.96      0.96      0.96       738\n",
      "           1       0.40      0.42      0.41        45\n",
      "\n",
      "    accuracy                           0.93       783\n",
      "   macro avg       0.68      0.69      0.69       783\n",
      "weighted avg       0.93      0.93      0.93       783\n",
      "\n",
      "\n",
      "---- SVM ----\n",
      "Accuracy: 0.9399744572158365\n",
      "Confusion Matrix:\n",
      "[[726  12]\n",
      " [ 35  10]]\n",
      "Classification Report:\n",
      "              precision    recall  f1-score   support\n",
      "\n",
      "           0       0.95      0.98      0.97       738\n",
      "           1       0.45      0.22      0.30        45\n",
      "\n",
      "    accuracy                           0.94       783\n",
      "   macro avg       0.70      0.60      0.63       783\n",
      "weighted avg       0.93      0.94      0.93       783\n",
      "\n",
      "\n",
      "---- Random Forest ----\n",
      "Accuracy: 0.9476372924648787\n",
      "Confusion Matrix:\n",
      "[[729   9]\n",
      " [ 32  13]]\n",
      "Classification Report:\n",
      "              precision    recall  f1-score   support\n",
      "\n",
      "           0       0.96      0.99      0.97       738\n",
      "           1       0.59      0.29      0.39        45\n",
      "\n",
      "    accuracy                           0.95       783\n",
      "   macro avg       0.77      0.64      0.68       783\n",
      "weighted avg       0.94      0.95      0.94       783\n",
      "\n",
      "\n",
      "---- KNN ----\n",
      "Accuracy: 0.9425287356321839\n",
      "Confusion Matrix:\n",
      "[[725  13]\n",
      " [ 32  13]]\n",
      "Classification Report:\n",
      "              precision    recall  f1-score   support\n",
      "\n",
      "           0       0.96      0.98      0.97       738\n",
      "           1       0.50      0.29      0.37        45\n",
      "\n",
      "    accuracy                           0.94       783\n",
      "   macro avg       0.73      0.64      0.67       783\n",
      "weighted avg       0.93      0.94      0.94       783\n",
      "\n",
      "\n",
      "---- GaussianNB ----\n",
      "Accuracy: 0.6334610472541508\n",
      "Confusion Matrix:\n",
      "[[453 285]\n",
      " [  2  43]]\n",
      "Classification Report:\n",
      "              precision    recall  f1-score   support\n",
      "\n",
      "           0       1.00      0.61      0.76       738\n",
      "           1       0.13      0.96      0.23        45\n",
      "\n",
      "    accuracy                           0.63       783\n",
      "   macro avg       0.56      0.78      0.49       783\n",
      "weighted avg       0.95      0.63      0.73       783\n",
      "\n",
      "\n"
     ]
    }
   ],
   "source": [
    "from sklearn.metrics import accuracy_score, confusion_matrix, classification_report\n",
    "\n",
    "cla_models_info = [\n",
    "    (\"Logistic Regression\", \"cla_lr_y_test\"),\n",
    "    (\"Decision Tree\", \"cla_dt_y_test\"),\n",
    "    (\"SVM\", \"cla_svm_y_test\"),\n",
    "    (\"Random Forest\", \"cla_rf_y_test\"),\n",
    "    (\"KNN\", \"cla_knn_y_test\"),\n",
    "    (\"GaussianNB\", \"cla_nb_y_test\")\n",
    "]\n",
    "\n",
    "for model_name, y_test_var_name in cla_models_info:\n",
    "    y_test_var = globals()[y_test_var_name]\n",
    "\n",
    "    accuracy = accuracy_score(y_test, y_test_var)\n",
    "    conf_matrix = confusion_matrix(y_test, y_test_var)\n",
    "    class_report = classification_report(y_test, y_test_var)\n",
    "\n",
    "    print(f\"---- {model_name} ----\")\n",
    "    print(f\"Accuracy: {accuracy}\")\n",
    "    print(\"Confusion Matrix:\")\n",
    "    print(conf_matrix)\n",
    "    print(\"Classification Report:\")\n",
    "    print(class_report)\n",
    "    print(\"\")"
   ]
  },
  {
   "cell_type": "code",
   "execution_count": null,
   "metadata": {},
   "outputs": [],
   "source": []
  }
 ],
 "metadata": {
  "kernelspec": {
   "display_name": "Python 3",
   "language": "python",
   "name": "python3"
  },
  "language_info": {
   "codemirror_mode": {
    "name": "ipython",
    "version": 3
   },
   "file_extension": ".py",
   "mimetype": "text/x-python",
   "name": "python",
   "nbconvert_exporter": "python",
   "pygments_lexer": "ipython3",
   "version": "3.12.0"
  }
 },
 "nbformat": 4,
 "nbformat_minor": 2
}
