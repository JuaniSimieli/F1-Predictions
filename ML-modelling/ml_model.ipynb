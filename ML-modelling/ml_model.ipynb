{
 "cells": [
  {
   "cell_type": "code",
   "execution_count": 1,
   "metadata": {},
   "outputs": [],
   "source": [
    "import pandas as pd\n",
    "from sklearn.preprocessing import StandardScaler"
   ]
  },
  {
   "cell_type": "code",
   "execution_count": 2,
   "metadata": {},
   "outputs": [
    {
     "data": {
      "text/html": [
       "<div>\n",
       "<style scoped>\n",
       "    .dataframe tbody tr th:only-of-type {\n",
       "        vertical-align: middle;\n",
       "    }\n",
       "\n",
       "    .dataframe tbody tr th {\n",
       "        vertical-align: top;\n",
       "    }\n",
       "\n",
       "    .dataframe thead th {\n",
       "        text-align: right;\n",
       "    }\n",
       "</style>\n",
       "<table border=\"1\" class=\"dataframe\">\n",
       "  <thead>\n",
       "    <tr style=\"text-align: right;\">\n",
       "      <th></th>\n",
       "      <th>grid</th>\n",
       "      <th>position</th>\n",
       "      <th>year</th>\n",
       "      <th>round</th>\n",
       "      <th>driver_age</th>\n",
       "      <th>driver_experience</th>\n",
       "      <th>driver_constructor_experience</th>\n",
       "      <th>driver_points</th>\n",
       "      <th>driver_standing</th>\n",
       "      <th>constructor_points</th>\n",
       "      <th>...</th>\n",
       "      <th>constructor_mclaren</th>\n",
       "      <th>constructor_mercedes</th>\n",
       "      <th>constructor_racing_point</th>\n",
       "      <th>constructor_rb</th>\n",
       "      <th>constructor_red_bull</th>\n",
       "      <th>constructor_renault</th>\n",
       "      <th>constructor_sauber</th>\n",
       "      <th>constructor_toro_rosso</th>\n",
       "      <th>constructor_virgin</th>\n",
       "      <th>constructor_williams</th>\n",
       "    </tr>\n",
       "  </thead>\n",
       "  <tbody>\n",
       "    <tr>\n",
       "      <th>0</th>\n",
       "      <td>3</td>\n",
       "      <td>1.0</td>\n",
       "      <td>2010</td>\n",
       "      <td>1</td>\n",
       "      <td>28</td>\n",
       "      <td>140</td>\n",
       "      <td>0</td>\n",
       "      <td>0.0</td>\n",
       "      <td>0.0</td>\n",
       "      <td>0.0</td>\n",
       "      <td>...</td>\n",
       "      <td>False</td>\n",
       "      <td>False</td>\n",
       "      <td>False</td>\n",
       "      <td>False</td>\n",
       "      <td>False</td>\n",
       "      <td>False</td>\n",
       "      <td>False</td>\n",
       "      <td>False</td>\n",
       "      <td>False</td>\n",
       "      <td>False</td>\n",
       "    </tr>\n",
       "    <tr>\n",
       "      <th>1</th>\n",
       "      <td>2</td>\n",
       "      <td>2.0</td>\n",
       "      <td>2010</td>\n",
       "      <td>1</td>\n",
       "      <td>28</td>\n",
       "      <td>116</td>\n",
       "      <td>63</td>\n",
       "      <td>0.0</td>\n",
       "      <td>0.0</td>\n",
       "      <td>0.0</td>\n",
       "      <td>...</td>\n",
       "      <td>False</td>\n",
       "      <td>False</td>\n",
       "      <td>False</td>\n",
       "      <td>False</td>\n",
       "      <td>False</td>\n",
       "      <td>False</td>\n",
       "      <td>False</td>\n",
       "      <td>False</td>\n",
       "      <td>False</td>\n",
       "      <td>False</td>\n",
       "    </tr>\n",
       "    <tr>\n",
       "      <th>2</th>\n",
       "      <td>4</td>\n",
       "      <td>3.0</td>\n",
       "      <td>2010</td>\n",
       "      <td>1</td>\n",
       "      <td>25</td>\n",
       "      <td>52</td>\n",
       "      <td>52</td>\n",
       "      <td>0.0</td>\n",
       "      <td>0.0</td>\n",
       "      <td>0.0</td>\n",
       "      <td>...</td>\n",
       "      <td>True</td>\n",
       "      <td>False</td>\n",
       "      <td>False</td>\n",
       "      <td>False</td>\n",
       "      <td>False</td>\n",
       "      <td>False</td>\n",
       "      <td>False</td>\n",
       "      <td>False</td>\n",
       "      <td>False</td>\n",
       "      <td>False</td>\n",
       "    </tr>\n",
       "    <tr>\n",
       "      <th>3</th>\n",
       "      <td>1</td>\n",
       "      <td>4.0</td>\n",
       "      <td>2010</td>\n",
       "      <td>1</td>\n",
       "      <td>22</td>\n",
       "      <td>43</td>\n",
       "      <td>17</td>\n",
       "      <td>0.0</td>\n",
       "      <td>0.0</td>\n",
       "      <td>0.0</td>\n",
       "      <td>...</td>\n",
       "      <td>False</td>\n",
       "      <td>False</td>\n",
       "      <td>False</td>\n",
       "      <td>False</td>\n",
       "      <td>True</td>\n",
       "      <td>False</td>\n",
       "      <td>False</td>\n",
       "      <td>False</td>\n",
       "      <td>False</td>\n",
       "      <td>False</td>\n",
       "    </tr>\n",
       "    <tr>\n",
       "      <th>4</th>\n",
       "      <td>5</td>\n",
       "      <td>5.0</td>\n",
       "      <td>2010</td>\n",
       "      <td>1</td>\n",
       "      <td>24</td>\n",
       "      <td>70</td>\n",
       "      <td>0</td>\n",
       "      <td>0.0</td>\n",
       "      <td>0.0</td>\n",
       "      <td>0.0</td>\n",
       "      <td>...</td>\n",
       "      <td>False</td>\n",
       "      <td>True</td>\n",
       "      <td>False</td>\n",
       "      <td>False</td>\n",
       "      <td>False</td>\n",
       "      <td>False</td>\n",
       "      <td>False</td>\n",
       "      <td>False</td>\n",
       "      <td>False</td>\n",
       "      <td>False</td>\n",
       "    </tr>\n",
       "  </tbody>\n",
       "</table>\n",
       "<p>5 rows × 147 columns</p>\n",
       "</div>"
      ],
      "text/plain": [
       "   grid  position  year  round  driver_age  driver_experience  \\\n",
       "0     3       1.0  2010      1          28                140   \n",
       "1     2       2.0  2010      1          28                116   \n",
       "2     4       3.0  2010      1          25                 52   \n",
       "3     1       4.0  2010      1          22                 43   \n",
       "4     5       5.0  2010      1          24                 70   \n",
       "\n",
       "   driver_constructor_experience  driver_points  driver_standing  \\\n",
       "0                              0            0.0              0.0   \n",
       "1                             63            0.0              0.0   \n",
       "2                             52            0.0              0.0   \n",
       "3                             17            0.0              0.0   \n",
       "4                              0            0.0              0.0   \n",
       "\n",
       "   constructor_points  ...  constructor_mclaren  constructor_mercedes  \\\n",
       "0                 0.0  ...                False                 False   \n",
       "1                 0.0  ...                False                 False   \n",
       "2                 0.0  ...                 True                 False   \n",
       "3                 0.0  ...                False                 False   \n",
       "4                 0.0  ...                False                  True   \n",
       "\n",
       "   constructor_racing_point  constructor_rb  constructor_red_bull  \\\n",
       "0                     False           False                 False   \n",
       "1                     False           False                 False   \n",
       "2                     False           False                 False   \n",
       "3                     False           False                  True   \n",
       "4                     False           False                 False   \n",
       "\n",
       "   constructor_renault  constructor_sauber  constructor_toro_rosso  \\\n",
       "0                False               False                   False   \n",
       "1                False               False                   False   \n",
       "2                False               False                   False   \n",
       "3                False               False                   False   \n",
       "4                False               False                   False   \n",
       "\n",
       "   constructor_virgin  constructor_williams  \n",
       "0               False                 False  \n",
       "1               False                 False  \n",
       "2               False                 False  \n",
       "3               False                 False  \n",
       "4               False                 False  \n",
       "\n",
       "[5 rows x 147 columns]"
      ]
     },
     "execution_count": 2,
     "metadata": {},
     "output_type": "execute_result"
    }
   ],
   "source": [
    "df = pd.read_csv('../Data-collection/final_df.csv')\n",
    "df.head()"
   ]
  },
  {
   "cell_type": "code",
   "execution_count": 3,
   "metadata": {},
   "outputs": [],
   "source": [
    "train_df = df.copy()\n",
    "test_df = pd.read_csv('../Data-collection/df_2024.csv')"
   ]
  },
  {
   "cell_type": "code",
   "execution_count": 4,
   "metadata": {},
   "outputs": [
    {
     "name": "stdout",
     "output_type": "stream",
     "text": [
      "Training Features: (4883, 146), Testing Features: (421, 146)\n",
      "Training Target: (4883,), Testing Target: (421,)\n"
     ]
    }
   ],
   "source": [
    "X_train = train_df.drop(columns=['position'])\n",
    "X_test = test_df.drop(columns=['position'])\n",
    "\n",
    "y_train = train_df['position']\n",
    "y_test = test_df['position']\n",
    "\n",
    "print(f\"Training Features: {X_train.shape}, Testing Features: {X_test.shape}\")\n",
    "print(f\"Training Target: {y_train.shape}, Testing Target: {y_test.shape}\")"
   ]
  },
  {
   "cell_type": "code",
   "execution_count": 5,
   "metadata": {},
   "outputs": [],
   "source": [
    "# Select only numerical columns for scaling\n",
    "numerical_columns = [\n",
    "    'grid', 'driver_age', 'driver_experience', 'driver_constructor_experience',\n",
    "    'driver_points', 'driver_standing', 'constructor_points', \n",
    "    'constructor_standing', 'driver_wins', 'constructor_wins', 'circuit_danger', \n",
    "    'year', 'round'\n",
    "]\n",
    "\n",
    "scaler = StandardScaler()\n",
    "\n",
    "X_train[numerical_columns] = scaler.fit_transform(X_train[numerical_columns])\n",
    "X_test[numerical_columns] = scaler.transform(X_test[numerical_columns])\n",
    "\n",
    "# conver one-hot-encoding columns from True/False to 1/0\n",
    "all_columns = X_train.columns.tolist()\n",
    "one_hot_columns = [col for col in all_columns if col not in numerical_columns]\n",
    "\n",
    "X_train[one_hot_columns] = X_train[one_hot_columns].astype(int)\n",
    "X_test[one_hot_columns] = X_test[one_hot_columns].astype(int)"
   ]
  },
  {
   "cell_type": "markdown",
   "metadata": {},
   "source": [
    "### Testing functions"
   ]
  },
  {
   "cell_type": "markdown",
   "metadata": {},
   "source": [
    "#### Regression"
   ]
  },
  {
   "cell_type": "code",
   "execution_count": 6,
   "metadata": {},
   "outputs": [],
   "source": [
    "# Pasar test df\n",
    "\n",
    "def process_round_regression(df, scaler, trained_model):    \n",
    "    df[numerical_columns] = scaler.fit_transform(df[numerical_columns])\n",
    "    \n",
    "    # Convert one-hot encoding columns from boolean to int\n",
    "    one_hot_columns = [col for col in df.columns if df[col].dtype == 'bool']\n",
    "    df[one_hot_columns] = df[one_hot_columns].astype(int)\n",
    "    \n",
    "    X_current_round = df.drop(columns=['position'])\n",
    "\n",
    "    predictions_df = pd.DataFrame({'predicted_position': trained_model.predict(X_current_round)}) # Make predictions\n",
    "    predictions_df.index = df.index # Ensure the indices align for merging\n",
    "    df = pd.concat([df, predictions_df], axis=1) # Merge predictions back into the original DataFrame\n",
    "    \n",
    "    # Identify the predicted winner\n",
    "    predicted_winner_idx = df['predicted_position'].idxmin()\n",
    "    predicted_winner_row = df.loc[predicted_winner_idx]\n",
    "    predicted_winner_name = next(col for col in one_hot_columns if predicted_winner_row[col] == 1)\n",
    "    predicted_winner_name = predicted_winner_name.replace(\"driver_\", \"\").replace(\"_\", \" \").title()\n",
    "    predicted_winner_name = predicted_winner_name.split()[-1]\n",
    "    predicted_position = predicted_winner_row['predicted_position']\n",
    "    \n",
    "    # Identify the actual winner\n",
    "    actual_winner_row = df[df['position'] == 1.0]\n",
    "    if not actual_winner_row.empty:\n",
    "        actual_winner_name = next(col for col in one_hot_columns if actual_winner_row.iloc[0][col] == 1)\n",
    "        actual_winner_name = actual_winner_name.replace(\"driver_\", \"\").replace(\"_\", \" \").title()\n",
    "        actual_winner_name = actual_winner_name.split()[-1]\n",
    "    else:\n",
    "        actual_winner_name = \"--\"\n",
    "    \n",
    "    return {\n",
    "        'predicted_winner': predicted_winner_name,\n",
    "        'predicted_position': predicted_position,\n",
    "        'actual_winner': actual_winner_name\n",
    "    }"
   ]
  },
  {
   "cell_type": "markdown",
   "metadata": {},
   "source": [
    "#### Classification"
   ]
  },
  {
   "cell_type": "code",
   "execution_count": 7,
   "metadata": {},
   "outputs": [],
   "source": [
    "def process_round_classification(df, scaler, trained_model):    \n",
    "    df[numerical_columns] = scaler.fit_transform(df[numerical_columns])\n",
    "    \n",
    "    # Convert one-hot encoding columns from boolean to int\n",
    "    one_hot_columns = [col for col in df.columns if df[col].dtype == 'bool']\n",
    "    df[one_hot_columns] = df[one_hot_columns].astype(int)\n",
    "    \n",
    "    X_current_round = df.drop(columns=['position'])\n",
    "\n",
    "    # Get probabilities and predictions    \n",
    "    probabilities = trained_model.predict_proba(X_current_round)  # Probabilities for each class\n",
    "    predicted_class = trained_model.predict(X_current_round)  # Predicted class (1 or 0)\n",
    "\n",
    "    df = df.copy()\n",
    "\n",
    "    # Add probabilities and predictions to the DataFrame\n",
    "    df['probability_winner'] = probabilities[:, 1]  # Probability for class `1` (winner)\n",
    "    df['predicted_class'] = predicted_class\n",
    "\n",
    "    # Identify the predicted winner\n",
    "    if (df['predicted_class'] == 1).sum() > 1:\n",
    "        # If multiple winners, choose the one with the highest probability\n",
    "        predicted_winner_idx = df[df['predicted_class'] == 1]['probability_winner'].idxmax()\n",
    "    elif (df['predicted_class'] == 1).sum() == 1:\n",
    "        # If only one winner\n",
    "        predicted_winner_idx = df[df['predicted_class'] == 1].index[0]\n",
    "    else:\n",
    "        # If no winners, assign default values\n",
    "        predicted_winner_idx = None\n",
    "    \n",
    "    if predicted_winner_idx is not None:\n",
    "        predicted_winner_row = df.loc[predicted_winner_idx]\n",
    "        predicted_winner_name = next(col for col in one_hot_columns if predicted_winner_row[col] == 1)\n",
    "        predicted_winner_name = predicted_winner_name.replace(\"driver_\", \"\").replace(\"_\", \" \").title()\n",
    "        predicted_winner_name = predicted_winner_name.split()[-1]\n",
    "        predicted_probability = predicted_winner_row['probability_winner']\n",
    "    else:\n",
    "        predicted_winner_name = \"--\"\n",
    "        predicted_probability = 0.0\n",
    "\n",
    "    # Identify the actual winner\n",
    "    actual_winner_row = df[df['position'] == 1.0]\n",
    "    if not actual_winner_row.empty:\n",
    "        actual_winner_name = next(col for col in one_hot_columns if actual_winner_row.iloc[0][col] == 1)\n",
    "        actual_winner_name = actual_winner_name.replace(\"driver_\", \"\").replace(\"_\", \" \").title()\n",
    "        actual_winner_name = actual_winner_name.split()[-1]\n",
    "    else:\n",
    "        actual_winner_name = \"--\"\n",
    "    \n",
    "    return {\n",
    "        'predicted_winner': predicted_winner_name,\n",
    "        'predicted_probability': predicted_probability,\n",
    "        'actual_winner': actual_winner_name\n",
    "    }"
   ]
  },
  {
   "cell_type": "markdown",
   "metadata": {},
   "source": [
    "#### Temporary"
   ]
  },
  {
   "cell_type": "code",
   "execution_count": 8,
   "metadata": {},
   "outputs": [],
   "source": [
    "def process_all_rounds_classification(df, trained_model):\n",
    "    scaler = StandardScaler()\n",
    "    unique_years = df['year'].unique()\n",
    "    results = []\n",
    "    \n",
    "    for year_number in unique_years:\n",
    "        df_current_year = df[df['year'] == year_number].copy()\n",
    "        unique_rounds = df_current_year['round'].unique()\n",
    "        for round_number in unique_rounds:\n",
    "            df_current_round = df_current_year[df_current_year['round'] == round_number].copy()\n",
    "            result = process_round_classification(df_current_round, scaler, trained_model)\n",
    "            result['round'] = round_number\n",
    "            result['year'] = year_number\n",
    "            results.append(result)\n",
    "\n",
    "    results_df = pd.DataFrame(results)\n",
    "    results_df = results_df[['round'] + [col for col in results_df.columns if col != 'round']]\n",
    "    results_df = results_df[['year'] + [col for col in results_df.columns if col != 'year']]\n",
    "    \n",
    "    return results_df"
   ]
  },
  {
   "cell_type": "code",
   "execution_count": 9,
   "metadata": {},
   "outputs": [],
   "source": [
    "def test_all_models_classification (df, trained_models):\n",
    "\n",
    "    accuracy = []\n",
    "\n",
    "    for model_name, model_var_name in trained_models:\n",
    "        model_var = globals()[model_var_name]\n",
    "        model_test_df = []\n",
    "\n",
    "        model_test_df = process_all_rounds_classification(df, model_var)\n",
    "        accuracy.append(model_accuracy(model_test_df, model_name))\n",
    "\n",
    "    accuracy_df = pd.DataFrame(accuracy)\n",
    "\n",
    "    return accuracy_df   "
   ]
  },
  {
   "cell_type": "markdown",
   "metadata": {},
   "source": [
    "#### Rest"
   ]
  },
  {
   "cell_type": "code",
   "execution_count": 10,
   "metadata": {},
   "outputs": [],
   "source": [
    "# Pasar test df\n",
    "\n",
    "def process_all_rounds(df, trained_model):\n",
    "    scaler = StandardScaler()\n",
    "    unique_years = df['year'].unique()\n",
    "    results = []\n",
    "    \n",
    "    for year_number in unique_years:\n",
    "        df_current_year = df[df['year'] == year_number].copy()\n",
    "        unique_rounds = df_current_year['round'].unique()\n",
    "        for round_number in unique_rounds:\n",
    "            df_current_round = df_current_year[df_current_year['round'] == round_number].copy()\n",
    "            result = process_round_regression(df_current_round, scaler, trained_model)\n",
    "            result['round'] = round_number\n",
    "            result['year'] = year_number\n",
    "            results.append(result)\n",
    "\n",
    "    results_df = pd.DataFrame(results)\n",
    "    results_df = results_df[['round'] + [col for col in results_df.columns if col != 'round']]\n",
    "    results_df = results_df[['year'] + [col for col in results_df.columns if col != 'year']]\n",
    "    \n",
    "    return results_df"
   ]
  },
  {
   "cell_type": "code",
   "execution_count": 11,
   "metadata": {},
   "outputs": [],
   "source": [
    "# pasar df de la funcion anterior\n",
    "\n",
    "def model_accuracy (df, model_name):\n",
    "    accuracy = {}\n",
    "    accuracy['model_name'] = model_name\n",
    "\n",
    "    new_df = df['predicted_winner'] == df['actual_winner']\n",
    "    accuracy['accuracy'] = new_df.mean()\n",
    "    \n",
    "    return accuracy"
   ]
  },
  {
   "cell_type": "code",
   "execution_count": 12,
   "metadata": {},
   "outputs": [],
   "source": [
    "# Pasar test_df\n",
    "\n",
    "def test_all_models (df, trained_models):\n",
    "\n",
    "    accuracy = []\n",
    "\n",
    "    for model_name, model_var_name in trained_models:\n",
    "        model_var = globals()[model_var_name]\n",
    "        model_test_df = []\n",
    "\n",
    "        model_test_df = process_all_rounds(df, model_var)\n",
    "        accuracy.append(model_accuracy(model_test_df, model_name))\n",
    "\n",
    "    accuracy_df = pd.DataFrame(accuracy)\n",
    "\n",
    "    return accuracy_df        "
   ]
  },
  {
   "cell_type": "markdown",
   "metadata": {},
   "source": [
    "## Regression Approach"
   ]
  },
  {
   "cell_type": "markdown",
   "metadata": {},
   "source": [
    "#### Linear Regression"
   ]
  },
  {
   "cell_type": "code",
   "execution_count": 13,
   "metadata": {},
   "outputs": [],
   "source": [
    "from sklearn.linear_model import LinearRegression\n",
    "reg_lr_model = LinearRegression()\n",
    "reg_lr_model.fit(X_train, y_train)\n",
    "reg_lr_y_test = reg_lr_model.predict(X_test)"
   ]
  },
  {
   "cell_type": "markdown",
   "metadata": {},
   "source": [
    "#### Random Forest"
   ]
  },
  {
   "cell_type": "code",
   "execution_count": 14,
   "metadata": {},
   "outputs": [],
   "source": [
    "from sklearn.ensemble import RandomForestRegressor\n",
    "reg_rf_model = RandomForestRegressor(n_estimators=100, random_state=42)\n",
    "reg_rf_model.fit(X_train, y_train)\n",
    "reg_rf_y_test = reg_rf_model.predict(X_test)"
   ]
  },
  {
   "cell_type": "markdown",
   "metadata": {},
   "source": [
    "#### Support Vector Machines (SVM)"
   ]
  },
  {
   "cell_type": "code",
   "execution_count": 15,
   "metadata": {},
   "outputs": [],
   "source": [
    "from sklearn.svm import SVR\n",
    "reg_svm_model = SVR(kernel='linear') \n",
    "reg_svm_model.fit(X_train, y_train)\n",
    "reg_svm_y_test = reg_svm_model.predict(X_test)"
   ]
  },
  {
   "cell_type": "markdown",
   "metadata": {},
   "source": [
    "#### Decision Tree"
   ]
  },
  {
   "cell_type": "code",
   "execution_count": 16,
   "metadata": {},
   "outputs": [],
   "source": [
    "from sklearn.tree import DecisionTreeRegressor\n",
    "reg_dt_model = DecisionTreeRegressor()\n",
    "reg_dt_model.fit(X_train, y_train)\n",
    "reg_dt_y_test = reg_dt_model.predict(X_test)"
   ]
  },
  {
   "cell_type": "markdown",
   "metadata": {},
   "source": [
    "#### K-Nearest Neighbor (KNN)"
   ]
  },
  {
   "cell_type": "code",
   "execution_count": 17,
   "metadata": {},
   "outputs": [],
   "source": [
    "from sklearn.neighbors import KNeighborsRegressor\n",
    "reg_knn_model = KNeighborsRegressor(n_neighbors=5)\n",
    "reg_knn_model.fit(X_train, y_train)\n",
    "reg_knn_y_test = reg_knn_model.predict(X_test)"
   ]
  },
  {
   "cell_type": "markdown",
   "metadata": {},
   "source": [
    "#### Lasso"
   ]
  },
  {
   "cell_type": "code",
   "execution_count": 18,
   "metadata": {},
   "outputs": [],
   "source": [
    "from sklearn.linear_model import Lasso\n",
    "reg_lasso_model = Lasso(alpha=0.1) \n",
    "reg_lasso_model.fit(X_train, y_train)\n",
    "reg_lasso_y_test = reg_lasso_model.predict(X_test)"
   ]
  },
  {
   "cell_type": "markdown",
   "metadata": {},
   "source": [
    "## Classification Approach"
   ]
  },
  {
   "cell_type": "code",
   "execution_count": 19,
   "metadata": {},
   "outputs": [],
   "source": [
    "y_train_c = y_train.copy()\n",
    "y_test_c = y_test.copy()\n",
    "y_train_c = y_train_c.apply(lambda x: 1 if x == 1 else 0)\n",
    "y_test_c = y_test_c.apply(lambda x: 1 if x == 1 else 0)"
   ]
  },
  {
   "cell_type": "markdown",
   "metadata": {},
   "source": [
    "#### Logistic Regression "
   ]
  },
  {
   "cell_type": "code",
   "execution_count": 20,
   "metadata": {},
   "outputs": [],
   "source": [
    "from sklearn.linear_model import LogisticRegression\n",
    "cla_lr_model = LogisticRegression()\n",
    "cla_lr_model.fit(X_train, y_train_c)\n",
    "cla_lr_y_test = cla_lr_model.predict(X_test)"
   ]
  },
  {
   "cell_type": "markdown",
   "metadata": {},
   "source": [
    "#### Decision Tree"
   ]
  },
  {
   "cell_type": "code",
   "execution_count": 21,
   "metadata": {},
   "outputs": [],
   "source": [
    "from sklearn.tree import DecisionTreeClassifier\n",
    "cla_dt_model = DecisionTreeClassifier()\n",
    "cla_dt_model.fit(X_train, y_train_c)\n",
    "cla_dt_y_test = cla_dt_model.predict(X_test)"
   ]
  },
  {
   "cell_type": "markdown",
   "metadata": {},
   "source": [
    "#### Support Vector Machines (SVM)"
   ]
  },
  {
   "cell_type": "code",
   "execution_count": 22,
   "metadata": {},
   "outputs": [],
   "source": [
    "from sklearn.svm import SVC \n",
    "cla_svm_model = SVC(probability=True, kernel='linear')\n",
    "cla_svm_model.fit(X_train, y_train_c)\n",
    "cla_svm_y_test = cla_svm_model.predict(X_test)"
   ]
  },
  {
   "cell_type": "markdown",
   "metadata": {},
   "source": [
    "#### Random Forest"
   ]
  },
  {
   "cell_type": "code",
   "execution_count": 23,
   "metadata": {},
   "outputs": [],
   "source": [
    "from sklearn.ensemble import RandomForestClassifier \n",
    "cla_rf_model = RandomForestClassifier(n_estimators=100)\n",
    "cla_rf_model.fit(X_train, y_train_c)\n",
    "cla_rf_y_test = cla_rf_model.predict(X_test)"
   ]
  },
  {
   "cell_type": "markdown",
   "metadata": {},
   "source": [
    "#### K-Nearest Neighbor (KNN)"
   ]
  },
  {
   "cell_type": "code",
   "execution_count": 24,
   "metadata": {},
   "outputs": [],
   "source": [
    "from sklearn.neighbors import KNeighborsClassifier\n",
    "cla_knn_model = KNeighborsClassifier(n_neighbors=5)\n",
    "cla_knn_model.fit(X_train, y_train_c)\n",
    "cla_knn_y_test = cla_knn_model.predict(X_test)"
   ]
  },
  {
   "cell_type": "markdown",
   "metadata": {},
   "source": [
    "#### Naïve Bayes"
   ]
  },
  {
   "cell_type": "code",
   "execution_count": 25,
   "metadata": {},
   "outputs": [],
   "source": [
    "from sklearn.naive_bayes import GaussianNB\n",
    "cla_nb_model = GaussianNB()\n",
    "cla_nb_model.fit(X_train, y_train_c)\n",
    "cla_nb_y_test = cla_nb_model.predict(X_test)"
   ]
  },
  {
   "cell_type": "markdown",
   "metadata": {},
   "source": [
    "## Deep Learning"
   ]
  },
  {
   "cell_type": "markdown",
   "metadata": {},
   "source": [
    "### Regression"
   ]
  },
  {
   "cell_type": "code",
   "execution_count": 26,
   "metadata": {},
   "outputs": [
    {
     "name": "stdout",
     "output_type": "stream",
     "text": [
      "Epoch 1/100\n",
      "\u001b[1m123/123\u001b[0m \u001b[32m━━━━━━━━━━━━━━━━━━━━\u001b[0m\u001b[37m\u001b[0m \u001b[1m1s\u001b[0m 1ms/step - loss: 113.8573 - mean_squared_error: 113.8573 - val_loss: 88.1136 - val_mean_squared_error: 88.1136\n",
      "Epoch 2/100\n",
      "\u001b[1m123/123\u001b[0m \u001b[32m━━━━━━━━━━━━━━━━━━━━\u001b[0m\u001b[37m\u001b[0m \u001b[1m0s\u001b[0m 753us/step - loss: 60.1154 - mean_squared_error: 60.1154 - val_loss: 53.9825 - val_mean_squared_error: 53.9825\n",
      "Epoch 3/100\n",
      "\u001b[1m123/123\u001b[0m \u001b[32m━━━━━━━━━━━━━━━━━━━━\u001b[0m\u001b[37m\u001b[0m \u001b[1m0s\u001b[0m 790us/step - loss: 25.7508 - mean_squared_error: 25.7508 - val_loss: 37.4031 - val_mean_squared_error: 37.4031\n",
      "Epoch 4/100\n",
      "\u001b[1m123/123\u001b[0m \u001b[32m━━━━━━━━━━━━━━━━━━━━\u001b[0m\u001b[37m\u001b[0m \u001b[1m0s\u001b[0m 3ms/step - loss: 16.2259 - mean_squared_error: 16.2259 - val_loss: 29.0101 - val_mean_squared_error: 29.0101\n",
      "Epoch 5/100\n",
      "\u001b[1m123/123\u001b[0m \u001b[32m━━━━━━━━━━━━━━━━━━━━\u001b[0m\u001b[37m\u001b[0m \u001b[1m0s\u001b[0m 2ms/step - loss: 12.6162 - mean_squared_error: 12.6162 - val_loss: 22.9952 - val_mean_squared_error: 22.9952\n",
      "Epoch 6/100\n",
      "\u001b[1m123/123\u001b[0m \u001b[32m━━━━━━━━━━━━━━━━━━━━\u001b[0m\u001b[37m\u001b[0m \u001b[1m0s\u001b[0m 2ms/step - loss: 11.7848 - mean_squared_error: 11.7848 - val_loss: 18.9621 - val_mean_squared_error: 18.9621\n",
      "Epoch 7/100\n",
      "\u001b[1m123/123\u001b[0m \u001b[32m━━━━━━━━━━━━━━━━━━━━\u001b[0m\u001b[37m\u001b[0m \u001b[1m0s\u001b[0m 2ms/step - loss: 10.5672 - mean_squared_error: 10.5672 - val_loss: 16.7228 - val_mean_squared_error: 16.7228\n",
      "Epoch 8/100\n",
      "\u001b[1m123/123\u001b[0m \u001b[32m━━━━━━━━━━━━━━━━━━━━\u001b[0m\u001b[37m\u001b[0m \u001b[1m0s\u001b[0m 880us/step - loss: 10.2496 - mean_squared_error: 10.2496 - val_loss: 15.3790 - val_mean_squared_error: 15.3790\n",
      "Epoch 9/100\n",
      "\u001b[1m123/123\u001b[0m \u001b[32m━━━━━━━━━━━━━━━━━━━━\u001b[0m\u001b[37m\u001b[0m \u001b[1m0s\u001b[0m 703us/step - loss: 9.7310 - mean_squared_error: 9.7310 - val_loss: 14.6252 - val_mean_squared_error: 14.6252\n",
      "Epoch 10/100\n",
      "\u001b[1m123/123\u001b[0m \u001b[32m━━━━━━━━━━━━━━━━━━━━\u001b[0m\u001b[37m\u001b[0m \u001b[1m0s\u001b[0m 796us/step - loss: 9.9964 - mean_squared_error: 9.9964 - val_loss: 14.3297 - val_mean_squared_error: 14.3297\n",
      "Epoch 11/100\n",
      "\u001b[1m123/123\u001b[0m \u001b[32m━━━━━━━━━━━━━━━━━━━━\u001b[0m\u001b[37m\u001b[0m \u001b[1m0s\u001b[0m 853us/step - loss: 9.4165 - mean_squared_error: 9.4165 - val_loss: 13.9310 - val_mean_squared_error: 13.9310\n",
      "Epoch 12/100\n",
      "\u001b[1m123/123\u001b[0m \u001b[32m━━━━━━━━━━━━━━━━━━━━\u001b[0m\u001b[37m\u001b[0m \u001b[1m0s\u001b[0m 752us/step - loss: 9.5046 - mean_squared_error: 9.5046 - val_loss: 13.7519 - val_mean_squared_error: 13.7519\n",
      "Epoch 13/100\n",
      "\u001b[1m123/123\u001b[0m \u001b[32m━━━━━━━━━━━━━━━━━━━━\u001b[0m\u001b[37m\u001b[0m \u001b[1m0s\u001b[0m 773us/step - loss: 9.6166 - mean_squared_error: 9.6166 - val_loss: 13.5968 - val_mean_squared_error: 13.5968\n",
      "Epoch 14/100\n",
      "\u001b[1m123/123\u001b[0m \u001b[32m━━━━━━━━━━━━━━━━━━━━\u001b[0m\u001b[37m\u001b[0m \u001b[1m0s\u001b[0m 780us/step - loss: 9.8016 - mean_squared_error: 9.8016 - val_loss: 13.3600 - val_mean_squared_error: 13.3600\n",
      "Epoch 15/100\n",
      "\u001b[1m123/123\u001b[0m \u001b[32m━━━━━━━━━━━━━━━━━━━━\u001b[0m\u001b[37m\u001b[0m \u001b[1m0s\u001b[0m 793us/step - loss: 9.7010 - mean_squared_error: 9.7010 - val_loss: 13.2785 - val_mean_squared_error: 13.2785\n",
      "Epoch 16/100\n",
      "\u001b[1m123/123\u001b[0m \u001b[32m━━━━━━━━━━━━━━━━━━━━\u001b[0m\u001b[37m\u001b[0m \u001b[1m0s\u001b[0m 713us/step - loss: 9.5198 - mean_squared_error: 9.5198 - val_loss: 13.0702 - val_mean_squared_error: 13.0702\n",
      "Epoch 17/100\n",
      "\u001b[1m123/123\u001b[0m \u001b[32m━━━━━━━━━━━━━━━━━━━━\u001b[0m\u001b[37m\u001b[0m \u001b[1m0s\u001b[0m 767us/step - loss: 9.1309 - mean_squared_error: 9.1309 - val_loss: 12.9537 - val_mean_squared_error: 12.9537\n",
      "Epoch 18/100\n",
      "\u001b[1m123/123\u001b[0m \u001b[32m━━━━━━━━━━━━━━━━━━━━\u001b[0m\u001b[37m\u001b[0m \u001b[1m0s\u001b[0m 713us/step - loss: 9.2059 - mean_squared_error: 9.2059 - val_loss: 12.8602 - val_mean_squared_error: 12.8602\n",
      "Epoch 19/100\n",
      "\u001b[1m123/123\u001b[0m \u001b[32m━━━━━━━━━━━━━━━━━━━━\u001b[0m\u001b[37m\u001b[0m \u001b[1m0s\u001b[0m 686us/step - loss: 9.0054 - mean_squared_error: 9.0054 - val_loss: 12.8185 - val_mean_squared_error: 12.8185\n",
      "Epoch 20/100\n",
      "\u001b[1m123/123\u001b[0m \u001b[32m━━━━━━━━━━━━━━━━━━━━\u001b[0m\u001b[37m\u001b[0m \u001b[1m0s\u001b[0m 674us/step - loss: 9.0613 - mean_squared_error: 9.0613 - val_loss: 12.8359 - val_mean_squared_error: 12.8359\n",
      "Epoch 21/100\n",
      "\u001b[1m123/123\u001b[0m \u001b[32m━━━━━━━━━━━━━━━━━━━━\u001b[0m\u001b[37m\u001b[0m \u001b[1m0s\u001b[0m 771us/step - loss: 9.6721 - mean_squared_error: 9.6721 - val_loss: 12.7219 - val_mean_squared_error: 12.7219\n",
      "Epoch 22/100\n",
      "\u001b[1m123/123\u001b[0m \u001b[32m━━━━━━━━━━━━━━━━━━━━\u001b[0m\u001b[37m\u001b[0m \u001b[1m0s\u001b[0m 797us/step - loss: 8.7031 - mean_squared_error: 8.7031 - val_loss: 12.6780 - val_mean_squared_error: 12.6780\n",
      "Epoch 23/100\n",
      "\u001b[1m123/123\u001b[0m \u001b[32m━━━━━━━━━━━━━━━━━━━━\u001b[0m\u001b[37m\u001b[0m \u001b[1m0s\u001b[0m 794us/step - loss: 9.2368 - mean_squared_error: 9.2368 - val_loss: 12.7236 - val_mean_squared_error: 12.7236\n",
      "Epoch 24/100\n",
      "\u001b[1m123/123\u001b[0m \u001b[32m━━━━━━━━━━━━━━━━━━━━\u001b[0m\u001b[37m\u001b[0m \u001b[1m0s\u001b[0m 794us/step - loss: 9.0200 - mean_squared_error: 9.0200 - val_loss: 12.8343 - val_mean_squared_error: 12.8343\n",
      "Epoch 25/100\n",
      "\u001b[1m123/123\u001b[0m \u001b[32m━━━━━━━━━━━━━━━━━━━━\u001b[0m\u001b[37m\u001b[0m \u001b[1m0s\u001b[0m 889us/step - loss: 8.8337 - mean_squared_error: 8.8337 - val_loss: 12.6331 - val_mean_squared_error: 12.6331\n",
      "Epoch 26/100\n",
      "\u001b[1m123/123\u001b[0m \u001b[32m━━━━━━━━━━━━━━━━━━━━\u001b[0m\u001b[37m\u001b[0m \u001b[1m0s\u001b[0m 781us/step - loss: 9.0663 - mean_squared_error: 9.0663 - val_loss: 12.7027 - val_mean_squared_error: 12.7027\n",
      "Epoch 27/100\n",
      "\u001b[1m123/123\u001b[0m \u001b[32m━━━━━━━━━━━━━━━━━━━━\u001b[0m\u001b[37m\u001b[0m \u001b[1m0s\u001b[0m 679us/step - loss: 8.9704 - mean_squared_error: 8.9704 - val_loss: 12.7965 - val_mean_squared_error: 12.7965\n",
      "Epoch 28/100\n",
      "\u001b[1m123/123\u001b[0m \u001b[32m━━━━━━━━━━━━━━━━━━━━\u001b[0m\u001b[37m\u001b[0m \u001b[1m0s\u001b[0m 686us/step - loss: 8.1364 - mean_squared_error: 8.1364 - val_loss: 12.6961 - val_mean_squared_error: 12.6961\n",
      "Epoch 29/100\n",
      "\u001b[1m123/123\u001b[0m \u001b[32m━━━━━━━━━━━━━━━━━━━━\u001b[0m\u001b[37m\u001b[0m \u001b[1m0s\u001b[0m 668us/step - loss: 8.4172 - mean_squared_error: 8.4172 - val_loss: 12.8581 - val_mean_squared_error: 12.8581\n",
      "Epoch 30/100\n",
      "\u001b[1m123/123\u001b[0m \u001b[32m━━━━━━━━━━━━━━━━━━━━\u001b[0m\u001b[37m\u001b[0m \u001b[1m0s\u001b[0m 702us/step - loss: 8.3469 - mean_squared_error: 8.3469 - val_loss: 12.8996 - val_mean_squared_error: 12.8996\n",
      "Epoch 31/100\n",
      "\u001b[1m123/123\u001b[0m \u001b[32m━━━━━━━━━━━━━━━━━━━━\u001b[0m\u001b[37m\u001b[0m \u001b[1m0s\u001b[0m 679us/step - loss: 8.8479 - mean_squared_error: 8.8479 - val_loss: 12.8580 - val_mean_squared_error: 12.8580\n",
      "Epoch 32/100\n",
      "\u001b[1m123/123\u001b[0m \u001b[32m━━━━━━━━━━━━━━━━━━━━\u001b[0m\u001b[37m\u001b[0m \u001b[1m0s\u001b[0m 752us/step - loss: 8.1475 - mean_squared_error: 8.1475 - val_loss: 12.8401 - val_mean_squared_error: 12.8401\n",
      "Epoch 33/100\n",
      "\u001b[1m123/123\u001b[0m \u001b[32m━━━━━━━━━━━━━━━━━━━━\u001b[0m\u001b[37m\u001b[0m \u001b[1m0s\u001b[0m 812us/step - loss: 8.8387 - mean_squared_error: 8.8387 - val_loss: 12.8195 - val_mean_squared_error: 12.8195\n",
      "Epoch 34/100\n",
      "\u001b[1m123/123\u001b[0m \u001b[32m━━━━━━━━━━━━━━━━━━━━\u001b[0m\u001b[37m\u001b[0m \u001b[1m0s\u001b[0m 946us/step - loss: 8.3981 - mean_squared_error: 8.3981 - val_loss: 12.7540 - val_mean_squared_error: 12.7540\n",
      "Epoch 35/100\n",
      "\u001b[1m123/123\u001b[0m \u001b[32m━━━━━━━━━━━━━━━━━━━━\u001b[0m\u001b[37m\u001b[0m \u001b[1m0s\u001b[0m 795us/step - loss: 7.9814 - mean_squared_error: 7.9814 - val_loss: 12.8680 - val_mean_squared_error: 12.8680\n",
      "Epoch 36/100\n",
      "\u001b[1m123/123\u001b[0m \u001b[32m━━━━━━━━━━━━━━━━━━━━\u001b[0m\u001b[37m\u001b[0m \u001b[1m0s\u001b[0m 1ms/step - loss: 8.1081 - mean_squared_error: 8.1081 - val_loss: 12.9876 - val_mean_squared_error: 12.9876\n",
      "Epoch 37/100\n",
      "\u001b[1m123/123\u001b[0m \u001b[32m━━━━━━━━━━━━━━━━━━━━\u001b[0m\u001b[37m\u001b[0m \u001b[1m0s\u001b[0m 671us/step - loss: 7.9117 - mean_squared_error: 7.9117 - val_loss: 13.0009 - val_mean_squared_error: 13.0009\n",
      "Epoch 38/100\n",
      "\u001b[1m123/123\u001b[0m \u001b[32m━━━━━━━━━━━━━━━━━━━━\u001b[0m\u001b[37m\u001b[0m \u001b[1m0s\u001b[0m 679us/step - loss: 8.2674 - mean_squared_error: 8.2674 - val_loss: 12.9958 - val_mean_squared_error: 12.9958\n",
      "Epoch 39/100\n",
      "\u001b[1m123/123\u001b[0m \u001b[32m━━━━━━━━━━━━━━━━━━━━\u001b[0m\u001b[37m\u001b[0m \u001b[1m0s\u001b[0m 683us/step - loss: 8.3526 - mean_squared_error: 8.3526 - val_loss: 13.0643 - val_mean_squared_error: 13.0643\n",
      "Epoch 40/100\n",
      "\u001b[1m123/123\u001b[0m \u001b[32m━━━━━━━━━━━━━━━━━━━━\u001b[0m\u001b[37m\u001b[0m \u001b[1m0s\u001b[0m 673us/step - loss: 8.1190 - mean_squared_error: 8.1190 - val_loss: 13.1856 - val_mean_squared_error: 13.1856\n",
      "Epoch 41/100\n",
      "\u001b[1m123/123\u001b[0m \u001b[32m━━━━━━━━━━━━━━━━━━━━\u001b[0m\u001b[37m\u001b[0m \u001b[1m0s\u001b[0m 725us/step - loss: 7.6256 - mean_squared_error: 7.6256 - val_loss: 13.1080 - val_mean_squared_error: 13.1080\n",
      "Epoch 42/100\n",
      "\u001b[1m123/123\u001b[0m \u001b[32m━━━━━━━━━━━━━━━━━━━━\u001b[0m\u001b[37m\u001b[0m \u001b[1m0s\u001b[0m 824us/step - loss: 8.0421 - mean_squared_error: 8.0421 - val_loss: 13.2319 - val_mean_squared_error: 13.2319\n",
      "Epoch 43/100\n",
      "\u001b[1m123/123\u001b[0m \u001b[32m━━━━━━━━━━━━━━━━━━━━\u001b[0m\u001b[37m\u001b[0m \u001b[1m0s\u001b[0m 893us/step - loss: 7.7109 - mean_squared_error: 7.7109 - val_loss: 13.3097 - val_mean_squared_error: 13.3097\n",
      "Epoch 44/100\n",
      "\u001b[1m123/123\u001b[0m \u001b[32m━━━━━━━━━━━━━━━━━━━━\u001b[0m\u001b[37m\u001b[0m \u001b[1m0s\u001b[0m 845us/step - loss: 7.7567 - mean_squared_error: 7.7567 - val_loss: 13.3634 - val_mean_squared_error: 13.3634\n",
      "Epoch 45/100\n",
      "\u001b[1m123/123\u001b[0m \u001b[32m━━━━━━━━━━━━━━━━━━━━\u001b[0m\u001b[37m\u001b[0m \u001b[1m0s\u001b[0m 809us/step - loss: 7.8365 - mean_squared_error: 7.8365 - val_loss: 13.3723 - val_mean_squared_error: 13.3723\n",
      "Epoch 46/100\n",
      "\u001b[1m123/123\u001b[0m \u001b[32m━━━━━━━━━━━━━━━━━━━━\u001b[0m\u001b[37m\u001b[0m \u001b[1m0s\u001b[0m 800us/step - loss: 7.7028 - mean_squared_error: 7.7028 - val_loss: 13.3446 - val_mean_squared_error: 13.3446\n",
      "Epoch 47/100\n",
      "\u001b[1m123/123\u001b[0m \u001b[32m━━━━━━━━━━━━━━━━━━━━\u001b[0m\u001b[37m\u001b[0m \u001b[1m0s\u001b[0m 694us/step - loss: 7.7432 - mean_squared_error: 7.7432 - val_loss: 13.6719 - val_mean_squared_error: 13.6719\n",
      "Epoch 48/100\n",
      "\u001b[1m123/123\u001b[0m \u001b[32m━━━━━━━━━━━━━━━━━━━━\u001b[0m\u001b[37m\u001b[0m \u001b[1m0s\u001b[0m 715us/step - loss: 7.7036 - mean_squared_error: 7.7036 - val_loss: 13.6727 - val_mean_squared_error: 13.6727\n",
      "Epoch 49/100\n",
      "\u001b[1m123/123\u001b[0m \u001b[32m━━━━━━━━━━━━━━━━━━━━\u001b[0m\u001b[37m\u001b[0m \u001b[1m0s\u001b[0m 878us/step - loss: 7.9801 - mean_squared_error: 7.9801 - val_loss: 13.5482 - val_mean_squared_error: 13.5482\n",
      "Epoch 50/100\n",
      "\u001b[1m123/123\u001b[0m \u001b[32m━━━━━━━━━━━━━━━━━━━━\u001b[0m\u001b[37m\u001b[0m \u001b[1m0s\u001b[0m 833us/step - loss: 7.8266 - mean_squared_error: 7.8266 - val_loss: 13.4305 - val_mean_squared_error: 13.4305\n",
      "Epoch 51/100\n",
      "\u001b[1m123/123\u001b[0m \u001b[32m━━━━━━━━━━━━━━━━━━━━\u001b[0m\u001b[37m\u001b[0m \u001b[1m0s\u001b[0m 736us/step - loss: 7.3688 - mean_squared_error: 7.3688 - val_loss: 13.7383 - val_mean_squared_error: 13.7383\n",
      "Epoch 52/100\n",
      "\u001b[1m123/123\u001b[0m \u001b[32m━━━━━━━━━━━━━━━━━━━━\u001b[0m\u001b[37m\u001b[0m \u001b[1m0s\u001b[0m 851us/step - loss: 7.7272 - mean_squared_error: 7.7272 - val_loss: 13.6226 - val_mean_squared_error: 13.6226\n",
      "Epoch 53/100\n",
      "\u001b[1m123/123\u001b[0m \u001b[32m━━━━━━━━━━━━━━━━━━━━\u001b[0m\u001b[37m\u001b[0m \u001b[1m0s\u001b[0m 827us/step - loss: 7.3724 - mean_squared_error: 7.3724 - val_loss: 13.7953 - val_mean_squared_error: 13.7953\n",
      "Epoch 54/100\n",
      "\u001b[1m123/123\u001b[0m \u001b[32m━━━━━━━━━━━━━━━━━━━━\u001b[0m\u001b[37m\u001b[0m \u001b[1m0s\u001b[0m 816us/step - loss: 7.5360 - mean_squared_error: 7.5360 - val_loss: 13.9064 - val_mean_squared_error: 13.9064\n",
      "Epoch 55/100\n",
      "\u001b[1m123/123\u001b[0m \u001b[32m━━━━━━━━━━━━━━━━━━━━\u001b[0m\u001b[37m\u001b[0m \u001b[1m0s\u001b[0m 874us/step - loss: 7.3020 - mean_squared_error: 7.3020 - val_loss: 14.0097 - val_mean_squared_error: 14.0097\n",
      "Epoch 56/100\n",
      "\u001b[1m123/123\u001b[0m \u001b[32m━━━━━━━━━━━━━━━━━━━━\u001b[0m\u001b[37m\u001b[0m \u001b[1m0s\u001b[0m 824us/step - loss: 7.2235 - mean_squared_error: 7.2235 - val_loss: 13.8228 - val_mean_squared_error: 13.8228\n",
      "Epoch 57/100\n",
      "\u001b[1m123/123\u001b[0m \u001b[32m━━━━━━━━━━━━━━━━━━━━\u001b[0m\u001b[37m\u001b[0m \u001b[1m0s\u001b[0m 1ms/step - loss: 7.2685 - mean_squared_error: 7.2685 - val_loss: 13.9605 - val_mean_squared_error: 13.9605\n",
      "Epoch 58/100\n",
      "\u001b[1m123/123\u001b[0m \u001b[32m━━━━━━━━━━━━━━━━━━━━\u001b[0m\u001b[37m\u001b[0m \u001b[1m0s\u001b[0m 2ms/step - loss: 7.7747 - mean_squared_error: 7.7747 - val_loss: 14.0947 - val_mean_squared_error: 14.0947\n",
      "Epoch 59/100\n",
      "\u001b[1m123/123\u001b[0m \u001b[32m━━━━━━━━━━━━━━━━━━━━\u001b[0m\u001b[37m\u001b[0m \u001b[1m0s\u001b[0m 914us/step - loss: 7.2378 - mean_squared_error: 7.2378 - val_loss: 14.4998 - val_mean_squared_error: 14.4998\n",
      "Epoch 60/100\n",
      "\u001b[1m123/123\u001b[0m \u001b[32m━━━━━━━━━━━━━━━━━━━━\u001b[0m\u001b[37m\u001b[0m \u001b[1m0s\u001b[0m 1ms/step - loss: 7.2528 - mean_squared_error: 7.2528 - val_loss: 13.9733 - val_mean_squared_error: 13.9733\n",
      "Epoch 61/100\n",
      "\u001b[1m123/123\u001b[0m \u001b[32m━━━━━━━━━━━━━━━━━━━━\u001b[0m\u001b[37m\u001b[0m \u001b[1m0s\u001b[0m 751us/step - loss: 7.4911 - mean_squared_error: 7.4911 - val_loss: 14.2832 - val_mean_squared_error: 14.2832\n",
      "Epoch 62/100\n",
      "\u001b[1m123/123\u001b[0m \u001b[32m━━━━━━━━━━━━━━━━━━━━\u001b[0m\u001b[37m\u001b[0m \u001b[1m0s\u001b[0m 723us/step - loss: 7.9052 - mean_squared_error: 7.9052 - val_loss: 14.3864 - val_mean_squared_error: 14.3864\n",
      "Epoch 63/100\n",
      "\u001b[1m123/123\u001b[0m \u001b[32m━━━━━━━━━━━━━━━━━━━━\u001b[0m\u001b[37m\u001b[0m \u001b[1m0s\u001b[0m 695us/step - loss: 7.4407 - mean_squared_error: 7.4407 - val_loss: 14.1896 - val_mean_squared_error: 14.1896\n",
      "Epoch 64/100\n",
      "\u001b[1m123/123\u001b[0m \u001b[32m━━━━━━━━━━━━━━━━━━━━\u001b[0m\u001b[37m\u001b[0m \u001b[1m0s\u001b[0m 679us/step - loss: 7.4102 - mean_squared_error: 7.4102 - val_loss: 14.3815 - val_mean_squared_error: 14.3815\n",
      "Epoch 65/100\n",
      "\u001b[1m123/123\u001b[0m \u001b[32m━━━━━━━━━━━━━━━━━━━━\u001b[0m\u001b[37m\u001b[0m \u001b[1m0s\u001b[0m 707us/step - loss: 7.3937 - mean_squared_error: 7.3937 - val_loss: 14.3220 - val_mean_squared_error: 14.3220\n",
      "Epoch 66/100\n",
      "\u001b[1m123/123\u001b[0m \u001b[32m━━━━━━━━━━━━━━━━━━━━\u001b[0m\u001b[37m\u001b[0m \u001b[1m0s\u001b[0m 708us/step - loss: 7.3112 - mean_squared_error: 7.3112 - val_loss: 14.3743 - val_mean_squared_error: 14.3743\n",
      "Epoch 67/100\n",
      "\u001b[1m123/123\u001b[0m \u001b[32m━━━━━━━━━━━━━━━━━━━━\u001b[0m\u001b[37m\u001b[0m \u001b[1m0s\u001b[0m 700us/step - loss: 7.2506 - mean_squared_error: 7.2506 - val_loss: 14.4601 - val_mean_squared_error: 14.4601\n",
      "Epoch 68/100\n",
      "\u001b[1m123/123\u001b[0m \u001b[32m━━━━━━━━━━━━━━━━━━━━\u001b[0m\u001b[37m\u001b[0m \u001b[1m0s\u001b[0m 710us/step - loss: 7.6818 - mean_squared_error: 7.6818 - val_loss: 14.8725 - val_mean_squared_error: 14.8725\n",
      "Epoch 69/100\n",
      "\u001b[1m123/123\u001b[0m \u001b[32m━━━━━━━━━━━━━━━━━━━━\u001b[0m\u001b[37m\u001b[0m \u001b[1m0s\u001b[0m 995us/step - loss: 7.7221 - mean_squared_error: 7.7221 - val_loss: 14.5784 - val_mean_squared_error: 14.5784\n",
      "Epoch 70/100\n",
      "\u001b[1m123/123\u001b[0m \u001b[32m━━━━━━━━━━━━━━━━━━━━\u001b[0m\u001b[37m\u001b[0m \u001b[1m0s\u001b[0m 713us/step - loss: 7.7587 - mean_squared_error: 7.7587 - val_loss: 14.7451 - val_mean_squared_error: 14.7451\n",
      "Epoch 71/100\n",
      "\u001b[1m123/123\u001b[0m \u001b[32m━━━━━━━━━━━━━━━━━━━━\u001b[0m\u001b[37m\u001b[0m \u001b[1m0s\u001b[0m 696us/step - loss: 7.4460 - mean_squared_error: 7.4460 - val_loss: 15.0812 - val_mean_squared_error: 15.0812\n",
      "Epoch 72/100\n",
      "\u001b[1m123/123\u001b[0m \u001b[32m━━━━━━━━━━━━━━━━━━━━\u001b[0m\u001b[37m\u001b[0m \u001b[1m0s\u001b[0m 695us/step - loss: 7.2572 - mean_squared_error: 7.2572 - val_loss: 14.9993 - val_mean_squared_error: 14.9993\n",
      "Epoch 73/100\n",
      "\u001b[1m123/123\u001b[0m \u001b[32m━━━━━━━━━━━━━━━━━━━━\u001b[0m\u001b[37m\u001b[0m \u001b[1m0s\u001b[0m 688us/step - loss: 6.9011 - mean_squared_error: 6.9011 - val_loss: 14.9375 - val_mean_squared_error: 14.9375\n",
      "Epoch 74/100\n",
      "\u001b[1m123/123\u001b[0m \u001b[32m━━━━━━━━━━━━━━━━━━━━\u001b[0m\u001b[37m\u001b[0m \u001b[1m0s\u001b[0m 687us/step - loss: 6.9576 - mean_squared_error: 6.9576 - val_loss: 14.9955 - val_mean_squared_error: 14.9955\n",
      "Epoch 75/100\n",
      "\u001b[1m123/123\u001b[0m \u001b[32m━━━━━━━━━━━━━━━━━━━━\u001b[0m\u001b[37m\u001b[0m \u001b[1m0s\u001b[0m 670us/step - loss: 7.1722 - mean_squared_error: 7.1722 - val_loss: 15.0438 - val_mean_squared_error: 15.0438\n",
      "Epoch 76/100\n",
      "\u001b[1m123/123\u001b[0m \u001b[32m━━━━━━━━━━━━━━━━━━━━\u001b[0m\u001b[37m\u001b[0m \u001b[1m0s\u001b[0m 681us/step - loss: 7.3491 - mean_squared_error: 7.3491 - val_loss: 15.1687 - val_mean_squared_error: 15.1687\n",
      "Epoch 77/100\n",
      "\u001b[1m123/123\u001b[0m \u001b[32m━━━━━━━━━━━━━━━━━━━━\u001b[0m\u001b[37m\u001b[0m \u001b[1m0s\u001b[0m 706us/step - loss: 7.6614 - mean_squared_error: 7.6614 - val_loss: 15.3071 - val_mean_squared_error: 15.3071\n",
      "Epoch 78/100\n",
      "\u001b[1m123/123\u001b[0m \u001b[32m━━━━━━━━━━━━━━━━━━━━\u001b[0m\u001b[37m\u001b[0m \u001b[1m0s\u001b[0m 676us/step - loss: 7.1301 - mean_squared_error: 7.1301 - val_loss: 15.1255 - val_mean_squared_error: 15.1255\n",
      "Epoch 79/100\n",
      "\u001b[1m123/123\u001b[0m \u001b[32m━━━━━━━━━━━━━━━━━━━━\u001b[0m\u001b[37m\u001b[0m \u001b[1m0s\u001b[0m 679us/step - loss: 7.1973 - mean_squared_error: 7.1973 - val_loss: 15.0549 - val_mean_squared_error: 15.0549\n",
      "Epoch 80/100\n",
      "\u001b[1m123/123\u001b[0m \u001b[32m━━━━━━━━━━━━━━━━━━━━\u001b[0m\u001b[37m\u001b[0m \u001b[1m0s\u001b[0m 756us/step - loss: 7.4635 - mean_squared_error: 7.4635 - val_loss: 15.1385 - val_mean_squared_error: 15.1385\n",
      "Epoch 81/100\n",
      "\u001b[1m123/123\u001b[0m \u001b[32m━━━━━━━━━━━━━━━━━━━━\u001b[0m\u001b[37m\u001b[0m \u001b[1m0s\u001b[0m 725us/step - loss: 7.1725 - mean_squared_error: 7.1725 - val_loss: 15.3652 - val_mean_squared_error: 15.3652\n",
      "Epoch 82/100\n",
      "\u001b[1m123/123\u001b[0m \u001b[32m━━━━━━━━━━━━━━━━━━━━\u001b[0m\u001b[37m\u001b[0m \u001b[1m0s\u001b[0m 681us/step - loss: 7.1007 - mean_squared_error: 7.1007 - val_loss: 15.5108 - val_mean_squared_error: 15.5108\n",
      "Epoch 83/100\n",
      "\u001b[1m123/123\u001b[0m \u001b[32m━━━━━━━━━━━━━━━━━━━━\u001b[0m\u001b[37m\u001b[0m \u001b[1m0s\u001b[0m 676us/step - loss: 6.9493 - mean_squared_error: 6.9493 - val_loss: 15.1793 - val_mean_squared_error: 15.1793\n",
      "Epoch 84/100\n",
      "\u001b[1m123/123\u001b[0m \u001b[32m━━━━━━━━━━━━━━━━━━━━\u001b[0m\u001b[37m\u001b[0m \u001b[1m0s\u001b[0m 674us/step - loss: 7.0257 - mean_squared_error: 7.0257 - val_loss: 15.4157 - val_mean_squared_error: 15.4157\n",
      "Epoch 85/100\n",
      "\u001b[1m123/123\u001b[0m \u001b[32m━━━━━━━━━━━━━━━━━━━━\u001b[0m\u001b[37m\u001b[0m \u001b[1m0s\u001b[0m 684us/step - loss: 6.8887 - mean_squared_error: 6.8887 - val_loss: 15.3835 - val_mean_squared_error: 15.3835\n",
      "Epoch 86/100\n",
      "\u001b[1m123/123\u001b[0m \u001b[32m━━━━━━━━━━━━━━━━━━━━\u001b[0m\u001b[37m\u001b[0m \u001b[1m0s\u001b[0m 675us/step - loss: 6.9599 - mean_squared_error: 6.9599 - val_loss: 15.5539 - val_mean_squared_error: 15.5539\n",
      "Epoch 87/100\n",
      "\u001b[1m123/123\u001b[0m \u001b[32m━━━━━━━━━━━━━━━━━━━━\u001b[0m\u001b[37m\u001b[0m \u001b[1m0s\u001b[0m 680us/step - loss: 6.5838 - mean_squared_error: 6.5838 - val_loss: 15.3947 - val_mean_squared_error: 15.3947\n",
      "Epoch 88/100\n",
      "\u001b[1m123/123\u001b[0m \u001b[32m━━━━━━━━━━━━━━━━━━━━\u001b[0m\u001b[37m\u001b[0m \u001b[1m0s\u001b[0m 678us/step - loss: 6.8349 - mean_squared_error: 6.8349 - val_loss: 15.6494 - val_mean_squared_error: 15.6494\n",
      "Epoch 89/100\n",
      "\u001b[1m123/123\u001b[0m \u001b[32m━━━━━━━━━━━━━━━━━━━━\u001b[0m\u001b[37m\u001b[0m \u001b[1m0s\u001b[0m 1ms/step - loss: 6.9013 - mean_squared_error: 6.9013 - val_loss: 15.6742 - val_mean_squared_error: 15.6742\n",
      "Epoch 90/100\n",
      "\u001b[1m123/123\u001b[0m \u001b[32m━━━━━━━━━━━━━━━━━━━━\u001b[0m\u001b[37m\u001b[0m \u001b[1m0s\u001b[0m 673us/step - loss: 6.9793 - mean_squared_error: 6.9793 - val_loss: 15.8054 - val_mean_squared_error: 15.8054\n",
      "Epoch 91/100\n",
      "\u001b[1m123/123\u001b[0m \u001b[32m━━━━━━━━━━━━━━━━━━━━\u001b[0m\u001b[37m\u001b[0m \u001b[1m0s\u001b[0m 670us/step - loss: 6.7237 - mean_squared_error: 6.7237 - val_loss: 15.8688 - val_mean_squared_error: 15.8688\n",
      "Epoch 92/100\n",
      "\u001b[1m123/123\u001b[0m \u001b[32m━━━━━━━━━━━━━━━━━━━━\u001b[0m\u001b[37m\u001b[0m \u001b[1m0s\u001b[0m 676us/step - loss: 6.8835 - mean_squared_error: 6.8835 - val_loss: 15.5834 - val_mean_squared_error: 15.5834\n",
      "Epoch 93/100\n",
      "\u001b[1m123/123\u001b[0m \u001b[32m━━━━━━━━━━━━━━━━━━━━\u001b[0m\u001b[37m\u001b[0m \u001b[1m0s\u001b[0m 672us/step - loss: 7.2785 - mean_squared_error: 7.2785 - val_loss: 15.9022 - val_mean_squared_error: 15.9022\n",
      "Epoch 94/100\n",
      "\u001b[1m123/123\u001b[0m \u001b[32m━━━━━━━━━━━━━━━━━━━━\u001b[0m\u001b[37m\u001b[0m \u001b[1m0s\u001b[0m 682us/step - loss: 7.0379 - mean_squared_error: 7.0379 - val_loss: 15.9156 - val_mean_squared_error: 15.9156\n",
      "Epoch 95/100\n",
      "\u001b[1m123/123\u001b[0m \u001b[32m━━━━━━━━━━━━━━━━━━━━\u001b[0m\u001b[37m\u001b[0m \u001b[1m0s\u001b[0m 673us/step - loss: 6.8175 - mean_squared_error: 6.8175 - val_loss: 16.2874 - val_mean_squared_error: 16.2874\n",
      "Epoch 96/100\n",
      "\u001b[1m123/123\u001b[0m \u001b[32m━━━━━━━━━━━━━━━━━━━━\u001b[0m\u001b[37m\u001b[0m \u001b[1m0s\u001b[0m 682us/step - loss: 6.5946 - mean_squared_error: 6.5946 - val_loss: 15.8564 - val_mean_squared_error: 15.8564\n",
      "Epoch 97/100\n",
      "\u001b[1m123/123\u001b[0m \u001b[32m━━━━━━━━━━━━━━━━━━━━\u001b[0m\u001b[37m\u001b[0m \u001b[1m0s\u001b[0m 680us/step - loss: 6.7695 - mean_squared_error: 6.7695 - val_loss: 16.2947 - val_mean_squared_error: 16.2947\n",
      "Epoch 98/100\n",
      "\u001b[1m123/123\u001b[0m \u001b[32m━━━━━━━━━━━━━━━━━━━━\u001b[0m\u001b[37m\u001b[0m \u001b[1m0s\u001b[0m 676us/step - loss: 6.7057 - mean_squared_error: 6.7057 - val_loss: 15.9752 - val_mean_squared_error: 15.9752\n",
      "Epoch 99/100\n",
      "\u001b[1m123/123\u001b[0m \u001b[32m━━━━━━━━━━━━━━━━━━━━\u001b[0m\u001b[37m\u001b[0m \u001b[1m0s\u001b[0m 679us/step - loss: 7.2740 - mean_squared_error: 7.2740 - val_loss: 16.0863 - val_mean_squared_error: 16.0863\n",
      "Epoch 100/100\n",
      "\u001b[1m123/123\u001b[0m \u001b[32m━━━━━━━━━━━━━━━━━━━━\u001b[0m\u001b[37m\u001b[0m \u001b[1m0s\u001b[0m 678us/step - loss: 7.0090 - mean_squared_error: 7.0090 - val_loss: 16.0133 - val_mean_squared_error: 16.0133\n"
     ]
    },
    {
     "data": {
      "text/plain": [
       "<keras.src.callbacks.history.History at 0x145c17290>"
      ]
     },
     "execution_count": 26,
     "metadata": {},
     "output_type": "execute_result"
    }
   ],
   "source": [
    "import tensorflow as tf\n",
    "\n",
    "dl_reg_model = tf.keras.models.Sequential([\n",
    "    tf.keras.layers.Input(shape=(146,)),  # Input layer with 146 features\n",
    "    tf.keras.layers.Dense(16, activation='relu'),  # Hidden layer with 32 neurons\n",
    "    tf.keras.layers.Dense(1, activation='linear')\n",
    "])\n",
    "\n",
    "dl_reg_model.compile(optimizer='adam',\n",
    "              loss='mean_squared_error',\n",
    "              metrics=['mean_squared_error'])\n",
    "\n",
    "dl_reg_model.fit(X_train, y_train, epochs=100, batch_size=32, validation_split=0.2)"
   ]
  },
  {
   "cell_type": "markdown",
   "metadata": {},
   "source": [
    "### Classification"
   ]
  },
  {
   "cell_type": "code",
   "execution_count": 27,
   "metadata": {},
   "outputs": [
    {
     "name": "stdout",
     "output_type": "stream",
     "text": [
      "Epoch 1/100\n",
      "\u001b[1m123/123\u001b[0m \u001b[32m━━━━━━━━━━━━━━━━━━━━\u001b[0m\u001b[37m\u001b[0m \u001b[1m1s\u001b[0m 1ms/step - accuracy: 0.8569 - loss: 0.4361 - val_accuracy: 0.9314 - val_loss: 0.2169\n",
      "Epoch 2/100\n",
      "\u001b[1m123/123\u001b[0m \u001b[32m━━━━━━━━━━━━━━━━━━━━\u001b[0m\u001b[37m\u001b[0m \u001b[1m0s\u001b[0m 724us/step - accuracy: 0.9421 - loss: 0.1672 - val_accuracy: 0.9417 - val_loss: 0.1624\n",
      "Epoch 3/100\n",
      "\u001b[1m123/123\u001b[0m \u001b[32m━━━━━━━━━━━━━━━━━━━━\u001b[0m\u001b[37m\u001b[0m \u001b[1m0s\u001b[0m 721us/step - accuracy: 0.9426 - loss: 0.1470 - val_accuracy: 0.9498 - val_loss: 0.1383\n",
      "Epoch 4/100\n",
      "\u001b[1m123/123\u001b[0m \u001b[32m━━━━━━━━━━━━━━━━━━━━\u001b[0m\u001b[37m\u001b[0m \u001b[1m0s\u001b[0m 716us/step - accuracy: 0.9449 - loss: 0.1276 - val_accuracy: 0.9488 - val_loss: 0.1327\n",
      "Epoch 5/100\n",
      "\u001b[1m123/123\u001b[0m \u001b[32m━━━━━━━━━━━━━━━━━━━━\u001b[0m\u001b[37m\u001b[0m \u001b[1m0s\u001b[0m 709us/step - accuracy: 0.9500 - loss: 0.1228 - val_accuracy: 0.9560 - val_loss: 0.1177\n",
      "Epoch 6/100\n",
      "\u001b[1m123/123\u001b[0m \u001b[32m━━━━━━━━━━━━━━━━━━━━\u001b[0m\u001b[37m\u001b[0m \u001b[1m0s\u001b[0m 730us/step - accuracy: 0.9502 - loss: 0.1163 - val_accuracy: 0.9611 - val_loss: 0.1131\n",
      "Epoch 7/100\n",
      "\u001b[1m123/123\u001b[0m \u001b[32m━━━━━━━━━━━━━━━━━━━━\u001b[0m\u001b[37m\u001b[0m \u001b[1m0s\u001b[0m 724us/step - accuracy: 0.9454 - loss: 0.1189 - val_accuracy: 0.9601 - val_loss: 0.1093\n",
      "Epoch 8/100\n",
      "\u001b[1m123/123\u001b[0m \u001b[32m━━━━━━━━━━━━━━━━━━━━\u001b[0m\u001b[37m\u001b[0m \u001b[1m0s\u001b[0m 712us/step - accuracy: 0.9499 - loss: 0.1100 - val_accuracy: 0.9611 - val_loss: 0.1070\n",
      "Epoch 9/100\n",
      "\u001b[1m123/123\u001b[0m \u001b[32m━━━━━━━━━━━━━━━━━━━━\u001b[0m\u001b[37m\u001b[0m \u001b[1m0s\u001b[0m 715us/step - accuracy: 0.9485 - loss: 0.1116 - val_accuracy: 0.9580 - val_loss: 0.1132\n",
      "Epoch 10/100\n",
      "\u001b[1m123/123\u001b[0m \u001b[32m━━━━━━━━━━━━━━━━━━━━\u001b[0m\u001b[37m\u001b[0m \u001b[1m0s\u001b[0m 706us/step - accuracy: 0.9573 - loss: 0.1041 - val_accuracy: 0.9642 - val_loss: 0.1035\n",
      "Epoch 11/100\n",
      "\u001b[1m123/123\u001b[0m \u001b[32m━━━━━━━━━━━━━━━━━━━━\u001b[0m\u001b[37m\u001b[0m \u001b[1m0s\u001b[0m 711us/step - accuracy: 0.9514 - loss: 0.1163 - val_accuracy: 0.9632 - val_loss: 0.1025\n",
      "Epoch 12/100\n",
      "\u001b[1m123/123\u001b[0m \u001b[32m━━━━━━━━━━━━━━━━━━━━\u001b[0m\u001b[37m\u001b[0m \u001b[1m0s\u001b[0m 759us/step - accuracy: 0.9557 - loss: 0.0968 - val_accuracy: 0.9611 - val_loss: 0.1039\n",
      "Epoch 13/100\n",
      "\u001b[1m123/123\u001b[0m \u001b[32m━━━━━━━━━━━━━━━━━━━━\u001b[0m\u001b[37m\u001b[0m \u001b[1m0s\u001b[0m 734us/step - accuracy: 0.9450 - loss: 0.1079 - val_accuracy: 0.9621 - val_loss: 0.1028\n",
      "Epoch 14/100\n",
      "\u001b[1m123/123\u001b[0m \u001b[32m━━━━━━━━━━━━━━━━━━━━\u001b[0m\u001b[37m\u001b[0m \u001b[1m0s\u001b[0m 723us/step - accuracy: 0.9573 - loss: 0.0966 - val_accuracy: 0.9621 - val_loss: 0.1077\n",
      "Epoch 15/100\n",
      "\u001b[1m123/123\u001b[0m \u001b[32m━━━━━━━━━━━━━━━━━━━━\u001b[0m\u001b[37m\u001b[0m \u001b[1m0s\u001b[0m 820us/step - accuracy: 0.9560 - loss: 0.0963 - val_accuracy: 0.9621 - val_loss: 0.1024\n",
      "Epoch 16/100\n",
      "\u001b[1m123/123\u001b[0m \u001b[32m━━━━━━━━━━━━━━━━━━━━\u001b[0m\u001b[37m\u001b[0m \u001b[1m0s\u001b[0m 851us/step - accuracy: 0.9483 - loss: 0.1133 - val_accuracy: 0.9652 - val_loss: 0.1028\n",
      "Epoch 17/100\n",
      "\u001b[1m123/123\u001b[0m \u001b[32m━━━━━━━━━━━━━━━━━━━━\u001b[0m\u001b[37m\u001b[0m \u001b[1m0s\u001b[0m 894us/step - accuracy: 0.9552 - loss: 0.0962 - val_accuracy: 0.9652 - val_loss: 0.1021\n",
      "Epoch 18/100\n",
      "\u001b[1m123/123\u001b[0m \u001b[32m━━━━━━━━━━━━━━━━━━━━\u001b[0m\u001b[37m\u001b[0m \u001b[1m0s\u001b[0m 869us/step - accuracy: 0.9591 - loss: 0.0955 - val_accuracy: 0.9621 - val_loss: 0.1081\n",
      "Epoch 19/100\n",
      "\u001b[1m123/123\u001b[0m \u001b[32m━━━━━━━━━━━━━━━━━━━━\u001b[0m\u001b[37m\u001b[0m \u001b[1m0s\u001b[0m 867us/step - accuracy: 0.9524 - loss: 0.1000 - val_accuracy: 0.9652 - val_loss: 0.1020\n",
      "Epoch 20/100\n",
      "\u001b[1m123/123\u001b[0m \u001b[32m━━━━━━━━━━━━━━━━━━━━\u001b[0m\u001b[37m\u001b[0m \u001b[1m0s\u001b[0m 859us/step - accuracy: 0.9551 - loss: 0.1025 - val_accuracy: 0.9632 - val_loss: 0.1046\n",
      "Epoch 21/100\n",
      "\u001b[1m123/123\u001b[0m \u001b[32m━━━━━━━━━━━━━━━━━━━━\u001b[0m\u001b[37m\u001b[0m \u001b[1m0s\u001b[0m 828us/step - accuracy: 0.9556 - loss: 0.1040 - val_accuracy: 0.9652 - val_loss: 0.1038\n",
      "Epoch 22/100\n",
      "\u001b[1m123/123\u001b[0m \u001b[32m━━━━━━━━━━━━━━━━━━━━\u001b[0m\u001b[37m\u001b[0m \u001b[1m0s\u001b[0m 844us/step - accuracy: 0.9585 - loss: 0.0958 - val_accuracy: 0.9642 - val_loss: 0.1044\n",
      "Epoch 23/100\n",
      "\u001b[1m123/123\u001b[0m \u001b[32m━━━━━━━━━━━━━━━━━━━━\u001b[0m\u001b[37m\u001b[0m \u001b[1m0s\u001b[0m 786us/step - accuracy: 0.9570 - loss: 0.0909 - val_accuracy: 0.9652 - val_loss: 0.1016\n",
      "Epoch 24/100\n",
      "\u001b[1m123/123\u001b[0m \u001b[32m━━━━━━━━━━━━━━━━━━━━\u001b[0m\u001b[37m\u001b[0m \u001b[1m0s\u001b[0m 735us/step - accuracy: 0.9594 - loss: 0.0908 - val_accuracy: 0.9632 - val_loss: 0.1035\n",
      "Epoch 25/100\n",
      "\u001b[1m123/123\u001b[0m \u001b[32m━━━━━━━━━━━━━━━━━━━━\u001b[0m\u001b[37m\u001b[0m \u001b[1m0s\u001b[0m 763us/step - accuracy: 0.9608 - loss: 0.0949 - val_accuracy: 0.9621 - val_loss: 0.1030\n",
      "Epoch 26/100\n",
      "\u001b[1m123/123\u001b[0m \u001b[32m━━━━━━━━━━━━━━━━━━━━\u001b[0m\u001b[37m\u001b[0m \u001b[1m0s\u001b[0m 789us/step - accuracy: 0.9593 - loss: 0.0887 - val_accuracy: 0.9632 - val_loss: 0.1021\n",
      "Epoch 27/100\n",
      "\u001b[1m123/123\u001b[0m \u001b[32m━━━━━━━━━━━━━━━━━━━━\u001b[0m\u001b[37m\u001b[0m \u001b[1m0s\u001b[0m 767us/step - accuracy: 0.9608 - loss: 0.0908 - val_accuracy: 0.9662 - val_loss: 0.1029\n",
      "Epoch 28/100\n",
      "\u001b[1m123/123\u001b[0m \u001b[32m━━━━━━━━━━━━━━━━━━━━\u001b[0m\u001b[37m\u001b[0m \u001b[1m0s\u001b[0m 751us/step - accuracy: 0.9605 - loss: 0.0877 - val_accuracy: 0.9642 - val_loss: 0.1071\n",
      "Epoch 29/100\n",
      "\u001b[1m123/123\u001b[0m \u001b[32m━━━━━━━━━━━━━━━━━━━━\u001b[0m\u001b[37m\u001b[0m \u001b[1m0s\u001b[0m 752us/step - accuracy: 0.9648 - loss: 0.0844 - val_accuracy: 0.9632 - val_loss: 0.1054\n",
      "Epoch 30/100\n",
      "\u001b[1m123/123\u001b[0m \u001b[32m━━━━━━━━━━━━━━━━━━━━\u001b[0m\u001b[37m\u001b[0m \u001b[1m0s\u001b[0m 767us/step - accuracy: 0.9649 - loss: 0.0870 - val_accuracy: 0.9662 - val_loss: 0.1036\n",
      "Epoch 31/100\n",
      "\u001b[1m123/123\u001b[0m \u001b[32m━━━━━━━━━━━━━━━━━━━━\u001b[0m\u001b[37m\u001b[0m \u001b[1m0s\u001b[0m 759us/step - accuracy: 0.9579 - loss: 0.0895 - val_accuracy: 0.9642 - val_loss: 0.1050\n",
      "Epoch 32/100\n",
      "\u001b[1m123/123\u001b[0m \u001b[32m━━━━━━━━━━━━━━━━━━━━\u001b[0m\u001b[37m\u001b[0m \u001b[1m0s\u001b[0m 744us/step - accuracy: 0.9637 - loss: 0.0906 - val_accuracy: 0.9632 - val_loss: 0.1047\n",
      "Epoch 33/100\n",
      "\u001b[1m123/123\u001b[0m \u001b[32m━━━━━━━━━━━━━━━━━━━━\u001b[0m\u001b[37m\u001b[0m \u001b[1m0s\u001b[0m 712us/step - accuracy: 0.9595 - loss: 0.0933 - val_accuracy: 0.9611 - val_loss: 0.1058\n",
      "Epoch 34/100\n",
      "\u001b[1m123/123\u001b[0m \u001b[32m━━━━━━━━━━━━━━━━━━━━\u001b[0m\u001b[37m\u001b[0m \u001b[1m0s\u001b[0m 727us/step - accuracy: 0.9652 - loss: 0.0859 - val_accuracy: 0.9642 - val_loss: 0.1068\n",
      "Epoch 35/100\n",
      "\u001b[1m123/123\u001b[0m \u001b[32m━━━━━━━━━━━━━━━━━━━━\u001b[0m\u001b[37m\u001b[0m \u001b[1m0s\u001b[0m 760us/step - accuracy: 0.9623 - loss: 0.0839 - val_accuracy: 0.9652 - val_loss: 0.1061\n",
      "Epoch 36/100\n",
      "\u001b[1m123/123\u001b[0m \u001b[32m━━━━━━━━━━━━━━━━━━━━\u001b[0m\u001b[37m\u001b[0m \u001b[1m0s\u001b[0m 707us/step - accuracy: 0.9635 - loss: 0.0838 - val_accuracy: 0.9621 - val_loss: 0.1101\n",
      "Epoch 37/100\n",
      "\u001b[1m123/123\u001b[0m \u001b[32m━━━━━━━━━━━━━━━━━━━━\u001b[0m\u001b[37m\u001b[0m \u001b[1m0s\u001b[0m 723us/step - accuracy: 0.9615 - loss: 0.0793 - val_accuracy: 0.9621 - val_loss: 0.1088\n",
      "Epoch 38/100\n",
      "\u001b[1m123/123\u001b[0m \u001b[32m━━━━━━━━━━━━━━━━━━━━\u001b[0m\u001b[37m\u001b[0m \u001b[1m0s\u001b[0m 708us/step - accuracy: 0.9686 - loss: 0.0769 - val_accuracy: 0.9632 - val_loss: 0.1079\n",
      "Epoch 39/100\n",
      "\u001b[1m123/123\u001b[0m \u001b[32m━━━━━━━━━━━━━━━━━━━━\u001b[0m\u001b[37m\u001b[0m \u001b[1m0s\u001b[0m 707us/step - accuracy: 0.9714 - loss: 0.0744 - val_accuracy: 0.9642 - val_loss: 0.1087\n",
      "Epoch 40/100\n",
      "\u001b[1m123/123\u001b[0m \u001b[32m━━━━━━━━━━━━━━━━━━━━\u001b[0m\u001b[37m\u001b[0m \u001b[1m0s\u001b[0m 706us/step - accuracy: 0.9726 - loss: 0.0795 - val_accuracy: 0.9632 - val_loss: 0.1106\n",
      "Epoch 41/100\n",
      "\u001b[1m123/123\u001b[0m \u001b[32m━━━━━━━━━━━━━━━━━━━━\u001b[0m\u001b[37m\u001b[0m \u001b[1m0s\u001b[0m 813us/step - accuracy: 0.9704 - loss: 0.0816 - val_accuracy: 0.9672 - val_loss: 0.1101\n",
      "Epoch 42/100\n",
      "\u001b[1m123/123\u001b[0m \u001b[32m━━━━━━━━━━━━━━━━━━━━\u001b[0m\u001b[37m\u001b[0m \u001b[1m0s\u001b[0m 745us/step - accuracy: 0.9658 - loss: 0.0799 - val_accuracy: 0.9642 - val_loss: 0.1128\n",
      "Epoch 43/100\n",
      "\u001b[1m123/123\u001b[0m \u001b[32m━━━━━━━━━━━━━━━━━━━━\u001b[0m\u001b[37m\u001b[0m \u001b[1m0s\u001b[0m 938us/step - accuracy: 0.9720 - loss: 0.0705 - val_accuracy: 0.9632 - val_loss: 0.1109\n",
      "Epoch 44/100\n",
      "\u001b[1m123/123\u001b[0m \u001b[32m━━━━━━━━━━━━━━━━━━━━\u001b[0m\u001b[37m\u001b[0m \u001b[1m0s\u001b[0m 1ms/step - accuracy: 0.9714 - loss: 0.0728 - val_accuracy: 0.9611 - val_loss: 0.1137\n",
      "Epoch 45/100\n",
      "\u001b[1m123/123\u001b[0m \u001b[32m━━━━━━━━━━━━━━━━━━━━\u001b[0m\u001b[37m\u001b[0m \u001b[1m0s\u001b[0m 740us/step - accuracy: 0.9680 - loss: 0.0755 - val_accuracy: 0.9632 - val_loss: 0.1132\n",
      "Epoch 46/100\n",
      "\u001b[1m123/123\u001b[0m \u001b[32m━━━━━━━━━━━━━━━━━━━━\u001b[0m\u001b[37m\u001b[0m \u001b[1m0s\u001b[0m 708us/step - accuracy: 0.9725 - loss: 0.0747 - val_accuracy: 0.9621 - val_loss: 0.1145\n",
      "Epoch 47/100\n",
      "\u001b[1m123/123\u001b[0m \u001b[32m━━━━━━━━━━━━━━━━━━━━\u001b[0m\u001b[37m\u001b[0m \u001b[1m0s\u001b[0m 731us/step - accuracy: 0.9692 - loss: 0.0747 - val_accuracy: 0.9621 - val_loss: 0.1151\n",
      "Epoch 48/100\n",
      "\u001b[1m123/123\u001b[0m \u001b[32m━━━━━━━━━━━━━━━━━━━━\u001b[0m\u001b[37m\u001b[0m \u001b[1m0s\u001b[0m 876us/step - accuracy: 0.9724 - loss: 0.0704 - val_accuracy: 0.9621 - val_loss: 0.1154\n",
      "Epoch 49/100\n",
      "\u001b[1m123/123\u001b[0m \u001b[32m━━━━━━━━━━━━━━━━━━━━\u001b[0m\u001b[37m\u001b[0m \u001b[1m0s\u001b[0m 701us/step - accuracy: 0.9716 - loss: 0.0684 - val_accuracy: 0.9611 - val_loss: 0.1157\n",
      "Epoch 50/100\n",
      "\u001b[1m123/123\u001b[0m \u001b[32m━━━━━━━━━━━━━━━━━━━━\u001b[0m\u001b[37m\u001b[0m \u001b[1m0s\u001b[0m 704us/step - accuracy: 0.9677 - loss: 0.0736 - val_accuracy: 0.9580 - val_loss: 0.1201\n",
      "Epoch 51/100\n",
      "\u001b[1m123/123\u001b[0m \u001b[32m━━━━━━━━━━━━━━━━━━━━\u001b[0m\u001b[37m\u001b[0m \u001b[1m0s\u001b[0m 707us/step - accuracy: 0.9730 - loss: 0.0750 - val_accuracy: 0.9580 - val_loss: 0.1191\n",
      "Epoch 52/100\n",
      "\u001b[1m123/123\u001b[0m \u001b[32m━━━━━━━━━━━━━━━━━━━━\u001b[0m\u001b[37m\u001b[0m \u001b[1m0s\u001b[0m 712us/step - accuracy: 0.9702 - loss: 0.0713 - val_accuracy: 0.9570 - val_loss: 0.1204\n",
      "Epoch 53/100\n",
      "\u001b[1m123/123\u001b[0m \u001b[32m━━━━━━━━━━━━━━━━━━━━\u001b[0m\u001b[37m\u001b[0m \u001b[1m0s\u001b[0m 708us/step - accuracy: 0.9681 - loss: 0.0768 - val_accuracy: 0.9570 - val_loss: 0.1198\n",
      "Epoch 54/100\n",
      "\u001b[1m123/123\u001b[0m \u001b[32m━━━━━━━━━━━━━━━━━━━━\u001b[0m\u001b[37m\u001b[0m \u001b[1m0s\u001b[0m 704us/step - accuracy: 0.9707 - loss: 0.0697 - val_accuracy: 0.9570 - val_loss: 0.1210\n",
      "Epoch 55/100\n",
      "\u001b[1m123/123\u001b[0m \u001b[32m━━━━━━━━━━━━━━━━━━━━\u001b[0m\u001b[37m\u001b[0m \u001b[1m0s\u001b[0m 706us/step - accuracy: 0.9747 - loss: 0.0640 - val_accuracy: 0.9591 - val_loss: 0.1222\n",
      "Epoch 56/100\n",
      "\u001b[1m123/123\u001b[0m \u001b[32m━━━━━━━━━━━━━━━━━━━━\u001b[0m\u001b[37m\u001b[0m \u001b[1m0s\u001b[0m 700us/step - accuracy: 0.9732 - loss: 0.0697 - val_accuracy: 0.9580 - val_loss: 0.1223\n",
      "Epoch 57/100\n",
      "\u001b[1m123/123\u001b[0m \u001b[32m━━━━━━━━━━━━━━━━━━━━\u001b[0m\u001b[37m\u001b[0m \u001b[1m0s\u001b[0m 704us/step - accuracy: 0.9735 - loss: 0.0690 - val_accuracy: 0.9580 - val_loss: 0.1227\n",
      "Epoch 58/100\n",
      "\u001b[1m123/123\u001b[0m \u001b[32m━━━━━━━━━━━━━━━━━━━━\u001b[0m\u001b[37m\u001b[0m \u001b[1m0s\u001b[0m 708us/step - accuracy: 0.9748 - loss: 0.0670 - val_accuracy: 0.9580 - val_loss: 0.1243\n",
      "Epoch 59/100\n",
      "\u001b[1m123/123\u001b[0m \u001b[32m━━━━━━━━━━━━━━━━━━━━\u001b[0m\u001b[37m\u001b[0m \u001b[1m0s\u001b[0m 706us/step - accuracy: 0.9734 - loss: 0.0675 - val_accuracy: 0.9591 - val_loss: 0.1289\n",
      "Epoch 60/100\n",
      "\u001b[1m123/123\u001b[0m \u001b[32m━━━━━━━━━━━━━━━━━━━━\u001b[0m\u001b[37m\u001b[0m \u001b[1m0s\u001b[0m 710us/step - accuracy: 0.9712 - loss: 0.0650 - val_accuracy: 0.9550 - val_loss: 0.1240\n",
      "Epoch 61/100\n",
      "\u001b[1m123/123\u001b[0m \u001b[32m━━━━━━━━━━━━━━━━━━━━\u001b[0m\u001b[37m\u001b[0m \u001b[1m0s\u001b[0m 958us/step - accuracy: 0.9736 - loss: 0.0719 - val_accuracy: 0.9580 - val_loss: 0.1253\n",
      "Epoch 62/100\n",
      "\u001b[1m123/123\u001b[0m \u001b[32m━━━━━━━━━━━━━━━━━━━━\u001b[0m\u001b[37m\u001b[0m \u001b[1m0s\u001b[0m 786us/step - accuracy: 0.9734 - loss: 0.0703 - val_accuracy: 0.9591 - val_loss: 0.1267\n",
      "Epoch 63/100\n",
      "\u001b[1m123/123\u001b[0m \u001b[32m━━━━━━━━━━━━━━━━━━━━\u001b[0m\u001b[37m\u001b[0m \u001b[1m0s\u001b[0m 700us/step - accuracy: 0.9722 - loss: 0.0682 - val_accuracy: 0.9550 - val_loss: 0.1274\n",
      "Epoch 64/100\n",
      "\u001b[1m123/123\u001b[0m \u001b[32m━━━━━━━━━━━━━━━━━━━━\u001b[0m\u001b[37m\u001b[0m \u001b[1m0s\u001b[0m 706us/step - accuracy: 0.9783 - loss: 0.0608 - val_accuracy: 0.9539 - val_loss: 0.1302\n",
      "Epoch 65/100\n",
      "\u001b[1m123/123\u001b[0m \u001b[32m━━━━━━━━━━━━━━━━━━━━\u001b[0m\u001b[37m\u001b[0m \u001b[1m0s\u001b[0m 707us/step - accuracy: 0.9721 - loss: 0.0660 - val_accuracy: 0.9509 - val_loss: 0.1311\n",
      "Epoch 66/100\n",
      "\u001b[1m123/123\u001b[0m \u001b[32m━━━━━━━━━━━━━━━━━━━━\u001b[0m\u001b[37m\u001b[0m \u001b[1m0s\u001b[0m 709us/step - accuracy: 0.9763 - loss: 0.0611 - val_accuracy: 0.9550 - val_loss: 0.1346\n",
      "Epoch 67/100\n",
      "\u001b[1m123/123\u001b[0m \u001b[32m━━━━━━━━━━━━━━━━━━━━\u001b[0m\u001b[37m\u001b[0m \u001b[1m0s\u001b[0m 700us/step - accuracy: 0.9747 - loss: 0.0616 - val_accuracy: 0.9539 - val_loss: 0.1323\n",
      "Epoch 68/100\n",
      "\u001b[1m123/123\u001b[0m \u001b[32m━━━━━━━━━━━━━━━━━━━━\u001b[0m\u001b[37m\u001b[0m \u001b[1m0s\u001b[0m 1ms/step - accuracy: 0.9807 - loss: 0.0601 - val_accuracy: 0.9570 - val_loss: 0.1317\n",
      "Epoch 69/100\n",
      "\u001b[1m123/123\u001b[0m \u001b[32m━━━━━━━━━━━━━━━━━━━━\u001b[0m\u001b[37m\u001b[0m \u001b[1m0s\u001b[0m 714us/step - accuracy: 0.9797 - loss: 0.0582 - val_accuracy: 0.9529 - val_loss: 0.1334\n",
      "Epoch 70/100\n",
      "\u001b[1m123/123\u001b[0m \u001b[32m━━━━━━━━━━━━━━━━━━━━\u001b[0m\u001b[37m\u001b[0m \u001b[1m0s\u001b[0m 927us/step - accuracy: 0.9773 - loss: 0.0608 - val_accuracy: 0.9580 - val_loss: 0.1340\n",
      "Epoch 71/100\n",
      "\u001b[1m123/123\u001b[0m \u001b[32m━━━━━━━━━━━━━━━━━━━━\u001b[0m\u001b[37m\u001b[0m \u001b[1m0s\u001b[0m 851us/step - accuracy: 0.9772 - loss: 0.0600 - val_accuracy: 0.9498 - val_loss: 0.1413\n",
      "Epoch 72/100\n",
      "\u001b[1m123/123\u001b[0m \u001b[32m━━━━━━━━━━━━━━━━━━━━\u001b[0m\u001b[37m\u001b[0m \u001b[1m0s\u001b[0m 892us/step - accuracy: 0.9766 - loss: 0.0663 - val_accuracy: 0.9560 - val_loss: 0.1351\n",
      "Epoch 73/100\n",
      "\u001b[1m123/123\u001b[0m \u001b[32m━━━━━━━━━━━━━━━━━━━━\u001b[0m\u001b[37m\u001b[0m \u001b[1m0s\u001b[0m 879us/step - accuracy: 0.9763 - loss: 0.0580 - val_accuracy: 0.9519 - val_loss: 0.1376\n",
      "Epoch 74/100\n",
      "\u001b[1m123/123\u001b[0m \u001b[32m━━━━━━━━━━━━━━━━━━━━\u001b[0m\u001b[37m\u001b[0m \u001b[1m0s\u001b[0m 874us/step - accuracy: 0.9766 - loss: 0.0644 - val_accuracy: 0.9580 - val_loss: 0.1374\n",
      "Epoch 75/100\n",
      "\u001b[1m123/123\u001b[0m \u001b[32m━━━━━━━━━━━━━━━━━━━━\u001b[0m\u001b[37m\u001b[0m \u001b[1m0s\u001b[0m 912us/step - accuracy: 0.9738 - loss: 0.0600 - val_accuracy: 0.9560 - val_loss: 0.1381\n",
      "Epoch 76/100\n",
      "\u001b[1m123/123\u001b[0m \u001b[32m━━━━━━━━━━━━━━━━━━━━\u001b[0m\u001b[37m\u001b[0m \u001b[1m0s\u001b[0m 851us/step - accuracy: 0.9757 - loss: 0.0585 - val_accuracy: 0.9580 - val_loss: 0.1382\n",
      "Epoch 77/100\n",
      "\u001b[1m123/123\u001b[0m \u001b[32m━━━━━━━━━━━━━━━━━━━━\u001b[0m\u001b[37m\u001b[0m \u001b[1m0s\u001b[0m 1ms/step - accuracy: 0.9791 - loss: 0.0559 - val_accuracy: 0.9550 - val_loss: 0.1396\n",
      "Epoch 78/100\n",
      "\u001b[1m123/123\u001b[0m \u001b[32m━━━━━━━━━━━━━━━━━━━━\u001b[0m\u001b[37m\u001b[0m \u001b[1m0s\u001b[0m 2ms/step - accuracy: 0.9801 - loss: 0.0577 - val_accuracy: 0.9570 - val_loss: 0.1412\n",
      "Epoch 79/100\n",
      "\u001b[1m123/123\u001b[0m \u001b[32m━━━━━━━━━━━━━━━━━━━━\u001b[0m\u001b[37m\u001b[0m \u001b[1m0s\u001b[0m 1ms/step - accuracy: 0.9745 - loss: 0.0589 - val_accuracy: 0.9550 - val_loss: 0.1416\n",
      "Epoch 80/100\n",
      "\u001b[1m123/123\u001b[0m \u001b[32m━━━━━━━━━━━━━━━━━━━━\u001b[0m\u001b[37m\u001b[0m \u001b[1m0s\u001b[0m 840us/step - accuracy: 0.9740 - loss: 0.0619 - val_accuracy: 0.9560 - val_loss: 0.1415\n",
      "Epoch 81/100\n",
      "\u001b[1m123/123\u001b[0m \u001b[32m━━━━━━━━━━━━━━━━━━━━\u001b[0m\u001b[37m\u001b[0m \u001b[1m0s\u001b[0m 883us/step - accuracy: 0.9813 - loss: 0.0503 - val_accuracy: 0.9498 - val_loss: 0.1493\n",
      "Epoch 82/100\n",
      "\u001b[1m123/123\u001b[0m \u001b[32m━━━━━━━━━━━━━━━━━━━━\u001b[0m\u001b[37m\u001b[0m \u001b[1m0s\u001b[0m 759us/step - accuracy: 0.9785 - loss: 0.0567 - val_accuracy: 0.9560 - val_loss: 0.1422\n",
      "Epoch 83/100\n",
      "\u001b[1m123/123\u001b[0m \u001b[32m━━━━━━━━━━━━━━━━━━━━\u001b[0m\u001b[37m\u001b[0m \u001b[1m0s\u001b[0m 746us/step - accuracy: 0.9773 - loss: 0.0637 - val_accuracy: 0.9529 - val_loss: 0.1461\n",
      "Epoch 84/100\n",
      "\u001b[1m123/123\u001b[0m \u001b[32m━━━━━━━━━━━━━━━━━━━━\u001b[0m\u001b[37m\u001b[0m \u001b[1m0s\u001b[0m 783us/step - accuracy: 0.9744 - loss: 0.0582 - val_accuracy: 0.9560 - val_loss: 0.1461\n",
      "Epoch 85/100\n",
      "\u001b[1m123/123\u001b[0m \u001b[32m━━━━━━━━━━━━━━━━━━━━\u001b[0m\u001b[37m\u001b[0m \u001b[1m0s\u001b[0m 760us/step - accuracy: 0.9818 - loss: 0.0522 - val_accuracy: 0.9560 - val_loss: 0.1488\n",
      "Epoch 86/100\n",
      "\u001b[1m123/123\u001b[0m \u001b[32m━━━━━━━━━━━━━━━━━━━━\u001b[0m\u001b[37m\u001b[0m \u001b[1m0s\u001b[0m 753us/step - accuracy: 0.9774 - loss: 0.0535 - val_accuracy: 0.9560 - val_loss: 0.1483\n",
      "Epoch 87/100\n",
      "\u001b[1m123/123\u001b[0m \u001b[32m━━━━━━━━━━━━━━━━━━━━\u001b[0m\u001b[37m\u001b[0m \u001b[1m0s\u001b[0m 765us/step - accuracy: 0.9794 - loss: 0.0542 - val_accuracy: 0.9519 - val_loss: 0.1484\n",
      "Epoch 88/100\n",
      "\u001b[1m123/123\u001b[0m \u001b[32m━━━━━━━━━━━━━━━━━━━━\u001b[0m\u001b[37m\u001b[0m \u001b[1m0s\u001b[0m 755us/step - accuracy: 0.9810 - loss: 0.0540 - val_accuracy: 0.9550 - val_loss: 0.1494\n",
      "Epoch 89/100\n",
      "\u001b[1m123/123\u001b[0m \u001b[32m━━━━━━━━━━━━━━━━━━━━\u001b[0m\u001b[37m\u001b[0m \u001b[1m0s\u001b[0m 736us/step - accuracy: 0.9766 - loss: 0.0570 - val_accuracy: 0.9570 - val_loss: 0.1506\n",
      "Epoch 90/100\n",
      "\u001b[1m123/123\u001b[0m \u001b[32m━━━━━━━━━━━━━━━━━━━━\u001b[0m\u001b[37m\u001b[0m \u001b[1m0s\u001b[0m 708us/step - accuracy: 0.9773 - loss: 0.0515 - val_accuracy: 0.9560 - val_loss: 0.1518\n",
      "Epoch 91/100\n",
      "\u001b[1m123/123\u001b[0m \u001b[32m━━━━━━━━━━━━━━━━━━━━\u001b[0m\u001b[37m\u001b[0m \u001b[1m0s\u001b[0m 824us/step - accuracy: 0.9786 - loss: 0.0530 - val_accuracy: 0.9539 - val_loss: 0.1523\n",
      "Epoch 92/100\n",
      "\u001b[1m123/123\u001b[0m \u001b[32m━━━━━━━━━━━━━━━━━━━━\u001b[0m\u001b[37m\u001b[0m \u001b[1m0s\u001b[0m 844us/step - accuracy: 0.9780 - loss: 0.0578 - val_accuracy: 0.9550 - val_loss: 0.1531\n",
      "Epoch 93/100\n",
      "\u001b[1m123/123\u001b[0m \u001b[32m━━━━━━━━━━━━━━━━━━━━\u001b[0m\u001b[37m\u001b[0m \u001b[1m0s\u001b[0m 736us/step - accuracy: 0.9797 - loss: 0.0522 - val_accuracy: 0.9539 - val_loss: 0.1533\n",
      "Epoch 94/100\n",
      "\u001b[1m123/123\u001b[0m \u001b[32m━━━━━━━━━━━━━━━━━━━━\u001b[0m\u001b[37m\u001b[0m \u001b[1m0s\u001b[0m 765us/step - accuracy: 0.9779 - loss: 0.0585 - val_accuracy: 0.9529 - val_loss: 0.1557\n",
      "Epoch 95/100\n",
      "\u001b[1m123/123\u001b[0m \u001b[32m━━━━━━━━━━━━━━━━━━━━\u001b[0m\u001b[37m\u001b[0m \u001b[1m0s\u001b[0m 714us/step - accuracy: 0.9798 - loss: 0.0544 - val_accuracy: 0.9539 - val_loss: 0.1553\n",
      "Epoch 96/100\n",
      "\u001b[1m123/123\u001b[0m \u001b[32m━━━━━━━━━━━━━━━━━━━━\u001b[0m\u001b[37m\u001b[0m \u001b[1m0s\u001b[0m 711us/step - accuracy: 0.9799 - loss: 0.0524 - val_accuracy: 0.9550 - val_loss: 0.1566\n",
      "Epoch 97/100\n",
      "\u001b[1m123/123\u001b[0m \u001b[32m━━━━━━━━━━━━━━━━━━━━\u001b[0m\u001b[37m\u001b[0m \u001b[1m0s\u001b[0m 742us/step - accuracy: 0.9795 - loss: 0.0508 - val_accuracy: 0.9539 - val_loss: 0.1617\n",
      "Epoch 98/100\n",
      "\u001b[1m123/123\u001b[0m \u001b[32m━━━━━━━━━━━━━━━━━━━━\u001b[0m\u001b[37m\u001b[0m \u001b[1m0s\u001b[0m 871us/step - accuracy: 0.9808 - loss: 0.0521 - val_accuracy: 0.9519 - val_loss: 0.1598\n",
      "Epoch 99/100\n",
      "\u001b[1m123/123\u001b[0m \u001b[32m━━━━━━━━━━━━━━━━━━━━\u001b[0m\u001b[37m\u001b[0m \u001b[1m0s\u001b[0m 878us/step - accuracy: 0.9825 - loss: 0.0475 - val_accuracy: 0.9498 - val_loss: 0.1606\n",
      "Epoch 100/100\n",
      "\u001b[1m123/123\u001b[0m \u001b[32m━━━━━━━━━━━━━━━━━━━━\u001b[0m\u001b[37m\u001b[0m \u001b[1m0s\u001b[0m 1ms/step - accuracy: 0.9825 - loss: 0.0506 - val_accuracy: 0.9550 - val_loss: 0.1572\n",
      "\u001b[1m14/14\u001b[0m \u001b[32m━━━━━━━━━━━━━━━━━━━━\u001b[0m\u001b[37m\u001b[0m \u001b[1m0s\u001b[0m 1ms/step - accuracy: 0.9401 - loss: 0.1951 \n",
      "Test accuracy: 0.9239904880523682\n"
     ]
    }
   ],
   "source": [
    "import tensorflow as tf\n",
    "\n",
    "# Define the model\n",
    "dl_cl_model = tf.keras.models.Sequential([\n",
    "    tf.keras.layers.Input(shape=(146,)),  # Input layer with 146 features\n",
    "    tf.keras.layers.Dense(32, activation='relu'),  # Additional hidden layer with 64 neurons\n",
    "    tf.keras.layers.Dense(1, activation='sigmoid')  # Output layer for classification\n",
    "])\n",
    "\n",
    "dl_cl_model.compile(optimizer='adam',\n",
    "              loss='binary_crossentropy',\n",
    "              metrics=['accuracy'])\n",
    "\n",
    "# Train the model\n",
    "dl_cl_model.fit(X_train, y_train_c, epochs=100, batch_size=32, validation_split=0.2)\n",
    "\n",
    "# Evaluate the model on the test set\n",
    "test_loss, test_acc = dl_cl_model.evaluate(X_test, y_test_c)\n",
    "\n",
    "print(f'Test accuracy: {test_acc}')\n"
   ]
  },
  {
   "cell_type": "markdown",
   "metadata": {},
   "source": [
    "# Metrics"
   ]
  },
  {
   "cell_type": "markdown",
   "metadata": {},
   "source": [
    "### Regression models"
   ]
  },
  {
   "cell_type": "code",
   "execution_count": 28,
   "metadata": {},
   "outputs": [
    {
     "name": "stdout",
     "output_type": "stream",
     "text": [
      "          model_name  accuracy\n",
      "0  Linear Regression  0.041667\n",
      "1      Random Forest  0.375000\n",
      "2                SVM  0.375000\n",
      "3      Decision Tree  0.333333\n",
      "4                KNN  0.208333\n",
      "5              Lasso  0.416667\n"
     ]
    }
   ],
   "source": [
    "reg_models = [\n",
    "    (\"Linear Regression\", \"reg_lr_model\"),\n",
    "    (\"Random Forest\", \"reg_rf_model\"),\n",
    "    (\"SVM\", \"reg_svm_model\"),\n",
    "    (\"Decision Tree\", \"reg_dt_model\"),\n",
    "    (\"KNN\", \"reg_knn_model\"),\n",
    "    (\"Lasso\", \"reg_lasso_model\") # TODO: Adapt Deep Learning: dl_reg_model\n",
    "]\n",
    "\n",
    "reg_models_accuracy = test_all_models(test_df, reg_models)\n",
    "\n",
    "print(reg_models_accuracy)"
   ]
  },
  {
   "cell_type": "code",
   "execution_count": 29,
   "metadata": {},
   "outputs": [
    {
     "name": "stdout",
     "output_type": "stream",
     "text": [
      " year  round predicted_winner  predicted_position actual_winner\n",
      " 2024      1       Verstappen            5.738987    Verstappen\n",
      " 2024      2       Verstappen            1.167036    Verstappen\n",
      " 2024      3          Leclerc            2.600225            --\n",
      " 2024      4       Verstappen            2.214198    Verstappen\n",
      " 2024      5       Verstappen            1.891564    Verstappen\n",
      " 2024      6       Verstappen            1.340561        Norris\n",
      " 2024      7       Verstappen            1.395040    Verstappen\n",
      " 2024      8          Leclerc            2.935386       Leclerc\n",
      " 2024      9       Verstappen            2.114960    Verstappen\n",
      " 2024     10       Verstappen            1.834022    Verstappen\n",
      " 2024     11       Verstappen            1.050475       Russell\n",
      " 2024     12       Verstappen            2.571257      Hamilton\n",
      " 2024     13       Verstappen            2.012855       Piastri\n",
      " 2024     14          Leclerc            3.396601      Hamilton\n",
      " 2024     15       Verstappen            1.919905        Norris\n",
      " 2024     16           Norris            2.957017       Leclerc\n",
      " 2024     17       Verstappen            4.261481       Piastri\n",
      " 2024     18       Verstappen            2.558091        Norris\n",
      " 2024     19       Verstappen            2.036238       Leclerc\n",
      " 2024     20       Verstappen            3.141685         Sainz\n",
      " 2024     21           Norris            3.088998    Verstappen\n",
      " 2024     22            Sainz            4.459500       Russell\n",
      " 2024     23       Verstappen            3.353842    Verstappen\n",
      " 2024     24           Norris            2.760444        Norris\n"
     ]
    }
   ],
   "source": [
    "results_df = process_all_rounds(test_df, reg_lasso_model) # TODO: choose the better model dynamically\n",
    "print(results_df.to_string(index=False))"
   ]
  },
  {
   "cell_type": "markdown",
   "metadata": {},
   "source": [
    "### Classification models"
   ]
  },
  {
   "cell_type": "code",
   "execution_count": 30,
   "metadata": {},
   "outputs": [],
   "source": [
    "cla_models = [\n",
    "    (\"Logistic Regression\", \"cla_lr_model\"),\n",
    "    (\"Decision Tree\", \"cla_dt_model\"),\n",
    "    (\"SVM\", \"cla_svm_model\"),\n",
    "    (\"Random Forest\", \"cla_rf_model\"),\n",
    "    (\"KNN\", \"cla_knn_model\"),\n",
    "    (\"GaussianNB\", \"cla_nb_model\") # (\"Deep Learning\", \"dl_cl_model\") TODO\n",
    "]\n",
    "\n",
    "test_df_c = test_df.copy()\n",
    "test_df_c['position'] = test_df_c['position'].apply(lambda x: 1 if x == 1 else 0)"
   ]
  },
  {
   "cell_type": "code",
   "execution_count": 31,
   "metadata": {},
   "outputs": [],
   "source": [
    "cla_models_accuracy = test_all_models_classification(test_df_c, cla_models)"
   ]
  },
  {
   "cell_type": "code",
   "execution_count": 32,
   "metadata": {},
   "outputs": [
    {
     "name": "stdout",
     "output_type": "stream",
     "text": [
      "            model_name  accuracy\n",
      "0  Logistic Regression  0.333333\n",
      "1        Decision Tree  0.208333\n",
      "2                  SVM  0.291667\n",
      "3        Random Forest  0.333333\n",
      "4                  KNN  0.291667\n",
      "5           GaussianNB  0.708333\n"
     ]
    }
   ],
   "source": [
    "print(cla_models_accuracy)"
   ]
  },
  {
   "cell_type": "markdown",
   "metadata": {},
   "source": [
    "### Plot comparison"
   ]
  },
  {
   "cell_type": "code",
   "execution_count": 33,
   "metadata": {},
   "outputs": [
    {
     "data": {
      "image/png": "[encoded data removed]",
      "text/plain": [
       "<Figure size 1000x600 with 1 Axes>"
      ]
     },
     "metadata": {},
     "output_type": "display_data"
    }
   ],
   "source": [
    "import matplotlib.pyplot as plt\n",
    "import numpy as np\n",
    "\n",
    "# Combine both DataFrames into one for easier plotting\n",
    "reg_models_accuracy['type'] = 'Regression'\n",
    "cla_models_accuracy['type'] = 'Classification'\n",
    "combined_df = pd.concat([reg_models_accuracy, cla_models_accuracy])\n",
    "\n",
    "x_labels = combined_df['model_name'].values\n",
    "x_indices = np.arange(len(x_labels))\n",
    "bar_colors = combined_df['type'].map({'Regression': 'blue', 'Classification': 'green'})\n",
    "\n",
    "plt.figure(figsize=(10, 6))\n",
    "plt.bar(x_indices, combined_df['accuracy'], color=bar_colors, alpha=0.8, edgecolor='black')\n",
    "\n",
    "plt.xticks(x_indices, x_labels, rotation=45, ha='right', fontsize=10)\n",
    "plt.ylabel('Accuracy')\n",
    "plt.title('Model Accuracy Comparison')\n",
    "\n",
    "handles = [\n",
    "    plt.Rectangle((0, 0), 1, 1, facecolor='blue', alpha=0.8, edgecolor='black', label='Regression'),\n",
    "    plt.Rectangle((0, 0), 1, 1, facecolor='green', alpha=0.8, edgecolor='black', label='Classification')\n",
    "]\n",
    "plt.legend(handles=handles, loc='upper left')\n",
    "\n",
    "plt.grid(axis='y', linestyle='-', alpha=0.5)\n",
    "\n",
    "plt.tight_layout()\n",
    "plt.show()"
   ]
  },
  {
   "cell_type": "markdown",
   "metadata": {},
   "source": [
    "## Save The model"
   ]
  },
  {
   "cell_type": "code",
   "execution_count": 34,
   "metadata": {},
   "outputs": [
    {
     "data": {
      "text/plain": [
       "['trained_model.pkl']"
      ]
     },
     "execution_count": 34,
     "metadata": {},
     "output_type": "execute_result"
    }
   ],
   "source": [
    "import joblib\n",
    "\n",
    "joblib.dump(cla_nb_model, 'trained_model.pkl') # TODO: use the best model dinamically"
   ]
  }
 ],
 "metadata": {
  "kernelspec": {
   "display_name": "Python 3",
   "language": "python",
   "name": "python3"
  },
  "language_info": {
   "codemirror_mode": {
    "name": "ipython",
    "version": 3
   },
   "file_extension": ".py",
   "mimetype": "text/x-python",
   "name": "python",
   "nbconvert_exporter": "python",
   "pygments_lexer": "ipython3",
   "version": "3.12.0"
  }
 },
 "nbformat": 4,
 "nbformat_minor": 2
}
