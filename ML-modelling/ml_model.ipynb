{
 "cells": [
  {
   "cell_type": "code",
   "execution_count": 1,
   "metadata": {},
   "outputs": [],
   "source": [
    "import pandas as pd\n",
    "from sklearn.preprocessing import StandardScaler"
   ]
  },
  {
   "cell_type": "code",
   "execution_count": 2,
   "metadata": {},
   "outputs": [
    {
     "data": {
      "text/html": [
       "<div>\n",
       "<style scoped>\n",
       "    .dataframe tbody tr th:only-of-type {\n",
       "        vertical-align: middle;\n",
       "    }\n",
       "\n",
       "    .dataframe tbody tr th {\n",
       "        vertical-align: top;\n",
       "    }\n",
       "\n",
       "    .dataframe thead th {\n",
       "        text-align: right;\n",
       "    }\n",
       "</style>\n",
       "<table border=\"1\" class=\"dataframe\">\n",
       "  <thead>\n",
       "    <tr style=\"text-align: right;\">\n",
       "      <th></th>\n",
       "      <th>grid</th>\n",
       "      <th>position</th>\n",
       "      <th>year</th>\n",
       "      <th>round</th>\n",
       "      <th>driver_age</th>\n",
       "      <th>driver_experience</th>\n",
       "      <th>driver_constructor_experience</th>\n",
       "      <th>driver_wins</th>\n",
       "      <th>constructor_wins</th>\n",
       "      <th>driver_points</th>\n",
       "      <th>...</th>\n",
       "      <th>constructor_manor</th>\n",
       "      <th>constructor_marussia</th>\n",
       "      <th>constructor_mclaren</th>\n",
       "      <th>constructor_mercedes</th>\n",
       "      <th>constructor_racing_point</th>\n",
       "      <th>constructor_red_bull</th>\n",
       "      <th>constructor_renault</th>\n",
       "      <th>constructor_sauber</th>\n",
       "      <th>constructor_toro_rosso</th>\n",
       "      <th>constructor_williams</th>\n",
       "    </tr>\n",
       "  </thead>\n",
       "  <tbody>\n",
       "    <tr>\n",
       "      <th>0</th>\n",
       "      <td>4</td>\n",
       "      <td>3.0</td>\n",
       "      <td>2010</td>\n",
       "      <td>1</td>\n",
       "      <td>25</td>\n",
       "      <td>52</td>\n",
       "      <td>52</td>\n",
       "      <td>11.0</td>\n",
       "      <td>1.0</td>\n",
       "      <td>0.0</td>\n",
       "      <td>...</td>\n",
       "      <td>False</td>\n",
       "      <td>False</td>\n",
       "      <td>True</td>\n",
       "      <td>False</td>\n",
       "      <td>False</td>\n",
       "      <td>False</td>\n",
       "      <td>False</td>\n",
       "      <td>False</td>\n",
       "      <td>False</td>\n",
       "      <td>False</td>\n",
       "    </tr>\n",
       "    <tr>\n",
       "      <th>1</th>\n",
       "      <td>5</td>\n",
       "      <td>5.0</td>\n",
       "      <td>2010</td>\n",
       "      <td>1</td>\n",
       "      <td>24</td>\n",
       "      <td>70</td>\n",
       "      <td>0</td>\n",
       "      <td>0.0</td>\n",
       "      <td>0.0</td>\n",
       "      <td>0.0</td>\n",
       "      <td>...</td>\n",
       "      <td>False</td>\n",
       "      <td>False</td>\n",
       "      <td>False</td>\n",
       "      <td>True</td>\n",
       "      <td>False</td>\n",
       "      <td>False</td>\n",
       "      <td>False</td>\n",
       "      <td>False</td>\n",
       "      <td>False</td>\n",
       "      <td>False</td>\n",
       "    </tr>\n",
       "    <tr>\n",
       "      <th>2</th>\n",
       "      <td>3</td>\n",
       "      <td>1.0</td>\n",
       "      <td>2010</td>\n",
       "      <td>1</td>\n",
       "      <td>28</td>\n",
       "      <td>140</td>\n",
       "      <td>0</td>\n",
       "      <td>21.0</td>\n",
       "      <td>0.0</td>\n",
       "      <td>0.0</td>\n",
       "      <td>...</td>\n",
       "      <td>False</td>\n",
       "      <td>False</td>\n",
       "      <td>False</td>\n",
       "      <td>False</td>\n",
       "      <td>False</td>\n",
       "      <td>False</td>\n",
       "      <td>False</td>\n",
       "      <td>False</td>\n",
       "      <td>False</td>\n",
       "      <td>False</td>\n",
       "    </tr>\n",
       "    <tr>\n",
       "      <th>3</th>\n",
       "      <td>21</td>\n",
       "      <td>15.0</td>\n",
       "      <td>2010</td>\n",
       "      <td>1</td>\n",
       "      <td>28</td>\n",
       "      <td>52</td>\n",
       "      <td>0</td>\n",
       "      <td>1.0</td>\n",
       "      <td>0.0</td>\n",
       "      <td>0.0</td>\n",
       "      <td>...</td>\n",
       "      <td>False</td>\n",
       "      <td>False</td>\n",
       "      <td>False</td>\n",
       "      <td>False</td>\n",
       "      <td>False</td>\n",
       "      <td>False</td>\n",
       "      <td>False</td>\n",
       "      <td>False</td>\n",
       "      <td>False</td>\n",
       "      <td>False</td>\n",
       "    </tr>\n",
       "    <tr>\n",
       "      <th>4</th>\n",
       "      <td>9</td>\n",
       "      <td>11.0</td>\n",
       "      <td>2010</td>\n",
       "      <td>1</td>\n",
       "      <td>25</td>\n",
       "      <td>57</td>\n",
       "      <td>0</td>\n",
       "      <td>1.0</td>\n",
       "      <td>0.0</td>\n",
       "      <td>0.0</td>\n",
       "      <td>...</td>\n",
       "      <td>False</td>\n",
       "      <td>False</td>\n",
       "      <td>False</td>\n",
       "      <td>False</td>\n",
       "      <td>False</td>\n",
       "      <td>False</td>\n",
       "      <td>True</td>\n",
       "      <td>False</td>\n",
       "      <td>False</td>\n",
       "      <td>False</td>\n",
       "    </tr>\n",
       "  </tbody>\n",
       "</table>\n",
       "<p>5 rows × 123 columns</p>\n",
       "</div>"
      ],
      "text/plain": [
       "   grid  position  year  round  driver_age  driver_experience  \\\n",
       "0     4       3.0  2010      1          25                 52   \n",
       "1     5       5.0  2010      1          24                 70   \n",
       "2     3       1.0  2010      1          28                140   \n",
       "3    21      15.0  2010      1          28                 52   \n",
       "4     9      11.0  2010      1          25                 57   \n",
       "\n",
       "   driver_constructor_experience  driver_wins  constructor_wins  \\\n",
       "0                             52         11.0               1.0   \n",
       "1                              0          0.0               0.0   \n",
       "2                              0         21.0               0.0   \n",
       "3                              0          1.0               0.0   \n",
       "4                              0          1.0               0.0   \n",
       "\n",
       "   driver_points  ...  constructor_manor  constructor_marussia  \\\n",
       "0            0.0  ...              False                 False   \n",
       "1            0.0  ...              False                 False   \n",
       "2            0.0  ...              False                 False   \n",
       "3            0.0  ...              False                 False   \n",
       "4            0.0  ...              False                 False   \n",
       "\n",
       "   constructor_mclaren  constructor_mercedes  constructor_racing_point  \\\n",
       "0                 True                 False                     False   \n",
       "1                False                  True                     False   \n",
       "2                False                 False                     False   \n",
       "3                False                 False                     False   \n",
       "4                False                 False                     False   \n",
       "\n",
       "   constructor_red_bull  constructor_renault  constructor_sauber  \\\n",
       "0                 False                False               False   \n",
       "1                 False                False               False   \n",
       "2                 False                False               False   \n",
       "3                 False                False               False   \n",
       "4                 False                 True               False   \n",
       "\n",
       "   constructor_toro_rosso  constructor_williams  \n",
       "0                   False                 False  \n",
       "1                   False                 False  \n",
       "2                   False                 False  \n",
       "3                   False                 False  \n",
       "4                   False                 False  \n",
       "\n",
       "[5 rows x 123 columns]"
      ]
     },
     "execution_count": 2,
     "metadata": {},
     "output_type": "execute_result"
    }
   ],
   "source": [
    "df = pd.read_csv('../Data-collection/final_df.csv')\n",
    "df.head()"
   ]
  },
  {
   "cell_type": "code",
   "execution_count": 3,
   "metadata": {},
   "outputs": [],
   "source": [
    "train_df = df.copy()\n",
    "test_df = pd.read_csv('../Data-collection/df_2024.csv')"
   ]
  },
  {
   "cell_type": "code",
   "execution_count": 4,
   "metadata": {},
   "outputs": [
    {
     "name": "stdout",
     "output_type": "stream",
     "text": [
      "Training Features: (4671, 122), Testing Features: (414, 122)\n",
      "Training Target: (4671,), Testing Target: (414,)\n"
     ]
    }
   ],
   "source": [
    "X_train = train_df.drop(columns=['position'])\n",
    "X_test = test_df.drop(columns=['position'])\n",
    "\n",
    "y_train = train_df['position']\n",
    "y_test = test_df['position']\n",
    "\n",
    "print(f\"Training Features: {X_train.shape}, Testing Features: {X_test.shape}\")\n",
    "print(f\"Training Target: {y_train.shape}, Testing Target: {y_test.shape}\")"
   ]
  },
  {
   "cell_type": "code",
   "execution_count": 5,
   "metadata": {},
   "outputs": [],
   "source": [
    "# Select only numerical columns for scaling\n",
    "numerical_columns = [\n",
    "    'grid', 'driver_age', 'driver_experience', 'driver_constructor_experience',\n",
    "    'driver_points', 'driver_standing', 'constructor_points', \n",
    "    'constructor_standing', 'driver_wins', 'constructor_wins', 'circuit_danger', \n",
    "    'year', 'round'\n",
    "]\n",
    "\n",
    "scaler = StandardScaler()\n",
    "\n",
    "X_train[numerical_columns] = scaler.fit_transform(X_train[numerical_columns])\n",
    "X_test[numerical_columns] = scaler.transform(X_test[numerical_columns])\n",
    "\n",
    "# conver one-hot-encoding columns from True/False to 1/0\n",
    "all_columns = X_train.columns.tolist()\n",
    "one_hot_columns = [col for col in all_columns if col not in numerical_columns]\n",
    "\n",
    "X_train[one_hot_columns] = X_train[one_hot_columns].astype(int)\n",
    "X_test[one_hot_columns] = X_test[one_hot_columns].astype(int)"
   ]
  },
  {
   "cell_type": "markdown",
   "metadata": {},
   "source": [
    "### Testing functions"
   ]
  },
  {
   "cell_type": "markdown",
   "metadata": {},
   "source": [
    "#### Regression"
   ]
  },
  {
   "cell_type": "code",
   "execution_count": 6,
   "metadata": {},
   "outputs": [],
   "source": [
    "# Pasar test df\n",
    "\n",
    "def process_round_regression(df, scaler, trained_model):    \n",
    "    df[numerical_columns] = scaler.fit_transform(df[numerical_columns])\n",
    "    \n",
    "    # Convert one-hot encoding columns from boolean to int\n",
    "    one_hot_columns = [col for col in df.columns if df[col].dtype == 'bool']\n",
    "    df[one_hot_columns] = df[one_hot_columns].astype(int)\n",
    "    \n",
    "    X_current_round = df.drop(columns=['position'])\n",
    "\n",
    "    predictions_df = pd.DataFrame({'predicted_position': trained_model.predict(X_current_round)}) # Make predictions\n",
    "    predictions_df.index = df.index # Ensure the indices align for merging\n",
    "    df = pd.concat([df, predictions_df], axis=1) # Merge predictions back into the original DataFrame\n",
    "    \n",
    "    # Identify the predicted winner\n",
    "    predicted_winner_idx = df['predicted_position'].idxmin()\n",
    "    predicted_winner_row = df.loc[predicted_winner_idx]\n",
    "    predicted_winner_name = next(col for col in one_hot_columns if predicted_winner_row[col] == 1)\n",
    "    predicted_winner_name = predicted_winner_name.replace(\"driver_\", \"\").replace(\"_\", \" \").title()\n",
    "    predicted_winner_name = predicted_winner_name.split()[-1]\n",
    "    predicted_position = predicted_winner_row['predicted_position']\n",
    "    \n",
    "    # Identify the actual winner\n",
    "    actual_winner_row = df[df['position'] == 1.0]\n",
    "    if not actual_winner_row.empty:\n",
    "        actual_winner_name = next(col for col in one_hot_columns if actual_winner_row.iloc[0][col] == 1)\n",
    "        actual_winner_name = actual_winner_name.replace(\"driver_\", \"\").replace(\"_\", \" \").title()\n",
    "        actual_winner_name = actual_winner_name.split()[-1]\n",
    "    else:\n",
    "        actual_winner_name = \"--\"\n",
    "    \n",
    "    return {\n",
    "        'predicted_winner': predicted_winner_name,\n",
    "        'predicted_position': predicted_position,\n",
    "        'actual_winner': actual_winner_name\n",
    "    }"
   ]
  },
  {
   "cell_type": "markdown",
   "metadata": {},
   "source": [
    "#### Classification"
   ]
  },
  {
   "cell_type": "code",
   "execution_count": 7,
   "metadata": {},
   "outputs": [],
   "source": [
    "def process_round_classification(df, scaler, trained_model):    \n",
    "    df[numerical_columns] = scaler.fit_transform(df[numerical_columns])\n",
    "    \n",
    "    # Convert one-hot encoding columns from boolean to int\n",
    "    one_hot_columns = [col for col in df.columns if df[col].dtype == 'bool']\n",
    "    df[one_hot_columns] = df[one_hot_columns].astype(int)\n",
    "    \n",
    "    X_current_round = df.drop(columns=['position'])\n",
    "\n",
    "    # Get probabilities and predictions    \n",
    "    probabilities = trained_model.predict_proba(X_current_round)  # Probabilities for each class\n",
    "    predicted_class = trained_model.predict(X_current_round)  # Predicted class (1 or 0)\n",
    "\n",
    "    df = df.copy()\n",
    "\n",
    "    # Add probabilities and predictions to the DataFrame\n",
    "    df['probability_winner'] = probabilities[:, 1]  # Probability for class `1` (winner)\n",
    "    df['predicted_class'] = predicted_class\n",
    "\n",
    "    # Identify the predicted winner\n",
    "    if (df['predicted_class'] == 1).sum() > 1:\n",
    "        # If multiple winners, choose the one with the highest probability\n",
    "        predicted_winner_idx = df[df['predicted_class'] == 1]['probability_winner'].idxmax()\n",
    "    elif (df['predicted_class'] == 1).sum() == 1:\n",
    "        # If only one winner\n",
    "        predicted_winner_idx = df[df['predicted_class'] == 1].index[0]\n",
    "    else:\n",
    "        # If no winners, assign default values\n",
    "        predicted_winner_idx = None\n",
    "    \n",
    "    if predicted_winner_idx is not None:\n",
    "        predicted_winner_row = df.loc[predicted_winner_idx]\n",
    "        predicted_winner_name = next(col for col in one_hot_columns if predicted_winner_row[col] == 1)\n",
    "        predicted_winner_name = predicted_winner_name.replace(\"driver_\", \"\").replace(\"_\", \" \").title()\n",
    "        predicted_winner_name = predicted_winner_name.split()[-1]\n",
    "        predicted_probability = predicted_winner_row['probability_winner']\n",
    "    else:\n",
    "        predicted_winner_name = \"--\"\n",
    "        predicted_probability = 0.0\n",
    "\n",
    "    # Identify the actual winner\n",
    "    actual_winner_row = df[df['position'] == 1.0]\n",
    "    if not actual_winner_row.empty:\n",
    "        actual_winner_name = next(col for col in one_hot_columns if actual_winner_row.iloc[0][col] == 1)\n",
    "        actual_winner_name = actual_winner_name.replace(\"driver_\", \"\").replace(\"_\", \" \").title()\n",
    "        actual_winner_name = actual_winner_name.split()[-1]\n",
    "    else:\n",
    "        actual_winner_name = \"--\"\n",
    "    \n",
    "    return {\n",
    "        'predicted_winner': predicted_winner_name,\n",
    "        'predicted_probability': predicted_probability,\n",
    "        'actual_winner': actual_winner_name\n",
    "    }"
   ]
  },
  {
   "cell_type": "markdown",
   "metadata": {},
   "source": [
    "#### Temporary"
   ]
  },
  {
   "cell_type": "code",
   "execution_count": 8,
   "metadata": {},
   "outputs": [],
   "source": [
    "def process_all_rounds_classification(df, trained_model):\n",
    "    scaler = StandardScaler()\n",
    "    unique_years = df['year'].unique()\n",
    "    results = []\n",
    "    \n",
    "    for year_number in unique_years:\n",
    "        df_current_year = df[df['year'] == year_number].copy()\n",
    "        unique_rounds = df_current_year['round'].unique()\n",
    "        for round_number in unique_rounds:\n",
    "            df_current_round = df_current_year[df_current_year['round'] == round_number].copy()\n",
    "            result = process_round_classification(df_current_round, scaler, trained_model)\n",
    "            result['round'] = round_number\n",
    "            result['year'] = year_number\n",
    "            results.append(result)\n",
    "\n",
    "    results_df = pd.DataFrame(results)\n",
    "    results_df = results_df[['round'] + [col for col in results_df.columns if col != 'round']]\n",
    "    results_df = results_df[['year'] + [col for col in results_df.columns if col != 'year']]\n",
    "    \n",
    "    return results_df"
   ]
  },
  {
   "cell_type": "code",
   "execution_count": 9,
   "metadata": {},
   "outputs": [],
   "source": [
    "def test_all_models_classification (df, trained_models):\n",
    "\n",
    "    accuracy = []\n",
    "\n",
    "    for model_name, model_var_name in trained_models:\n",
    "        model_var = globals()[model_var_name]\n",
    "        model_test_df = []\n",
    "\n",
    "        model_test_df = process_all_rounds_classification(df, model_var)\n",
    "        accuracy.append(model_accuracy(model_test_df, model_name))\n",
    "\n",
    "    accuracy_df = pd.DataFrame(accuracy)\n",
    "\n",
    "    return accuracy_df   "
   ]
  },
  {
   "cell_type": "markdown",
   "metadata": {},
   "source": [
    "#### Rest"
   ]
  },
  {
   "cell_type": "code",
   "execution_count": 10,
   "metadata": {},
   "outputs": [],
   "source": [
    "# Pasar test df\n",
    "\n",
    "def process_all_rounds(df, trained_model):\n",
    "    scaler = StandardScaler()\n",
    "    unique_years = df['year'].unique()\n",
    "    results = []\n",
    "    \n",
    "    for year_number in unique_years:\n",
    "        df_current_year = df[df['year'] == year_number].copy()\n",
    "        unique_rounds = df_current_year['round'].unique()\n",
    "        for round_number in unique_rounds:\n",
    "            df_current_round = df_current_year[df_current_year['round'] == round_number].copy()\n",
    "            result = process_round_regression(df_current_round, scaler, trained_model)\n",
    "            result['round'] = round_number\n",
    "            result['year'] = year_number\n",
    "            results.append(result)\n",
    "\n",
    "    results_df = pd.DataFrame(results)\n",
    "    results_df = results_df[['round'] + [col for col in results_df.columns if col != 'round']]\n",
    "    results_df = results_df[['year'] + [col for col in results_df.columns if col != 'year']]\n",
    "    \n",
    "    return results_df"
   ]
  },
  {
   "cell_type": "code",
   "execution_count": 11,
   "metadata": {},
   "outputs": [],
   "source": [
    "# pasar df de la funcion anterior\n",
    "\n",
    "def model_accuracy (df, model_name):\n",
    "    accuracy = {}\n",
    "    accuracy['model_name'] = model_name\n",
    "\n",
    "    new_df = df['predicted_winner'] == df['actual_winner']\n",
    "    accuracy['accuracy'] = new_df.mean()\n",
    "    \n",
    "    return accuracy"
   ]
  },
  {
   "cell_type": "code",
   "execution_count": 12,
   "metadata": {},
   "outputs": [],
   "source": [
    "# Pasar test_df\n",
    "\n",
    "def test_all_models (df, trained_models):\n",
    "\n",
    "    accuracy = []\n",
    "\n",
    "    for model_name, model_var_name in trained_models:\n",
    "        model_var = globals()[model_var_name]\n",
    "        model_test_df = []\n",
    "\n",
    "        model_test_df = process_all_rounds(df, model_var)\n",
    "        accuracy.append(model_accuracy(model_test_df, model_name))\n",
    "\n",
    "    accuracy_df = pd.DataFrame(accuracy)\n",
    "\n",
    "    return accuracy_df        "
   ]
  },
  {
   "cell_type": "markdown",
   "metadata": {},
   "source": [
    "## Regression Approach"
   ]
  },
  {
   "cell_type": "markdown",
   "metadata": {},
   "source": [
    "#### Linear Regression"
   ]
  },
  {
   "cell_type": "code",
   "execution_count": 13,
   "metadata": {},
   "outputs": [],
   "source": [
    "from sklearn.linear_model import LinearRegression\n",
    "reg_lr_model = LinearRegression()\n",
    "reg_lr_model.fit(X_train, y_train)\n",
    "reg_lr_y_test = reg_lr_model.predict(X_test)"
   ]
  },
  {
   "cell_type": "markdown",
   "metadata": {},
   "source": [
    "#### Random Forest"
   ]
  },
  {
   "cell_type": "code",
   "execution_count": 14,
   "metadata": {},
   "outputs": [],
   "source": [
    "from sklearn.ensemble import RandomForestRegressor\n",
    "reg_rf_model = RandomForestRegressor(n_estimators=100, random_state=42)\n",
    "reg_rf_model.fit(X_train, y_train)\n",
    "reg_rf_y_test = reg_rf_model.predict(X_test)"
   ]
  },
  {
   "cell_type": "markdown",
   "metadata": {},
   "source": [
    "#### Support Vector Machines (SVM)"
   ]
  },
  {
   "cell_type": "code",
   "execution_count": 15,
   "metadata": {},
   "outputs": [],
   "source": [
    "from sklearn.svm import SVR\n",
    "reg_svm_model = SVR(kernel='linear') \n",
    "reg_svm_model.fit(X_train, y_train)\n",
    "reg_svm_y_test = reg_svm_model.predict(X_test)"
   ]
  },
  {
   "cell_type": "markdown",
   "metadata": {},
   "source": [
    "#### Decision Tree"
   ]
  },
  {
   "cell_type": "code",
   "execution_count": 16,
   "metadata": {},
   "outputs": [],
   "source": [
    "from sklearn.tree import DecisionTreeRegressor\n",
    "reg_dt_model = DecisionTreeRegressor()\n",
    "reg_dt_model.fit(X_train, y_train)\n",
    "reg_dt_y_test = reg_dt_model.predict(X_test)"
   ]
  },
  {
   "cell_type": "markdown",
   "metadata": {},
   "source": [
    "#### K-Nearest Neighbor (KNN)"
   ]
  },
  {
   "cell_type": "code",
   "execution_count": 17,
   "metadata": {},
   "outputs": [],
   "source": [
    "from sklearn.neighbors import KNeighborsRegressor\n",
    "reg_knn_model = KNeighborsRegressor(n_neighbors=5)\n",
    "reg_knn_model.fit(X_train, y_train)\n",
    "reg_knn_y_test = reg_knn_model.predict(X_test)"
   ]
  },
  {
   "cell_type": "markdown",
   "metadata": {},
   "source": [
    "#### Lasso"
   ]
  },
  {
   "cell_type": "code",
   "execution_count": 18,
   "metadata": {},
   "outputs": [],
   "source": [
    "from sklearn.linear_model import Lasso\n",
    "reg_lasso_model = Lasso(alpha=0.1) \n",
    "reg_lasso_model.fit(X_train, y_train)\n",
    "reg_lasso_y_test = reg_lasso_model.predict(X_test)"
   ]
  },
  {
   "cell_type": "markdown",
   "metadata": {},
   "source": [
    "## Classification Approach"
   ]
  },
  {
   "cell_type": "code",
   "execution_count": 19,
   "metadata": {},
   "outputs": [],
   "source": [
    "y_train_c = y_train.copy()\n",
    "y_test_c = y_test.copy()\n",
    "y_train_c = y_train_c.apply(lambda x: 1 if x == 1 else 0)\n",
    "y_test_c = y_test_c.apply(lambda x: 1 if x == 1 else 0)"
   ]
  },
  {
   "cell_type": "markdown",
   "metadata": {},
   "source": [
    "#### Logistic Regression "
   ]
  },
  {
   "cell_type": "code",
   "execution_count": 20,
   "metadata": {},
   "outputs": [],
   "source": [
    "from sklearn.linear_model import LogisticRegression\n",
    "cla_lr_model = LogisticRegression()\n",
    "cla_lr_model.fit(X_train, y_train_c)\n",
    "cla_lr_y_test = cla_lr_model.predict(X_test)"
   ]
  },
  {
   "cell_type": "markdown",
   "metadata": {},
   "source": [
    "#### Decision Tree"
   ]
  },
  {
   "cell_type": "code",
   "execution_count": 21,
   "metadata": {},
   "outputs": [],
   "source": [
    "from sklearn.tree import DecisionTreeClassifier\n",
    "cla_dt_model = DecisionTreeClassifier()\n",
    "cla_dt_model.fit(X_train, y_train_c)\n",
    "cla_dt_y_test = cla_dt_model.predict(X_test)"
   ]
  },
  {
   "cell_type": "markdown",
   "metadata": {},
   "source": [
    "#### Support Vector Machines (SVM)"
   ]
  },
  {
   "cell_type": "code",
   "execution_count": 22,
   "metadata": {},
   "outputs": [],
   "source": [
    "from sklearn.svm import SVC \n",
    "cla_svm_model = SVC(probability=True, kernel='linear')\n",
    "cla_svm_model.fit(X_train, y_train_c)\n",
    "cla_svm_y_test = cla_svm_model.predict(X_test)"
   ]
  },
  {
   "cell_type": "markdown",
   "metadata": {},
   "source": [
    "#### Random Forest"
   ]
  },
  {
   "cell_type": "code",
   "execution_count": 23,
   "metadata": {},
   "outputs": [],
   "source": [
    "from sklearn.ensemble import RandomForestClassifier \n",
    "cla_rf_model = RandomForestClassifier(n_estimators=100)\n",
    "cla_rf_model.fit(X_train, y_train_c)\n",
    "cla_rf_y_test = cla_rf_model.predict(X_test)"
   ]
  },
  {
   "cell_type": "markdown",
   "metadata": {},
   "source": [
    "#### K-Nearest Neighbor (KNN)"
   ]
  },
  {
   "cell_type": "code",
   "execution_count": 24,
   "metadata": {},
   "outputs": [],
   "source": [
    "from sklearn.neighbors import KNeighborsClassifier\n",
    "cla_knn_model = KNeighborsClassifier(n_neighbors=5)\n",
    "cla_knn_model.fit(X_train, y_train_c)\n",
    "cla_knn_y_test = cla_knn_model.predict(X_test)"
   ]
  },
  {
   "cell_type": "markdown",
   "metadata": {},
   "source": [
    "#### Naïve Bayes"
   ]
  },
  {
   "cell_type": "code",
   "execution_count": 25,
   "metadata": {},
   "outputs": [],
   "source": [
    "from sklearn.naive_bayes import GaussianNB\n",
    "cla_nb_model = GaussianNB()\n",
    "cla_nb_model.fit(X_train, y_train_c)\n",
    "cla_nb_y_test = cla_nb_model.predict(X_test)"
   ]
  },
  {
   "cell_type": "markdown",
   "metadata": {},
   "source": [
    "## Deep Learning"
   ]
  },
  {
   "cell_type": "markdown",
   "metadata": {},
   "source": [
    "### Regression"
   ]
  },
  {
   "cell_type": "code",
   "execution_count": 26,
   "metadata": {},
   "outputs": [
    {
     "name": "stdout",
     "output_type": "stream",
     "text": [
      "Epoch 1/100\n",
      "\u001b[1m117/117\u001b[0m \u001b[32m━━━━━━━━━━━━━━━━━━━━\u001b[0m\u001b[37m\u001b[0m \u001b[1m0s\u001b[0m 2ms/step - loss: 95.6785 - mean_squared_error: 95.6785 - val_loss: 67.6973 - val_mean_squared_error: 67.6973\n",
      "Epoch 2/100\n",
      "\u001b[1m117/117\u001b[0m \u001b[32m━━━━━━━━━━━━━━━━━━━━\u001b[0m\u001b[37m\u001b[0m \u001b[1m0s\u001b[0m 773us/step - loss: 38.9363 - mean_squared_error: 38.9363 - val_loss: 39.3566 - val_mean_squared_error: 39.3566\n",
      "Epoch 3/100\n",
      "\u001b[1m117/117\u001b[0m \u001b[32m━━━━━━━━━━━━━━━━━━━━\u001b[0m\u001b[37m\u001b[0m \u001b[1m0s\u001b[0m 738us/step - loss: 16.7127 - mean_squared_error: 16.7127 - val_loss: 27.9272 - val_mean_squared_error: 27.9272\n",
      "Epoch 4/100\n",
      "\u001b[1m117/117\u001b[0m \u001b[32m━━━━━━━━━━━━━━━━━━━━\u001b[0m\u001b[37m\u001b[0m \u001b[1m0s\u001b[0m 677us/step - loss: 11.8785 - mean_squared_error: 11.8785 - val_loss: 22.0092 - val_mean_squared_error: 22.0092\n",
      "Epoch 5/100\n",
      "\u001b[1m117/117\u001b[0m \u001b[32m━━━━━━━━━━━━━━━━━━━━\u001b[0m\u001b[37m\u001b[0m \u001b[1m0s\u001b[0m 703us/step - loss: 10.9136 - mean_squared_error: 10.9136 - val_loss: 18.7983 - val_mean_squared_error: 18.7983\n",
      "Epoch 6/100\n",
      "\u001b[1m117/117\u001b[0m \u001b[32m━━━━━━━━━━━━━━━━━━━━\u001b[0m\u001b[37m\u001b[0m \u001b[1m0s\u001b[0m 674us/step - loss: 10.0143 - mean_squared_error: 10.0143 - val_loss: 16.8309 - val_mean_squared_error: 16.8309\n",
      "Epoch 7/100\n",
      "\u001b[1m117/117\u001b[0m \u001b[32m━━━━━━━━━━━━━━━━━━━━\u001b[0m\u001b[37m\u001b[0m \u001b[1m0s\u001b[0m 659us/step - loss: 9.9259 - mean_squared_error: 9.9259 - val_loss: 15.6710 - val_mean_squared_error: 15.6710\n",
      "Epoch 8/100\n",
      "\u001b[1m117/117\u001b[0m \u001b[32m━━━━━━━━━━━━━━━━━━━━\u001b[0m\u001b[37m\u001b[0m \u001b[1m0s\u001b[0m 669us/step - loss: 9.7526 - mean_squared_error: 9.7526 - val_loss: 14.8011 - val_mean_squared_error: 14.8011\n",
      "Epoch 9/100\n",
      "\u001b[1m117/117\u001b[0m \u001b[32m━━━━━━━━━━━━━━━━━━━━\u001b[0m\u001b[37m\u001b[0m \u001b[1m0s\u001b[0m 665us/step - loss: 9.8408 - mean_squared_error: 9.8408 - val_loss: 14.4253 - val_mean_squared_error: 14.4253\n",
      "Epoch 10/100\n",
      "\u001b[1m117/117\u001b[0m \u001b[32m━━━━━━━━━━━━━━━━━━━━\u001b[0m\u001b[37m\u001b[0m \u001b[1m0s\u001b[0m 660us/step - loss: 9.0739 - mean_squared_error: 9.0739 - val_loss: 13.9773 - val_mean_squared_error: 13.9773\n",
      "Epoch 11/100\n",
      "\u001b[1m117/117\u001b[0m \u001b[32m━━━━━━━━━━━━━━━━━━━━\u001b[0m\u001b[37m\u001b[0m \u001b[1m0s\u001b[0m 658us/step - loss: 9.4629 - mean_squared_error: 9.4629 - val_loss: 13.7294 - val_mean_squared_error: 13.7294\n",
      "Epoch 12/100\n",
      "\u001b[1m117/117\u001b[0m \u001b[32m━━━━━━━━━━━━━━━━━━━━\u001b[0m\u001b[37m\u001b[0m \u001b[1m0s\u001b[0m 678us/step - loss: 9.6723 - mean_squared_error: 9.6723 - val_loss: 13.4867 - val_mean_squared_error: 13.4867\n",
      "Epoch 13/100\n",
      "\u001b[1m117/117\u001b[0m \u001b[32m━━━━━━━━━━━━━━━━━━━━\u001b[0m\u001b[37m\u001b[0m \u001b[1m0s\u001b[0m 1ms/step - loss: 9.7958 - mean_squared_error: 9.7958 - val_loss: 13.2626 - val_mean_squared_error: 13.2626\n",
      "Epoch 14/100\n",
      "\u001b[1m117/117\u001b[0m \u001b[32m━━━━━━━━━━━━━━━━━━━━\u001b[0m\u001b[37m\u001b[0m \u001b[1m0s\u001b[0m 802us/step - loss: 8.6233 - mean_squared_error: 8.6233 - val_loss: 12.9603 - val_mean_squared_error: 12.9603\n",
      "Epoch 15/100\n",
      "\u001b[1m117/117\u001b[0m \u001b[32m━━━━━━━━━━━━━━━━━━━━\u001b[0m\u001b[37m\u001b[0m \u001b[1m0s\u001b[0m 669us/step - loss: 9.0506 - mean_squared_error: 9.0506 - val_loss: 12.7721 - val_mean_squared_error: 12.7721\n",
      "Epoch 16/100\n",
      "\u001b[1m117/117\u001b[0m \u001b[32m━━━━━━━━━━━━━━━━━━━━\u001b[0m\u001b[37m\u001b[0m \u001b[1m0s\u001b[0m 665us/step - loss: 9.0615 - mean_squared_error: 9.0615 - val_loss: 12.8029 - val_mean_squared_error: 12.8029\n",
      "Epoch 17/100\n",
      "\u001b[1m117/117\u001b[0m \u001b[32m━━━━━━━━━━━━━━━━━━━━\u001b[0m\u001b[37m\u001b[0m \u001b[1m0s\u001b[0m 703us/step - loss: 8.5119 - mean_squared_error: 8.5119 - val_loss: 12.6163 - val_mean_squared_error: 12.6163\n",
      "Epoch 18/100\n",
      "\u001b[1m117/117\u001b[0m \u001b[32m━━━━━━━━━━━━━━━━━━━━\u001b[0m\u001b[37m\u001b[0m \u001b[1m0s\u001b[0m 736us/step - loss: 8.5939 - mean_squared_error: 8.5939 - val_loss: 12.6494 - val_mean_squared_error: 12.6494\n",
      "Epoch 19/100\n",
      "\u001b[1m117/117\u001b[0m \u001b[32m━━━━━━━━━━━━━━━━━━━━\u001b[0m\u001b[37m\u001b[0m \u001b[1m0s\u001b[0m 734us/step - loss: 8.7142 - mean_squared_error: 8.7142 - val_loss: 12.4164 - val_mean_squared_error: 12.4164\n",
      "Epoch 20/100\n",
      "\u001b[1m117/117\u001b[0m \u001b[32m━━━━━━━━━━━━━━━━━━━━\u001b[0m\u001b[37m\u001b[0m \u001b[1m0s\u001b[0m 668us/step - loss: 8.6513 - mean_squared_error: 8.6513 - val_loss: 12.4641 - val_mean_squared_error: 12.4641\n",
      "Epoch 21/100\n",
      "\u001b[1m117/117\u001b[0m \u001b[32m━━━━━━━━━━━━━━━━━━━━\u001b[0m\u001b[37m\u001b[0m \u001b[1m0s\u001b[0m 681us/step - loss: 8.9593 - mean_squared_error: 8.9593 - val_loss: 12.3813 - val_mean_squared_error: 12.3813\n",
      "Epoch 22/100\n",
      "\u001b[1m117/117\u001b[0m \u001b[32m━━━━━━━━━━━━━━━━━━━━\u001b[0m\u001b[37m\u001b[0m \u001b[1m0s\u001b[0m 669us/step - loss: 8.8943 - mean_squared_error: 8.8943 - val_loss: 12.3099 - val_mean_squared_error: 12.3099\n",
      "Epoch 23/100\n",
      "\u001b[1m117/117\u001b[0m \u001b[32m━━━━━━━━━━━━━━━━━━━━\u001b[0m\u001b[37m\u001b[0m \u001b[1m0s\u001b[0m 677us/step - loss: 8.8739 - mean_squared_error: 8.8739 - val_loss: 12.3014 - val_mean_squared_error: 12.3014\n",
      "Epoch 24/100\n",
      "\u001b[1m117/117\u001b[0m \u001b[32m━━━━━━━━━━━━━━━━━━━━\u001b[0m\u001b[37m\u001b[0m \u001b[1m0s\u001b[0m 702us/step - loss: 8.5415 - mean_squared_error: 8.5415 - val_loss: 12.2325 - val_mean_squared_error: 12.2325\n",
      "Epoch 25/100\n",
      "\u001b[1m117/117\u001b[0m \u001b[32m━━━━━━━━━━━━━━━━━━━━\u001b[0m\u001b[37m\u001b[0m \u001b[1m0s\u001b[0m 663us/step - loss: 9.0037 - mean_squared_error: 9.0037 - val_loss: 12.2575 - val_mean_squared_error: 12.2575\n",
      "Epoch 26/100\n",
      "\u001b[1m117/117\u001b[0m \u001b[32m━━━━━━━━━━━━━━━━━━━━\u001b[0m\u001b[37m\u001b[0m \u001b[1m0s\u001b[0m 664us/step - loss: 8.9104 - mean_squared_error: 8.9104 - val_loss: 12.1708 - val_mean_squared_error: 12.1708\n",
      "Epoch 27/100\n",
      "\u001b[1m117/117\u001b[0m \u001b[32m━━━━━━━━━━━━━━━━━━━━\u001b[0m\u001b[37m\u001b[0m \u001b[1m0s\u001b[0m 660us/step - loss: 8.5985 - mean_squared_error: 8.5985 - val_loss: 12.1881 - val_mean_squared_error: 12.1881\n",
      "Epoch 28/100\n",
      "\u001b[1m117/117\u001b[0m \u001b[32m━━━━━━━━━━━━━━━━━━━━\u001b[0m\u001b[37m\u001b[0m \u001b[1m0s\u001b[0m 657us/step - loss: 8.7022 - mean_squared_error: 8.7022 - val_loss: 12.4419 - val_mean_squared_error: 12.4419\n",
      "Epoch 29/100\n",
      "\u001b[1m117/117\u001b[0m \u001b[32m━━━━━━━━━━━━━━━━━━━━\u001b[0m\u001b[37m\u001b[0m \u001b[1m0s\u001b[0m 659us/step - loss: 8.6683 - mean_squared_error: 8.6683 - val_loss: 12.2139 - val_mean_squared_error: 12.2139\n",
      "Epoch 30/100\n",
      "\u001b[1m117/117\u001b[0m \u001b[32m━━━━━━━━━━━━━━━━━━━━\u001b[0m\u001b[37m\u001b[0m \u001b[1m0s\u001b[0m 705us/step - loss: 8.9514 - mean_squared_error: 8.9514 - val_loss: 12.3535 - val_mean_squared_error: 12.3535\n",
      "Epoch 31/100\n",
      "\u001b[1m117/117\u001b[0m \u001b[32m━━━━━━━━━━━━━━━━━━━━\u001b[0m\u001b[37m\u001b[0m \u001b[1m0s\u001b[0m 820us/step - loss: 8.4544 - mean_squared_error: 8.4544 - val_loss: 12.3444 - val_mean_squared_error: 12.3444\n",
      "Epoch 32/100\n",
      "\u001b[1m117/117\u001b[0m \u001b[32m━━━━━━━━━━━━━━━━━━━━\u001b[0m\u001b[37m\u001b[0m \u001b[1m0s\u001b[0m 823us/step - loss: 8.1811 - mean_squared_error: 8.1811 - val_loss: 12.2781 - val_mean_squared_error: 12.2781\n",
      "Epoch 33/100\n",
      "\u001b[1m117/117\u001b[0m \u001b[32m━━━━━━━━━━━━━━━━━━━━\u001b[0m\u001b[37m\u001b[0m \u001b[1m0s\u001b[0m 714us/step - loss: 8.5238 - mean_squared_error: 8.5238 - val_loss: 12.4270 - val_mean_squared_error: 12.4270\n",
      "Epoch 34/100\n",
      "\u001b[1m117/117\u001b[0m \u001b[32m━━━━━━━━━━━━━━━━━━━━\u001b[0m\u001b[37m\u001b[0m \u001b[1m0s\u001b[0m 682us/step - loss: 8.2851 - mean_squared_error: 8.2851 - val_loss: 12.4811 - val_mean_squared_error: 12.4811\n",
      "Epoch 35/100\n",
      "\u001b[1m117/117\u001b[0m \u001b[32m━━━━━━━━━━━━━━━━━━━━\u001b[0m\u001b[37m\u001b[0m \u001b[1m0s\u001b[0m 740us/step - loss: 8.3247 - mean_squared_error: 8.3247 - val_loss: 12.4075 - val_mean_squared_error: 12.4075\n",
      "Epoch 36/100\n",
      "\u001b[1m117/117\u001b[0m \u001b[32m━━━━━━━━━━━━━━━━━━━━\u001b[0m\u001b[37m\u001b[0m \u001b[1m0s\u001b[0m 707us/step - loss: 8.0670 - mean_squared_error: 8.0670 - val_loss: 12.5277 - val_mean_squared_error: 12.5277\n",
      "Epoch 37/100\n",
      "\u001b[1m117/117\u001b[0m \u001b[32m━━━━━━━━━━━━━━━━━━━━\u001b[0m\u001b[37m\u001b[0m \u001b[1m0s\u001b[0m 700us/step - loss: 8.3445 - mean_squared_error: 8.3445 - val_loss: 12.4217 - val_mean_squared_error: 12.4217\n",
      "Epoch 38/100\n",
      "\u001b[1m117/117\u001b[0m \u001b[32m━━━━━━━━━━━━━━━━━━━━\u001b[0m\u001b[37m\u001b[0m \u001b[1m0s\u001b[0m 695us/step - loss: 8.0744 - mean_squared_error: 8.0744 - val_loss: 12.3205 - val_mean_squared_error: 12.3205\n",
      "Epoch 39/100\n",
      "\u001b[1m117/117\u001b[0m \u001b[32m━━━━━━━━━━━━━━━━━━━━\u001b[0m\u001b[37m\u001b[0m \u001b[1m0s\u001b[0m 721us/step - loss: 7.8624 - mean_squared_error: 7.8624 - val_loss: 12.4353 - val_mean_squared_error: 12.4353\n",
      "Epoch 40/100\n",
      "\u001b[1m117/117\u001b[0m \u001b[32m━━━━━━━━━━━━━━━━━━━━\u001b[0m\u001b[37m\u001b[0m \u001b[1m0s\u001b[0m 675us/step - loss: 7.8657 - mean_squared_error: 7.8657 - val_loss: 12.4849 - val_mean_squared_error: 12.4849\n",
      "Epoch 41/100\n",
      "\u001b[1m117/117\u001b[0m \u001b[32m━━━━━━━━━━━━━━━━━━━━\u001b[0m\u001b[37m\u001b[0m \u001b[1m0s\u001b[0m 659us/step - loss: 8.3441 - mean_squared_error: 8.3441 - val_loss: 12.4585 - val_mean_squared_error: 12.4585\n",
      "Epoch 42/100\n",
      "\u001b[1m117/117\u001b[0m \u001b[32m━━━━━━━━━━━━━━━━━━━━\u001b[0m\u001b[37m\u001b[0m \u001b[1m0s\u001b[0m 663us/step - loss: 7.7686 - mean_squared_error: 7.7686 - val_loss: 12.7045 - val_mean_squared_error: 12.7045\n",
      "Epoch 43/100\n",
      "\u001b[1m117/117\u001b[0m \u001b[32m━━━━━━━━━━━━━━━━━━━━\u001b[0m\u001b[37m\u001b[0m \u001b[1m0s\u001b[0m 679us/step - loss: 8.7191 - mean_squared_error: 8.7191 - val_loss: 12.7040 - val_mean_squared_error: 12.7040\n",
      "Epoch 44/100\n",
      "\u001b[1m117/117\u001b[0m \u001b[32m━━━━━━━━━━━━━━━━━━━━\u001b[0m\u001b[37m\u001b[0m \u001b[1m0s\u001b[0m 663us/step - loss: 8.4772 - mean_squared_error: 8.4772 - val_loss: 12.6320 - val_mean_squared_error: 12.6320\n",
      "Epoch 45/100\n",
      "\u001b[1m117/117\u001b[0m \u001b[32m━━━━━━━━━━━━━━━━━━━━\u001b[0m\u001b[37m\u001b[0m \u001b[1m0s\u001b[0m 670us/step - loss: 8.2484 - mean_squared_error: 8.2484 - val_loss: 12.7854 - val_mean_squared_error: 12.7854\n",
      "Epoch 46/100\n",
      "\u001b[1m117/117\u001b[0m \u001b[32m━━━━━━━━━━━━━━━━━━━━\u001b[0m\u001b[37m\u001b[0m \u001b[1m0s\u001b[0m 680us/step - loss: 7.6620 - mean_squared_error: 7.6620 - val_loss: 13.0503 - val_mean_squared_error: 13.0503\n",
      "Epoch 47/100\n",
      "\u001b[1m117/117\u001b[0m \u001b[32m━━━━━━━━━━━━━━━━━━━━\u001b[0m\u001b[37m\u001b[0m \u001b[1m0s\u001b[0m 664us/step - loss: 7.7928 - mean_squared_error: 7.7928 - val_loss: 12.9945 - val_mean_squared_error: 12.9945\n",
      "Epoch 48/100\n",
      "\u001b[1m117/117\u001b[0m \u001b[32m━━━━━━━━━━━━━━━━━━━━\u001b[0m\u001b[37m\u001b[0m \u001b[1m0s\u001b[0m 667us/step - loss: 7.8254 - mean_squared_error: 7.8254 - val_loss: 12.8824 - val_mean_squared_error: 12.8824\n",
      "Epoch 49/100\n",
      "\u001b[1m117/117\u001b[0m \u001b[32m━━━━━━━━━━━━━━━━━━━━\u001b[0m\u001b[37m\u001b[0m \u001b[1m0s\u001b[0m 657us/step - loss: 8.1521 - mean_squared_error: 8.1521 - val_loss: 12.9707 - val_mean_squared_error: 12.9707\n",
      "Epoch 50/100\n",
      "\u001b[1m117/117\u001b[0m \u001b[32m━━━━━━━━━━━━━━━━━━━━\u001b[0m\u001b[37m\u001b[0m \u001b[1m0s\u001b[0m 667us/step - loss: 7.7605 - mean_squared_error: 7.7605 - val_loss: 12.9377 - val_mean_squared_error: 12.9377\n",
      "Epoch 51/100\n",
      "\u001b[1m117/117\u001b[0m \u001b[32m━━━━━━━━━━━━━━━━━━━━\u001b[0m\u001b[37m\u001b[0m \u001b[1m0s\u001b[0m 669us/step - loss: 7.8449 - mean_squared_error: 7.8449 - val_loss: 13.1039 - val_mean_squared_error: 13.1039\n",
      "Epoch 52/100\n",
      "\u001b[1m117/117\u001b[0m \u001b[32m━━━━━━━━━━━━━━━━━━━━\u001b[0m\u001b[37m\u001b[0m \u001b[1m0s\u001b[0m 666us/step - loss: 8.0921 - mean_squared_error: 8.0921 - val_loss: 13.1105 - val_mean_squared_error: 13.1105\n",
      "Epoch 53/100\n",
      "\u001b[1m117/117\u001b[0m \u001b[32m━━━━━━━━━━━━━━━━━━━━\u001b[0m\u001b[37m\u001b[0m \u001b[1m0s\u001b[0m 665us/step - loss: 7.9256 - mean_squared_error: 7.9256 - val_loss: 13.2774 - val_mean_squared_error: 13.2774\n",
      "Epoch 54/100\n",
      "\u001b[1m117/117\u001b[0m \u001b[32m━━━━━━━━━━━━━━━━━━━━\u001b[0m\u001b[37m\u001b[0m \u001b[1m0s\u001b[0m 664us/step - loss: 8.0013 - mean_squared_error: 8.0013 - val_loss: 13.0933 - val_mean_squared_error: 13.0933\n",
      "Epoch 55/100\n",
      "\u001b[1m117/117\u001b[0m \u001b[32m━━━━━━━━━━━━━━━━━━━━\u001b[0m\u001b[37m\u001b[0m \u001b[1m0s\u001b[0m 662us/step - loss: 7.4338 - mean_squared_error: 7.4338 - val_loss: 13.4383 - val_mean_squared_error: 13.4383\n",
      "Epoch 56/100\n",
      "\u001b[1m117/117\u001b[0m \u001b[32m━━━━━━━━━━━━━━━━━━━━\u001b[0m\u001b[37m\u001b[0m \u001b[1m0s\u001b[0m 650us/step - loss: 7.4310 - mean_squared_error: 7.4310 - val_loss: 13.4966 - val_mean_squared_error: 13.4966\n",
      "Epoch 57/100\n",
      "\u001b[1m117/117\u001b[0m \u001b[32m━━━━━━━━━━━━━━━━━━━━\u001b[0m\u001b[37m\u001b[0m \u001b[1m0s\u001b[0m 672us/step - loss: 7.9537 - mean_squared_error: 7.9537 - val_loss: 13.3374 - val_mean_squared_error: 13.3374\n",
      "Epoch 58/100\n",
      "\u001b[1m117/117\u001b[0m \u001b[32m━━━━━━━━━━━━━━━━━━━━\u001b[0m\u001b[37m\u001b[0m \u001b[1m0s\u001b[0m 661us/step - loss: 7.8007 - mean_squared_error: 7.8007 - val_loss: 13.6427 - val_mean_squared_error: 13.6427\n",
      "Epoch 59/100\n",
      "\u001b[1m117/117\u001b[0m \u001b[32m━━━━━━━━━━━━━━━━━━━━\u001b[0m\u001b[37m\u001b[0m \u001b[1m0s\u001b[0m 927us/step - loss: 7.3510 - mean_squared_error: 7.3510 - val_loss: 13.5637 - val_mean_squared_error: 13.5637\n",
      "Epoch 60/100\n",
      "\u001b[1m117/117\u001b[0m \u001b[32m━━━━━━━━━━━━━━━━━━━━\u001b[0m\u001b[37m\u001b[0m \u001b[1m0s\u001b[0m 723us/step - loss: 7.5754 - mean_squared_error: 7.5754 - val_loss: 13.6257 - val_mean_squared_error: 13.6257\n",
      "Epoch 61/100\n",
      "\u001b[1m117/117\u001b[0m \u001b[32m━━━━━━━━━━━━━━━━━━━━\u001b[0m\u001b[37m\u001b[0m \u001b[1m0s\u001b[0m 666us/step - loss: 7.9496 - mean_squared_error: 7.9496 - val_loss: 13.8247 - val_mean_squared_error: 13.8247\n",
      "Epoch 62/100\n",
      "\u001b[1m117/117\u001b[0m \u001b[32m━━━━━━━━━━━━━━━━━━━━\u001b[0m\u001b[37m\u001b[0m \u001b[1m0s\u001b[0m 809us/step - loss: 7.4787 - mean_squared_error: 7.4787 - val_loss: 13.8671 - val_mean_squared_error: 13.8671\n",
      "Epoch 63/100\n",
      "\u001b[1m117/117\u001b[0m \u001b[32m━━━━━━━━━━━━━━━━━━━━\u001b[0m\u001b[37m\u001b[0m \u001b[1m0s\u001b[0m 686us/step - loss: 8.1138 - mean_squared_error: 8.1138 - val_loss: 13.8918 - val_mean_squared_error: 13.8918\n",
      "Epoch 64/100\n",
      "\u001b[1m117/117\u001b[0m \u001b[32m━━━━━━━━━━━━━━━━━━━━\u001b[0m\u001b[37m\u001b[0m \u001b[1m0s\u001b[0m 686us/step - loss: 7.6164 - mean_squared_error: 7.6164 - val_loss: 13.9505 - val_mean_squared_error: 13.9505\n",
      "Epoch 65/100\n",
      "\u001b[1m117/117\u001b[0m \u001b[32m━━━━━━━━━━━━━━━━━━━━\u001b[0m\u001b[37m\u001b[0m \u001b[1m0s\u001b[0m 663us/step - loss: 7.0795 - mean_squared_error: 7.0795 - val_loss: 14.0140 - val_mean_squared_error: 14.0140\n",
      "Epoch 66/100\n",
      "\u001b[1m117/117\u001b[0m \u001b[32m━━━━━━━━━━━━━━━━━━━━\u001b[0m\u001b[37m\u001b[0m \u001b[1m0s\u001b[0m 665us/step - loss: 7.3569 - mean_squared_error: 7.3569 - val_loss: 14.0966 - val_mean_squared_error: 14.0966\n",
      "Epoch 67/100\n",
      "\u001b[1m117/117\u001b[0m \u001b[32m━━━━━━━━━━━━━━━━━━━━\u001b[0m\u001b[37m\u001b[0m \u001b[1m0s\u001b[0m 680us/step - loss: 7.7787 - mean_squared_error: 7.7787 - val_loss: 13.8837 - val_mean_squared_error: 13.8837\n",
      "Epoch 68/100\n",
      "\u001b[1m117/117\u001b[0m \u001b[32m━━━━━━━━━━━━━━━━━━━━\u001b[0m\u001b[37m\u001b[0m \u001b[1m0s\u001b[0m 666us/step - loss: 7.9047 - mean_squared_error: 7.9047 - val_loss: 14.2119 - val_mean_squared_error: 14.2119\n",
      "Epoch 69/100\n",
      "\u001b[1m117/117\u001b[0m \u001b[32m━━━━━━━━━━━━━━━━━━━━\u001b[0m\u001b[37m\u001b[0m \u001b[1m0s\u001b[0m 659us/step - loss: 7.2473 - mean_squared_error: 7.2473 - val_loss: 14.2601 - val_mean_squared_error: 14.2601\n",
      "Epoch 70/100\n",
      "\u001b[1m117/117\u001b[0m \u001b[32m━━━━━━━━━━━━━━━━━━━━\u001b[0m\u001b[37m\u001b[0m \u001b[1m0s\u001b[0m 665us/step - loss: 7.3307 - mean_squared_error: 7.3307 - val_loss: 14.0203 - val_mean_squared_error: 14.0203\n",
      "Epoch 71/100\n",
      "\u001b[1m117/117\u001b[0m \u001b[32m━━━━━━━━━━━━━━━━━━━━\u001b[0m\u001b[37m\u001b[0m \u001b[1m0s\u001b[0m 661us/step - loss: 7.4150 - mean_squared_error: 7.4150 - val_loss: 14.4287 - val_mean_squared_error: 14.4287\n",
      "Epoch 72/100\n",
      "\u001b[1m117/117\u001b[0m \u001b[32m━━━━━━━━━━━━━━━━━━━━\u001b[0m\u001b[37m\u001b[0m \u001b[1m0s\u001b[0m 1ms/step - loss: 7.5005 - mean_squared_error: 7.5005 - val_loss: 14.1714 - val_mean_squared_error: 14.1714\n",
      "Epoch 73/100\n",
      "\u001b[1m117/117\u001b[0m \u001b[32m━━━━━━━━━━━━━━━━━━━━\u001b[0m\u001b[37m\u001b[0m \u001b[1m0s\u001b[0m 681us/step - loss: 7.7832 - mean_squared_error: 7.7832 - val_loss: 14.6177 - val_mean_squared_error: 14.6177\n",
      "Epoch 74/100\n",
      "\u001b[1m117/117\u001b[0m \u001b[32m━━━━━━━━━━━━━━━━━━━━\u001b[0m\u001b[37m\u001b[0m \u001b[1m0s\u001b[0m 670us/step - loss: 7.6639 - mean_squared_error: 7.6639 - val_loss: 14.6141 - val_mean_squared_error: 14.6141\n",
      "Epoch 75/100\n",
      "\u001b[1m117/117\u001b[0m \u001b[32m━━━━━━━━━━━━━━━━━━━━\u001b[0m\u001b[37m\u001b[0m \u001b[1m0s\u001b[0m 721us/step - loss: 7.0234 - mean_squared_error: 7.0234 - val_loss: 14.5896 - val_mean_squared_error: 14.5896\n",
      "Epoch 76/100\n",
      "\u001b[1m117/117\u001b[0m \u001b[32m━━━━━━━━━━━━━━━━━━━━\u001b[0m\u001b[37m\u001b[0m \u001b[1m0s\u001b[0m 668us/step - loss: 7.3056 - mean_squared_error: 7.3056 - val_loss: 14.8358 - val_mean_squared_error: 14.8358\n",
      "Epoch 77/100\n",
      "\u001b[1m117/117\u001b[0m \u001b[32m━━━━━━━━━━━━━━━━━━━━\u001b[0m\u001b[37m\u001b[0m \u001b[1m0s\u001b[0m 680us/step - loss: 7.1816 - mean_squared_error: 7.1816 - val_loss: 14.6282 - val_mean_squared_error: 14.6282\n",
      "Epoch 78/100\n",
      "\u001b[1m117/117\u001b[0m \u001b[32m━━━━━━━━━━━━━━━━━━━━\u001b[0m\u001b[37m\u001b[0m \u001b[1m0s\u001b[0m 666us/step - loss: 7.3867 - mean_squared_error: 7.3867 - val_loss: 14.8253 - val_mean_squared_error: 14.8253\n",
      "Epoch 79/100\n",
      "\u001b[1m117/117\u001b[0m \u001b[32m━━━━━━━━━━━━━━━━━━━━\u001b[0m\u001b[37m\u001b[0m \u001b[1m0s\u001b[0m 681us/step - loss: 7.0794 - mean_squared_error: 7.0794 - val_loss: 14.7175 - val_mean_squared_error: 14.7175\n",
      "Epoch 80/100\n",
      "\u001b[1m117/117\u001b[0m \u001b[32m━━━━━━━━━━━━━━━━━━━━\u001b[0m\u001b[37m\u001b[0m \u001b[1m0s\u001b[0m 663us/step - loss: 7.3137 - mean_squared_error: 7.3137 - val_loss: 14.6283 - val_mean_squared_error: 14.6283\n",
      "Epoch 81/100\n",
      "\u001b[1m117/117\u001b[0m \u001b[32m━━━━━━━━━━━━━━━━━━━━\u001b[0m\u001b[37m\u001b[0m \u001b[1m0s\u001b[0m 667us/step - loss: 7.2820 - mean_squared_error: 7.2820 - val_loss: 15.1821 - val_mean_squared_error: 15.1821\n",
      "Epoch 82/100\n",
      "\u001b[1m117/117\u001b[0m \u001b[32m━━━━━━━━━━━━━━━━━━━━\u001b[0m\u001b[37m\u001b[0m \u001b[1m0s\u001b[0m 679us/step - loss: 7.2816 - mean_squared_error: 7.2816 - val_loss: 14.8824 - val_mean_squared_error: 14.8824\n",
      "Epoch 83/100\n",
      "\u001b[1m117/117\u001b[0m \u001b[32m━━━━━━━━━━━━━━━━━━━━\u001b[0m\u001b[37m\u001b[0m \u001b[1m0s\u001b[0m 2ms/step - loss: 7.3774 - mean_squared_error: 7.3774 - val_loss: 15.0645 - val_mean_squared_error: 15.0645\n",
      "Epoch 84/100\n",
      "\u001b[1m117/117\u001b[0m \u001b[32m━━━━━━━━━━━━━━━━━━━━\u001b[0m\u001b[37m\u001b[0m \u001b[1m0s\u001b[0m 723us/step - loss: 7.1120 - mean_squared_error: 7.1120 - val_loss: 15.2552 - val_mean_squared_error: 15.2552\n",
      "Epoch 85/100\n",
      "\u001b[1m117/117\u001b[0m \u001b[32m━━━━━━━━━━━━━━━━━━━━\u001b[0m\u001b[37m\u001b[0m \u001b[1m0s\u001b[0m 663us/step - loss: 7.6217 - mean_squared_error: 7.6217 - val_loss: 14.9727 - val_mean_squared_error: 14.9727\n",
      "Epoch 86/100\n",
      "\u001b[1m117/117\u001b[0m \u001b[32m━━━━━━━━━━━━━━━━━━━━\u001b[0m\u001b[37m\u001b[0m \u001b[1m0s\u001b[0m 682us/step - loss: 6.6624 - mean_squared_error: 6.6624 - val_loss: 14.9693 - val_mean_squared_error: 14.9693\n",
      "Epoch 87/100\n",
      "\u001b[1m117/117\u001b[0m \u001b[32m━━━━━━━━━━━━━━━━━━━━\u001b[0m\u001b[37m\u001b[0m \u001b[1m0s\u001b[0m 679us/step - loss: 7.1909 - mean_squared_error: 7.1909 - val_loss: 15.2457 - val_mean_squared_error: 15.2457\n",
      "Epoch 88/100\n",
      "\u001b[1m117/117\u001b[0m \u001b[32m━━━━━━━━━━━━━━━━━━━━\u001b[0m\u001b[37m\u001b[0m \u001b[1m0s\u001b[0m 667us/step - loss: 7.0849 - mean_squared_error: 7.0849 - val_loss: 15.2806 - val_mean_squared_error: 15.2806\n",
      "Epoch 89/100\n",
      "\u001b[1m117/117\u001b[0m \u001b[32m━━━━━━━━━━━━━━━━━━━━\u001b[0m\u001b[37m\u001b[0m \u001b[1m0s\u001b[0m 695us/step - loss: 7.5236 - mean_squared_error: 7.5236 - val_loss: 14.9742 - val_mean_squared_error: 14.9742\n",
      "Epoch 90/100\n",
      "\u001b[1m117/117\u001b[0m \u001b[32m━━━━━━━━━━━━━━━━━━━━\u001b[0m\u001b[37m\u001b[0m \u001b[1m0s\u001b[0m 663us/step - loss: 7.0661 - mean_squared_error: 7.0661 - val_loss: 15.3556 - val_mean_squared_error: 15.3556\n",
      "Epoch 91/100\n",
      "\u001b[1m117/117\u001b[0m \u001b[32m━━━━━━━━━━━━━━━━━━━━\u001b[0m\u001b[37m\u001b[0m \u001b[1m0s\u001b[0m 660us/step - loss: 7.6136 - mean_squared_error: 7.6136 - val_loss: 15.9912 - val_mean_squared_error: 15.9912\n",
      "Epoch 92/100\n",
      "\u001b[1m117/117\u001b[0m \u001b[32m━━━━━━━━━━━━━━━━━━━━\u001b[0m\u001b[37m\u001b[0m \u001b[1m0s\u001b[0m 665us/step - loss: 7.1914 - mean_squared_error: 7.1914 - val_loss: 15.4705 - val_mean_squared_error: 15.4705\n",
      "Epoch 93/100\n",
      "\u001b[1m117/117\u001b[0m \u001b[32m━━━━━━━━━━━━━━━━━━━━\u001b[0m\u001b[37m\u001b[0m \u001b[1m0s\u001b[0m 666us/step - loss: 7.4391 - mean_squared_error: 7.4391 - val_loss: 15.7427 - val_mean_squared_error: 15.7427\n",
      "Epoch 94/100\n",
      "\u001b[1m117/117\u001b[0m \u001b[32m━━━━━━━━━━━━━━━━━━━━\u001b[0m\u001b[37m\u001b[0m \u001b[1m0s\u001b[0m 665us/step - loss: 7.0083 - mean_squared_error: 7.0083 - val_loss: 15.4181 - val_mean_squared_error: 15.4181\n",
      "Epoch 95/100\n",
      "\u001b[1m117/117\u001b[0m \u001b[32m━━━━━━━━━━━━━━━━━━━━\u001b[0m\u001b[37m\u001b[0m \u001b[1m0s\u001b[0m 660us/step - loss: 7.0892 - mean_squared_error: 7.0892 - val_loss: 15.9315 - val_mean_squared_error: 15.9315\n",
      "Epoch 96/100\n",
      "\u001b[1m117/117\u001b[0m \u001b[32m━━━━━━━━━━━━━━━━━━━━\u001b[0m\u001b[37m\u001b[0m \u001b[1m0s\u001b[0m 670us/step - loss: 7.0483 - mean_squared_error: 7.0483 - val_loss: 15.9716 - val_mean_squared_error: 15.9716\n",
      "Epoch 97/100\n",
      "\u001b[1m117/117\u001b[0m \u001b[32m━━━━━━━━━━━━━━━━━━━━\u001b[0m\u001b[37m\u001b[0m \u001b[1m0s\u001b[0m 674us/step - loss: 6.9139 - mean_squared_error: 6.9139 - val_loss: 15.5489 - val_mean_squared_error: 15.5489\n",
      "Epoch 98/100\n",
      "\u001b[1m117/117\u001b[0m \u001b[32m━━━━━━━━━━━━━━━━━━━━\u001b[0m\u001b[37m\u001b[0m \u001b[1m0s\u001b[0m 668us/step - loss: 7.3189 - mean_squared_error: 7.3189 - val_loss: 15.5869 - val_mean_squared_error: 15.5869\n",
      "Epoch 99/100\n",
      "\u001b[1m117/117\u001b[0m \u001b[32m━━━━━━━━━━━━━━━━━━━━\u001b[0m\u001b[37m\u001b[0m \u001b[1m0s\u001b[0m 662us/step - loss: 7.7219 - mean_squared_error: 7.7219 - val_loss: 15.5639 - val_mean_squared_error: 15.5639\n",
      "Epoch 100/100\n",
      "\u001b[1m117/117\u001b[0m \u001b[32m━━━━━━━━━━━━━━━━━━━━\u001b[0m\u001b[37m\u001b[0m \u001b[1m0s\u001b[0m 658us/step - loss: 7.1568 - mean_squared_error: 7.1568 - val_loss: 15.3371 - val_mean_squared_error: 15.3371\n"
     ]
    },
    {
     "data": {
      "text/plain": [
       "<keras.src.callbacks.history.History at 0x16af1e810>"
      ]
     },
     "execution_count": 26,
     "metadata": {},
     "output_type": "execute_result"
    }
   ],
   "source": [
    "import tensorflow as tf\n",
    "\n",
    "dl_reg_model = tf.keras.models.Sequential([\n",
    "    tf.keras.layers.Input(shape=(122,)),  # Input layer with 122 features\n",
    "    tf.keras.layers.Dense(16, activation='relu'),  # Hidden layer with 32 neurons\n",
    "    tf.keras.layers.Dense(1, activation='linear')\n",
    "])\n",
    "\n",
    "dl_reg_model.compile(optimizer='adam',\n",
    "              loss='mean_squared_error',\n",
    "              metrics=['mean_squared_error'])\n",
    "\n",
    "dl_reg_model.fit(X_train, y_train, epochs=100, batch_size=32, validation_split=0.2)"
   ]
  },
  {
   "cell_type": "markdown",
   "metadata": {},
   "source": [
    "### Classification"
   ]
  },
  {
   "cell_type": "code",
   "execution_count": 27,
   "metadata": {},
   "outputs": [
    {
     "name": "stdout",
     "output_type": "stream",
     "text": [
      "Epoch 1/100\n",
      "\u001b[1m117/117\u001b[0m \u001b[32m━━━━━━━━━━━━━━━━━━━━\u001b[0m\u001b[37m\u001b[0m \u001b[1m1s\u001b[0m 2ms/step - accuracy: 0.8628 - loss: 0.4570 - val_accuracy: 0.9422 - val_loss: 0.2409\n",
      "Epoch 2/100\n",
      "\u001b[1m117/117\u001b[0m \u001b[32m━━━━━━━━━━━━━━━━━━━━\u001b[0m\u001b[37m\u001b[0m \u001b[1m0s\u001b[0m 722us/step - accuracy: 0.9393 - loss: 0.1750 - val_accuracy: 0.9465 - val_loss: 0.1632\n",
      "Epoch 3/100\n",
      "\u001b[1m117/117\u001b[0m \u001b[32m━━━━━━━━━━━━━━━━━━━━\u001b[0m\u001b[37m\u001b[0m \u001b[1m0s\u001b[0m 712us/step - accuracy: 0.9450 - loss: 0.1342 - val_accuracy: 0.9487 - val_loss: 0.1384\n",
      "Epoch 4/100\n",
      "\u001b[1m117/117\u001b[0m \u001b[32m━━━━━━━━━━━━━━━━━━━━\u001b[0m\u001b[37m\u001b[0m \u001b[1m0s\u001b[0m 694us/step - accuracy: 0.9429 - loss: 0.1318 - val_accuracy: 0.9551 - val_loss: 0.1262\n",
      "Epoch 5/100\n",
      "\u001b[1m117/117\u001b[0m \u001b[32m━━━━━━━━━━━━━━━━━━━━\u001b[0m\u001b[37m\u001b[0m \u001b[1m0s\u001b[0m 689us/step - accuracy: 0.9534 - loss: 0.1138 - val_accuracy: 0.9626 - val_loss: 0.1199\n",
      "Epoch 6/100\n",
      "\u001b[1m117/117\u001b[0m \u001b[32m━━━━━━━━━━━━━━━━━━━━\u001b[0m\u001b[37m\u001b[0m \u001b[1m0s\u001b[0m 695us/step - accuracy: 0.9506 - loss: 0.1154 - val_accuracy: 0.9551 - val_loss: 0.1159\n",
      "Epoch 7/100\n",
      "\u001b[1m117/117\u001b[0m \u001b[32m━━━━━━━━━━━━━━━━━━━━\u001b[0m\u001b[37m\u001b[0m \u001b[1m0s\u001b[0m 711us/step - accuracy: 0.9574 - loss: 0.1069 - val_accuracy: 0.9572 - val_loss: 0.1142\n",
      "Epoch 8/100\n",
      "\u001b[1m117/117\u001b[0m \u001b[32m━━━━━━━━━━━━━━━━━━━━\u001b[0m\u001b[37m\u001b[0m \u001b[1m0s\u001b[0m 714us/step - accuracy: 0.9481 - loss: 0.1161 - val_accuracy: 0.9594 - val_loss: 0.1119\n",
      "Epoch 9/100\n",
      "\u001b[1m117/117\u001b[0m \u001b[32m━━━━━━━━━━━━━━━━━━━━\u001b[0m\u001b[37m\u001b[0m \u001b[1m0s\u001b[0m 699us/step - accuracy: 0.9529 - loss: 0.1116 - val_accuracy: 0.9626 - val_loss: 0.1100\n",
      "Epoch 10/100\n",
      "\u001b[1m117/117\u001b[0m \u001b[32m━━━━━━━━━━━━━━━━━━━━\u001b[0m\u001b[37m\u001b[0m \u001b[1m0s\u001b[0m 691us/step - accuracy: 0.9544 - loss: 0.1045 - val_accuracy: 0.9679 - val_loss: 0.1074\n",
      "Epoch 11/100\n",
      "\u001b[1m117/117\u001b[0m \u001b[32m━━━━━━━━━━━━━━━━━━━━\u001b[0m\u001b[37m\u001b[0m \u001b[1m0s\u001b[0m 701us/step - accuracy: 0.9615 - loss: 0.0969 - val_accuracy: 0.9615 - val_loss: 0.1069\n",
      "Epoch 12/100\n",
      "\u001b[1m117/117\u001b[0m \u001b[32m━━━━━━━━━━━━━━━━━━━━\u001b[0m\u001b[37m\u001b[0m \u001b[1m0s\u001b[0m 701us/step - accuracy: 0.9551 - loss: 0.1065 - val_accuracy: 0.9658 - val_loss: 0.1069\n",
      "Epoch 13/100\n",
      "\u001b[1m117/117\u001b[0m \u001b[32m━━━━━━━━━━━━━━━━━━━━\u001b[0m\u001b[37m\u001b[0m \u001b[1m0s\u001b[0m 711us/step - accuracy: 0.9564 - loss: 0.1008 - val_accuracy: 0.9647 - val_loss: 0.1069\n",
      "Epoch 14/100\n",
      "\u001b[1m117/117\u001b[0m \u001b[32m━━━━━━━━━━━━━━━━━━━━\u001b[0m\u001b[37m\u001b[0m \u001b[1m0s\u001b[0m 692us/step - accuracy: 0.9563 - loss: 0.1024 - val_accuracy: 0.9658 - val_loss: 0.1059\n",
      "Epoch 15/100\n",
      "\u001b[1m117/117\u001b[0m \u001b[32m━━━━━━━━━━━━━━━━━━━━\u001b[0m\u001b[37m\u001b[0m \u001b[1m0s\u001b[0m 700us/step - accuracy: 0.9518 - loss: 0.1057 - val_accuracy: 0.9668 - val_loss: 0.1050\n",
      "Epoch 16/100\n",
      "\u001b[1m117/117\u001b[0m \u001b[32m━━━━━━━━━━━━━━━━━━━━\u001b[0m\u001b[37m\u001b[0m \u001b[1m0s\u001b[0m 695us/step - accuracy: 0.9549 - loss: 0.1046 - val_accuracy: 0.9647 - val_loss: 0.1050\n",
      "Epoch 17/100\n",
      "\u001b[1m117/117\u001b[0m \u001b[32m━━━━━━━━━━━━━━━━━━━━\u001b[0m\u001b[37m\u001b[0m \u001b[1m0s\u001b[0m 694us/step - accuracy: 0.9593 - loss: 0.0942 - val_accuracy: 0.9668 - val_loss: 0.1064\n",
      "Epoch 18/100\n",
      "\u001b[1m117/117\u001b[0m \u001b[32m━━━━━━━━━━━━━━━━━━━━\u001b[0m\u001b[37m\u001b[0m \u001b[1m0s\u001b[0m 696us/step - accuracy: 0.9562 - loss: 0.0977 - val_accuracy: 0.9679 - val_loss: 0.1049\n",
      "Epoch 19/100\n",
      "\u001b[1m117/117\u001b[0m \u001b[32m━━━━━━━━━━━━━━━━━━━━\u001b[0m\u001b[37m\u001b[0m \u001b[1m0s\u001b[0m 703us/step - accuracy: 0.9606 - loss: 0.0969 - val_accuracy: 0.9615 - val_loss: 0.1078\n",
      "Epoch 20/100\n",
      "\u001b[1m117/117\u001b[0m \u001b[32m━━━━━━━━━━━━━━━━━━━━\u001b[0m\u001b[37m\u001b[0m \u001b[1m0s\u001b[0m 701us/step - accuracy: 0.9536 - loss: 0.1009 - val_accuracy: 0.9690 - val_loss: 0.1053\n",
      "Epoch 21/100\n",
      "\u001b[1m117/117\u001b[0m \u001b[32m━━━━━━━━━━━━━━━━━━━━\u001b[0m\u001b[37m\u001b[0m \u001b[1m0s\u001b[0m 703us/step - accuracy: 0.9594 - loss: 0.0953 - val_accuracy: 0.9636 - val_loss: 0.1042\n",
      "Epoch 22/100\n",
      "\u001b[1m117/117\u001b[0m \u001b[32m━━━━━━━━━━━━━━━━━━━━\u001b[0m\u001b[37m\u001b[0m \u001b[1m0s\u001b[0m 706us/step - accuracy: 0.9580 - loss: 0.0915 - val_accuracy: 0.9647 - val_loss: 0.1044\n",
      "Epoch 23/100\n",
      "\u001b[1m117/117\u001b[0m \u001b[32m━━━━━━━━━━━━━━━━━━━━\u001b[0m\u001b[37m\u001b[0m \u001b[1m0s\u001b[0m 694us/step - accuracy: 0.9622 - loss: 0.0849 - val_accuracy: 0.9658 - val_loss: 0.1059\n",
      "Epoch 24/100\n",
      "\u001b[1m117/117\u001b[0m \u001b[32m━━━━━━━━━━━━━━━━━━━━\u001b[0m\u001b[37m\u001b[0m \u001b[1m0s\u001b[0m 701us/step - accuracy: 0.9590 - loss: 0.0892 - val_accuracy: 0.9604 - val_loss: 0.1062\n",
      "Epoch 25/100\n",
      "\u001b[1m117/117\u001b[0m \u001b[32m━━━━━━━━━━━━━━━━━━━━\u001b[0m\u001b[37m\u001b[0m \u001b[1m0s\u001b[0m 716us/step - accuracy: 0.9643 - loss: 0.0848 - val_accuracy: 0.9626 - val_loss: 0.1089\n",
      "Epoch 26/100\n",
      "\u001b[1m117/117\u001b[0m \u001b[32m━━━━━━━━━━━━━━━━━━━━\u001b[0m\u001b[37m\u001b[0m \u001b[1m0s\u001b[0m 698us/step - accuracy: 0.9564 - loss: 0.0902 - val_accuracy: 0.9604 - val_loss: 0.1071\n",
      "Epoch 27/100\n",
      "\u001b[1m117/117\u001b[0m \u001b[32m━━━━━━━━━━━━━━━━━━━━\u001b[0m\u001b[37m\u001b[0m \u001b[1m0s\u001b[0m 698us/step - accuracy: 0.9580 - loss: 0.0902 - val_accuracy: 0.9615 - val_loss: 0.1055\n",
      "Epoch 28/100\n",
      "\u001b[1m117/117\u001b[0m \u001b[32m━━━━━━━━━━━━━━━━━━━━\u001b[0m\u001b[37m\u001b[0m \u001b[1m0s\u001b[0m 699us/step - accuracy: 0.9650 - loss: 0.0868 - val_accuracy: 0.9604 - val_loss: 0.1063\n",
      "Epoch 29/100\n",
      "\u001b[1m117/117\u001b[0m \u001b[32m━━━━━━━━━━━━━━━━━━━━\u001b[0m\u001b[37m\u001b[0m \u001b[1m0s\u001b[0m 711us/step - accuracy: 0.9578 - loss: 0.0883 - val_accuracy: 0.9615 - val_loss: 0.1068\n",
      "Epoch 30/100\n",
      "\u001b[1m117/117\u001b[0m \u001b[32m━━━━━━━━━━━━━━━━━━━━\u001b[0m\u001b[37m\u001b[0m \u001b[1m0s\u001b[0m 697us/step - accuracy: 0.9655 - loss: 0.0804 - val_accuracy: 0.9615 - val_loss: 0.1067\n",
      "Epoch 31/100\n",
      "\u001b[1m117/117\u001b[0m \u001b[32m━━━━━━━━━━━━━━━━━━━━\u001b[0m\u001b[37m\u001b[0m \u001b[1m0s\u001b[0m 2ms/step - accuracy: 0.9666 - loss: 0.0832 - val_accuracy: 0.9604 - val_loss: 0.1069\n",
      "Epoch 32/100\n",
      "\u001b[1m117/117\u001b[0m \u001b[32m━━━━━━━━━━━━━━━━━━━━\u001b[0m\u001b[37m\u001b[0m \u001b[1m0s\u001b[0m 696us/step - accuracy: 0.9684 - loss: 0.0730 - val_accuracy: 0.9615 - val_loss: 0.1074\n",
      "Epoch 33/100\n",
      "\u001b[1m117/117\u001b[0m \u001b[32m━━━━━━━━━━━━━━━━━━━━\u001b[0m\u001b[37m\u001b[0m \u001b[1m0s\u001b[0m 696us/step - accuracy: 0.9642 - loss: 0.0808 - val_accuracy: 0.9604 - val_loss: 0.1105\n",
      "Epoch 34/100\n",
      "\u001b[1m117/117\u001b[0m \u001b[32m━━━━━━━━━━━━━━━━━━━━\u001b[0m\u001b[37m\u001b[0m \u001b[1m0s\u001b[0m 708us/step - accuracy: 0.9645 - loss: 0.0790 - val_accuracy: 0.9604 - val_loss: 0.1096\n",
      "Epoch 35/100\n",
      "\u001b[1m117/117\u001b[0m \u001b[32m━━━━━━━━━━━━━━━━━━━━\u001b[0m\u001b[37m\u001b[0m \u001b[1m0s\u001b[0m 720us/step - accuracy: 0.9664 - loss: 0.0830 - val_accuracy: 0.9604 - val_loss: 0.1107\n",
      "Epoch 36/100\n",
      "\u001b[1m117/117\u001b[0m \u001b[32m━━━━━━━━━━━━━━━━━━━━\u001b[0m\u001b[37m\u001b[0m \u001b[1m0s\u001b[0m 697us/step - accuracy: 0.9664 - loss: 0.0751 - val_accuracy: 0.9604 - val_loss: 0.1094\n",
      "Epoch 37/100\n",
      "\u001b[1m117/117\u001b[0m \u001b[32m━━━━━━━━━━━━━━━━━━━━\u001b[0m\u001b[37m\u001b[0m \u001b[1m0s\u001b[0m 701us/step - accuracy: 0.9670 - loss: 0.0778 - val_accuracy: 0.9594 - val_loss: 0.1158\n",
      "Epoch 38/100\n",
      "\u001b[1m117/117\u001b[0m \u001b[32m━━━━━━━━━━━━━━━━━━━━\u001b[0m\u001b[37m\u001b[0m \u001b[1m0s\u001b[0m 694us/step - accuracy: 0.9688 - loss: 0.0738 - val_accuracy: 0.9594 - val_loss: 0.1127\n",
      "Epoch 39/100\n",
      "\u001b[1m117/117\u001b[0m \u001b[32m━━━━━━━━━━━━━━━━━━━━\u001b[0m\u001b[37m\u001b[0m \u001b[1m0s\u001b[0m 694us/step - accuracy: 0.9704 - loss: 0.0764 - val_accuracy: 0.9604 - val_loss: 0.1136\n",
      "Epoch 40/100\n",
      "\u001b[1m117/117\u001b[0m \u001b[32m━━━━━━━━━━━━━━━━━━━━\u001b[0m\u001b[37m\u001b[0m \u001b[1m0s\u001b[0m 694us/step - accuracy: 0.9734 - loss: 0.0692 - val_accuracy: 0.9594 - val_loss: 0.1131\n",
      "Epoch 41/100\n",
      "\u001b[1m117/117\u001b[0m \u001b[32m━━━━━━━━━━━━━━━━━━━━\u001b[0m\u001b[37m\u001b[0m \u001b[1m0s\u001b[0m 689us/step - accuracy: 0.9672 - loss: 0.0782 - val_accuracy: 0.9604 - val_loss: 0.1170\n",
      "Epoch 42/100\n",
      "\u001b[1m117/117\u001b[0m \u001b[32m━━━━━━━━━━━━━━━━━━━━\u001b[0m\u001b[37m\u001b[0m \u001b[1m0s\u001b[0m 713us/step - accuracy: 0.9738 - loss: 0.0690 - val_accuracy: 0.9583 - val_loss: 0.1171\n",
      "Epoch 43/100\n",
      "\u001b[1m117/117\u001b[0m \u001b[32m━━━━━━━━━━━━━━━━━━━━\u001b[0m\u001b[37m\u001b[0m \u001b[1m0s\u001b[0m 701us/step - accuracy: 0.9714 - loss: 0.0714 - val_accuracy: 0.9604 - val_loss: 0.1179\n",
      "Epoch 44/100\n",
      "\u001b[1m117/117\u001b[0m \u001b[32m━━━━━━━━━━━━━━━━━━━━\u001b[0m\u001b[37m\u001b[0m \u001b[1m0s\u001b[0m 697us/step - accuracy: 0.9699 - loss: 0.0746 - val_accuracy: 0.9594 - val_loss: 0.1162\n",
      "Epoch 45/100\n",
      "\u001b[1m117/117\u001b[0m \u001b[32m━━━━━━━━━━━━━━━━━━━━\u001b[0m\u001b[37m\u001b[0m \u001b[1m0s\u001b[0m 694us/step - accuracy: 0.9768 - loss: 0.0642 - val_accuracy: 0.9604 - val_loss: 0.1214\n",
      "Epoch 46/100\n",
      "\u001b[1m117/117\u001b[0m \u001b[32m━━━━━━━━━━━━━━━━━━━━\u001b[0m\u001b[37m\u001b[0m \u001b[1m0s\u001b[0m 689us/step - accuracy: 0.9743 - loss: 0.0634 - val_accuracy: 0.9583 - val_loss: 0.1209\n",
      "Epoch 47/100\n",
      "\u001b[1m117/117\u001b[0m \u001b[32m━━━━━━━━━━━━━━━━━━━━\u001b[0m\u001b[37m\u001b[0m \u001b[1m0s\u001b[0m 699us/step - accuracy: 0.9762 - loss: 0.0632 - val_accuracy: 0.9583 - val_loss: 0.1194\n",
      "Epoch 48/100\n",
      "\u001b[1m117/117\u001b[0m \u001b[32m━━━━━━━━━━━━━━━━━━━━\u001b[0m\u001b[37m\u001b[0m \u001b[1m0s\u001b[0m 697us/step - accuracy: 0.9740 - loss: 0.0672 - val_accuracy: 0.9583 - val_loss: 0.1216\n",
      "Epoch 49/100\n",
      "\u001b[1m117/117\u001b[0m \u001b[32m━━━━━━━━━━━━━━━━━━━━\u001b[0m\u001b[37m\u001b[0m \u001b[1m0s\u001b[0m 697us/step - accuracy: 0.9717 - loss: 0.0727 - val_accuracy: 0.9583 - val_loss: 0.1219\n",
      "Epoch 50/100\n",
      "\u001b[1m117/117\u001b[0m \u001b[32m━━━━━━━━━━━━━━━━━━━━\u001b[0m\u001b[37m\u001b[0m \u001b[1m0s\u001b[0m 710us/step - accuracy: 0.9720 - loss: 0.0692 - val_accuracy: 0.9583 - val_loss: 0.1239\n",
      "Epoch 51/100\n",
      "\u001b[1m117/117\u001b[0m \u001b[32m━━━━━━━━━━━━━━━━━━━━\u001b[0m\u001b[37m\u001b[0m \u001b[1m0s\u001b[0m 698us/step - accuracy: 0.9745 - loss: 0.0671 - val_accuracy: 0.9572 - val_loss: 0.1259\n",
      "Epoch 52/100\n",
      "\u001b[1m117/117\u001b[0m \u001b[32m━━━━━━━━━━━━━━━━━━━━\u001b[0m\u001b[37m\u001b[0m \u001b[1m0s\u001b[0m 692us/step - accuracy: 0.9738 - loss: 0.0636 - val_accuracy: 0.9551 - val_loss: 0.1263\n",
      "Epoch 53/100\n",
      "\u001b[1m117/117\u001b[0m \u001b[32m━━━━━━━━━━━━━━━━━━━━\u001b[0m\u001b[37m\u001b[0m \u001b[1m0s\u001b[0m 691us/step - accuracy: 0.9748 - loss: 0.0664 - val_accuracy: 0.9572 - val_loss: 0.1279\n",
      "Epoch 54/100\n",
      "\u001b[1m117/117\u001b[0m \u001b[32m━━━━━━━━━━━━━━━━━━━━\u001b[0m\u001b[37m\u001b[0m \u001b[1m0s\u001b[0m 698us/step - accuracy: 0.9714 - loss: 0.0699 - val_accuracy: 0.9572 - val_loss: 0.1243\n",
      "Epoch 55/100\n",
      "\u001b[1m117/117\u001b[0m \u001b[32m━━━━━━━━━━━━━━━━━━━━\u001b[0m\u001b[37m\u001b[0m \u001b[1m0s\u001b[0m 690us/step - accuracy: 0.9754 - loss: 0.0615 - val_accuracy: 0.9583 - val_loss: 0.1262\n",
      "Epoch 56/100\n",
      "\u001b[1m117/117\u001b[0m \u001b[32m━━━━━━━━━━━━━━━━━━━━\u001b[0m\u001b[37m\u001b[0m \u001b[1m0s\u001b[0m 708us/step - accuracy: 0.9791 - loss: 0.0603 - val_accuracy: 0.9561 - val_loss: 0.1287\n",
      "Epoch 57/100\n",
      "\u001b[1m117/117\u001b[0m \u001b[32m━━━━━━━━━━━━━━━━━━━━\u001b[0m\u001b[37m\u001b[0m \u001b[1m0s\u001b[0m 702us/step - accuracy: 0.9757 - loss: 0.0614 - val_accuracy: 0.9572 - val_loss: 0.1306\n",
      "Epoch 58/100\n",
      "\u001b[1m117/117\u001b[0m \u001b[32m━━━━━━━━━━━━━━━━━━━━\u001b[0m\u001b[37m\u001b[0m \u001b[1m0s\u001b[0m 691us/step - accuracy: 0.9740 - loss: 0.0650 - val_accuracy: 0.9583 - val_loss: 0.1304\n",
      "Epoch 59/100\n",
      "\u001b[1m117/117\u001b[0m \u001b[32m━━━━━━━━━━━━━━━━━━━━\u001b[0m\u001b[37m\u001b[0m \u001b[1m0s\u001b[0m 702us/step - accuracy: 0.9745 - loss: 0.0674 - val_accuracy: 0.9519 - val_loss: 0.1349\n",
      "Epoch 60/100\n",
      "\u001b[1m117/117\u001b[0m \u001b[32m━━━━━━━━━━━━━━━━━━━━\u001b[0m\u001b[37m\u001b[0m \u001b[1m0s\u001b[0m 710us/step - accuracy: 0.9709 - loss: 0.0657 - val_accuracy: 0.9572 - val_loss: 0.1345\n",
      "Epoch 61/100\n",
      "\u001b[1m117/117\u001b[0m \u001b[32m━━━━━━━━━━━━━━━━━━━━\u001b[0m\u001b[37m\u001b[0m \u001b[1m0s\u001b[0m 700us/step - accuracy: 0.9719 - loss: 0.0674 - val_accuracy: 0.9561 - val_loss: 0.1341\n",
      "Epoch 62/100\n",
      "\u001b[1m117/117\u001b[0m \u001b[32m━━━━━━━━━━━━━━━━━━━━\u001b[0m\u001b[37m\u001b[0m \u001b[1m0s\u001b[0m 699us/step - accuracy: 0.9796 - loss: 0.0565 - val_accuracy: 0.9561 - val_loss: 0.1336\n",
      "Epoch 63/100\n",
      "\u001b[1m117/117\u001b[0m \u001b[32m━━━━━━━━━━━━━━━━━━━━\u001b[0m\u001b[37m\u001b[0m \u001b[1m0s\u001b[0m 695us/step - accuracy: 0.9811 - loss: 0.0547 - val_accuracy: 0.9540 - val_loss: 0.1401\n",
      "Epoch 64/100\n",
      "\u001b[1m117/117\u001b[0m \u001b[32m━━━━━━━━━━━━━━━━━━━━\u001b[0m\u001b[37m\u001b[0m \u001b[1m0s\u001b[0m 686us/step - accuracy: 0.9727 - loss: 0.0635 - val_accuracy: 0.9551 - val_loss: 0.1351\n",
      "Epoch 65/100\n",
      "\u001b[1m117/117\u001b[0m \u001b[32m━━━━━━━━━━━━━━━━━━━━\u001b[0m\u001b[37m\u001b[0m \u001b[1m0s\u001b[0m 697us/step - accuracy: 0.9788 - loss: 0.0599 - val_accuracy: 0.9551 - val_loss: 0.1379\n",
      "Epoch 66/100\n",
      "\u001b[1m117/117\u001b[0m \u001b[32m━━━━━━━━━━━━━━━━━━━━\u001b[0m\u001b[37m\u001b[0m \u001b[1m0s\u001b[0m 699us/step - accuracy: 0.9794 - loss: 0.0559 - val_accuracy: 0.9529 - val_loss: 0.1389\n",
      "Epoch 67/100\n",
      "\u001b[1m117/117\u001b[0m \u001b[32m━━━━━━━━━━━━━━━━━━━━\u001b[0m\u001b[37m\u001b[0m \u001b[1m0s\u001b[0m 699us/step - accuracy: 0.9783 - loss: 0.0571 - val_accuracy: 0.9551 - val_loss: 0.1395\n",
      "Epoch 68/100\n",
      "\u001b[1m117/117\u001b[0m \u001b[32m━━━━━━━━━━━━━━━━━━━━\u001b[0m\u001b[37m\u001b[0m \u001b[1m0s\u001b[0m 695us/step - accuracy: 0.9773 - loss: 0.0561 - val_accuracy: 0.9551 - val_loss: 0.1385\n",
      "Epoch 69/100\n",
      "\u001b[1m117/117\u001b[0m \u001b[32m━━━━━━━━━━━━━━━━━━━━\u001b[0m\u001b[37m\u001b[0m \u001b[1m0s\u001b[0m 689us/step - accuracy: 0.9771 - loss: 0.0606 - val_accuracy: 0.9561 - val_loss: 0.1442\n",
      "Epoch 70/100\n",
      "\u001b[1m117/117\u001b[0m \u001b[32m━━━━━━━━━━━━━━━━━━━━\u001b[0m\u001b[37m\u001b[0m \u001b[1m0s\u001b[0m 691us/step - accuracy: 0.9781 - loss: 0.0559 - val_accuracy: 0.9540 - val_loss: 0.1390\n",
      "Epoch 71/100\n",
      "\u001b[1m117/117\u001b[0m \u001b[32m━━━━━━━━━━━━━━━━━━━━\u001b[0m\u001b[37m\u001b[0m \u001b[1m0s\u001b[0m 685us/step - accuracy: 0.9782 - loss: 0.0579 - val_accuracy: 0.9519 - val_loss: 0.1446\n",
      "Epoch 72/100\n",
      "\u001b[1m117/117\u001b[0m \u001b[32m━━━━━━━━━━━━━━━━━━━━\u001b[0m\u001b[37m\u001b[0m \u001b[1m0s\u001b[0m 691us/step - accuracy: 0.9793 - loss: 0.0538 - val_accuracy: 0.9487 - val_loss: 0.1521\n",
      "Epoch 73/100\n",
      "\u001b[1m117/117\u001b[0m \u001b[32m━━━━━━━━━━━━━━━━━━━━\u001b[0m\u001b[37m\u001b[0m \u001b[1m0s\u001b[0m 698us/step - accuracy: 0.9766 - loss: 0.0641 - val_accuracy: 0.9529 - val_loss: 0.1475\n",
      "Epoch 74/100\n",
      "\u001b[1m117/117\u001b[0m \u001b[32m━━━━━━━━━━━━━━━━━━━━\u001b[0m\u001b[37m\u001b[0m \u001b[1m0s\u001b[0m 694us/step - accuracy: 0.9747 - loss: 0.0576 - val_accuracy: 0.9540 - val_loss: 0.1464\n",
      "Epoch 75/100\n",
      "\u001b[1m117/117\u001b[0m \u001b[32m━━━━━━━━━━━━━━━━━━━━\u001b[0m\u001b[37m\u001b[0m \u001b[1m0s\u001b[0m 694us/step - accuracy: 0.9816 - loss: 0.0548 - val_accuracy: 0.9540 - val_loss: 0.1477\n",
      "Epoch 76/100\n",
      "\u001b[1m117/117\u001b[0m \u001b[32m━━━━━━━━━━━━━━━━━━━━\u001b[0m\u001b[37m\u001b[0m \u001b[1m0s\u001b[0m 692us/step - accuracy: 0.9795 - loss: 0.0540 - val_accuracy: 0.9497 - val_loss: 0.1552\n",
      "Epoch 77/100\n",
      "\u001b[1m117/117\u001b[0m \u001b[32m━━━━━━━━━━━━━━━━━━━━\u001b[0m\u001b[37m\u001b[0m \u001b[1m0s\u001b[0m 693us/step - accuracy: 0.9770 - loss: 0.0577 - val_accuracy: 0.9529 - val_loss: 0.1491\n",
      "Epoch 78/100\n",
      "\u001b[1m117/117\u001b[0m \u001b[32m━━━━━━━━━━━━━━━━━━━━\u001b[0m\u001b[37m\u001b[0m \u001b[1m0s\u001b[0m 736us/step - accuracy: 0.9769 - loss: 0.0551 - val_accuracy: 0.9508 - val_loss: 0.1508\n",
      "Epoch 79/100\n",
      "\u001b[1m117/117\u001b[0m \u001b[32m━━━━━━━━━━━━━━━━━━━━\u001b[0m\u001b[37m\u001b[0m \u001b[1m0s\u001b[0m 713us/step - accuracy: 0.9749 - loss: 0.0564 - val_accuracy: 0.9540 - val_loss: 0.1526\n",
      "Epoch 80/100\n",
      "\u001b[1m117/117\u001b[0m \u001b[32m━━━━━━━━━━━━━━━━━━━━\u001b[0m\u001b[37m\u001b[0m \u001b[1m0s\u001b[0m 706us/step - accuracy: 0.9810 - loss: 0.0544 - val_accuracy: 0.9508 - val_loss: 0.1570\n",
      "Epoch 81/100\n",
      "\u001b[1m117/117\u001b[0m \u001b[32m━━━━━━━━━━━━━━━━━━━━\u001b[0m\u001b[37m\u001b[0m \u001b[1m0s\u001b[0m 691us/step - accuracy: 0.9821 - loss: 0.0536 - val_accuracy: 0.9529 - val_loss: 0.1539\n",
      "Epoch 82/100\n",
      "\u001b[1m117/117\u001b[0m \u001b[32m━━━━━━━━━━━━━━━━━━━━\u001b[0m\u001b[37m\u001b[0m \u001b[1m0s\u001b[0m 693us/step - accuracy: 0.9791 - loss: 0.0486 - val_accuracy: 0.9529 - val_loss: 0.1578\n",
      "Epoch 83/100\n",
      "\u001b[1m117/117\u001b[0m \u001b[32m━━━━━━━━━━━━━━━━━━━━\u001b[0m\u001b[37m\u001b[0m \u001b[1m0s\u001b[0m 705us/step - accuracy: 0.9814 - loss: 0.0513 - val_accuracy: 0.9529 - val_loss: 0.1522\n",
      "Epoch 84/100\n",
      "\u001b[1m117/117\u001b[0m \u001b[32m━━━━━━━━━━━━━━━━━━━━\u001b[0m\u001b[37m\u001b[0m \u001b[1m0s\u001b[0m 695us/step - accuracy: 0.9835 - loss: 0.0452 - val_accuracy: 0.9497 - val_loss: 0.1590\n",
      "Epoch 85/100\n",
      "\u001b[1m117/117\u001b[0m \u001b[32m━━━━━━━━━━━━━━━━━━━━\u001b[0m\u001b[37m\u001b[0m \u001b[1m0s\u001b[0m 695us/step - accuracy: 0.9809 - loss: 0.0535 - val_accuracy: 0.9508 - val_loss: 0.1584\n",
      "Epoch 86/100\n",
      "\u001b[1m117/117\u001b[0m \u001b[32m━━━━━━━━━━━━━━━━━━━━\u001b[0m\u001b[37m\u001b[0m \u001b[1m0s\u001b[0m 700us/step - accuracy: 0.9794 - loss: 0.0521 - val_accuracy: 0.9519 - val_loss: 0.1584\n",
      "Epoch 87/100\n",
      "\u001b[1m117/117\u001b[0m \u001b[32m━━━━━━━━━━━━━━━━━━━━\u001b[0m\u001b[37m\u001b[0m \u001b[1m0s\u001b[0m 718us/step - accuracy: 0.9782 - loss: 0.0503 - val_accuracy: 0.9487 - val_loss: 0.1565\n",
      "Epoch 88/100\n",
      "\u001b[1m117/117\u001b[0m \u001b[32m━━━━━━━━━━━━━━━━━━━━\u001b[0m\u001b[37m\u001b[0m \u001b[1m0s\u001b[0m 687us/step - accuracy: 0.9843 - loss: 0.0450 - val_accuracy: 0.9508 - val_loss: 0.1590\n",
      "Epoch 89/100\n",
      "\u001b[1m117/117\u001b[0m \u001b[32m━━━━━━━━━━━━━━━━━━━━\u001b[0m\u001b[37m\u001b[0m \u001b[1m0s\u001b[0m 704us/step - accuracy: 0.9836 - loss: 0.0473 - val_accuracy: 0.9487 - val_loss: 0.1589\n",
      "Epoch 90/100\n",
      "\u001b[1m117/117\u001b[0m \u001b[32m━━━━━━━━━━━━━━━━━━━━\u001b[0m\u001b[37m\u001b[0m \u001b[1m0s\u001b[0m 697us/step - accuracy: 0.9772 - loss: 0.0584 - val_accuracy: 0.9487 - val_loss: 0.1589\n",
      "Epoch 91/100\n",
      "\u001b[1m117/117\u001b[0m \u001b[32m━━━━━━━━━━━━━━━━━━━━\u001b[0m\u001b[37m\u001b[0m \u001b[1m0s\u001b[0m 702us/step - accuracy: 0.9788 - loss: 0.0544 - val_accuracy: 0.9444 - val_loss: 0.1746\n",
      "Epoch 92/100\n",
      "\u001b[1m117/117\u001b[0m \u001b[32m━━━━━━━━━━━━━━━━━━━━\u001b[0m\u001b[37m\u001b[0m \u001b[1m0s\u001b[0m 690us/step - accuracy: 0.9780 - loss: 0.0477 - val_accuracy: 0.9476 - val_loss: 0.1645\n",
      "Epoch 93/100\n",
      "\u001b[1m117/117\u001b[0m \u001b[32m━━━━━━━━━━━━━━━━━━━━\u001b[0m\u001b[37m\u001b[0m \u001b[1m0s\u001b[0m 693us/step - accuracy: 0.9835 - loss: 0.0452 - val_accuracy: 0.9497 - val_loss: 0.1618\n",
      "Epoch 94/100\n",
      "\u001b[1m117/117\u001b[0m \u001b[32m━━━━━━━━━━━━━━━━━━━━\u001b[0m\u001b[37m\u001b[0m \u001b[1m0s\u001b[0m 1ms/step - accuracy: 0.9812 - loss: 0.0452 - val_accuracy: 0.9476 - val_loss: 0.1720\n",
      "Epoch 95/100\n",
      "\u001b[1m117/117\u001b[0m \u001b[32m━━━━━━━━━━━━━━━━━━━━\u001b[0m\u001b[37m\u001b[0m \u001b[1m0s\u001b[0m 759us/step - accuracy: 0.9778 - loss: 0.0499 - val_accuracy: 0.9487 - val_loss: 0.1671\n",
      "Epoch 96/100\n",
      "\u001b[1m117/117\u001b[0m \u001b[32m━━━━━━━━━━━━━━━━━━━━\u001b[0m\u001b[37m\u001b[0m \u001b[1m0s\u001b[0m 736us/step - accuracy: 0.9833 - loss: 0.0454 - val_accuracy: 0.9476 - val_loss: 0.1676\n",
      "Epoch 97/100\n",
      "\u001b[1m117/117\u001b[0m \u001b[32m━━━━━━━━━━━━━━━━━━━━\u001b[0m\u001b[37m\u001b[0m \u001b[1m0s\u001b[0m 715us/step - accuracy: 0.9770 - loss: 0.0495 - val_accuracy: 0.9433 - val_loss: 0.1760\n",
      "Epoch 98/100\n",
      "\u001b[1m117/117\u001b[0m \u001b[32m━━━━━━━━━━━━━━━━━━━━\u001b[0m\u001b[37m\u001b[0m \u001b[1m0s\u001b[0m 744us/step - accuracy: 0.9855 - loss: 0.0422 - val_accuracy: 0.9508 - val_loss: 0.1656\n",
      "Epoch 99/100\n",
      "\u001b[1m117/117\u001b[0m \u001b[32m━━━━━━━━━━━━━━━━━━━━\u001b[0m\u001b[37m\u001b[0m \u001b[1m0s\u001b[0m 1ms/step - accuracy: 0.9827 - loss: 0.0458 - val_accuracy: 0.9487 - val_loss: 0.1676\n",
      "Epoch 100/100\n",
      "\u001b[1m117/117\u001b[0m \u001b[32m━━━━━━━━━━━━━━━━━━━━\u001b[0m\u001b[37m\u001b[0m \u001b[1m0s\u001b[0m 840us/step - accuracy: 0.9799 - loss: 0.0465 - val_accuracy: 0.9476 - val_loss: 0.1730\n",
      "\u001b[1m13/13\u001b[0m \u001b[32m━━━━━━━━━━━━━━━━━━━━\u001b[0m\u001b[37m\u001b[0m \u001b[1m0s\u001b[0m 1ms/step - accuracy: 0.9561 - loss: 0.1719 \n",
      "Test accuracy: 0.9371980428695679\n"
     ]
    }
   ],
   "source": [
    "import tensorflow as tf\n",
    "\n",
    "# Define the model\n",
    "dl_cl_model = tf.keras.models.Sequential([\n",
    "    tf.keras.layers.Input(shape=(122,)),  # Input layer with 122 features\n",
    "    tf.keras.layers.Dense(32, activation='relu'),  # Additional hidden layer with 64 neurons\n",
    "    tf.keras.layers.Dense(1, activation='sigmoid')  # Output layer for classification\n",
    "])\n",
    "\n",
    "dl_cl_model.compile(optimizer='adam',\n",
    "              loss='binary_crossentropy',\n",
    "              metrics=['accuracy'])\n",
    "\n",
    "# Train the model\n",
    "dl_cl_model.fit(X_train, y_train_c, epochs=100, batch_size=32, validation_split=0.2)\n",
    "\n",
    "# Evaluate the model on the test set\n",
    "test_loss, test_acc = dl_cl_model.evaluate(X_test, y_test_c)\n",
    "\n",
    "print(f'Test accuracy: {test_acc}')\n"
   ]
  },
  {
   "cell_type": "markdown",
   "metadata": {},
   "source": [
    "# Metrics"
   ]
  },
  {
   "cell_type": "markdown",
   "metadata": {},
   "source": [
    "### Regression models"
   ]
  },
  {
   "cell_type": "code",
   "execution_count": 28,
   "metadata": {},
   "outputs": [
    {
     "name": "stdout",
     "output_type": "stream",
     "text": [
      "          model_name  accuracy\n",
      "0  Linear Regression  0.391304\n",
      "1      Random Forest  0.521739\n",
      "2                SVM  0.391304\n",
      "3      Decision Tree  0.391304\n",
      "4                KNN  0.260870\n",
      "5              Lasso  0.434783\n"
     ]
    }
   ],
   "source": [
    "reg_models = [\n",
    "    (\"Linear Regression\", \"reg_lr_model\"),\n",
    "    (\"Random Forest\", \"reg_rf_model\"),\n",
    "    (\"SVM\", \"reg_svm_model\"),\n",
    "    (\"Decision Tree\", \"reg_dt_model\"),\n",
    "    (\"KNN\", \"reg_knn_model\"),\n",
    "    (\"Lasso\", \"reg_lasso_model\") # TODO: Adapt Deep Learning: dl_reg_model\n",
    "]\n",
    "\n",
    "reg_models_accuracy = test_all_models(test_df, reg_models)\n",
    "\n",
    "print(reg_models_accuracy)"
   ]
  },
  {
   "cell_type": "code",
   "execution_count": 29,
   "metadata": {},
   "outputs": [
    {
     "name": "stdout",
     "output_type": "stream",
     "text": [
      " year  round predicted_winner  predicted_position actual_winner\n",
      " 2024      1            Sainz                5.17    Verstappen\n",
      " 2024      2       Verstappen                1.16    Verstappen\n",
      " 2024      3            Sainz                2.08         Sainz\n",
      " 2024      4       Verstappen                1.33    Verstappen\n",
      " 2024      5       Verstappen                1.38    Verstappen\n",
      " 2024      6       Verstappen                1.39        Norris\n",
      " 2024      7       Verstappen                1.29    Verstappen\n",
      " 2024      8          Leclerc                2.52       Leclerc\n",
      " 2024      9       Verstappen                2.96    Verstappen\n",
      " 2024     10       Verstappen                1.69    Verstappen\n",
      " 2024     11           Norris                3.80       Russell\n",
      " 2024     12         Hamilton                3.29      Hamilton\n",
      " 2024     13          Piastri                3.60       Piastri\n",
      " 2024     14            Perez                2.19      Hamilton\n",
      " 2024     15       Verstappen                1.88        Norris\n",
      " 2024     16       Verstappen                3.66       Leclerc\n",
      " 2024     17       Verstappen                3.41       Piastri\n",
      " 2024     18       Verstappen                2.47        Norris\n",
      " 2024     19       Verstappen                2.35       Leclerc\n",
      " 2024     20            Sainz                2.71         Sainz\n",
      " 2024     21           Norris                3.09    Verstappen\n",
      " 2024     22            Sainz                2.55       Russell\n",
      " 2024     23       Verstappen                2.15    Verstappen\n"
     ]
    }
   ],
   "source": [
    "results_df = process_all_rounds(test_df, reg_rf_model) # TODO: choose the better model dynamically\n",
    "print(results_df.to_string(index=False))"
   ]
  },
  {
   "cell_type": "markdown",
   "metadata": {},
   "source": [
    "### Classification models"
   ]
  },
  {
   "cell_type": "code",
   "execution_count": 30,
   "metadata": {},
   "outputs": [],
   "source": [
    "cla_models = [\n",
    "    (\"Logistic Regression\", \"cla_lr_model\"),\n",
    "    (\"Decision Tree\", \"cla_dt_model\"),\n",
    "    (\"SVM\", \"cla_svm_model\"),\n",
    "    (\"Random Forest\", \"cla_rf_model\"),\n",
    "    (\"KNN\", \"cla_knn_model\"),\n",
    "    (\"GaussianNB\", \"cla_nb_model\") # (\"Deep Learning\", \"dl_cl_model\") TODO\n",
    "]\n",
    "\n",
    "test_df_c = test_df.copy()\n",
    "test_df_c['position'] = test_df_c['position'].apply(lambda x: 1 if x == 1 else 0)"
   ]
  },
  {
   "cell_type": "code",
   "execution_count": 31,
   "metadata": {},
   "outputs": [],
   "source": [
    "cla_models_accuracy = test_all_models_classification(test_df_c, cla_models)"
   ]
  },
  {
   "cell_type": "code",
   "execution_count": 32,
   "metadata": {},
   "outputs": [
    {
     "name": "stdout",
     "output_type": "stream",
     "text": [
      "            model_name  accuracy\n",
      "0  Logistic Regression  0.304348\n",
      "1        Decision Tree  0.347826\n",
      "2                  SVM  0.304348\n",
      "3        Random Forest  0.217391\n",
      "4                  KNN  0.260870\n",
      "5           GaussianNB  0.086957\n"
     ]
    }
   ],
   "source": [
    "print(cla_models_accuracy)"
   ]
  },
  {
   "cell_type": "markdown",
   "metadata": {},
   "source": [
    "### Plot comparison"
   ]
  },
  {
   "cell_type": "code",
   "execution_count": 33,
   "metadata": {},
   "outputs": [
    {
     "data": {
      "image/png": "[encoded data removed]",
      "text/plain": [
       "<Figure size 1000x600 with 1 Axes>"
      ]
     },
     "metadata": {},
     "output_type": "display_data"
    }
   ],
   "source": [
    "import matplotlib.pyplot as plt\n",
    "import numpy as np\n",
    "\n",
    "# Combine both DataFrames into one for easier plotting\n",
    "reg_models_accuracy['type'] = 'Regression'\n",
    "cla_models_accuracy['type'] = 'Classification'\n",
    "combined_df = pd.concat([reg_models_accuracy, cla_models_accuracy])\n",
    "\n",
    "x_labels = combined_df['model_name'].values\n",
    "x_indices = np.arange(len(x_labels))\n",
    "bar_colors = combined_df['type'].map({'Regression': 'blue', 'Classification': 'green'})\n",
    "\n",
    "plt.figure(figsize=(10, 6))\n",
    "plt.bar(x_indices, combined_df['accuracy'], color=bar_colors, alpha=0.8, edgecolor='black')\n",
    "\n",
    "plt.xticks(x_indices, x_labels, rotation=45, ha='right', fontsize=10)\n",
    "plt.ylabel('Accuracy')\n",
    "plt.title('Model Accuracy Comparison')\n",
    "\n",
    "handles = [\n",
    "    plt.Rectangle((0, 0), 1, 1, facecolor='blue', alpha=0.8, edgecolor='black', label='Regression'),\n",
    "    plt.Rectangle((0, 0), 1, 1, facecolor='green', alpha=0.8, edgecolor='black', label='Classification')\n",
    "]\n",
    "plt.legend(handles=handles, loc='upper left')\n",
    "\n",
    "plt.grid(axis='y', linestyle='-', alpha=0.5)\n",
    "\n",
    "plt.tight_layout()\n",
    "plt.show()"
   ]
  },
  {
   "cell_type": "markdown",
   "metadata": {},
   "source": [
    "## Save The model"
   ]
  },
  {
   "cell_type": "code",
   "execution_count": 34,
   "metadata": {},
   "outputs": [
    {
     "data": {
      "text/plain": [
       "['trained_model.pkl']"
      ]
     },
     "execution_count": 34,
     "metadata": {},
     "output_type": "execute_result"
    }
   ],
   "source": [
    "import joblib\n",
    "\n",
    "joblib.dump(cla_nb_model, 'trained_model.pkl') # TODO: use the best model dinamically"
   ]
  }
 ],
 "metadata": {
  "kernelspec": {
   "display_name": "Python 3",
   "language": "python",
   "name": "python3"
  },
  "language_info": {
   "codemirror_mode": {
    "name": "ipython",
    "version": 3
   },
   "file_extension": ".py",
   "mimetype": "text/x-python",
   "name": "python",
   "nbconvert_exporter": "python",
   "pygments_lexer": "ipython3",
   "version": "3.12.0"
  }
 },
 "nbformat": 4,
 "nbformat_minor": 2
}
